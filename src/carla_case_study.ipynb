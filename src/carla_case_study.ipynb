{
 "cells": [
  {
   "cell_type": "code",
   "execution_count": 1,
   "metadata": {},
   "outputs": [
    {
     "name": "stdout",
     "output_type": "stream",
     "text": [
      "Appending path to carla module D:\\Research\\ecemosp\\src\\modules\\CARLA\n",
      "Appending path to carla module D:\\Research\\ecemosp\\src\\modules\\CARLA\n"
     ]
    },
    {
     "name": "stderr",
     "output_type": "stream",
     "text": [
      "c:\\Users\\ignacy\\.conda\\envs\\carla-211\\lib\\site-packages\\tqdm\\auto.py:22: TqdmWarning: IProgress not found. Please update jupyter and ipywidgets. See https://ipywidgets.readthedocs.io/en/stable/user_install.html\n",
      "  from .autonotebook import tqdm as notebook_tqdm\n"
     ]
    },
    {
     "name": "stdout",
     "output_type": "stream",
     "text": [
      "[INFO] Using Python-MIP package version 1.12.0 [model.py <module>]\n"
     ]
    }
   ],
   "source": [
    "import sys\n",
    "import os\n",
    "from modules.CARLA import carla"
   ]
  },
  {
   "cell_type": "code",
   "execution_count": 29,
   "metadata": {},
   "outputs": [],
   "source": [
    "import warnings\n",
    "warnings.simplefilter(action='ignore', category=FutureWarning)\n",
    "\n",
    "import pandas as pd\n",
    "import joblib\n",
    "import tensorflow as tf\n",
    "from carla.recourse_methods import GrowingSpheres, Dice, ActionableRecourse, CEM, Face\n",
    "from carla.models.catalog import MLModelCatalog"
   ]
  },
  {
   "cell_type": "code",
   "execution_count": 30,
   "metadata": {},
   "outputs": [],
   "source": [
    "def display_results(model, factual, counterfactuals):\n",
    "    pred = model.predict(factual)\n",
    "    print('Factual class:', pred.round(3)) \n",
    "    print('Counterfactuals class:')\n",
    "    for pred in model.predict(counterfactuals):\n",
    "        print(pred.round(3))"
   ]
  },
  {
   "cell_type": "code",
   "execution_count": 31,
   "metadata": {},
   "outputs": [
    {
     "data": {
      "text/html": [
       "<div>\n",
       "<style scoped>\n",
       "    .dataframe tbody tr th:only-of-type {\n",
       "        vertical-align: middle;\n",
       "    }\n",
       "\n",
       "    .dataframe tbody tr th {\n",
       "        vertical-align: top;\n",
       "    }\n",
       "\n",
       "    .dataframe thead th {\n",
       "        text-align: right;\n",
       "    }\n",
       "</style>\n",
       "<table border=\"1\" class=\"dataframe\">\n",
       "  <thead>\n",
       "    <tr style=\"text-align: right;\">\n",
       "      <th></th>\n",
       "      <th>age</th>\n",
       "      <th>education.num</th>\n",
       "      <th>capital.gain</th>\n",
       "      <th>capital.loss</th>\n",
       "      <th>hours.per.week</th>\n",
       "      <th>...</th>\n",
       "      <th>native.country_Thailand</th>\n",
       "      <th>native.country_Trinadad&amp;Tobago</th>\n",
       "      <th>native.country_United-States</th>\n",
       "      <th>native.country_Vietnam</th>\n",
       "      <th>native.country_Yugoslavia</th>\n",
       "    </tr>\n",
       "  </thead>\n",
       "  <tbody>\n",
       "    <tr>\n",
       "      <th>0</th>\n",
       "      <td>0.616438</td>\n",
       "      <td>0.800000</td>\n",
       "      <td>0.0</td>\n",
       "      <td>0.0</td>\n",
       "      <td>0.397959</td>\n",
       "      <td>...</td>\n",
       "      <td>0.0</td>\n",
       "      <td>0.0</td>\n",
       "      <td>1.0</td>\n",
       "      <td>0.0</td>\n",
       "      <td>0.0</td>\n",
       "    </tr>\n",
       "    <tr>\n",
       "      <th>1</th>\n",
       "      <td>0.301370</td>\n",
       "      <td>0.866667</td>\n",
       "      <td>0.0</td>\n",
       "      <td>0.0</td>\n",
       "      <td>0.551020</td>\n",
       "      <td>...</td>\n",
       "      <td>0.0</td>\n",
       "      <td>0.0</td>\n",
       "      <td>1.0</td>\n",
       "      <td>0.0</td>\n",
       "      <td>0.0</td>\n",
       "    </tr>\n",
       "  </tbody>\n",
       "</table>\n",
       "<p>2 rows × 86 columns</p>\n",
       "</div>"
      ],
      "text/plain": [
       "        age  education.num  capital.gain  capital.loss  hours.per.week  ...  \\\n",
       "0  0.616438       0.800000           0.0           0.0        0.397959  ...   \n",
       "1  0.301370       0.866667           0.0           0.0        0.551020  ...   \n",
       "\n",
       "  native.country_Thailand  native.country_Trinadad&Tobago  \\\n",
       "0                     0.0                             0.0   \n",
       "1                     0.0                             0.0   \n",
       "\n",
       "   native.country_United-States  native.country_Vietnam  \\\n",
       "0                           1.0                     0.0   \n",
       "1                           1.0                     0.0   \n",
       "\n",
       "   native.country_Yugoslavia  \n",
       "0                        0.0  \n",
       "1                        0.0  \n",
       "\n",
       "[2 rows x 86 columns]"
      ]
     },
     "execution_count": 31,
     "metadata": {},
     "output_type": "execute_result"
    }
   ],
   "source": [
    "from carla.data.catalog import CsvCatalog\n",
    "import json\n",
    "\n",
    "with open('../data/adult_constraints.json', 'r') as f:\n",
    "    constraints = json.load(f)\n",
    "\n",
    "continuous = constraints['continuous_features_nonsplit']\n",
    "categorical = constraints['categorical_features_nonsplit']\n",
    "immutable = constraints['non_actionable_features']\n",
    "columns_order = constraints['features_order_nonsplit']\n",
    "target_feature = constraints['target_feature']\n",
    "\n",
    "if target_feature in columns_order:\n",
    "    columns_order = columns_order.remove(target_feature)\n",
    "\n",
    "raw = pd.read_csv(\"../data/adult_train.csv\")\n",
    "\n",
    "#TODO TEST WHY NOT STABLE NUMERICALLY\n",
    "\n",
    "dataset = CsvCatalog(dataset=raw,\n",
    "                    continuous=continuous,\n",
    "                    categorical=categorical,\n",
    "                    immutables=immutable,\n",
    "                    target=target_feature)\n",
    "factual = dataset.df_test.iloc[5:6]  \n",
    "dataset.df.head(2)"
   ]
  },
  {
   "cell_type": "code",
   "execution_count": 6,
   "metadata": {},
   "outputs": [
    {
     "name": "stdout",
     "output_type": "stream",
     "text": [
      "Model: \"sequential\"\n",
      "_________________________________________________________________\n",
      " Layer (type)                Output Shape              Param #   \n",
      "=================================================================\n",
      " dense (Dense)               (None, 128)               11008     \n",
      "                                                                 \n",
      " elu (ELU)                   (None, 128)               0         \n",
      "                                                                 \n",
      " dense_1 (Dense)             (None, 128)               16512     \n",
      "                                                                 \n",
      " elu_1 (ELU)                 (None, 128)               0         \n",
      "                                                                 \n",
      " dense_2 (Dense)             (None, 128)               16512     \n",
      "                                                                 \n",
      " elu_2 (ELU)                 (None, 128)               0         \n",
      "                                                                 \n",
      " dense_3 (Dense)             (None, 2)                 258       \n",
      "                                                                 \n",
      " softmax (Softmax)           (None, 2)                 0         \n",
      "                                                                 \n",
      "=================================================================\n",
      "Total params: 44,290\n",
      "Trainable params: 44,290\n",
      "Non-trainable params: 0\n",
      "_________________________________________________________________\n",
      "None\n"
     ]
    }
   ],
   "source": [
    "from models.tfmodel import TFModelAdult\n",
    "model = TFModelAdult(dataset)"
   ]
  },
  {
   "attachments": {},
   "cell_type": "markdown",
   "metadata": {},
   "source": [
    "DICE FOR NN"
   ]
  },
  {
   "cell_type": "code",
   "execution_count": null,
   "metadata": {},
   "outputs": [],
   "source": [
    "\n",
    "\n",
    "hyperparams = {\"num\": 20}\n",
    "# load a recourse model and pass black box model\n",
    "gs = Dice(model, hyperparams)\n",
    "\n",
    "# generate counterfactual examples\n",
    "counterfactuals = gs.get_counterfactuals(factual)\n",
    "counterfactuals"
   ]
  },
  {
   "cell_type": "code",
   "execution_count": null,
   "metadata": {},
   "outputs": [],
   "source": [
    "display_results(model, factual, counterfactuals)"
   ]
  },
  {
   "attachments": {},
   "cell_type": "markdown",
   "metadata": {},
   "source": [
    "CAUSAL RECOURSE"
   ]
  },
  {
   "cell_type": "code",
   "execution_count": null,
   "metadata": {},
   "outputs": [],
   "source": [
    "# from carla.recourse_methods.catalog.causal_recourse import samplers, constraints\n",
    "# hypers = {\n",
    "#     'optimization_approach': \"brute_force\",\n",
    "#     'num_samples': 10,\n",
    "#     'scm': None,\n",
    "#     \"constraint_handle\": constraints.point_constraint,\n",
    "#     \"sampler_handle\": samplers.sample_true_m0,\n",
    "# }\n",
    "\n",
    "\n",
    "# gs = CausalRecourse(model, hypers)\n",
    "# # generate counterfactual examples\n",
    "# counterfactuals = gs.get_counterfactuals(dataset.df[:1])\n",
    "# counterfactuals"
   ]
  },
  {
   "attachments": {},
   "cell_type": "markdown",
   "metadata": {},
   "source": [
    "GROWING SPHERES"
   ]
  },
  {
   "cell_type": "code",
   "execution_count": null,
   "metadata": {},
   "outputs": [],
   "source": [
    "factual"
   ]
  },
  {
   "cell_type": "code",
   "execution_count": 17,
   "metadata": {},
   "outputs": [
    {
     "data": {
      "text/html": [
       "<div>\n",
       "<style scoped>\n",
       "    .dataframe tbody tr th:only-of-type {\n",
       "        vertical-align: middle;\n",
       "    }\n",
       "\n",
       "    .dataframe tbody tr th {\n",
       "        vertical-align: top;\n",
       "    }\n",
       "\n",
       "    .dataframe thead th {\n",
       "        text-align: right;\n",
       "    }\n",
       "</style>\n",
       "<table border=\"1\" class=\"dataframe\">\n",
       "  <thead>\n",
       "    <tr style=\"text-align: right;\">\n",
       "      <th></th>\n",
       "      <th>age</th>\n",
       "      <th>education.num</th>\n",
       "      <th>capital.gain</th>\n",
       "      <th>capital.loss</th>\n",
       "      <th>hours.per.week</th>\n",
       "      <th>...</th>\n",
       "      <th>native.country_Thailand</th>\n",
       "      <th>native.country_Trinadad&amp;Tobago</th>\n",
       "      <th>native.country_United-States</th>\n",
       "      <th>native.country_Vietnam</th>\n",
       "      <th>native.country_Yugoslavia</th>\n",
       "    </tr>\n",
       "  </thead>\n",
       "  <tbody>\n",
       "    <tr>\n",
       "      <th>8398</th>\n",
       "      <td>0.304089</td>\n",
       "      <td>0.65383</td>\n",
       "      <td>0.048598</td>\n",
       "      <td>0.002075</td>\n",
       "      <td>0.310955</td>\n",
       "      <td>...</td>\n",
       "      <td>0.0</td>\n",
       "      <td>0.0</td>\n",
       "      <td>0.0</td>\n",
       "      <td>0.0</td>\n",
       "      <td>0.0</td>\n",
       "    </tr>\n",
       "  </tbody>\n",
       "</table>\n",
       "<p>1 rows × 85 columns</p>\n",
       "</div>"
      ],
      "text/plain": [
       "           age  education.num  capital.gain  capital.loss  hours.per.week  \\\n",
       "8398  0.304089        0.65383      0.048598      0.002075        0.310955   \n",
       "\n",
       "      ...  native.country_Thailand  native.country_Trinadad&Tobago  \\\n",
       "8398  ...                      0.0                             0.0   \n",
       "\n",
       "      native.country_United-States  native.country_Vietnam  \\\n",
       "8398                           0.0                     0.0   \n",
       "\n",
       "      native.country_Yugoslavia  \n",
       "8398                        0.0  \n",
       "\n",
       "[1 rows x 85 columns]"
      ]
     },
     "execution_count": 17,
     "metadata": {},
     "output_type": "execute_result"
    }
   ],
   "source": [
    "gs = GrowingSpheres(model)\n",
    "# generate counterfactual examples\n",
    "counterfactuals = gs.get_counterfactuals(factual)\n",
    "counterfactuals"
   ]
  },
  {
   "cell_type": "code",
   "execution_count": null,
   "metadata": {},
   "outputs": [],
   "source": [
    "display_results(model, factual, counterfactuals)"
   ]
  },
  {
   "attachments": {},
   "cell_type": "markdown",
   "metadata": {},
   "source": [
    "ACTIONABLE RECOURSE (AR)"
   ]
  },
  {
   "cell_type": "code",
   "execution_count": 20,
   "metadata": {},
   "outputs": [
    {
     "name": "stdout",
     "output_type": "stream",
     "text": [
      "[INFO] Start generating LIME coefficients [model.py get_counterfactuals]\n",
      "[INFO] Finished generating LIME coefficients [model.py get_counterfactuals]\n",
      "obtained 100 items in 1.0 seconds\n"
     ]
    },
    {
     "data": {
      "text/html": [
       "<div>\n",
       "<style scoped>\n",
       "    .dataframe tbody tr th:only-of-type {\n",
       "        vertical-align: middle;\n",
       "    }\n",
       "\n",
       "    .dataframe tbody tr th {\n",
       "        vertical-align: top;\n",
       "    }\n",
       "\n",
       "    .dataframe thead th {\n",
       "        text-align: right;\n",
       "    }\n",
       "</style>\n",
       "<table border=\"1\" class=\"dataframe\">\n",
       "  <thead>\n",
       "    <tr style=\"text-align: right;\">\n",
       "      <th></th>\n",
       "      <th>age</th>\n",
       "      <th>education.num</th>\n",
       "      <th>capital.gain</th>\n",
       "      <th>capital.loss</th>\n",
       "      <th>hours.per.week</th>\n",
       "      <th>...</th>\n",
       "      <th>native.country_Thailand</th>\n",
       "      <th>native.country_Trinadad&amp;Tobago</th>\n",
       "      <th>native.country_United-States</th>\n",
       "      <th>native.country_Vietnam</th>\n",
       "      <th>native.country_Yugoslavia</th>\n",
       "    </tr>\n",
       "  </thead>\n",
       "  <tbody>\n",
       "    <tr>\n",
       "      <th>0</th>\n",
       "      <td>0.342466</td>\n",
       "      <td>0.533333</td>\n",
       "      <td>0.0</td>\n",
       "      <td>0.0</td>\n",
       "      <td>0.397959</td>\n",
       "      <td>...</td>\n",
       "      <td>0.0</td>\n",
       "      <td>0.0</td>\n",
       "      <td>0.0</td>\n",
       "      <td>0.0</td>\n",
       "      <td>0.0</td>\n",
       "    </tr>\n",
       "  </tbody>\n",
       "</table>\n",
       "<p>1 rows × 85 columns</p>\n",
       "</div>"
      ],
      "text/plain": [
       "        age  education.num  capital.gain  capital.loss  hours.per.week  ...  \\\n",
       "0  0.342466       0.533333           0.0           0.0        0.397959  ...   \n",
       "\n",
       "   native.country_Thailand  native.country_Trinadad&Tobago  \\\n",
       "0                      0.0                             0.0   \n",
       "\n",
       "   native.country_United-States  native.country_Vietnam  \\\n",
       "0                           0.0                     0.0   \n",
       "\n",
       "   native.country_Yugoslavia  \n",
       "0                        0.0  \n",
       "\n",
       "[1 rows x 85 columns]"
      ]
     },
     "execution_count": 20,
     "metadata": {},
     "output_type": "execute_result"
    }
   ],
   "source": [
    "hyperparams = {\n",
    "    'fs_size': 100\n",
    "}\n",
    "\n",
    "ar = ActionableRecourse(model, hyperparams)\n",
    "counterfactuals = ar.get_counterfactuals(factual)\n",
    "counterfactuals"
   ]
  },
  {
   "cell_type": "code",
   "execution_count": null,
   "metadata": {},
   "outputs": [],
   "source": [
    "display_results(model, factual, counterfactuals)"
   ]
  },
  {
   "attachments": {},
   "cell_type": "markdown",
   "metadata": {},
   "source": [
    "CONTRASTIVE EXPLANATIONS METHOD (CEM)"
   ]
  },
  {
   "cell_type": "code",
   "execution_count": 14,
   "metadata": {},
   "outputs": [
    {
     "name": "stdout",
     "output_type": "stream",
     "text": [
      "Train on 22512 samples, validate on 9649 samples\n",
      "Epoch 1/5\n",
      "22512/22512 [==============================] - 1s 35us/sample - loss: 0.0594 - val_loss: 0.0286\n",
      "Epoch 2/5\n",
      " 3648/22512 [===>..........................] - ETA: 0s - loss: 0.0277"
     ]
    },
    {
     "name": "stderr",
     "output_type": "stream",
     "text": [
      "c:\\Users\\ignacy\\.conda\\envs\\carla-211\\lib\\site-packages\\keras\\engine\\training_v1.py:2333: UserWarning: `Model.state_updates` will be removed in a future version. This property should not be used in TensorFlow 2.0, as `updates` are applied automatically.\n",
      "  updates = self.state_updates\n"
     ]
    },
    {
     "name": "stdout",
     "output_type": "stream",
     "text": [
      "22512/22512 [==============================] - 0s 18us/sample - loss: 0.0253 - val_loss: 0.0232\n",
      "Epoch 3/5\n",
      "22512/22512 [==============================] - 0s 20us/sample - loss: 0.0221 - val_loss: 0.0210\n",
      "Epoch 4/5\n",
      "22512/22512 [==============================] - 0s 20us/sample - loss: 0.0200 - val_loss: 0.0190\n",
      "Epoch 5/5\n",
      "22512/22512 [==============================] - 0s 20us/sample - loss: 0.0180 - val_loss: 0.0173\n"
     ]
    },
    {
     "ename": "AttributeError",
     "evalue": "module 'tensorflow' has no attribute 'placeholder'",
     "output_type": "error",
     "traceback": [
      "\u001b[1;31m---------------------------------------------------------------------------\u001b[0m",
      "\u001b[1;31mAttributeError\u001b[0m                            Traceback (most recent call last)",
      "Cell \u001b[1;32mIn[14], line 19\u001b[0m\n\u001b[0;32m      1\u001b[0m hyperparams \u001b[39m=\u001b[39m {\n\u001b[0;32m      2\u001b[0m         \u001b[39m\"\u001b[39m\u001b[39mdata_name\u001b[39m\u001b[39m\"\u001b[39m: \u001b[39m'\u001b[39m\u001b[39mtest1\u001b[39m\u001b[39m'\u001b[39m,\n\u001b[0;32m      3\u001b[0m         \u001b[39m\"\u001b[39m\u001b[39mbatch_size\u001b[39m\u001b[39m\"\u001b[39m: \u001b[39m1\u001b[39m,\n\u001b[1;32m   (...)\u001b[0m\n\u001b[0;32m     13\u001b[0m         \u001b[39m\"\u001b[39m\u001b[39mae_params\u001b[39m\u001b[39m\"\u001b[39m: {\u001b[39m\"\u001b[39m\u001b[39mhidden_layer\u001b[39m\u001b[39m\"\u001b[39m: [\u001b[39m20\u001b[39m, \u001b[39m10\u001b[39m, \u001b[39m7\u001b[39m], \u001b[39m\"\u001b[39m\u001b[39mtrain_ae\u001b[39m\u001b[39m\"\u001b[39m: \u001b[39mTrue\u001b[39;00m, \u001b[39m\"\u001b[39m\u001b[39mepochs\u001b[39m\u001b[39m\"\u001b[39m: \u001b[39m5\u001b[39m},\n\u001b[0;32m     14\u001b[0m }\n\u001b[0;32m     17\u001b[0m sess \u001b[39m=\u001b[39m \u001b[39mNone\u001b[39;00m\n\u001b[1;32m---> 19\u001b[0m cm \u001b[39m=\u001b[39m CEM(sess \u001b[39m=\u001b[39;49m sess, mlmodel\u001b[39m=\u001b[39;49mmodel, hyperparams\u001b[39m=\u001b[39;49mhyperparams)\n\u001b[0;32m     21\u001b[0m counterfactuals \u001b[39m=\u001b[39m cm\u001b[39m.\u001b[39mget_counterfactuals(factual)\n\u001b[0;32m     22\u001b[0m counterfactuals\n",
      "File \u001b[1;32mD:\\Research\\ecemosp\\src\\modules\\CARLA\\carla\\recourse_methods\\catalog\\cem\\model.py:136\u001b[0m, in \u001b[0;36mCEM.__init__\u001b[1;34m(self, sess, mlmodel, hyperparams)\u001b[0m\n\u001b[0;32m    132\u001b[0m shape_batch \u001b[39m=\u001b[39m (batch_size, \u001b[39mlen\u001b[39m(mlmodel\u001b[39m.\u001b[39mfeature_input_order))\n\u001b[0;32m    134\u001b[0m \u001b[39mself\u001b[39m\u001b[39m.\u001b[39m_AE \u001b[39m=\u001b[39m \u001b[39mself\u001b[39m\u001b[39m.\u001b[39m_load_ae(\u001b[39mself\u001b[39m\u001b[39m.\u001b[39m_hyperparams, mlmodel)\n\u001b[1;32m--> 136\u001b[0m \u001b[39mself\u001b[39;49m\u001b[39m.\u001b[39;49m_initialize_tf_variables(batch_size, num_classes, shape_batch)\n\u001b[0;32m    138\u001b[0m \u001b[39m\u001b[39m\u001b[39m\"\"\"Fast Iterative Soft Thresholding\"\"\"\u001b[39;00m\n\u001b[0;32m    139\u001b[0m \u001b[39m\u001b[39m\u001b[39m\"\"\"--------------------------------\"\"\"\u001b[39;00m\n",
      "File \u001b[1;32mD:\\Research\\ecemosp\\src\\modules\\CARLA\\carla\\recourse_methods\\catalog\\cem\\model.py:301\u001b[0m, in \u001b[0;36mCEM._initialize_tf_variables\u001b[1;34m(self, batch_size, num_classes, shape_batch)\u001b[0m\n\u001b[0;32m    299\u001b[0m \u001b[39mself\u001b[39m\u001b[39m.\u001b[39m_global_step \u001b[39m=\u001b[39m tf\u001b[39m.\u001b[39mVariable(\u001b[39m0.0\u001b[39m, trainable\u001b[39m=\u001b[39m\u001b[39mFalse\u001b[39;00m)\n\u001b[0;32m    300\u001b[0m \u001b[39m# and here's what we use to assign them\u001b[39;00m\n\u001b[1;32m--> 301\u001b[0m \u001b[39mself\u001b[39m\u001b[39m.\u001b[39m_assign_orig \u001b[39m=\u001b[39m tf\u001b[39m.\u001b[39;49mplaceholder(tf\u001b[39m.\u001b[39mfloat32, shape_batch)\n\u001b[0;32m    302\u001b[0m \u001b[39mself\u001b[39m\u001b[39m.\u001b[39m_assign_adv \u001b[39m=\u001b[39m tf\u001b[39m.\u001b[39mplaceholder(tf\u001b[39m.\u001b[39mfloat32, shape_batch)\n\u001b[0;32m    303\u001b[0m \u001b[39mself\u001b[39m\u001b[39m.\u001b[39m_assign_adv_s \u001b[39m=\u001b[39m tf\u001b[39m.\u001b[39mplaceholder(tf\u001b[39m.\u001b[39mfloat32, shape_batch)\n",
      "\u001b[1;31mAttributeError\u001b[0m: module 'tensorflow' has no attribute 'placeholder'"
     ]
    }
   ],
   "source": [
    "# hyperparams = {\n",
    "#         \"data_name\": 'test1',\n",
    "#         \"batch_size\": 1,\n",
    "#         \"kappa\": 0.1,\n",
    "#         \"init_learning_rate\": 0.01,\n",
    "#         \"binary_search_steps\": 9,\n",
    "#         \"max_iterations\": 100,\n",
    "#         \"initial_const\": 10,\n",
    "#         \"beta\": 0.9,\n",
    "#         \"gamma\": 0.0,\n",
    "#         \"mode\": \"PN\",\n",
    "#         \"num_classes\": 2,\n",
    "#         \"ae_params\": {\"hidden_layer\": [20, 10, 7], \"train_ae\": True, \"epochs\": 5},\n",
    "# }\n",
    "\n",
    "\n",
    "# sess = None\n",
    "\n",
    "# cm = CEM(sess = sess, mlmodel=model, hyperparams=hyperparams)\n",
    "\n",
    "# counterfactuals = cm.get_counterfactuals(factual)\n",
    "# counterfactuals"
   ]
  },
  {
   "attachments": {},
   "cell_type": "markdown",
   "metadata": {},
   "source": [
    "Feasible and Actionable Counterfactual Explanations (FACE)"
   ]
  },
  {
   "cell_type": "code",
   "execution_count": 28,
   "metadata": {},
   "outputs": [
    {
     "data": {
      "text/plain": [
       "array([[0.32876712, 0.53333333, 0.02885029, 0.        , 0.39795918,\n",
       "        0.        , 0.        , 0.        , 0.        , 1.        ,\n",
       "        0.        , 0.        , 0.        , 0.        , 0.        ,\n",
       "        0.        , 1.        , 0.        , 0.        , 0.        ,\n",
       "        0.        , 0.        , 0.        , 0.        , 0.        ,\n",
       "        0.        , 0.        , 0.        , 1.        , 0.        ,\n",
       "        0.        , 0.        , 0.        , 0.        , 0.        ,\n",
       "        0.        , 0.        , 0.        , 0.        , 0.        ,\n",
       "        1.        , 0.        , 1.        , 0.        , 0.        ,\n",
       "        0.        , 0.        , 0.        , 0.        , 0.        ,\n",
       "        0.        , 0.        , 0.        , 0.        , 0.        ,\n",
       "        0.        , 0.        , 0.        , 0.        , 0.        ,\n",
       "        0.        , 0.        , 0.        , 0.        , 0.        ,\n",
       "        0.        , 0.        , 0.        , 0.        , 0.        ,\n",
       "        0.        , 0.        , 0.        , 0.        , 0.        ,\n",
       "        0.        , 0.        , 0.        , 0.        , 0.        ,\n",
       "        0.        , 0.        , 1.        , 0.        , 0.        ]])"
      ]
     },
     "execution_count": 28,
     "metadata": {},
     "output_type": "execute_result"
    }
   ],
   "source": [
    "hyperparams = {\n",
    "    'mode': 'knn',\n",
    "    'fraction': 0.1,\n",
    "}\n",
    "fc = Face(model, hyperparams)\n",
    "\n",
    "counterfactuals = fc.get_counterfactuals(factual)\n",
    "counterfactuals.to_numpy()\n"
   ]
  },
  {
   "cell_type": "code",
   "execution_count": null,
   "metadata": {},
   "outputs": [],
   "source": [
    "display_results(model, factual, counterfactuals)"
   ]
  },
  {
   "cell_type": "code",
   "execution_count": null,
   "metadata": {},
   "outputs": [],
   "source": []
  }
 ],
 "metadata": {
  "kernelspec": {
   "display_name": "carla-211",
   "language": "python",
   "name": "python3"
  },
  "language_info": {
   "codemirror_mode": {
    "name": "ipython",
    "version": 3
   },
   "file_extension": ".py",
   "mimetype": "text/x-python",
   "name": "python",
   "nbconvert_exporter": "python",
   "pygments_lexer": "ipython3",
   "version": "3.10.8"
  },
  "orig_nbformat": 4,
  "vscode": {
   "interpreter": {
    "hash": "9eb4169d92c449fafd3f57e895418eb18f042b6c78d007b87ab95db47713111b"
   }
  }
 },
 "nbformat": 4,
 "nbformat_minor": 2
}
