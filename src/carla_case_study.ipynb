{
 "cells": [
  {
   "cell_type": "code",
   "execution_count": 1,
   "metadata": {},
   "outputs": [
    {
     "name": "stderr",
     "output_type": "stream",
     "text": [
      "c:\\ProgramData\\Anaconda3\\envs\\carla\\lib\\site-packages\\tqdm\\auto.py:22: TqdmWarning: IProgress not found. Please update jupyter and ipywidgets. See https://ipywidgets.readthedocs.io/en/stable/user_install.html\n",
      "  from .autonotebook import tqdm as notebook_tqdm\n",
      "Using TensorFlow backend.\n"
     ]
    },
    {
     "name": "stdout",
     "output_type": "stream",
     "text": [
      "[INFO] Using Python-MIP package version 1.12.0 [model.py <module>]\n"
     ]
    }
   ],
   "source": [
    "import warnings\n",
    "warnings.simplefilter(action='ignore', category=FutureWarning)\n",
    "\n",
    "import pandas as pd\n",
    "import joblib\n",
    "import tensorflow as tf\n",
    "from carla.recourse_methods import GrowingSpheres, Dice, ActionableRecourse, CEM\n",
    "from carla import MLModelCatalog"
   ]
  },
  {
   "cell_type": "code",
   "execution_count": 2,
   "metadata": {},
   "outputs": [
    {
     "data": {
      "text/plain": [
       "Index(['age', 'capital.loss', 'education.num', 'capital.gain',\n",
       "       'hours.per.week', 'Federal-gov', 'Local-gov', 'Never-worked', 'Private',\n",
       "       'Self-emp-inc', 'Self-emp-not-inc', 'State-gov', 'Unknown_workclass',\n",
       "       'Without-pay', 'Divorced', 'Married-AF-spouse', 'Married-civ-spouse',\n",
       "       'Married-spouse-absent', 'Never-married', 'Separated', 'Widowed',\n",
       "       'Adm-clerical', 'Armed-Forces', 'Craft-repair', 'Exec-managerial',\n",
       "       'Farming-fishing', 'Handlers-cleaners', 'Machine-op-inspct',\n",
       "       'Other-service', 'Priv-house-serv', 'Prof-specialty', 'Protective-serv',\n",
       "       'Sales', 'Tech-support', 'Transport-moving', 'Unknown_occupation',\n",
       "       'Amer-Indian-Eskimo', 'Asian-Pac-Islander', 'Black', 'Other', 'White',\n",
       "       'Female', 'Male', 'Cambodia', 'Canada', 'China', 'Columbia', 'Cuba',\n",
       "       'Dominican-Republic', 'Ecuador', 'El-Salvador', 'England', 'France',\n",
       "       'Germany', 'Greece', 'Guatemala', 'Haiti', 'Holand-Netherlands',\n",
       "       'Honduras', 'Hong', 'Hungary', 'India', 'Iran', 'Ireland', 'Italy',\n",
       "       'Jamaica', 'Japan', 'Laos', 'Mexico', 'Nicaragua',\n",
       "       'Outlying-US(Guam-USVI-etc)', 'Peru', 'Philippines', 'Poland',\n",
       "       'Portugal', 'Puerto-Rico', 'Scotland', 'South', 'Taiwan', 'Thailand',\n",
       "       'Trinadad&Tobago', 'United-States', 'Unknown_country', 'Vietnam',\n",
       "       'Yugoslavia', 'income'],\n",
       "      dtype='object')"
      ]
     },
     "execution_count": 2,
     "metadata": {},
     "output_type": "execute_result"
    }
   ],
   "source": [
    "# Read data\n",
    "df = pd.read_csv('../data/adult_cleaned.csv')\n",
    "X = df[set(df.columns) - set(['income'])]\n",
    "Y = df['income']\n",
    "\n",
    "df.columns"
   ]
  },
  {
   "cell_type": "code",
   "execution_count": 3,
   "metadata": {},
   "outputs": [
    {
     "name": "stdout",
     "output_type": "stream",
     "text": [
      "[WARNING] From C:\\Users\\ignacy\\AppData\\Roaming\\Python\\Python37\\site-packages\\tensorflow\\python\\ops\\init_ops.py:1251: calling VarianceScaling.__init__ (from tensorflow.python.ops.init_ops) with dtype is deprecated and will be removed in a future version.\n",
      "Instructions for updating:\n",
      "Call initializer instance with the dtype argument instead of passing it to the constructor [deprecation.py new_func]\n",
      "Model: \"sequential\"\n",
      "_________________________________________________________________\n",
      "Layer (type)                 Output Shape              Param #   \n",
      "=================================================================\n",
      "dense (Dense)                (None, 64)                5504      \n",
      "_________________________________________________________________\n",
      "dropout (Dropout)            (None, 64)                0         \n",
      "_________________________________________________________________\n",
      "dense_1 (Dense)              (None, 32)                2080      \n",
      "_________________________________________________________________\n",
      "dropout_1 (Dropout)          (None, 32)                0         \n",
      "_________________________________________________________________\n",
      "dense_2 (Dense)              (None, 16)                528       \n",
      "_________________________________________________________________\n",
      "dropout_2 (Dropout)          (None, 16)                0         \n",
      "_________________________________________________________________\n",
      "dense_3 (Dense)              (None, 2)                 34        \n",
      "=================================================================\n",
      "Total params: 8,146\n",
      "Trainable params: 8,146\n",
      "Non-trainable params: 0\n",
      "_________________________________________________________________\n"
     ]
    }
   ],
   "source": [
    "model = tf.keras.Sequential()\n",
    "model.add(tf.keras.layers.Input((85,)))\n",
    "model.add(tf.keras.layers.Dense(64, activation='relu'))\n",
    "model.add(tf.keras.layers.Dropout(0.2))\n",
    "model.add(tf.keras.layers.Dense(32, activation='relu'))\n",
    "model.add(tf.keras.layers.Dropout(0.2))\n",
    "model.add(tf.keras.layers.Dense(16, activation='relu'))\n",
    "model.add(tf.keras.layers.Dropout(0.2))\n",
    "model.add(tf.keras.layers.Dense(2, activation='softmax'))\n",
    "\n",
    "# load artificial neural network from catalog\n",
    "model.load_weights('../models/adult_NN.h5')\n",
    "model.summary()"
   ]
  },
  {
   "cell_type": "code",
   "execution_count": 4,
   "metadata": {},
   "outputs": [
    {
     "name": "stdout",
     "output_type": "stream",
     "text": [
      "0    <=50K\n",
      "1    <=50K\n",
      "2    <=50K\n",
      "3    <=50K\n",
      "4    <=50K\n",
      "Name: income, dtype: object\n"
     ]
    },
    {
     "data": {
      "text/plain": [
       "array([[1., 0.],\n",
       "       [1., 0.],\n",
       "       [1., 0.],\n",
       "       [1., 0.],\n",
       "       [1., 0.]], dtype=float32)"
      ]
     },
     "execution_count": 4,
     "metadata": {},
     "output_type": "execute_result"
    }
   ],
   "source": [
    "print(Y.iloc[0:5])\n",
    "model.predict(X.iloc[0:5])"
   ]
  },
  {
   "cell_type": "code",
   "execution_count": 6,
   "metadata": {},
   "outputs": [
    {
     "data": {
      "text/plain": [
       "Index(['age', 'capital.loss', 'education.num', 'capital.gain',\n",
       "       'hours.per.week', 'income', 'Federal-gov_1', 'Local-gov_1',\n",
       "       'Never-worked_1', 'Private_1', 'Self-emp-inc_1', 'Self-emp-not-inc_1',\n",
       "       'State-gov_1', 'Unknown_workclass_1', 'Without-pay_1', 'Divorced_1',\n",
       "       'Married-AF-spouse_1', 'Married-civ-spouse_1',\n",
       "       'Married-spouse-absent_1', 'Never-married_1', 'Separated_1',\n",
       "       'Widowed_1', 'Adm-clerical_1', 'Armed-Forces_1', 'Craft-repair_1',\n",
       "       'Exec-managerial_1', 'Farming-fishing_1', 'Handlers-cleaners_1',\n",
       "       'Machine-op-inspct_1', 'Other-service_1', 'Priv-house-serv_1',\n",
       "       'Prof-specialty_1', 'Protective-serv_1', 'Sales_1', 'Tech-support_1',\n",
       "       'Transport-moving_1', 'Unknown_occupation_1', 'Amer-Indian-Eskimo_1',\n",
       "       'Asian-Pac-Islander_1', 'Black_1', 'Other_1', 'White_1', 'Female_1',\n",
       "       'Male_1', 'Cambodia_1', 'Canada_1', 'China_1', 'Columbia_1', 'Cuba_1',\n",
       "       'Dominican-Republic_1', 'Ecuador_1', 'El-Salvador_1', 'England_1',\n",
       "       'France_1', 'Germany_1', 'Greece_1', 'Guatemala_1', 'Haiti_1',\n",
       "       'Holand-Netherlands_1', 'Honduras_1', 'Hong_1', 'Hungary_1', 'India_1',\n",
       "       'Iran_1', 'Ireland_1', 'Italy_1', 'Jamaica_1', 'Japan_1', 'Laos_1',\n",
       "       'Mexico_1', 'Nicaragua_1', 'Outlying-US(Guam-USVI-etc)_1', 'Peru_1',\n",
       "       'Philippines_1', 'Poland_1', 'Portugal_1', 'Puerto-Rico_1',\n",
       "       'Scotland_1', 'South_1', 'Taiwan_1', 'Thailand_1', 'Trinadad&Tobago_1',\n",
       "       'United-States_1', 'Unknown_country_1', 'Vietnam_1', 'Yugoslavia_1'],\n",
       "      dtype='object')"
      ]
     },
     "execution_count": 6,
     "metadata": {},
     "output_type": "execute_result"
    }
   ],
   "source": [
    "from carla.data.catalog import CsvCatalog\n",
    "\n",
    "continuous = ['age', 'capital.loss', 'education.num', 'capital.gain', 'hours.per.week']\n",
    "categorical = ['Federal-gov', 'Local-gov', 'Never-worked', 'Private',\n",
    "       'Self-emp-inc', 'Self-emp-not-inc', 'State-gov', 'Unknown_workclass',\n",
    "       'Without-pay', 'Divorced', 'Married-AF-spouse', 'Married-civ-spouse',\n",
    "       'Married-spouse-absent', 'Never-married', 'Separated', 'Widowed',\n",
    "       'Adm-clerical', 'Armed-Forces', 'Craft-repair', 'Exec-managerial',\n",
    "       'Farming-fishing', 'Handlers-cleaners', 'Machine-op-inspct',\n",
    "       'Other-service', 'Priv-house-serv', 'Prof-specialty', 'Protective-serv',\n",
    "       'Sales', 'Tech-support', 'Transport-moving', 'Unknown_occupation',\n",
    "       'Amer-Indian-Eskimo', 'Asian-Pac-Islander', 'Black', 'Other', 'White',\n",
    "       'Female', 'Male', 'Cambodia', 'Canada', 'China', 'Columbia', 'Cuba',\n",
    "       'Dominican-Republic', 'Ecuador', 'El-Salvador', 'England', 'France',\n",
    "       'Germany', 'Greece', 'Guatemala', 'Haiti', 'Holand-Netherlands',\n",
    "       'Honduras', 'Hong', 'Hungary', 'India', 'Iran', 'Ireland', 'Italy',\n",
    "       'Jamaica', 'Japan', 'Laos', 'Mexico', 'Nicaragua',\n",
    "       'Outlying-US(Guam-USVI-etc)', 'Peru', 'Philippines', 'Poland',\n",
    "       'Portugal', 'Puerto-Rico', 'Scotland', 'South', 'Taiwan', 'Thailand',\n",
    "       'Trinadad&Tobago', 'United-States', 'Unknown_country', 'Vietnam',\n",
    "       'Yugoslavia']\n",
    "immutable = [\"Female\", \"Male\", 'age']\n",
    "\n",
    "dataset = CsvCatalog(file_path=\"../data/adult_cleaned.csv\",\n",
    "                     continuous=continuous,\n",
    "                     categorical=categorical,\n",
    "                     immutables=immutable,\n",
    "                     target='income')\n",
    "\n",
    "dataset.df_train.columns"
   ]
  },
  {
   "cell_type": "code",
   "execution_count": null,
   "metadata": {},
   "outputs": [],
   "source": [
    "continuous = [\"age\", \"fnlwgt\", \"education.num\", \"capital.gain\",\"hours.per.week\", \"capital.loss\"]\n",
    "categorical = [\"marital.status\", \"native.country\", \"occupation\", \"race\", \"relationship\", \"sex\", \"workclass\"]\n",
    "immutable = [\"age\", \"sex\"]\n",
    "\n",
    "dataset = CsvCatalog(file_path=\"../data/adult.csv\",\n",
    "                     continuous=continuous,\n",
    "                     categorical=categorical,\n",
    "                     immutables=immutable,\n",
    "                     target='income')"
   ]
  },
  {
   "cell_type": "code",
   "execution_count": null,
   "metadata": {},
   "outputs": [],
   "source": [
    "from models.tfmodel import TFModelAdult\n",
    "model = TFModelAdult(dataset)"
   ]
  },
  {
   "cell_type": "code",
   "execution_count": null,
   "metadata": {},
   "outputs": [],
   "source": [
    "hyperparams = {}\n",
    "# load a recourse model and pass black box model\n",
    "gs = Dice(model, hyperparams)\n",
    "\n",
    "# generate counterfactual examples\n",
    "counterfactuals = gs.get_counterfactuals(X.iloc[0:5])\n",
    "counterfactuals"
   ]
  },
  {
   "cell_type": "code",
   "execution_count": null,
   "metadata": {},
   "outputs": [],
   "source": [
    "dataset.df_test.columns"
   ]
  },
  {
   "cell_type": "code",
   "execution_count": null,
   "metadata": {},
   "outputs": [],
   "source": []
  }
 ],
 "metadata": {
  "kernelspec": {
   "display_name": "carla",
   "language": "python",
   "name": "python3"
  },
  "language_info": {
   "codemirror_mode": {
    "name": "ipython",
    "version": 3
   },
   "file_extension": ".py",
   "mimetype": "text/x-python",
   "name": "python",
   "nbconvert_exporter": "python",
   "pygments_lexer": "ipython3",
   "version": "3.7.15"
  },
  "orig_nbformat": 4,
  "vscode": {
   "interpreter": {
    "hash": "bf3f2fd760158c4852254d0c52df1f7dfe8bd6fb32fe930a2a6d771c9f36bd90"
   }
  }
 },
 "nbformat": 4,
 "nbformat_minor": 2
}
