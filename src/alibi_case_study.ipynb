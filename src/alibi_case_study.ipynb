{
 "cells": [
  {
   "cell_type": "code",
   "execution_count": 52,
   "metadata": {},
   "outputs": [],
   "source": [
    "from alibi.explainers.counterfactual import Counterfactual \n",
    "import pandas as pd\n",
    "import tensorflow as tf\n",
    "import json\n",
    "tf.compat.v1.disable_eager_execution()"
   ]
  },
  {
   "cell_type": "code",
   "execution_count": 6,
   "metadata": {},
   "outputs": [
    {
     "name": "stdout",
     "output_type": "stream",
     "text": [
      "Model: \"sequential\"\n",
      "_________________________________________________________________\n",
      " Layer (type)                Output Shape              Param #   \n",
      "=================================================================\n",
      " dense (Dense)               (None, 64)                5824      \n",
      "                                                                 \n",
      " dropout (Dropout)           (None, 64)                0         \n",
      "                                                                 \n",
      " dense_1 (Dense)             (None, 32)                2080      \n",
      "                                                                 \n",
      " dropout_1 (Dropout)         (None, 32)                0         \n",
      "                                                                 \n",
      " dense_2 (Dense)             (None, 16)                528       \n",
      "                                                                 \n",
      " dropout_2 (Dropout)         (None, 16)                0         \n",
      "                                                                 \n",
      " dense_3 (Dense)             (None, 2)                 34        \n",
      "                                                                 \n",
      "=================================================================\n",
      "Total params: 8,466\n",
      "Trainable params: 8,466\n",
      "Non-trainable params: 0\n",
      "_________________________________________________________________\n"
     ]
    }
   ],
   "source": [
    "model = tf.keras.models.load_model('../models/adult_NN')\n",
    "model.summary()"
   ]
  },
  {
   "cell_type": "code",
   "execution_count": 20,
   "metadata": {},
   "outputs": [
    {
     "data": {
      "text/plain": [
       "array([[1.        , 0.53333333, 0.        , ..., 0.        , 0.        ,\n",
       "        0.        ],\n",
       "       [0.89041096, 0.53333333, 0.        , ..., 0.        , 0.        ,\n",
       "        0.        ],\n",
       "       [0.67123288, 0.6       , 0.        , ..., 0.        , 0.        ,\n",
       "        0.        ],\n",
       "       ...,\n",
       "       [0.31506849, 0.53333333, 0.        , ..., 0.        , 0.        ,\n",
       "        0.        ],\n",
       "       [0.56164384, 0.53333333, 0.        , ..., 0.        , 0.        ,\n",
       "        0.        ],\n",
       "       [0.06849315, 0.53333333, 0.        , ..., 0.        , 0.        ,\n",
       "        0.        ]])"
      ]
     },
     "execution_count": 20,
     "metadata": {},
     "output_type": "execute_result"
    }
   ],
   "source": [
    "df = pd.read_csv('../data/adult_prep_test.csv')\n",
    "\n",
    "\n",
    "with open('../data/adult_constraints.json', 'r') as f:\n",
    "    constraints = json.load(f)\n",
    "\n",
    "continuous = constraints['continuous']\n",
    "categorical = constraints['categorical']\n",
    "immutable = constraints['immutable']\n",
    "columns_order = constraints['features_order']\n",
    "\n",
    "x_train = df[columns_order].to_numpy()\n",
    "y_train = pd.get_dummies(df['income']).to_numpy()\n",
    "x_train"
   ]
  },
  {
   "cell_type": "code",
   "execution_count": 8,
   "metadata": {},
   "outputs": [
    {
     "name": "stderr",
     "output_type": "stream",
     "text": [
      "c:\\ProgramData\\Anaconda3\\envs\\cf\\lib\\site-packages\\alibi\\explainers\\counterfactual.py:71: FutureWarning: The class name `CounterFactual` is deprecated, please use `Counterfactual`.\n",
      "  warnings.warn(warning_msg, FutureWarning)\n",
      "c:\\ProgramData\\Anaconda3\\envs\\cf\\lib\\site-packages\\keras\\engine\\training_v1.py:2357: UserWarning: `Model.state_updates` will be removed in a future version. This property should not be used in TensorFlow 2.0, as `updates` are applied automatically.\n",
      "  updates=self.state_updates,\n"
     ]
    }
   ],
   "source": [
    "shape = (1,) + x_train.shape[1:]\n",
    "cf = CounterFactual(model, shape, distance_fn='l1', target_proba=1.0,\n",
    "                    target_class='other', max_iter=1000, early_stop=50, lam_init=1e-1,\n",
    "                    max_lam_steps=10, tol=0.05, learning_rate_init=0.1,\n",
    "                    feature_range=(-1e10, 1e10), eps=0.01, init='identity',\n",
    "                    decay=True, write_dir=None, debug=False)"
   ]
  },
  {
   "cell_type": "code",
   "execution_count": 21,
   "metadata": {},
   "outputs": [
    {
     "data": {
      "text/plain": [
       "(1, 90)"
      ]
     },
     "execution_count": 21,
     "metadata": {},
     "output_type": "execute_result"
    }
   ],
   "source": [
    "X = x_train[0]\n",
    "Y = y_train[0]\n",
    "X = X.reshape((1, -1))\n",
    "X.shape"
   ]
  },
  {
   "cell_type": "code",
   "execution_count": 27,
   "metadata": {},
   "outputs": [],
   "source": [
    "# Get Explanation\n",
    "explanation = cf.explain(X)"
   ]
  },
  {
   "cell_type": "code",
   "execution_count": 33,
   "metadata": {},
   "outputs": [
    {
     "data": {
      "text/plain": [
       "{'X': array([[ 1.0047746e+00,  5.2436715e-01,  9.3911238e-02,  1.0120199e+00,\n",
       "          4.1177741e-01,  1.5639048e-02, -3.1082109e-03,  1.3877047e-02,\n",
       "         -1.3947953e-03,  1.0727939e-02, -4.3092063e-03,  9.7391188e-01,\n",
       "          1.0184576e-02,  1.2461941e-03,  9.5135975e-04, -1.2238431e-03,\n",
       "          4.0630698e-03, -1.7212745e-04, -6.1460789e-03,  3.1360574e-03,\n",
       "          8.4790420e-03, -7.5607998e-03,  5.1693921e-03,  1.3723255e-03,\n",
       "          1.8720578e-02,  1.5775738e-03, -8.8944100e-05,  6.6890977e-03,\n",
       "         -6.3084499e-03,  1.0160287e-02,  5.3789346e-03,  1.4091088e-02,\n",
       "          2.3128814e-03, -5.2549373e-03, -6.1742784e-03,  5.1474338e-03,\n",
       "         -4.1478872e-04, -1.5279557e-02, -1.5200231e-02, -7.6019485e-04,\n",
       "          1.4321678e-03, -5.2319369e-03,  1.5877543e-02,  1.1952227e-02,\n",
       "         -2.8428279e-03, -5.9494837e-03,  8.4258607e-03, -8.9137992e-03,\n",
       "          1.0261970e-02, -1.7468031e-02,  7.0273038e-03,  9.9328226e-01,\n",
       "         -3.0106828e-03, -7.7393595e-03,  9.8794693e-01,  3.5362551e-05,\n",
       "          5.9943884e-03, -1.0892025e-02,  1.2078825e-03, -1.2404546e-02,\n",
       "         -7.4475585e-04, -8.2854806e-03,  1.6074903e-02,  2.7643340e-03,\n",
       "         -1.4075499e-02,  9.6227573e-03, -9.5452741e-04, -3.2748994e-03,\n",
       "         -9.5015299e-04, -4.1604671e-03,  9.0013547e-03, -1.0739045e-02,\n",
       "          7.7279382e-03,  9.9678606e-01,  9.3197282e-03,  1.0111820e+00,\n",
       "         -8.6413287e-03, -1.1907309e-02,  6.3279644e-04, -3.3383854e-03,\n",
       "         -1.0682141e-02,  9.9569821e-01,  1.3758934e-02, -1.8742133e-02,\n",
       "          9.1068372e-03, -2.7539725e-03, -6.6687320e-03, -2.6369379e-03,\n",
       "         -4.3013357e-03,  8.5892044e-03]], dtype=float32),\n",
       " 'distance': 0.7454903721809387,\n",
       " 'lambda': 0.099912109375,\n",
       " 'index': 9308,\n",
       " 'class': 1,\n",
       " 'proba': array([[0.02960015, 0.97039986]], dtype=float32),\n",
       " 'loss': 0.07535968409458292}"
      ]
     },
     "execution_count": 33,
     "metadata": {},
     "output_type": "execute_result"
    }
   ],
   "source": [
    "explanation.data['cf']"
   ]
  },
  {
   "cell_type": "code",
   "execution_count": 24,
   "metadata": {},
   "outputs": [
    {
     "name": "stdout",
     "output_type": "stream",
     "text": [
      "X: [1 0]\n",
      "cf: [[0.02960015 0.97039986]]\n"
     ]
    }
   ],
   "source": [
    "ctf = explanation.data['cf']['X']\n",
    "print('X:', Y)\n",
    "print('cf:', model.predict(ctf))\n"
   ]
  },
  {
   "attachments": {},
   "cell_type": "markdown",
   "metadata": {},
   "source": [
    "Test sklearn"
   ]
  },
  {
   "cell_type": "code",
   "execution_count": 34,
   "metadata": {},
   "outputs": [],
   "source": [
    "from sklearn.ensemble import RandomForestClassifier\n",
    "from sklearn.model_selection import train_test_split\n",
    "from joblib import dump, load"
   ]
  },
  {
   "cell_type": "code",
   "execution_count": 35,
   "metadata": {},
   "outputs": [
    {
     "name": "stderr",
     "output_type": "stream",
     "text": [
      "c:\\ProgramData\\Anaconda3\\envs\\cf\\lib\\site-packages\\sklearn\\base.py:288: UserWarning: Trying to unpickle estimator DecisionTreeClassifier from version 0.23.2 when using version 1.2.0. This might lead to breaking code or invalid results. Use at your own risk. For more info please refer to:\n",
      "https://scikit-learn.org/stable/model_persistence.html#security-maintainability-limitations\n",
      "  warnings.warn(\n",
      "c:\\ProgramData\\Anaconda3\\envs\\cf\\lib\\site-packages\\sklearn\\base.py:288: UserWarning: Trying to unpickle estimator RandomForestClassifier from version 0.23.2 when using version 1.2.0. This might lead to breaking code or invalid results. Use at your own risk. For more info please refer to:\n",
      "https://scikit-learn.org/stable/model_persistence.html#security-maintainability-limitations\n",
      "  warnings.warn(\n"
     ]
    }
   ],
   "source": [
    "clf = load('../models/adult_RF.joblib')"
   ]
  },
  {
   "cell_type": "code",
   "execution_count": 36,
   "metadata": {},
   "outputs": [
    {
     "data": {
      "text/plain": [
       "array([[1, 0]], dtype=uint8)"
      ]
     },
     "execution_count": 36,
     "metadata": {},
     "output_type": "execute_result"
    }
   ],
   "source": [
    "clf.predict(X)"
   ]
  },
  {
   "cell_type": "code",
   "execution_count": 37,
   "metadata": {},
   "outputs": [
    {
     "data": {
      "text/plain": [
       "array([[0, 1]], dtype=uint8)"
      ]
     },
     "execution_count": 37,
     "metadata": {},
     "output_type": "execute_result"
    }
   ],
   "source": [
    "clf.predict(ctf)"
   ]
  },
  {
   "cell_type": "code",
   "execution_count": 58,
   "metadata": {},
   "outputs": [],
   "source": [
    "predict_fn = lambda x: clf.predict(x)\n",
    "cf = Counterfactual(predict_fn, shape, distance_fn='l1', target_proba=1.0,\n",
    "                    target_class='other', max_iter=1000, early_stop=50, lam_init=1e-3,\n",
    "                    max_lam_steps=15, tol=0.4, learning_rate_init=0.1,\n",
    "                    feature_range=(-1e10, 1e10), eps=0.1, init='identity',\n",
    "                    decay=True, write_dir=None, debug=False)"
   ]
  },
  {
   "cell_type": "code",
   "execution_count": 59,
   "metadata": {},
   "outputs": [],
   "source": [
    "# Get Explanation\n",
    "explanation = cf.explain(X)"
   ]
  },
  {
   "cell_type": "code",
   "execution_count": 60,
   "metadata": {},
   "outputs": [
    {
     "name": "stdout",
     "output_type": "stream",
     "text": [
      "X: [1 0]\n",
      "cf: [[0.06001339 0.93998665]]\n"
     ]
    }
   ],
   "source": [
    "ctf = explanation.data['cf']['X']\n",
    "print('X:', Y)\n",
    "print('cf:', model.predict(ctf))"
   ]
  },
  {
   "cell_type": "code",
   "execution_count": null,
   "metadata": {},
   "outputs": [],
   "source": []
  }
 ],
 "metadata": {
  "kernelspec": {
   "display_name": "cf",
   "language": "python",
   "name": "python3"
  },
  "language_info": {
   "codemirror_mode": {
    "name": "ipython",
    "version": 3
   },
   "file_extension": ".py",
   "mimetype": "text/x-python",
   "name": "python",
   "nbconvert_exporter": "python",
   "pygments_lexer": "ipython3",
   "version": "3.10.0"
  },
  "orig_nbformat": 4,
  "vscode": {
   "interpreter": {
    "hash": "81d0d6994cbc9a338f9a3d74dedf5823f97cddc544b8ee56d3ad85196f930114"
   }
  }
 },
 "nbformat": 4,
 "nbformat_minor": 2
}
