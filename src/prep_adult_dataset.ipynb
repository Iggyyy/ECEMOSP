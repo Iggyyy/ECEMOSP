{
 "cells": [
  {
   "cell_type": "code",
   "execution_count": 3,
   "metadata": {},
   "outputs": [],
   "source": [
    "import pandas as pd\n",
    "import numpy as np\n",
    "\n",
    "import warnings\n",
    "warnings.simplefilter(action='ignore', category=FutureWarning)\n",
    "\n",
    "\n",
    "from carla.data.catalog import CsvCatalog\n",
    "\n",
    "seed = 44\n",
    "\n",
    "\n",
    "np.random.seed(seed)"
   ]
  },
  {
   "cell_type": "code",
   "execution_count": 4,
   "metadata": {},
   "outputs": [
    {
     "data": {
      "text/plain": [
       "Index(['age', 'workclass', 'fnlwgt', 'education', 'education.num',\n",
       "       'marital.status', 'occupation', 'relationship', 'race', 'sex',\n",
       "       'capital.gain', 'capital.loss', 'hours.per.week', 'native.country',\n",
       "       'income'],\n",
       "      dtype='object')"
      ]
     },
     "execution_count": 4,
     "metadata": {},
     "output_type": "execute_result"
    }
   ],
   "source": [
    "continuous = [\"age\", \"education.num\", \"capital.gain\",\"hours.per.week\", \"capital.loss\"]\n",
    "categorical = [\"marital.status\", \"native.country\", \"occupation\", \"race\", \"relationship\", \"sex\", \"workclass\"]\n",
    "immutable = [\"age\", \"sex\"]\n",
    "\n",
    "\n",
    "df_raw = pd.read_csv('../data/adult.csv')\n",
    "df_raw.columns"
   ]
  },
  {
   "cell_type": "code",
   "execution_count": 6,
   "metadata": {},
   "outputs": [
    {
     "data": {
      "text/plain": [
       "Index(['age', 'workclass', 'education.num', 'marital.status', 'occupation',\n",
       "       'relationship', 'race', 'sex', 'capital.gain', 'capital.loss',\n",
       "       'hours.per.week', 'native.country', 'income'],\n",
       "      dtype='object')"
      ]
     },
     "execution_count": 6,
     "metadata": {},
     "output_type": "execute_result"
    }
   ],
   "source": [
    "df_prep = df_raw.drop(['fnlwgt', 'education'], axis=1)\n",
    "df_prep.columns"
   ]
  },
  {
   "cell_type": "code",
   "execution_count": 7,
   "metadata": {},
   "outputs": [],
   "source": [
    "df_prep.to_csv('../data/adult_prep.csv', index=False)"
   ]
  },
  {
   "cell_type": "code",
   "execution_count": 8,
   "metadata": {},
   "outputs": [],
   "source": [
    "dataset = CsvCatalog(file_path='../data/adult_prep.csv',\n",
    "                    continuous=continuous,\n",
    "                    categorical=categorical,\n",
    "                    immutables=immutable,\n",
    "                    target='income')\n",
    "\n",
    "columns_order = list(filter(lambda x: x != 'income', dataset.df_train.columns.to_list()))"
   ]
  },
  {
   "cell_type": "code",
   "execution_count": 11,
   "metadata": {},
   "outputs": [
    {
     "data": {
      "text/plain": [
       "91"
      ]
     },
     "execution_count": 11,
     "metadata": {},
     "output_type": "execute_result"
    }
   ],
   "source": [
    "dataset.df.columns.shape[0]"
   ]
  },
  {
   "cell_type": "code",
   "execution_count": 14,
   "metadata": {},
   "outputs": [],
   "source": [
    "import json\n",
    "\n",
    "constraints = {\n",
    "    'features_order': columns_order,\n",
    "    'categorical': categorical,\n",
    "    'continuous': continuous,\n",
    "    'immutable': immutable,\n",
    "    'features_count': len(columns_order)\n",
    "}\n",
    "\n",
    "with open('../data/adult_constraints.json', 'w') as f:\n",
    "    \n",
    "    json.dump(constraints, f)"
   ]
  },
  {
   "cell_type": "code",
   "execution_count": null,
   "metadata": {},
   "outputs": [],
   "source": []
  }
 ],
 "metadata": {
  "kernelspec": {
   "display_name": "carla",
   "language": "python",
   "name": "python3"
  },
  "language_info": {
   "codemirror_mode": {
    "name": "ipython",
    "version": 3
   },
   "file_extension": ".py",
   "mimetype": "text/x-python",
   "name": "python",
   "nbconvert_exporter": "python",
   "pygments_lexer": "ipython3",
   "version": "3.7.15 (default, Nov 24 2022, 18:44:54) [MSC v.1916 64 bit (AMD64)]"
  },
  "orig_nbformat": 4,
  "vscode": {
   "interpreter": {
    "hash": "bf3f2fd760158c4852254d0c52df1f7dfe8bd6fb32fe930a2a6d771c9f36bd90"
   }
  }
 },
 "nbformat": 4,
 "nbformat_minor": 2
}
