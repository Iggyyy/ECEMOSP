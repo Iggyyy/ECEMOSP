{
 "cells": [
  {
   "cell_type": "markdown",
   "id": "c586de83",
   "metadata": {},
   "source": [
    "# Case study\n",
    "\n",
    "In the case study we demonstrate how to generate counterfactual explanations by using our library on Statlog (German Credit Data) Data Set from UCI ML repository.  "
   ]
  },
  {
   "cell_type": "code",
   "execution_count": 1,
   "id": "0b4ad8f5",
   "metadata": {},
   "outputs": [],
   "source": [
    "from tensorflow import keras\n",
    "import numpy as np\n",
    "import pandas as pd\n",
    "import warnings\n",
    "from modules.CFEC.cfec.visualization import show\n",
    "warnings.filterwarnings('ignore', category=FutureWarning)\n",
    "np.random.seed(44)"
   ]
  },
  {
   "cell_type": "markdown",
   "id": "603f859f",
   "metadata": {},
   "source": [
    "### Data and model loading\n",
    "\n",
    "Statlog (German Credit Data) was gathered from UCI ML repository and consists of 20 features and 61 columns (most of them are represented by one-hot encoding). The dataset is wrapped in GermanData class, for easier use. \n",
    "\n",
    "Additionally, we load a pretrained keras model (simple logistic regression with 2 outputs) which will be used for prediction making."
   ]
  },
  {
   "cell_type": "code",
   "execution_count": 2,
   "id": "d86f567a",
   "metadata": {},
   "outputs": [],
   "source": [
    "from modules.CFEC.data import GermanData\n",
    "\n",
    "german_data = GermanData('modules/CFEC/data/datasets/input_german.csv', 'modules/CFEC/data/datasets/labels_german.csv')\n",
    "model = keras.models.load_model('modules/CFEC/models/model_german')"
   ]
  },
  {
   "cell_type": "code",
   "execution_count": 3,
   "id": "835ab21e",
   "metadata": {},
   "outputs": [
    {
     "data": {
      "text/html": [
       "<div>\n",
       "<style scoped>\n",
       "    .dataframe tbody tr th:only-of-type {\n",
       "        vertical-align: middle;\n",
       "    }\n",
       "\n",
       "    .dataframe tbody tr th {\n",
       "        vertical-align: top;\n",
       "    }\n",
       "\n",
       "    .dataframe thead th {\n",
       "        text-align: right;\n",
       "    }\n",
       "</style>\n",
       "<table border=\"1\" class=\"dataframe\">\n",
       "  <thead>\n",
       "    <tr style=\"text-align: right;\">\n",
       "      <th></th>\n",
       "      <th>duration</th>\n",
       "      <th>credit</th>\n",
       "      <th>installment_percent</th>\n",
       "      <th>residence_duration</th>\n",
       "      <th>age</th>\n",
       "      <th>existing_credits</th>\n",
       "      <th>people_maintained</th>\n",
       "      <th>account_status_0..200 DM</th>\n",
       "      <th>account_status_&lt; 0 DM</th>\n",
       "      <th>account_status_&gt;= 200 DM</th>\n",
       "      <th>...</th>\n",
       "      <th>job_unskilled - resident</th>\n",
       "      <th>phone_none</th>\n",
       "      <th>phone_yes, registered under the customers name</th>\n",
       "      <th>foreign_no</th>\n",
       "      <th>foreign_yes</th>\n",
       "      <th>employment_1..4 years</th>\n",
       "      <th>employment_4..7 years</th>\n",
       "      <th>employment_&lt; 1 year</th>\n",
       "      <th>employment_&gt;= 7 years</th>\n",
       "      <th>employment_unemployed</th>\n",
       "    </tr>\n",
       "  </thead>\n",
       "  <tbody>\n",
       "    <tr>\n",
       "      <th>99.0</th>\n",
       "      <td>20.0</td>\n",
       "      <td>7057.0</td>\n",
       "      <td>3.0</td>\n",
       "      <td>4.0</td>\n",
       "      <td>36.0</td>\n",
       "      <td>2.0</td>\n",
       "      <td>2.0</td>\n",
       "      <td>1.0</td>\n",
       "      <td>0.0</td>\n",
       "      <td>0.0</td>\n",
       "      <td>...</td>\n",
       "      <td>0.0</td>\n",
       "      <td>0.0</td>\n",
       "      <td>1.0</td>\n",
       "      <td>0.0</td>\n",
       "      <td>1.0</td>\n",
       "      <td>0.0</td>\n",
       "      <td>1.0</td>\n",
       "      <td>0.0</td>\n",
       "      <td>0.0</td>\n",
       "      <td>0.0</td>\n",
       "    </tr>\n",
       "    <tr>\n",
       "      <th>488.0</th>\n",
       "      <td>10.0</td>\n",
       "      <td>1418.0</td>\n",
       "      <td>3.0</td>\n",
       "      <td>2.0</td>\n",
       "      <td>35.0</td>\n",
       "      <td>1.0</td>\n",
       "      <td>1.0</td>\n",
       "      <td>0.0</td>\n",
       "      <td>0.0</td>\n",
       "      <td>0.0</td>\n",
       "      <td>...</td>\n",
       "      <td>1.0</td>\n",
       "      <td>1.0</td>\n",
       "      <td>0.0</td>\n",
       "      <td>1.0</td>\n",
       "      <td>0.0</td>\n",
       "      <td>1.0</td>\n",
       "      <td>0.0</td>\n",
       "      <td>0.0</td>\n",
       "      <td>0.0</td>\n",
       "      <td>0.0</td>\n",
       "    </tr>\n",
       "    <tr>\n",
       "      <th>206.0</th>\n",
       "      <td>12.0</td>\n",
       "      <td>1935.0</td>\n",
       "      <td>4.0</td>\n",
       "      <td>4.0</td>\n",
       "      <td>43.0</td>\n",
       "      <td>3.0</td>\n",
       "      <td>1.0</td>\n",
       "      <td>0.0</td>\n",
       "      <td>0.0</td>\n",
       "      <td>0.0</td>\n",
       "      <td>...</td>\n",
       "      <td>0.0</td>\n",
       "      <td>0.0</td>\n",
       "      <td>1.0</td>\n",
       "      <td>0.0</td>\n",
       "      <td>1.0</td>\n",
       "      <td>0.0</td>\n",
       "      <td>0.0</td>\n",
       "      <td>0.0</td>\n",
       "      <td>1.0</td>\n",
       "      <td>0.0</td>\n",
       "    </tr>\n",
       "    <tr>\n",
       "      <th>939.0</th>\n",
       "      <td>24.0</td>\n",
       "      <td>6842.0</td>\n",
       "      <td>2.0</td>\n",
       "      <td>4.0</td>\n",
       "      <td>46.0</td>\n",
       "      <td>2.0</td>\n",
       "      <td>2.0</td>\n",
       "      <td>0.0</td>\n",
       "      <td>0.0</td>\n",
       "      <td>0.0</td>\n",
       "      <td>...</td>\n",
       "      <td>0.0</td>\n",
       "      <td>0.0</td>\n",
       "      <td>1.0</td>\n",
       "      <td>0.0</td>\n",
       "      <td>1.0</td>\n",
       "      <td>1.0</td>\n",
       "      <td>0.0</td>\n",
       "      <td>0.0</td>\n",
       "      <td>0.0</td>\n",
       "      <td>0.0</td>\n",
       "    </tr>\n",
       "    <tr>\n",
       "      <th>729.0</th>\n",
       "      <td>24.0</td>\n",
       "      <td>1275.0</td>\n",
       "      <td>2.0</td>\n",
       "      <td>4.0</td>\n",
       "      <td>36.0</td>\n",
       "      <td>2.0</td>\n",
       "      <td>1.0</td>\n",
       "      <td>0.0</td>\n",
       "      <td>0.0</td>\n",
       "      <td>1.0</td>\n",
       "      <td>...</td>\n",
       "      <td>0.0</td>\n",
       "      <td>0.0</td>\n",
       "      <td>1.0</td>\n",
       "      <td>0.0</td>\n",
       "      <td>1.0</td>\n",
       "      <td>1.0</td>\n",
       "      <td>0.0</td>\n",
       "      <td>0.0</td>\n",
       "      <td>0.0</td>\n",
       "      <td>0.0</td>\n",
       "    </tr>\n",
       "  </tbody>\n",
       "</table>\n",
       "<p>5 rows × 61 columns</p>\n",
       "</div>"
      ],
      "text/plain": [
       "       duration  credit  installment_percent  residence_duration   age  \\\n",
       "99.0       20.0  7057.0                  3.0                 4.0  36.0   \n",
       "488.0      10.0  1418.0                  3.0                 2.0  35.0   \n",
       "206.0      12.0  1935.0                  4.0                 4.0  43.0   \n",
       "939.0      24.0  6842.0                  2.0                 4.0  46.0   \n",
       "729.0      24.0  1275.0                  2.0                 4.0  36.0   \n",
       "\n",
       "       existing_credits  people_maintained  account_status_0..200 DM  \\\n",
       "99.0                2.0                2.0                       1.0   \n",
       "488.0               1.0                1.0                       0.0   \n",
       "206.0               3.0                1.0                       0.0   \n",
       "939.0               2.0                2.0                       0.0   \n",
       "729.0               2.0                1.0                       0.0   \n",
       "\n",
       "       account_status_< 0 DM  account_status_>= 200 DM  ...  \\\n",
       "99.0                     0.0                       0.0  ...   \n",
       "488.0                    0.0                       0.0  ...   \n",
       "206.0                    0.0                       0.0  ...   \n",
       "939.0                    0.0                       0.0  ...   \n",
       "729.0                    0.0                       1.0  ...   \n",
       "\n",
       "       job_unskilled - resident  phone_none  \\\n",
       "99.0                        0.0         0.0   \n",
       "488.0                       1.0         1.0   \n",
       "206.0                       0.0         0.0   \n",
       "939.0                       0.0         0.0   \n",
       "729.0                       0.0         0.0   \n",
       "\n",
       "       phone_yes, registered under the customers name  foreign_no  \\\n",
       "99.0                                              1.0         0.0   \n",
       "488.0                                             0.0         1.0   \n",
       "206.0                                             1.0         0.0   \n",
       "939.0                                             1.0         0.0   \n",
       "729.0                                             1.0         0.0   \n",
       "\n",
       "       foreign_yes  employment_1..4 years  employment_4..7 years  \\\n",
       "99.0           1.0                    0.0                    1.0   \n",
       "488.0          0.0                    1.0                    0.0   \n",
       "206.0          1.0                    0.0                    0.0   \n",
       "939.0          1.0                    1.0                    0.0   \n",
       "729.0          1.0                    1.0                    0.0   \n",
       "\n",
       "       employment_< 1 year  employment_>= 7 years  employment_unemployed  \n",
       "99.0                   0.0                    0.0                    0.0  \n",
       "488.0                  0.0                    0.0                    0.0  \n",
       "206.0                  0.0                    1.0                    0.0  \n",
       "939.0                  0.0                    0.0                    0.0  \n",
       "729.0                  0.0                    0.0                    0.0  \n",
       "\n",
       "[5 rows x 61 columns]"
      ]
     },
     "execution_count": 3,
     "metadata": {},
     "output_type": "execute_result"
    }
   ],
   "source": [
    "german_data.input.sample(5)"
   ]
  },
  {
   "cell_type": "markdown",
   "id": "47cd4960",
   "metadata": {},
   "source": [
    "### Test sample selection\n",
    "\n",
    "We select one instance, for which we want to calculate the counterfactual. "
   ]
  },
  {
   "cell_type": "code",
   "execution_count": 4,
   "id": "d6864f84",
   "metadata": {},
   "outputs": [
    {
     "data": {
      "text/plain": [
       "duration                    6.0\n",
       "credit                   1169.0\n",
       "installment_percent         4.0\n",
       "residence_duration          4.0\n",
       "age                        67.0\n",
       "                          ...  \n",
       "employment_1..4 years       0.0\n",
       "employment_4..7 years       0.0\n",
       "employment_< 1 year         0.0\n",
       "employment_>= 7 years       1.0\n",
       "employment_unemployed       0.0\n",
       "Name: 0.0, Length: 61, dtype: float64"
      ]
     },
     "execution_count": 4,
     "metadata": {},
     "output_type": "execute_result"
    }
   ],
   "source": [
    "X_test = german_data.input.iloc[0]\n",
    "X_test"
   ]
  },
  {
   "cell_type": "markdown",
   "id": "23c06dbc",
   "metadata": {},
   "source": [
    "### Data scaling\n",
    "\n",
    "For the model to work, the dataset has to be standardized. The GermanData scale function uses StandardScaler from sklearn."
   ]
  },
  {
   "cell_type": "code",
   "execution_count": 5,
   "id": "ccb921fb",
   "metadata": {},
   "outputs": [
    {
     "data": {
      "text/plain": [
       "duration                 0.029412\n",
       "credit                   0.050567\n",
       "installment_percent      1.000000\n",
       "residence_duration       1.000000\n",
       "age                      0.857143\n",
       "                           ...   \n",
       "employment_1..4 years    0.000000\n",
       "employment_4..7 years    0.000000\n",
       "employment_< 1 year      0.000000\n",
       "employment_>= 7 years    1.000000\n",
       "employment_unemployed    0.000000\n",
       "Length: 61, dtype: float64"
      ]
     },
     "execution_count": 5,
     "metadata": {},
     "output_type": "execute_result"
    }
   ],
   "source": [
    "X_test_scaled = german_data.scale(X_test)\n",
    "X_test_scaled"
   ]
  },
  {
   "cell_type": "markdown",
   "id": "7f4a395e",
   "metadata": {},
   "source": [
    "Now, we evaluate the model on the test sample."
   ]
  },
  {
   "cell_type": "code",
   "execution_count": 6,
   "id": "7f6dfef9",
   "metadata": {},
   "outputs": [
    {
     "name": "stdout",
     "output_type": "stream",
     "text": [
      "1/1 [==============================] - 0s 80ms/step\n"
     ]
    },
    {
     "data": {
      "text/plain": [
       "array([[0.00939065, 0.9906094 ]], dtype=float32)"
      ]
     },
     "execution_count": 6,
     "metadata": {},
     "output_type": "execute_result"
    }
   ],
   "source": [
    "model.predict(np.expand_dims(X_test_scaled, axis=0))"
   ]
  },
  {
   "cell_type": "markdown",
   "id": "c5df99ab",
   "metadata": {},
   "source": [
    "These outputs  are interpreted as the model prediction of the testing instance to class 1. For this credit data it means a bad (not paying loans) class of customers."
   ]
  },
  {
   "cell_type": "markdown",
   "id": "3af99123",
   "metadata": {},
   "source": [
    "### Counterfactual explanations generation\n",
    "\n",
    "Here we demonstrate how to generate counterfactual explanations using CADEX, FIMAP and ECE methods implemented in our library."
   ]
  },
  {
   "cell_type": "markdown",
   "id": "b0726a1a",
   "metadata": {},
   "source": [
    "#### FIMAP\n"
   ]
  },
  {
   "cell_type": "code",
   "execution_count": 7,
   "id": "23986b93",
   "metadata": {},
   "outputs": [],
   "source": [
    "from modules.CFEC.cfec.explainers import Fimap"
   ]
  },
  {
   "cell_type": "code",
   "execution_count": 8,
   "id": "e7d94326",
   "metadata": {},
   "outputs": [
    {
     "name": "stdout",
     "output_type": "stream",
     "text": [
      "25/25 [==============================] - 0s 1000us/step\n",
      "\n",
      "Training s\n",
      "Training loss (for one batch): 0.1957 \n",
      "Training accuracy 0.919825\n",
      "\n",
      "Training g\n",
      "Training loss (for one batch): 0.9702 \n",
      "Training accuracy 0.07875\n",
      "Training loss (for one batch): 0.9449 \n",
      "Training accuracy 0.07875\n"
     ]
    }
   ],
   "source": [
    "model_predictions = model.predict(german_data.X_train)\n",
    "model_predictions = np.argmax(model_predictions, axis=1)\n",
    "fimap = Fimap()\n",
    "fimap.fit(german_data.X_train, model_predictions)"
   ]
  },
  {
   "cell_type": "code",
   "execution_count": 9,
   "id": "0ce75a6b",
   "metadata": {},
   "outputs": [
    {
     "data": {
      "text/html": [
       "<div>\n",
       "<style scoped>\n",
       "    .dataframe tbody tr th:only-of-type {\n",
       "        vertical-align: middle;\n",
       "    }\n",
       "\n",
       "    .dataframe tbody tr th {\n",
       "        vertical-align: top;\n",
       "    }\n",
       "\n",
       "    .dataframe thead th {\n",
       "        text-align: right;\n",
       "    }\n",
       "</style>\n",
       "<table border=\"1\" class=\"dataframe\">\n",
       "  <thead>\n",
       "    <tr style=\"text-align: right;\">\n",
       "      <th></th>\n",
       "      <th>duration</th>\n",
       "      <th>credit</th>\n",
       "      <th>installment_percent</th>\n",
       "      <th>residence_duration</th>\n",
       "      <th>age</th>\n",
       "      <th>existing_credits</th>\n",
       "      <th>people_maintained</th>\n",
       "      <th>account_status_0..200 DM</th>\n",
       "      <th>account_status_&lt; 0 DM</th>\n",
       "      <th>account_status_&gt;= 200 DM</th>\n",
       "      <th>...</th>\n",
       "      <th>job_unskilled - resident</th>\n",
       "      <th>phone_none</th>\n",
       "      <th>phone_yes, registered under the customers name</th>\n",
       "      <th>foreign_no</th>\n",
       "      <th>foreign_yes</th>\n",
       "      <th>employment_1..4 years</th>\n",
       "      <th>employment_4..7 years</th>\n",
       "      <th>employment_&lt; 1 year</th>\n",
       "      <th>employment_&gt;= 7 years</th>\n",
       "      <th>employment_unemployed</th>\n",
       "    </tr>\n",
       "  </thead>\n",
       "  <tbody>\n",
       "    <tr>\n",
       "      <th>0</th>\n",
       "      <td>-0.753251</td>\n",
       "      <td>1154.644409</td>\n",
       "      <td>-50.484447</td>\n",
       "      <td>-32.117737</td>\n",
       "      <td>-2.794228</td>\n",
       "      <td>-57.951065</td>\n",
       "      <td>21.926142</td>\n",
       "      <td>-1.430603</td>\n",
       "      <td>36.70525</td>\n",
       "      <td>-56.867725</td>\n",
       "      <td>...</td>\n",
       "      <td>-41.543301</td>\n",
       "      <td>-81.625114</td>\n",
       "      <td>-106.73011</td>\n",
       "      <td>-82.998085</td>\n",
       "      <td>-96.651833</td>\n",
       "      <td>-79.8853</td>\n",
       "      <td>2.233964</td>\n",
       "      <td>53.533756</td>\n",
       "      <td>-61.616642</td>\n",
       "      <td>2.571283</td>\n",
       "    </tr>\n",
       "  </tbody>\n",
       "</table>\n",
       "<p>1 rows × 61 columns</p>\n",
       "</div>"
      ],
      "text/plain": [
       "   duration       credit  installment_percent  residence_duration       age  \\\n",
       "0 -0.753251  1154.644409           -50.484447          -32.117737 -2.794228   \n",
       "\n",
       "   existing_credits  people_maintained  account_status_0..200 DM  \\\n",
       "0        -57.951065          21.926142                 -1.430603   \n",
       "\n",
       "   account_status_< 0 DM  account_status_>= 200 DM  ...  \\\n",
       "0               36.70525                -56.867725  ...   \n",
       "\n",
       "   job_unskilled - resident  phone_none  \\\n",
       "0                -41.543301  -81.625114   \n",
       "\n",
       "   phone_yes, registered under the customers name  foreign_no  foreign_yes  \\\n",
       "0                                      -106.73011  -82.998085   -96.651833   \n",
       "\n",
       "   employment_1..4 years  employment_4..7 years  employment_< 1 year  \\\n",
       "0               -79.8853               2.233964            53.533756   \n",
       "\n",
       "   employment_>= 7 years  employment_unemployed  \n",
       "0             -61.616642               2.571283  \n",
       "\n",
       "[1 rows x 61 columns]"
      ]
     },
     "execution_count": 9,
     "metadata": {},
     "output_type": "execute_result"
    }
   ],
   "source": [
    "cf_fimap = fimap.generate(X_test)\n",
    "cf_fimap"
   ]
  },
  {
   "cell_type": "code",
   "execution_count": 10,
   "id": "00690d91",
   "metadata": {},
   "outputs": [
    {
     "name": "stdout",
     "output_type": "stream",
     "text": [
      "1/1 [==============================] - 0s 40ms/step\n"
     ]
    },
    {
     "data": {
      "text/plain": [
       "array([[1., 0.]], dtype=float32)"
      ]
     },
     "execution_count": 10,
     "metadata": {},
     "output_type": "execute_result"
    }
   ],
   "source": [
    "model.predict(german_data.scale(cf_fimap))"
   ]
  },
  {
   "cell_type": "markdown",
   "id": "cd576b59",
   "metadata": {},
   "source": [
    "The class predicted for the counterfactual is 0, meaning good credit score."
   ]
  },
  {
   "cell_type": "code",
   "execution_count": null,
   "id": "b2365233",
   "metadata": {},
   "outputs": [],
   "source": [
    "\n",
    "show(X_test, cf_fimap)"
   ]
  },
  {
   "cell_type": "markdown",
   "id": "2a3db598",
   "metadata": {},
   "source": [
    "We can see two things wrong with the generated counterfactual: \n",
    "- the categorical variables, originally represented in one-hot encoding, were changed to values different than 0 or 1\n",
    "- the value of age variable decreased, resulting in poor quality of the counterfactual - we can't recommend someone to decrease their age in order to obtain credit\n",
    "\n",
    "To fix it we can use constraints, which can be defined either in code or in spreadsheets (which can be used by users not familiar with programming)."
   ]
  },
  {
   "cell_type": "code",
   "execution_count": null,
   "id": "24b8969a",
   "metadata": {},
   "outputs": [],
   "source": [
    "from modules.CFEC.cfec.constraints import OneHot, ValueMonotonicity\n",
    "\n",
    "constraints = [OneHot(\"account_status\", 7, 10), \n",
    "               OneHot(\"credit_history\", 11, 15),\n",
    "               OneHot(\"purpose\", 16, 25), \n",
    "               OneHot(\"savings\", 26, 30), \n",
    "               OneHot(\"sex_status\", 31, 34),\n",
    "               OneHot(\"debtors\", 35, 37), \n",
    "               OneHot(\"property\", 38, 41),\n",
    "               OneHot(\"other_installment_plans\", 42, 44), \n",
    "               OneHot(\"housing\", 45, 47), \n",
    "               OneHot(\"job\", 48, 51),\n",
    "               OneHot(\"phone\", 52, 53), \n",
    "               OneHot(\"foreign\", 54, 55), \n",
    "               OneHot(\"employment\", 56, 60),\n",
    "               ValueMonotonicity(['age'], \"increasing\")\n",
    "              ]"
   ]
  },
  {
   "cell_type": "code",
   "execution_count": null,
   "id": "4ea1d446",
   "metadata": {},
   "outputs": [],
   "source": [
    "fimap = Fimap(constraints=constraints, use_mapper=True)\n",
    "fimap.fit(german_data.X_train, model_predictions)\n",
    "\n",
    "cf_fimap_constraints = fimap.generate(X_test)"
   ]
  },
  {
   "cell_type": "code",
   "execution_count": null,
   "id": "62d7b2e1",
   "metadata": {},
   "outputs": [],
   "source": [
    "model.predict(german_data.scale(cf_fimap_constraints))"
   ]
  },
  {
   "cell_type": "markdown",
   "id": "6132d7bd",
   "metadata": {},
   "source": [
    "As FIMAP is a method that doesn't guarantee finding a true counterfactual (with a change in prediction), we should always check whether the prediction changed. Here, we'd have to tune the hyperparameters to find a true counterfactual."
   ]
  },
  {
   "cell_type": "code",
   "execution_count": null,
   "id": "986d8d54",
   "metadata": {},
   "outputs": [],
   "source": [
    "cf_fimap_constraints.squeeze()\n"
   ]
  },
  {
   "cell_type": "code",
   "execution_count": null,
   "id": "9bc6850c",
   "metadata": {},
   "outputs": [],
   "source": [
    "# from modules.CFEC.cfec.visualization import show\n",
    "# cf = cf_fimap_constraints.squeeze().round(3)\n",
    "# x = X_test.round(3)\n",
    "# df = pd.concat([x, cf.transpose()], axis=1)\n",
    "# df.columns = [\"X\", \"X'\"]\n",
    "# df[\"index\"] = list(range(len(x)))\n",
    "# df = df[df[\"X\"] != df[\"X'\"]]\n",
    "# df[\"change\"] = df[\"X'\"] - df[\"X\"]\n",
    "\n",
    "# for constraint in constraints:\n",
    "#     if isinstance(constraint, OneHot):\n",
    "#         changed = df[df[\"index\"].between(constraint.start_column, constraint.end_column)]\n",
    "#         if len(changed) == 2:\n",
    "#                 print(changed)\n",
    "#                 value_original = changed[\"X\"][changed[\"X\"] == 1].index.tolist()[0]\n",
    "#                 print(value_original)\n",
    "#                 value_cf = changed[\"X'\"][changed[\"X'\"] == 1].index.tolist()[0]\n",
    "#                 df.loc[constraint.name] = [value_original, value_cf, -1, value_cf, \"OneHot\"]\n",
    "#                 df.drop(changed.index, inplace=True)\n"
   ]
  },
  {
   "cell_type": "code",
   "execution_count": null,
   "id": "23993b9c",
   "metadata": {},
   "outputs": [],
   "source": [
    "show(X_test, cf_fimap_constraints.squeeze(), constraints=constraints)"
   ]
  },
  {
   "cell_type": "code",
   "execution_count": null,
   "id": "033c0ae7",
   "metadata": {},
   "outputs": [],
   "source": [
    "X_test"
   ]
  },
  {
   "cell_type": "markdown",
   "id": "f628aa7b",
   "metadata": {},
   "source": [
    "The constraints column shows what constraints have been placed on the given attribute. If these constraints were not met, it would be marked with an asterisk."
   ]
  },
  {
   "cell_type": "markdown",
   "id": "afc10120",
   "metadata": {},
   "source": [
    "#### CADEX\n",
    "\n",
    "For CADEX, we can either pass scaled instance and then unscale the obtained counterfactual or pass transform and inverse_transform parameters to the constructor."
   ]
  },
  {
   "cell_type": "code",
   "execution_count": 11,
   "id": "52dc816e",
   "metadata": {},
   "outputs": [
    {
     "name": "stdout",
     "output_type": "stream",
     "text": [
      "1/1 [==============================] - 0s 60ms/step\n",
      "1/1 [==============================] - 0s 8ms/step\n",
      "1/1 [==============================] - 0s 7ms/step\n",
      "1/1 [==============================] - 0s 8ms/step\n",
      "1/1 [==============================] - 0s 10ms/step\n",
      "1/1 [==============================] - 0s 11ms/step\n",
      "1/1 [==============================] - 0s 12ms/step\n",
      "1/1 [==============================] - 0s 9ms/step\n",
      "1/1 [==============================] - 0s 8ms/step\n",
      "1/1 [==============================] - 0s 11ms/step\n",
      "1/1 [==============================] - 0s 10ms/step\n",
      "1/1 [==============================] - 0s 14ms/step\n",
      "1/1 [==============================] - 0s 9ms/step\n",
      "1/1 [==============================] - 0s 9ms/step\n",
      "1/1 [==============================] - 0s 10ms/step\n",
      "1/1 [==============================] - 0s 11ms/step\n",
      "1/1 [==============================] - 0s 10ms/step\n",
      "1/1 [==============================] - 0s 8ms/step\n",
      "1/1 [==============================] - 0s 8ms/step\n",
      "1/1 [==============================] - 0s 10ms/step\n",
      "1/1 [==============================] - 0s 11ms/step\n",
      "1/1 [==============================] - 0s 10ms/step\n",
      "1/1 [==============================] - 0s 8ms/step\n",
      "1/1 [==============================] - 0s 9ms/step\n",
      "1/1 [==============================] - 0s 8ms/step\n",
      "1/1 [==============================] - 0s 11ms/step\n",
      "1/1 [==============================] - 0s 9ms/step\n",
      "1/1 [==============================] - 0s 18ms/step\n",
      "1/1 [==============================] - 0s 10ms/step\n",
      "1/1 [==============================] - 0s 9ms/step\n",
      "1/1 [==============================] - 0s 10ms/step\n",
      "1/1 [==============================] - 0s 12ms/step\n",
      "1/1 [==============================] - 0s 11ms/step\n",
      "1/1 [==============================] - 0s 10ms/step\n",
      "1/1 [==============================] - 0s 9ms/step\n",
      "1/1 [==============================] - 0s 8ms/step\n",
      "1/1 [==============================] - 0s 9ms/step\n",
      "1/1 [==============================] - 0s 8ms/step\n",
      "1/1 [==============================] - 0s 10ms/step\n",
      "1/1 [==============================] - 0s 12ms/step\n",
      "1/1 [==============================] - 0s 11ms/step\n",
      "1/1 [==============================] - 0s 11ms/step\n",
      "1/1 [==============================] - 0s 10ms/step\n",
      "1/1 [==============================] - 0s 12ms/step\n",
      "1/1 [==============================] - 0s 15ms/step\n",
      "1/1 [==============================] - 0s 15ms/step\n",
      "1/1 [==============================] - 0s 10ms/step\n",
      "1/1 [==============================] - 0s 8ms/step\n",
      "1/1 [==============================] - 0s 9ms/step\n",
      "1/1 [==============================] - 0s 8ms/step\n",
      "1/1 [==============================] - 0s 7ms/step\n",
      "1/1 [==============================] - 0s 9ms/step\n",
      "1/1 [==============================] - 0s 10ms/step\n",
      "1/1 [==============================] - 0s 9ms/step\n",
      "1/1 [==============================] - 0s 10ms/step\n",
      "1/1 [==============================] - 0s 9ms/step\n",
      "1/1 [==============================] - 0s 8ms/step\n",
      "1/1 [==============================] - 0s 9ms/step\n",
      "1/1 [==============================] - 0s 10ms/step\n",
      "1/1 [==============================] - 0s 11ms/step\n",
      "1/1 [==============================] - 0s 8ms/step\n",
      "1/1 [==============================] - 0s 10ms/step\n",
      "1/1 [==============================] - 0s 8ms/step\n",
      "1/1 [==============================] - 0s 8ms/step\n",
      "1/1 [==============================] - 0s 9ms/step\n",
      "1/1 [==============================] - 0s 9ms/step\n",
      "1/1 [==============================] - 0s 7ms/step\n",
      "1/1 [==============================] - 0s 9ms/step\n",
      "1/1 [==============================] - 0s 8ms/step\n",
      "1/1 [==============================] - 0s 7ms/step\n",
      "1/1 [==============================] - 0s 22ms/step\n",
      "1/1 [==============================] - 0s 10ms/step\n",
      "1/1 [==============================] - 0s 8ms/step\n",
      "1/1 [==============================] - 0s 8ms/step\n",
      "1/1 [==============================] - 0s 9ms/step\n",
      "1/1 [==============================] - 0s 10ms/step\n",
      "1/1 [==============================] - 0s 7ms/step\n",
      "1/1 [==============================] - 0s 9ms/step\n",
      "1/1 [==============================] - 0s 7ms/step\n",
      "1/1 [==============================] - 0s 9ms/step\n",
      "1/1 [==============================] - 0s 8ms/step\n",
      "1/1 [==============================] - 0s 8ms/step\n",
      "1/1 [==============================] - 0s 7ms/step\n",
      "1/1 [==============================] - 0s 10ms/step\n",
      "1/1 [==============================] - 0s 10ms/step\n",
      "1/1 [==============================] - 0s 9ms/step\n",
      "1/1 [==============================] - 0s 8ms/step\n",
      "1/1 [==============================] - 0s 9ms/step\n",
      "1/1 [==============================] - 0s 9ms/step\n",
      "1/1 [==============================] - 0s 11ms/step\n",
      "1/1 [==============================] - 0s 8ms/step\n",
      "1/1 [==============================] - 0s 8ms/step\n",
      "1/1 [==============================] - 0s 7ms/step\n",
      "1/1 [==============================] - 0s 9ms/step\n",
      "1/1 [==============================] - 0s 8ms/step\n",
      "1/1 [==============================] - 0s 9ms/step\n",
      "1/1 [==============================] - 0s 11ms/step\n",
      "1/1 [==============================] - 0s 11ms/step\n",
      "1/1 [==============================] - 0s 9ms/step\n",
      "1/1 [==============================] - 0s 10ms/step\n",
      "1/1 [==============================] - 0s 8ms/step\n",
      "1/1 [==============================] - 0s 9ms/step\n",
      "1/1 [==============================] - 0s 8ms/step\n",
      "1/1 [==============================] - 0s 8ms/step\n",
      "1/1 [==============================] - 0s 8ms/step\n",
      "1/1 [==============================] - 0s 9ms/step\n",
      "1/1 [==============================] - 0s 10ms/step\n",
      "1/1 [==============================] - 0s 7ms/step\n",
      "1/1 [==============================] - 0s 8ms/step\n",
      "1/1 [==============================] - 0s 8ms/step\n",
      "1/1 [==============================] - 0s 7ms/step\n",
      "1/1 [==============================] - 0s 9ms/step\n",
      "1/1 [==============================] - 0s 9ms/step\n",
      "1/1 [==============================] - 0s 8ms/step\n",
      "1/1 [==============================] - 0s 8ms/step\n",
      "1/1 [==============================] - 0s 8ms/step\n",
      "1/1 [==============================] - 0s 8ms/step\n",
      "1/1 [==============================] - 0s 9ms/step\n",
      "1/1 [==============================] - 0s 7ms/step\n",
      "1/1 [==============================] - 0s 7ms/step\n",
      "1/1 [==============================] - 0s 10ms/step\n",
      "1/1 [==============================] - 0s 13ms/step\n",
      "1/1 [==============================] - 0s 9ms/step\n",
      "1/1 [==============================] - 0s 7ms/step\n",
      "1/1 [==============================] - 0s 7ms/step\n",
      "1/1 [==============================] - 0s 9ms/step\n",
      "1/1 [==============================] - 0s 8ms/step\n",
      "1/1 [==============================] - 0s 7ms/step\n",
      "1/1 [==============================] - 0s 9ms/step\n",
      "1/1 [==============================] - 0s 9ms/step\n",
      "1/1 [==============================] - 0s 7ms/step\n",
      "1/1 [==============================] - 0s 9ms/step\n",
      "1/1 [==============================] - 0s 9ms/step\n",
      "1/1 [==============================] - 0s 8ms/step\n",
      "1/1 [==============================] - 0s 8ms/step\n",
      "1/1 [==============================] - 0s 7ms/step\n",
      "1/1 [==============================] - 0s 9ms/step\n",
      "1/1 [==============================] - 0s 9ms/step\n"
     ]
    },
    {
     "data": {
      "text/html": [
       "<div>\n",
       "<style scoped>\n",
       "    .dataframe tbody tr th:only-of-type {\n",
       "        vertical-align: middle;\n",
       "    }\n",
       "\n",
       "    .dataframe tbody tr th {\n",
       "        vertical-align: top;\n",
       "    }\n",
       "\n",
       "    .dataframe thead th {\n",
       "        text-align: right;\n",
       "    }\n",
       "</style>\n",
       "<table border=\"1\" class=\"dataframe\">\n",
       "  <thead>\n",
       "    <tr style=\"text-align: right;\">\n",
       "      <th></th>\n",
       "      <th>duration</th>\n",
       "      <th>credit</th>\n",
       "      <th>installment_percent</th>\n",
       "      <th>residence_duration</th>\n",
       "      <th>age</th>\n",
       "      <th>existing_credits</th>\n",
       "      <th>people_maintained</th>\n",
       "      <th>account_status_0..200 DM</th>\n",
       "      <th>account_status_&lt; 0 DM</th>\n",
       "      <th>account_status_&gt;= 200 DM</th>\n",
       "      <th>...</th>\n",
       "      <th>job_unskilled - resident</th>\n",
       "      <th>phone_none</th>\n",
       "      <th>phone_yes, registered under the customers name</th>\n",
       "      <th>foreign_no</th>\n",
       "      <th>foreign_yes</th>\n",
       "      <th>employment_1..4 years</th>\n",
       "      <th>employment_4..7 years</th>\n",
       "      <th>employment_&lt; 1 year</th>\n",
       "      <th>employment_&gt;= 7 years</th>\n",
       "      <th>employment_unemployed</th>\n",
       "    </tr>\n",
       "  </thead>\n",
       "  <tbody>\n",
       "    <tr>\n",
       "      <th>0</th>\n",
       "      <td>6.0</td>\n",
       "      <td>1169.0</td>\n",
       "      <td>4.0</td>\n",
       "      <td>4.0</td>\n",
       "      <td>67.0</td>\n",
       "      <td>2.0</td>\n",
       "      <td>1.0</td>\n",
       "      <td>0.0</td>\n",
       "      <td>1.0</td>\n",
       "      <td>0.0</td>\n",
       "      <td>...</td>\n",
       "      <td>0.0</td>\n",
       "      <td>0.0</td>\n",
       "      <td>1.0</td>\n",
       "      <td>0.0</td>\n",
       "      <td>1.0</td>\n",
       "      <td>0.0</td>\n",
       "      <td>0.0</td>\n",
       "      <td>0.0</td>\n",
       "      <td>1.0</td>\n",
       "      <td>0.0</td>\n",
       "    </tr>\n",
       "  </tbody>\n",
       "</table>\n",
       "<p>1 rows × 61 columns</p>\n",
       "</div>"
      ],
      "text/plain": [
       "   duration  credit  installment_percent  residence_duration   age  \\\n",
       "0       6.0  1169.0                  4.0                 4.0  67.0   \n",
       "\n",
       "   existing_credits  people_maintained  account_status_0..200 DM  \\\n",
       "0               2.0                1.0                       0.0   \n",
       "\n",
       "   account_status_< 0 DM  account_status_>= 200 DM  ...  \\\n",
       "0                    1.0                       0.0  ...   \n",
       "\n",
       "   job_unskilled - resident  phone_none  \\\n",
       "0                       0.0         0.0   \n",
       "\n",
       "   phone_yes, registered under the customers name  foreign_no  foreign_yes  \\\n",
       "0                                             1.0         0.0          1.0   \n",
       "\n",
       "   employment_1..4 years  employment_4..7 years  employment_< 1 year  \\\n",
       "0                    0.0                    0.0                  0.0   \n",
       "\n",
       "   employment_>= 7 years  employment_unemployed  \n",
       "0                    1.0                    0.0  \n",
       "\n",
       "[1 rows x 61 columns]"
      ]
     },
     "execution_count": 11,
     "metadata": {},
     "output_type": "execute_result"
    }
   ],
   "source": [
    "from modules.CFEC.cfec.explainers import Cadex \n",
    "\n",
    "cadex = Cadex(model, transform=german_data.scale, inverse_transform=german_data.unscale, n_changed=5)\n",
    "cf = cadex.generate(X_test)\n",
    "cf"
   ]
  },
  {
   "cell_type": "code",
   "execution_count": null,
   "id": "6c51c780",
   "metadata": {},
   "outputs": [],
   "source": [
    "model.predict(german_data.scale(cf))"
   ]
  },
  {
   "cell_type": "code",
   "execution_count": null,
   "id": "5727c62a",
   "metadata": {},
   "outputs": [],
   "source": [
    "from modules.CFEC.cfec.visualization import show\n",
    "show(X_test, cf)"
   ]
  },
  {
   "cell_type": "markdown",
   "id": "9ac99ba2",
   "metadata": {},
   "source": [
    "For CADEX we can also use constraints:"
   ]
  },
  {
   "cell_type": "code",
   "execution_count": null,
   "id": "4c762ec5",
   "metadata": {},
   "outputs": [],
   "source": [
    "cadex = Cadex(model, n_changed=10, transform=german_data.scale, inverse_transform=german_data.unscale, constraints=constraints)\n",
    "cf = cadex.generate(X_test)"
   ]
  },
  {
   "cell_type": "code",
   "execution_count": null,
   "id": "99379b05",
   "metadata": {},
   "outputs": [],
   "source": [
    "model.predict(german_data.scale(cf))"
   ]
  },
  {
   "cell_type": "code",
   "execution_count": null,
   "id": "939f4f50",
   "metadata": {},
   "outputs": [],
   "source": [
    "show(X_test, cf, constraints=constraints)"
   ]
  },
  {
   "cell_type": "markdown",
   "id": "6e943e51",
   "metadata": {},
   "source": [
    "### ECE \n",
    "We can use ECE to select the best counterfactuals - we'll run it using 10 explainers, 5 FIMAPs and 5 CADEXs with different parameter values. "
   ]
  },
  {
   "cell_type": "code",
   "execution_count": null,
   "id": "89f0a51c",
   "metadata": {
    "scrolled": true
   },
   "outputs": [],
   "source": [
    "fimaps = []\n",
    "fimap_hyperparameters = [\n",
    "    (0.1, 0.001, 0.01),\n",
    "    (0.1, 0.05, 0.5),\n",
    "    (0.2, 0.01, 0.1),\n",
    "    (0.2, 0.08, 0.8),\n",
    "    (0.5, 0.001, 0.01)\n",
    "]\n",
    "for tau, l1, l2 in fimap_hyperparameters:\n",
    "    fimap = Fimap(tau, l1, l2)\n",
    "    fimap.fit(german_data.X_train, model_predictions)\n",
    "    fimaps.append(fimap)\n",
    "    \n",
    "cadexs = []\n",
    "n_list = [5, 8, 10, 15, 20]\n",
    "for n_changed in n_list:\n",
    "    cadex = Cadex(model, n_changed, transform=german_data.scale, inverse_transform=german_data.unscale)\n",
    "    cadexs.append(cadex)"
   ]
  },
  {
   "cell_type": "markdown",
   "id": "ef7df397",
   "metadata": {},
   "source": [
    "Now, let's use ECE and generate up to 4 best counterfactuals:"
   ]
  },
  {
   "cell_type": "code",
   "execution_count": null,
   "id": "30c1429a",
   "metadata": {},
   "outputs": [],
   "source": [
    "from modules.CFEC.cfec.explainers import ECE\n",
    "from modules.CFEC.cfec.visualization import compare\n",
    "pd.set_option(\"display.max_rows\", None)\n",
    "\n",
    "ece = ECE(10, columns=list(german_data.X_train.columns), bces=cadexs + fimaps, dist=2, h=5, lambda_=0.001, n_jobs=1)\n",
    "cfs = ece.generate(X_test)"
   ]
  },
  {
   "cell_type": "markdown",
   "id": "fe05a0a7",
   "metadata": {},
   "source": [
    "First, let's see all 10 counterfactuals:"
   ]
  },
  {
   "cell_type": "code",
   "execution_count": null,
   "id": "b945f570",
   "metadata": {
    "scrolled": true
   },
   "outputs": [],
   "source": [
    "compare(X_test, ece.get_aggregated_cfs())"
   ]
  },
  {
   "cell_type": "markdown",
   "id": "d4e9dead",
   "metadata": {},
   "source": [
    "And now, those selected by ECE:"
   ]
  },
  {
   "cell_type": "code",
   "execution_count": null,
   "id": "9cec3583",
   "metadata": {
    "scrolled": true
   },
   "outputs": [],
   "source": [
    "compare(X_test, cfs)"
   ]
  },
  {
   "cell_type": "markdown",
   "id": "dcc76487",
   "metadata": {},
   "source": [
    "We can do the same with constraints:"
   ]
  },
  {
   "cell_type": "code",
   "execution_count": null,
   "id": "0d465c72",
   "metadata": {
    "scrolled": true
   },
   "outputs": [],
   "source": [
    "fimaps = []\n",
    "fimap_hyperparameters = [\n",
    "    (0.1, 0.001, 0.01),\n",
    "    (0.1, 0.05, 0.5),\n",
    "    (0.2, 0.01, 0.1),\n",
    "    (0.2, 0.08, 0.8),\n",
    "    (0.5, 0.001, 0.01)\n",
    "]\n",
    "for tau, l1, l2 in fimap_hyperparameters:\n",
    "    fimap = Fimap(tau, l1, l2, constraints=constraints, use_mapper=True)\n",
    "    fimap.fit(german_data.X_train, model_predictions)\n",
    "    fimaps.append(fimap)\n",
    "    \n",
    "cadexs = []\n",
    "n_list = [10, 14, 18, 20, 25]\n",
    "for n_changed in n_list:\n",
    "    cadex = Cadex(model, n_changed, transform=german_data.scale, inverse_transform=german_data.unscale, constraints=constraints)\n",
    "    cadexs.append(cadex)"
   ]
  },
  {
   "cell_type": "code",
   "execution_count": null,
   "id": "26e10fd9",
   "metadata": {},
   "outputs": [],
   "source": [
    "ece = ECE(4, columns=list(german_data.X_train.columns), bces=cadexs + fimaps, dist=2, h=5, lambda_=0.001, n_jobs=1)\n",
    "cfs = ece.generate(X_test)"
   ]
  },
  {
   "cell_type": "code",
   "execution_count": null,
   "id": "bf1dafbb",
   "metadata": {},
   "outputs": [],
   "source": [
    "compare(X_test, ece.get_aggregated_cfs(), constraints=constraints)"
   ]
  },
  {
   "cell_type": "code",
   "execution_count": null,
   "id": "7a7d1bc4",
   "metadata": {
    "scrolled": true
   },
   "outputs": [],
   "source": [
    "compare(X_test, cfs, constraints=constraints)"
   ]
  },
  {
   "cell_type": "markdown",
   "id": "b48b5ff4",
   "metadata": {},
   "source": [
    "For more information on the library, see our documentation: https://counterfactuals.readthedocs.io/en/latest/"
   ]
  }
 ],
 "metadata": {
  "kernelspec": {
   "display_name": "cf",
   "language": "python",
   "name": "python3"
  },
  "language_info": {
   "codemirror_mode": {
    "name": "ipython",
    "version": 3
   },
   "file_extension": ".py",
   "mimetype": "text/x-python",
   "name": "python",
   "nbconvert_exporter": "python",
   "pygments_lexer": "ipython3",
   "version": "3.10.0 | packaged by conda-forge | (default, Nov 10 2021, 13:20:59) [MSC v.1916 64 bit (AMD64)]"
  },
  "vscode": {
   "interpreter": {
    "hash": "81d0d6994cbc9a338f9a3d74dedf5823f97cddc544b8ee56d3ad85196f930114"
   }
  }
 },
 "nbformat": 4,
 "nbformat_minor": 5
}
