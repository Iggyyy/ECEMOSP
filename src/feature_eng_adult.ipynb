{
 "cells": [
  {
   "cell_type": "code",
   "execution_count": 36,
   "metadata": {},
   "outputs": [
    {
     "data": {
      "text/html": [
       "<div>\n",
       "<style scoped>\n",
       "    .dataframe tbody tr th:only-of-type {\n",
       "        vertical-align: middle;\n",
       "    }\n",
       "\n",
       "    .dataframe tbody tr th {\n",
       "        vertical-align: top;\n",
       "    }\n",
       "\n",
       "    .dataframe thead th {\n",
       "        text-align: right;\n",
       "    }\n",
       "</style>\n",
       "<table border=\"1\" class=\"dataframe\">\n",
       "  <thead>\n",
       "    <tr style=\"text-align: right;\">\n",
       "      <th></th>\n",
       "      <th>age</th>\n",
       "      <th>workclass</th>\n",
       "      <th>fnlwgt</th>\n",
       "      <th>education</th>\n",
       "      <th>education.num</th>\n",
       "      <th>marital.status</th>\n",
       "      <th>occupation</th>\n",
       "      <th>relationship</th>\n",
       "      <th>race</th>\n",
       "      <th>sex</th>\n",
       "      <th>capital.gain</th>\n",
       "      <th>capital.loss</th>\n",
       "      <th>hours.per.week</th>\n",
       "      <th>native.country</th>\n",
       "      <th>income</th>\n",
       "    </tr>\n",
       "  </thead>\n",
       "  <tbody>\n",
       "    <tr>\n",
       "      <th>0</th>\n",
       "      <td>90</td>\n",
       "      <td>?</td>\n",
       "      <td>77053</td>\n",
       "      <td>HS-grad</td>\n",
       "      <td>9</td>\n",
       "      <td>Widowed</td>\n",
       "      <td>?</td>\n",
       "      <td>Not-in-family</td>\n",
       "      <td>White</td>\n",
       "      <td>Female</td>\n",
       "      <td>0</td>\n",
       "      <td>4356</td>\n",
       "      <td>40</td>\n",
       "      <td>United-States</td>\n",
       "      <td>&lt;=50K</td>\n",
       "    </tr>\n",
       "    <tr>\n",
       "      <th>1</th>\n",
       "      <td>82</td>\n",
       "      <td>Private</td>\n",
       "      <td>132870</td>\n",
       "      <td>HS-grad</td>\n",
       "      <td>9</td>\n",
       "      <td>Widowed</td>\n",
       "      <td>Exec-managerial</td>\n",
       "      <td>Not-in-family</td>\n",
       "      <td>White</td>\n",
       "      <td>Female</td>\n",
       "      <td>0</td>\n",
       "      <td>4356</td>\n",
       "      <td>18</td>\n",
       "      <td>United-States</td>\n",
       "      <td>&lt;=50K</td>\n",
       "    </tr>\n",
       "    <tr>\n",
       "      <th>2</th>\n",
       "      <td>66</td>\n",
       "      <td>?</td>\n",
       "      <td>186061</td>\n",
       "      <td>Some-college</td>\n",
       "      <td>10</td>\n",
       "      <td>Widowed</td>\n",
       "      <td>?</td>\n",
       "      <td>Unmarried</td>\n",
       "      <td>Black</td>\n",
       "      <td>Female</td>\n",
       "      <td>0</td>\n",
       "      <td>4356</td>\n",
       "      <td>40</td>\n",
       "      <td>United-States</td>\n",
       "      <td>&lt;=50K</td>\n",
       "    </tr>\n",
       "    <tr>\n",
       "      <th>3</th>\n",
       "      <td>54</td>\n",
       "      <td>Private</td>\n",
       "      <td>140359</td>\n",
       "      <td>7th-8th</td>\n",
       "      <td>4</td>\n",
       "      <td>Divorced</td>\n",
       "      <td>Machine-op-inspct</td>\n",
       "      <td>Unmarried</td>\n",
       "      <td>White</td>\n",
       "      <td>Female</td>\n",
       "      <td>0</td>\n",
       "      <td>3900</td>\n",
       "      <td>40</td>\n",
       "      <td>United-States</td>\n",
       "      <td>&lt;=50K</td>\n",
       "    </tr>\n",
       "    <tr>\n",
       "      <th>4</th>\n",
       "      <td>41</td>\n",
       "      <td>Private</td>\n",
       "      <td>264663</td>\n",
       "      <td>Some-college</td>\n",
       "      <td>10</td>\n",
       "      <td>Separated</td>\n",
       "      <td>Prof-specialty</td>\n",
       "      <td>Own-child</td>\n",
       "      <td>White</td>\n",
       "      <td>Female</td>\n",
       "      <td>0</td>\n",
       "      <td>3900</td>\n",
       "      <td>40</td>\n",
       "      <td>United-States</td>\n",
       "      <td>&lt;=50K</td>\n",
       "    </tr>\n",
       "  </tbody>\n",
       "</table>\n",
       "</div>"
      ],
      "text/plain": [
       "   age workclass  fnlwgt     education  education.num marital.status  \\\n",
       "0   90         ?   77053       HS-grad              9        Widowed   \n",
       "1   82   Private  132870       HS-grad              9        Widowed   \n",
       "2   66         ?  186061  Some-college             10        Widowed   \n",
       "3   54   Private  140359       7th-8th              4       Divorced   \n",
       "4   41   Private  264663  Some-college             10      Separated   \n",
       "\n",
       "          occupation   relationship   race     sex  capital.gain  \\\n",
       "0                  ?  Not-in-family  White  Female             0   \n",
       "1    Exec-managerial  Not-in-family  White  Female             0   \n",
       "2                  ?      Unmarried  Black  Female             0   \n",
       "3  Machine-op-inspct      Unmarried  White  Female             0   \n",
       "4     Prof-specialty      Own-child  White  Female             0   \n",
       "\n",
       "   capital.loss  hours.per.week native.country income  \n",
       "0          4356              40  United-States  <=50K  \n",
       "1          4356              18  United-States  <=50K  \n",
       "2          4356              40  United-States  <=50K  \n",
       "3          3900              40  United-States  <=50K  \n",
       "4          3900              40  United-States  <=50K  "
      ]
     },
     "execution_count": 36,
     "metadata": {},
     "output_type": "execute_result"
    }
   ],
   "source": [
    "import numpy as np\n",
    "import pandas as pd\n",
    "from collections import defaultdict\n",
    "\n",
    "raw_df = pd.read_csv('../data/adult.csv')\n",
    "prep_df = pd.DataFrame(columns=raw_df.columns)\n",
    "categorical_columns = []\n",
    "to_concat = []\n",
    "constraints_dict = defaultdict(lambda: list())\n",
    "raw_df.head(5)"
   ]
  },
  {
   "cell_type": "code",
   "execution_count": 37,
   "metadata": {},
   "outputs": [
    {
     "name": "stdout",
     "output_type": "stream",
     "text": [
      "<class 'pandas.core.frame.DataFrame'>\n",
      "RangeIndex: 32561 entries, 0 to 32560\n",
      "Data columns (total 15 columns):\n",
      " #   Column          Non-Null Count  Dtype \n",
      "---  ------          --------------  ----- \n",
      " 0   age             32561 non-null  int64 \n",
      " 1   workclass       32561 non-null  object\n",
      " 2   fnlwgt          32561 non-null  int64 \n",
      " 3   education       32561 non-null  object\n",
      " 4   education.num   32561 non-null  int64 \n",
      " 5   marital.status  32561 non-null  object\n",
      " 6   occupation      32561 non-null  object\n",
      " 7   relationship    32561 non-null  object\n",
      " 8   race            32561 non-null  object\n",
      " 9   sex             32561 non-null  object\n",
      " 10  capital.gain    32561 non-null  int64 \n",
      " 11  capital.loss    32561 non-null  int64 \n",
      " 12  hours.per.week  32561 non-null  int64 \n",
      " 13  native.country  32561 non-null  object\n",
      " 14  income          32561 non-null  object\n",
      "dtypes: int64(6), object(9)\n",
      "memory usage: 3.7+ MB\n"
     ]
    }
   ],
   "source": [
    "raw_df.info()"
   ]
  },
  {
   "attachments": {},
   "cell_type": "markdown",
   "metadata": {},
   "source": [
    "AGE"
   ]
  },
  {
   "cell_type": "code",
   "execution_count": 38,
   "metadata": {},
   "outputs": [
    {
     "data": {
      "text/plain": [
       "count    32561.000000\n",
       "mean        38.581647\n",
       "std         13.640433\n",
       "min         17.000000\n",
       "25%         28.000000\n",
       "50%         37.000000\n",
       "75%         48.000000\n",
       "max         90.000000\n",
       "Name: age, dtype: float64"
      ]
     },
     "execution_count": 38,
     "metadata": {},
     "output_type": "execute_result"
    }
   ],
   "source": [
    "raw_df['age'].describe()"
   ]
  },
  {
   "cell_type": "code",
   "execution_count": 39,
   "metadata": {},
   "outputs": [],
   "source": [
    "to_concat.append(raw_df['age'].to_frame())\n",
    "constraints_dict['age'].append('non-negative')"
   ]
  },
  {
   "attachments": {},
   "cell_type": "markdown",
   "metadata": {},
   "source": [
    "WORKCLASS"
   ]
  },
  {
   "cell_type": "code",
   "execution_count": 40,
   "metadata": {},
   "outputs": [
    {
     "data": {
      "text/plain": [
       "count       32561\n",
       "unique          9\n",
       "top       Private\n",
       "freq        22696\n",
       "Name: workclass, dtype: object"
      ]
     },
     "execution_count": 40,
     "metadata": {},
     "output_type": "execute_result"
    }
   ],
   "source": [
    "raw_df['workclass'].describe()"
   ]
  },
  {
   "cell_type": "code",
   "execution_count": 41,
   "metadata": {},
   "outputs": [
    {
     "data": {
      "text/plain": [
       "array(['?', 'Private', 'State-gov', 'Federal-gov', 'Self-emp-not-inc',\n",
       "       'Self-emp-inc', 'Local-gov', 'Without-pay', 'Never-worked'],\n",
       "      dtype=object)"
      ]
     },
     "execution_count": 41,
     "metadata": {},
     "output_type": "execute_result"
    }
   ],
   "source": [
    "categorical_columns.append('workclass')\n",
    "raw_df['workclass'].unique()"
   ]
  },
  {
   "cell_type": "code",
   "execution_count": 42,
   "metadata": {},
   "outputs": [],
   "source": [
    "raw_df['workclass'].replace('?', 'Unknown_workclass', inplace=True)"
   ]
  },
  {
   "attachments": {},
   "cell_type": "markdown",
   "metadata": {},
   "source": [
    "FNLWGT (excluded - weighting factor)"
   ]
  },
  {
   "cell_type": "code",
   "execution_count": 43,
   "metadata": {},
   "outputs": [
    {
     "data": {
      "text/plain": [
       "count    3.256100e+04\n",
       "mean     1.897784e+05\n",
       "std      1.055500e+05\n",
       "min      1.228500e+04\n",
       "25%      1.178270e+05\n",
       "50%      1.783560e+05\n",
       "75%      2.370510e+05\n",
       "max      1.484705e+06\n",
       "Name: fnlwgt, dtype: float64"
      ]
     },
     "execution_count": 43,
     "metadata": {},
     "output_type": "execute_result"
    }
   ],
   "source": [
    "raw_df['fnlwgt'].describe()"
   ]
  },
  {
   "attachments": {},
   "cell_type": "markdown",
   "metadata": {},
   "source": [
    "Education (excluded because number of education years are enough)"
   ]
  },
  {
   "cell_type": "code",
   "execution_count": 44,
   "metadata": {},
   "outputs": [
    {
     "name": "stdout",
     "output_type": "stream",
     "text": [
      "['HS-grad' 'Some-college' '7th-8th' '10th' 'Doctorate' 'Prof-school'\n",
      " 'Bachelors' 'Masters' '11th' 'Assoc-acdm' 'Assoc-voc' '1st-4th' '5th-6th'\n",
      " '12th' '9th' 'Preschool']\n"
     ]
    },
    {
     "data": {
      "text/plain": [
       "count       32561\n",
       "unique         16\n",
       "top       HS-grad\n",
       "freq        10501\n",
       "Name: education, dtype: object"
      ]
     },
     "execution_count": 44,
     "metadata": {},
     "output_type": "execute_result"
    }
   ],
   "source": [
    "print(raw_df['education'].unique())\n",
    "raw_df['education'].describe()"
   ]
  },
  {
   "cell_type": "code",
   "execution_count": 45,
   "metadata": {},
   "outputs": [],
   "source": [
    "# education_one_hot = pd.get_dummies(raw_df['education'])\n",
    "# to_concat.append(education_one_hot)\n",
    "\n",
    "# # Add constraints for columns\n",
    "# for column in education_one_hot.columns:\n",
    "#     constraints_dict[column].append('onehot')\n",
    "    \n",
    "# education_one_hot"
   ]
  },
  {
   "attachments": {},
   "cell_type": "markdown",
   "metadata": {},
   "source": [
    "Education num"
   ]
  },
  {
   "cell_type": "code",
   "execution_count": 46,
   "metadata": {},
   "outputs": [],
   "source": [
    "raw_df['education.num'].describe()\n",
    "to_concat.append(raw_df['education.num'].to_frame())\n",
    "constraints_dict['education.num'].append('non-negative')"
   ]
  },
  {
   "attachments": {},
   "cell_type": "markdown",
   "metadata": {},
   "source": [
    "Martial status"
   ]
  },
  {
   "cell_type": "code",
   "execution_count": 47,
   "metadata": {},
   "outputs": [
    {
     "name": "stdout",
     "output_type": "stream",
     "text": [
      "['Widowed' 'Divorced' 'Separated' 'Never-married' 'Married-civ-spouse'\n",
      " 'Married-spouse-absent' 'Married-AF-spouse']\n"
     ]
    },
    {
     "data": {
      "text/plain": [
       "count                  32561\n",
       "unique                     7\n",
       "top       Married-civ-spouse\n",
       "freq                   14976\n",
       "Name: marital.status, dtype: object"
      ]
     },
     "execution_count": 47,
     "metadata": {},
     "output_type": "execute_result"
    }
   ],
   "source": [
    "print(raw_df['marital.status'].unique())\n",
    "raw_df['marital.status'].describe()"
   ]
  },
  {
   "cell_type": "code",
   "execution_count": 48,
   "metadata": {},
   "outputs": [],
   "source": [
    "categorical_columns.append('marital.status')\n",
    "constraints_dict['marital.status'].append('onehot')"
   ]
  },
  {
   "attachments": {},
   "cell_type": "markdown",
   "metadata": {},
   "source": [
    "Occupation"
   ]
  },
  {
   "cell_type": "code",
   "execution_count": 49,
   "metadata": {},
   "outputs": [
    {
     "name": "stdout",
     "output_type": "stream",
     "text": [
      "['?' 'Exec-managerial' 'Machine-op-inspct' 'Prof-specialty'\n",
      " 'Other-service' 'Adm-clerical' 'Craft-repair' 'Transport-moving'\n",
      " 'Handlers-cleaners' 'Sales' 'Farming-fishing' 'Tech-support'\n",
      " 'Protective-serv' 'Armed-Forces' 'Priv-house-serv']\n"
     ]
    },
    {
     "data": {
      "text/plain": [
       "count              32561\n",
       "unique                15\n",
       "top       Prof-specialty\n",
       "freq                4140\n",
       "Name: occupation, dtype: object"
      ]
     },
     "execution_count": 49,
     "metadata": {},
     "output_type": "execute_result"
    }
   ],
   "source": [
    "print(raw_df['occupation'].unique())\n",
    "raw_df['occupation'].describe()"
   ]
  },
  {
   "cell_type": "code",
   "execution_count": 50,
   "metadata": {},
   "outputs": [],
   "source": [
    "raw_df['occupation'].replace('?', 'Unknown_occupation', inplace=True)"
   ]
  },
  {
   "cell_type": "code",
   "execution_count": 51,
   "metadata": {},
   "outputs": [],
   "source": [
    "categorical_columns.append('occupation')\n",
    "constraints_dict['occupation'].append('onehot')"
   ]
  },
  {
   "attachments": {},
   "cell_type": "markdown",
   "metadata": {},
   "source": [
    "Relationship (excluded can be inferred from gender and martial status)"
   ]
  },
  {
   "cell_type": "code",
   "execution_count": 52,
   "metadata": {},
   "outputs": [
    {
     "name": "stdout",
     "output_type": "stream",
     "text": [
      "['Not-in-family' 'Unmarried' 'Own-child' 'Other-relative' 'Husband' 'Wife']\n"
     ]
    },
    {
     "data": {
      "text/plain": [
       "count       32561\n",
       "unique          6\n",
       "top       Husband\n",
       "freq        13193\n",
       "Name: relationship, dtype: object"
      ]
     },
     "execution_count": 52,
     "metadata": {},
     "output_type": "execute_result"
    }
   ],
   "source": [
    "print(raw_df['relationship'].unique())\n",
    "raw_df['relationship'].describe()"
   ]
  },
  {
   "attachments": {},
   "cell_type": "markdown",
   "metadata": {},
   "source": [
    "Race"
   ]
  },
  {
   "cell_type": "code",
   "execution_count": 53,
   "metadata": {},
   "outputs": [
    {
     "name": "stdout",
     "output_type": "stream",
     "text": [
      "['White' 'Black' 'Asian-Pac-Islander' 'Other' 'Amer-Indian-Eskimo']\n"
     ]
    },
    {
     "data": {
      "text/plain": [
       "count     32561\n",
       "unique        5\n",
       "top       White\n",
       "freq      27816\n",
       "Name: race, dtype: object"
      ]
     },
     "execution_count": 53,
     "metadata": {},
     "output_type": "execute_result"
    }
   ],
   "source": [
    "print(raw_df['race'].unique())\n",
    "raw_df['race'].describe()"
   ]
  },
  {
   "cell_type": "code",
   "execution_count": 54,
   "metadata": {},
   "outputs": [],
   "source": [
    "categorical_columns.append('race')\n",
    "constraints_dict['race'].append('onehot')\n",
    "constraints_dict['race'].append('non-actionable')"
   ]
  },
  {
   "attachments": {},
   "cell_type": "markdown",
   "metadata": {},
   "source": [
    "Sex"
   ]
  },
  {
   "cell_type": "code",
   "execution_count": 55,
   "metadata": {},
   "outputs": [
    {
     "name": "stdout",
     "output_type": "stream",
     "text": [
      "['Female' 'Male']\n"
     ]
    },
    {
     "data": {
      "text/plain": [
       "count     32561\n",
       "unique        2\n",
       "top        Male\n",
       "freq      21790\n",
       "Name: sex, dtype: object"
      ]
     },
     "execution_count": 55,
     "metadata": {},
     "output_type": "execute_result"
    }
   ],
   "source": [
    "print(raw_df['sex'].unique())\n",
    "raw_df['sex'].describe()"
   ]
  },
  {
   "cell_type": "code",
   "execution_count": 56,
   "metadata": {},
   "outputs": [],
   "source": [
    "categorical_columns.append('sex')\n",
    "constraints_dict['sex'].append('onehot')\n",
    "constraints_dict['sex'].append('non-actionable')"
   ]
  },
  {
   "attachments": {},
   "cell_type": "markdown",
   "metadata": {},
   "source": [
    "capital.gain"
   ]
  },
  {
   "cell_type": "code",
   "execution_count": 57,
   "metadata": {},
   "outputs": [
    {
     "data": {
      "text/plain": [
       "count    32561.000000\n",
       "mean      1077.648844\n",
       "std       7385.292085\n",
       "min          0.000000\n",
       "25%          0.000000\n",
       "50%          0.000000\n",
       "75%          0.000000\n",
       "max      99999.000000\n",
       "Name: capital.gain, dtype: float64"
      ]
     },
     "execution_count": 57,
     "metadata": {},
     "output_type": "execute_result"
    }
   ],
   "source": [
    "raw_df['capital.gain'].describe()"
   ]
  },
  {
   "cell_type": "code",
   "execution_count": 58,
   "metadata": {},
   "outputs": [],
   "source": [
    "to_concat.append(raw_df['capital.gain'].to_frame())\n",
    "constraints_dict['capital.gain'].append('non-negative')"
   ]
  },
  {
   "attachments": {},
   "cell_type": "markdown",
   "metadata": {},
   "source": [
    "capital.loss"
   ]
  },
  {
   "cell_type": "code",
   "execution_count": 59,
   "metadata": {},
   "outputs": [
    {
     "data": {
      "text/plain": [
       "count    32561.000000\n",
       "mean        87.303830\n",
       "std        402.960219\n",
       "min          0.000000\n",
       "25%          0.000000\n",
       "50%          0.000000\n",
       "75%          0.000000\n",
       "max       4356.000000\n",
       "Name: capital.loss, dtype: float64"
      ]
     },
     "execution_count": 59,
     "metadata": {},
     "output_type": "execute_result"
    }
   ],
   "source": [
    "raw_df['capital.loss'].describe()"
   ]
  },
  {
   "cell_type": "code",
   "execution_count": 60,
   "metadata": {},
   "outputs": [],
   "source": [
    "to_concat.append(raw_df['capital.loss'].to_frame())\n",
    "constraints_dict['capital.loss'].append('non-negative')"
   ]
  },
  {
   "attachments": {},
   "cell_type": "markdown",
   "metadata": {},
   "source": [
    "hours.per.week"
   ]
  },
  {
   "cell_type": "code",
   "execution_count": 61,
   "metadata": {},
   "outputs": [
    {
     "data": {
      "text/plain": [
       "count    32561.000000\n",
       "mean        40.437456\n",
       "std         12.347429\n",
       "min          1.000000\n",
       "25%         40.000000\n",
       "50%         40.000000\n",
       "75%         45.000000\n",
       "max         99.000000\n",
       "Name: hours.per.week, dtype: float64"
      ]
     },
     "execution_count": 61,
     "metadata": {},
     "output_type": "execute_result"
    }
   ],
   "source": [
    "raw_df['hours.per.week'].describe()"
   ]
  },
  {
   "cell_type": "code",
   "execution_count": 62,
   "metadata": {},
   "outputs": [],
   "source": [
    "to_concat.append(raw_df['hours.per.week'].to_frame())\n",
    "constraints_dict['hours.per.week'].append('non-negative')"
   ]
  },
  {
   "attachments": {},
   "cell_type": "markdown",
   "metadata": {},
   "source": [
    "native.country"
   ]
  },
  {
   "cell_type": "code",
   "execution_count": 63,
   "metadata": {},
   "outputs": [],
   "source": [
    "raw_df['native.country'].replace('?', 'Unknown_country', inplace=True)"
   ]
  },
  {
   "cell_type": "code",
   "execution_count": 64,
   "metadata": {},
   "outputs": [],
   "source": [
    "raw_df['native.country'].describe()\n",
    "constraints_dict['native.country'].append('non-actionable')\n",
    "categorical_columns.append('native.country')"
   ]
  },
  {
   "attachments": {},
   "cell_type": "markdown",
   "metadata": {},
   "source": [
    "income"
   ]
  },
  {
   "cell_type": "code",
   "execution_count": 65,
   "metadata": {},
   "outputs": [
    {
     "data": {
      "text/plain": [
       "array(['<=50K', '>50K'], dtype=object)"
      ]
     },
     "execution_count": 65,
     "metadata": {},
     "output_type": "execute_result"
    }
   ],
   "source": [
    "raw_df['income'].describe()\n",
    "raw_df['income'].unique()"
   ]
  },
  {
   "cell_type": "code",
   "execution_count": 66,
   "metadata": {},
   "outputs": [],
   "source": [
    "# categorical_columns.append('income')\n",
    "# constraints_dict['income'].append('onehot')\n",
    "to_concat.append(raw_df['income'].to_frame())"
   ]
  },
  {
   "attachments": {},
   "cell_type": "markdown",
   "metadata": {},
   "source": [
    "CONCAT"
   ]
  },
  {
   "cell_type": "code",
   "execution_count": 74,
   "metadata": {},
   "outputs": [],
   "source": [
    "constraints_on_features = defaultdict(lambda: list())\n",
    "categorical_columns_final = []\n",
    "\n",
    "for feature in categorical_columns:\n",
    "    dummies = pd.get_dummies(raw_df[feature])\n",
    "    categorical_columns_final += dummies.columns.tolist()\n",
    "    to_concat.append(dummies)\n",
    "\n",
    "    # Add constraints for columns\n",
    "    for column in dummies.columns:\n",
    "        constraints_on_features[column].append('onehot')\n",
    "\n",
    "        if 'non-actionable' in constraints_dict[feature]:\n",
    "            constraints_on_features[column].append('non-actionable')"
   ]
  },
  {
   "cell_type": "code",
   "execution_count": 68,
   "metadata": {},
   "outputs": [
    {
     "data": {
      "text/plain": [
       "Index(['age', 'education.num', 'capital.gain', 'capital.loss',\n",
       "       'hours.per.week', 'income', 'Federal-gov', 'Local-gov', 'Never-worked',\n",
       "       'Private', 'Self-emp-inc', 'Self-emp-not-inc', 'State-gov',\n",
       "       'Unknown_workclass', 'Without-pay', 'Divorced', 'Married-AF-spouse',\n",
       "       'Married-civ-spouse', 'Married-spouse-absent', 'Never-married',\n",
       "       'Separated', 'Widowed', 'Adm-clerical', 'Armed-Forces', 'Craft-repair',\n",
       "       'Exec-managerial', 'Farming-fishing', 'Handlers-cleaners',\n",
       "       'Machine-op-inspct', 'Other-service', 'Priv-house-serv',\n",
       "       'Prof-specialty', 'Protective-serv', 'Sales', 'Tech-support',\n",
       "       'Transport-moving', 'Unknown_occupation', 'Amer-Indian-Eskimo',\n",
       "       'Asian-Pac-Islander', 'Black', 'Other', 'White', 'Female', 'Male',\n",
       "       'Cambodia', 'Canada', 'China', 'Columbia', 'Cuba', 'Dominican-Republic',\n",
       "       'Ecuador', 'El-Salvador', 'England', 'France', 'Germany', 'Greece',\n",
       "       'Guatemala', 'Haiti', 'Holand-Netherlands', 'Honduras', 'Hong',\n",
       "       'Hungary', 'India', 'Iran', 'Ireland', 'Italy', 'Jamaica', 'Japan',\n",
       "       'Laos', 'Mexico', 'Nicaragua', 'Outlying-US(Guam-USVI-etc)', 'Peru',\n",
       "       'Philippines', 'Poland', 'Portugal', 'Puerto-Rico', 'Scotland', 'South',\n",
       "       'Taiwan', 'Thailand', 'Trinadad&Tobago', 'United-States',\n",
       "       'Unknown_country', 'Vietnam', 'Yugoslavia'],\n",
       "      dtype='object')"
      ]
     },
     "execution_count": 68,
     "metadata": {},
     "output_type": "execute_result"
    }
   ],
   "source": [
    "final_df = pd.concat(to_concat, axis=1)\n",
    "final_df.columns"
   ]
  },
  {
   "cell_type": "code",
   "execution_count": 69,
   "metadata": {},
   "outputs": [
    {
     "name": "stdout",
     "output_type": "stream",
     "text": [
      "<class 'pandas.core.frame.DataFrame'>\n",
      "RangeIndex: 32561 entries, 0 to 32560\n",
      "Data columns (total 86 columns):\n",
      " #   Column                      Non-Null Count  Dtype \n",
      "---  ------                      --------------  ----- \n",
      " 0   age                         32561 non-null  int64 \n",
      " 1   education.num               32561 non-null  int64 \n",
      " 2   capital.gain                32561 non-null  int64 \n",
      " 3   capital.loss                32561 non-null  int64 \n",
      " 4   hours.per.week              32561 non-null  int64 \n",
      " 5   income                      32561 non-null  object\n",
      " 6   Federal-gov                 32561 non-null  uint8 \n",
      " 7   Local-gov                   32561 non-null  uint8 \n",
      " 8   Never-worked                32561 non-null  uint8 \n",
      " 9   Private                     32561 non-null  uint8 \n",
      " 10  Self-emp-inc                32561 non-null  uint8 \n",
      " 11  Self-emp-not-inc            32561 non-null  uint8 \n",
      " 12  State-gov                   32561 non-null  uint8 \n",
      " 13  Unknown_workclass           32561 non-null  uint8 \n",
      " 14  Without-pay                 32561 non-null  uint8 \n",
      " 15  Divorced                    32561 non-null  uint8 \n",
      " 16  Married-AF-spouse           32561 non-null  uint8 \n",
      " 17  Married-civ-spouse          32561 non-null  uint8 \n",
      " 18  Married-spouse-absent       32561 non-null  uint8 \n",
      " 19  Never-married               32561 non-null  uint8 \n",
      " 20  Separated                   32561 non-null  uint8 \n",
      " 21  Widowed                     32561 non-null  uint8 \n",
      " 22  Adm-clerical                32561 non-null  uint8 \n",
      " 23  Armed-Forces                32561 non-null  uint8 \n",
      " 24  Craft-repair                32561 non-null  uint8 \n",
      " 25  Exec-managerial             32561 non-null  uint8 \n",
      " 26  Farming-fishing             32561 non-null  uint8 \n",
      " 27  Handlers-cleaners           32561 non-null  uint8 \n",
      " 28  Machine-op-inspct           32561 non-null  uint8 \n",
      " 29  Other-service               32561 non-null  uint8 \n",
      " 30  Priv-house-serv             32561 non-null  uint8 \n",
      " 31  Prof-specialty              32561 non-null  uint8 \n",
      " 32  Protective-serv             32561 non-null  uint8 \n",
      " 33  Sales                       32561 non-null  uint8 \n",
      " 34  Tech-support                32561 non-null  uint8 \n",
      " 35  Transport-moving            32561 non-null  uint8 \n",
      " 36  Unknown_occupation          32561 non-null  uint8 \n",
      " 37  Amer-Indian-Eskimo          32561 non-null  uint8 \n",
      " 38  Asian-Pac-Islander          32561 non-null  uint8 \n",
      " 39  Black                       32561 non-null  uint8 \n",
      " 40  Other                       32561 non-null  uint8 \n",
      " 41  White                       32561 non-null  uint8 \n",
      " 42  Female                      32561 non-null  uint8 \n",
      " 43  Male                        32561 non-null  uint8 \n",
      " 44  Cambodia                    32561 non-null  uint8 \n",
      " 45  Canada                      32561 non-null  uint8 \n",
      " 46  China                       32561 non-null  uint8 \n",
      " 47  Columbia                    32561 non-null  uint8 \n",
      " 48  Cuba                        32561 non-null  uint8 \n",
      " 49  Dominican-Republic          32561 non-null  uint8 \n",
      " 50  Ecuador                     32561 non-null  uint8 \n",
      " 51  El-Salvador                 32561 non-null  uint8 \n",
      " 52  England                     32561 non-null  uint8 \n",
      " 53  France                      32561 non-null  uint8 \n",
      " 54  Germany                     32561 non-null  uint8 \n",
      " 55  Greece                      32561 non-null  uint8 \n",
      " 56  Guatemala                   32561 non-null  uint8 \n",
      " 57  Haiti                       32561 non-null  uint8 \n",
      " 58  Holand-Netherlands          32561 non-null  uint8 \n",
      " 59  Honduras                    32561 non-null  uint8 \n",
      " 60  Hong                        32561 non-null  uint8 \n",
      " 61  Hungary                     32561 non-null  uint8 \n",
      " 62  India                       32561 non-null  uint8 \n",
      " 63  Iran                        32561 non-null  uint8 \n",
      " 64  Ireland                     32561 non-null  uint8 \n",
      " 65  Italy                       32561 non-null  uint8 \n",
      " 66  Jamaica                     32561 non-null  uint8 \n",
      " 67  Japan                       32561 non-null  uint8 \n",
      " 68  Laos                        32561 non-null  uint8 \n",
      " 69  Mexico                      32561 non-null  uint8 \n",
      " 70  Nicaragua                   32561 non-null  uint8 \n",
      " 71  Outlying-US(Guam-USVI-etc)  32561 non-null  uint8 \n",
      " 72  Peru                        32561 non-null  uint8 \n",
      " 73  Philippines                 32561 non-null  uint8 \n",
      " 74  Poland                      32561 non-null  uint8 \n",
      " 75  Portugal                    32561 non-null  uint8 \n",
      " 76  Puerto-Rico                 32561 non-null  uint8 \n",
      " 77  Scotland                    32561 non-null  uint8 \n",
      " 78  South                       32561 non-null  uint8 \n",
      " 79  Taiwan                      32561 non-null  uint8 \n",
      " 80  Thailand                    32561 non-null  uint8 \n",
      " 81  Trinadad&Tobago             32561 non-null  uint8 \n",
      " 82  United-States               32561 non-null  uint8 \n",
      " 83  Unknown_country             32561 non-null  uint8 \n",
      " 84  Vietnam                     32561 non-null  uint8 \n",
      " 85  Yugoslavia                  32561 non-null  uint8 \n",
      "dtypes: int64(5), object(1), uint8(80)\n",
      "memory usage: 4.0+ MB\n"
     ]
    }
   ],
   "source": [
    "final_df.info()"
   ]
  },
  {
   "cell_type": "code",
   "execution_count": 86,
   "metadata": {},
   "outputs": [],
   "source": [
    "import json\n",
    "columns_order = list((set(final_df.columns) - set(categorical_columns_final) - set(['income']))) + categorical_columns_final + ['income']\n",
    "\n",
    "\n",
    "with open('../data/adult_constraints.json', 'w') as f:\n",
    "    constraints_on_features['features_order'] = columns_order\n",
    "    json.dump(constraints_on_features, f)"
   ]
  },
  {
   "cell_type": "code",
   "execution_count": 87,
   "metadata": {},
   "outputs": [
    {
     "data": {
      "text/html": [
       "<div>\n",
       "<style scoped>\n",
       "    .dataframe tbody tr th:only-of-type {\n",
       "        vertical-align: middle;\n",
       "    }\n",
       "\n",
       "    .dataframe tbody tr th {\n",
       "        vertical-align: top;\n",
       "    }\n",
       "\n",
       "    .dataframe thead th {\n",
       "        text-align: right;\n",
       "    }\n",
       "</style>\n",
       "<table border=\"1\" class=\"dataframe\">\n",
       "  <thead>\n",
       "    <tr style=\"text-align: right;\">\n",
       "      <th></th>\n",
       "      <th>age</th>\n",
       "      <th>capital.loss</th>\n",
       "      <th>education.num</th>\n",
       "      <th>capital.gain</th>\n",
       "      <th>hours.per.week</th>\n",
       "      <th>Federal-gov</th>\n",
       "      <th>Local-gov</th>\n",
       "      <th>Never-worked</th>\n",
       "      <th>Private</th>\n",
       "      <th>Self-emp-inc</th>\n",
       "      <th>...</th>\n",
       "      <th>Scotland</th>\n",
       "      <th>South</th>\n",
       "      <th>Taiwan</th>\n",
       "      <th>Thailand</th>\n",
       "      <th>Trinadad&amp;Tobago</th>\n",
       "      <th>United-States</th>\n",
       "      <th>Unknown_country</th>\n",
       "      <th>Vietnam</th>\n",
       "      <th>Yugoslavia</th>\n",
       "      <th>income</th>\n",
       "    </tr>\n",
       "  </thead>\n",
       "  <tbody>\n",
       "    <tr>\n",
       "      <th>0</th>\n",
       "      <td>90</td>\n",
       "      <td>4356</td>\n",
       "      <td>9</td>\n",
       "      <td>0</td>\n",
       "      <td>40</td>\n",
       "      <td>0</td>\n",
       "      <td>0</td>\n",
       "      <td>0</td>\n",
       "      <td>0</td>\n",
       "      <td>0</td>\n",
       "      <td>...</td>\n",
       "      <td>0</td>\n",
       "      <td>0</td>\n",
       "      <td>0</td>\n",
       "      <td>0</td>\n",
       "      <td>0</td>\n",
       "      <td>1</td>\n",
       "      <td>0</td>\n",
       "      <td>0</td>\n",
       "      <td>0</td>\n",
       "      <td>&lt;=50K</td>\n",
       "    </tr>\n",
       "    <tr>\n",
       "      <th>1</th>\n",
       "      <td>82</td>\n",
       "      <td>4356</td>\n",
       "      <td>9</td>\n",
       "      <td>0</td>\n",
       "      <td>18</td>\n",
       "      <td>0</td>\n",
       "      <td>0</td>\n",
       "      <td>0</td>\n",
       "      <td>1</td>\n",
       "      <td>0</td>\n",
       "      <td>...</td>\n",
       "      <td>0</td>\n",
       "      <td>0</td>\n",
       "      <td>0</td>\n",
       "      <td>0</td>\n",
       "      <td>0</td>\n",
       "      <td>1</td>\n",
       "      <td>0</td>\n",
       "      <td>0</td>\n",
       "      <td>0</td>\n",
       "      <td>&lt;=50K</td>\n",
       "    </tr>\n",
       "    <tr>\n",
       "      <th>2</th>\n",
       "      <td>66</td>\n",
       "      <td>4356</td>\n",
       "      <td>10</td>\n",
       "      <td>0</td>\n",
       "      <td>40</td>\n",
       "      <td>0</td>\n",
       "      <td>0</td>\n",
       "      <td>0</td>\n",
       "      <td>0</td>\n",
       "      <td>0</td>\n",
       "      <td>...</td>\n",
       "      <td>0</td>\n",
       "      <td>0</td>\n",
       "      <td>0</td>\n",
       "      <td>0</td>\n",
       "      <td>0</td>\n",
       "      <td>1</td>\n",
       "      <td>0</td>\n",
       "      <td>0</td>\n",
       "      <td>0</td>\n",
       "      <td>&lt;=50K</td>\n",
       "    </tr>\n",
       "    <tr>\n",
       "      <th>3</th>\n",
       "      <td>54</td>\n",
       "      <td>3900</td>\n",
       "      <td>4</td>\n",
       "      <td>0</td>\n",
       "      <td>40</td>\n",
       "      <td>0</td>\n",
       "      <td>0</td>\n",
       "      <td>0</td>\n",
       "      <td>1</td>\n",
       "      <td>0</td>\n",
       "      <td>...</td>\n",
       "      <td>0</td>\n",
       "      <td>0</td>\n",
       "      <td>0</td>\n",
       "      <td>0</td>\n",
       "      <td>0</td>\n",
       "      <td>1</td>\n",
       "      <td>0</td>\n",
       "      <td>0</td>\n",
       "      <td>0</td>\n",
       "      <td>&lt;=50K</td>\n",
       "    </tr>\n",
       "    <tr>\n",
       "      <th>4</th>\n",
       "      <td>41</td>\n",
       "      <td>3900</td>\n",
       "      <td>10</td>\n",
       "      <td>0</td>\n",
       "      <td>40</td>\n",
       "      <td>0</td>\n",
       "      <td>0</td>\n",
       "      <td>0</td>\n",
       "      <td>1</td>\n",
       "      <td>0</td>\n",
       "      <td>...</td>\n",
       "      <td>0</td>\n",
       "      <td>0</td>\n",
       "      <td>0</td>\n",
       "      <td>0</td>\n",
       "      <td>0</td>\n",
       "      <td>1</td>\n",
       "      <td>0</td>\n",
       "      <td>0</td>\n",
       "      <td>0</td>\n",
       "      <td>&lt;=50K</td>\n",
       "    </tr>\n",
       "    <tr>\n",
       "      <th>...</th>\n",
       "      <td>...</td>\n",
       "      <td>...</td>\n",
       "      <td>...</td>\n",
       "      <td>...</td>\n",
       "      <td>...</td>\n",
       "      <td>...</td>\n",
       "      <td>...</td>\n",
       "      <td>...</td>\n",
       "      <td>...</td>\n",
       "      <td>...</td>\n",
       "      <td>...</td>\n",
       "      <td>...</td>\n",
       "      <td>...</td>\n",
       "      <td>...</td>\n",
       "      <td>...</td>\n",
       "      <td>...</td>\n",
       "      <td>...</td>\n",
       "      <td>...</td>\n",
       "      <td>...</td>\n",
       "      <td>...</td>\n",
       "      <td>...</td>\n",
       "    </tr>\n",
       "    <tr>\n",
       "      <th>32556</th>\n",
       "      <td>22</td>\n",
       "      <td>0</td>\n",
       "      <td>10</td>\n",
       "      <td>0</td>\n",
       "      <td>40</td>\n",
       "      <td>0</td>\n",
       "      <td>0</td>\n",
       "      <td>0</td>\n",
       "      <td>1</td>\n",
       "      <td>0</td>\n",
       "      <td>...</td>\n",
       "      <td>0</td>\n",
       "      <td>0</td>\n",
       "      <td>0</td>\n",
       "      <td>0</td>\n",
       "      <td>0</td>\n",
       "      <td>1</td>\n",
       "      <td>0</td>\n",
       "      <td>0</td>\n",
       "      <td>0</td>\n",
       "      <td>&lt;=50K</td>\n",
       "    </tr>\n",
       "    <tr>\n",
       "      <th>32557</th>\n",
       "      <td>27</td>\n",
       "      <td>0</td>\n",
       "      <td>12</td>\n",
       "      <td>0</td>\n",
       "      <td>38</td>\n",
       "      <td>0</td>\n",
       "      <td>0</td>\n",
       "      <td>0</td>\n",
       "      <td>1</td>\n",
       "      <td>0</td>\n",
       "      <td>...</td>\n",
       "      <td>0</td>\n",
       "      <td>0</td>\n",
       "      <td>0</td>\n",
       "      <td>0</td>\n",
       "      <td>0</td>\n",
       "      <td>1</td>\n",
       "      <td>0</td>\n",
       "      <td>0</td>\n",
       "      <td>0</td>\n",
       "      <td>&lt;=50K</td>\n",
       "    </tr>\n",
       "    <tr>\n",
       "      <th>32558</th>\n",
       "      <td>40</td>\n",
       "      <td>0</td>\n",
       "      <td>9</td>\n",
       "      <td>0</td>\n",
       "      <td>40</td>\n",
       "      <td>0</td>\n",
       "      <td>0</td>\n",
       "      <td>0</td>\n",
       "      <td>1</td>\n",
       "      <td>0</td>\n",
       "      <td>...</td>\n",
       "      <td>0</td>\n",
       "      <td>0</td>\n",
       "      <td>0</td>\n",
       "      <td>0</td>\n",
       "      <td>0</td>\n",
       "      <td>1</td>\n",
       "      <td>0</td>\n",
       "      <td>0</td>\n",
       "      <td>0</td>\n",
       "      <td>&gt;50K</td>\n",
       "    </tr>\n",
       "    <tr>\n",
       "      <th>32559</th>\n",
       "      <td>58</td>\n",
       "      <td>0</td>\n",
       "      <td>9</td>\n",
       "      <td>0</td>\n",
       "      <td>40</td>\n",
       "      <td>0</td>\n",
       "      <td>0</td>\n",
       "      <td>0</td>\n",
       "      <td>1</td>\n",
       "      <td>0</td>\n",
       "      <td>...</td>\n",
       "      <td>0</td>\n",
       "      <td>0</td>\n",
       "      <td>0</td>\n",
       "      <td>0</td>\n",
       "      <td>0</td>\n",
       "      <td>1</td>\n",
       "      <td>0</td>\n",
       "      <td>0</td>\n",
       "      <td>0</td>\n",
       "      <td>&lt;=50K</td>\n",
       "    </tr>\n",
       "    <tr>\n",
       "      <th>32560</th>\n",
       "      <td>22</td>\n",
       "      <td>0</td>\n",
       "      <td>9</td>\n",
       "      <td>0</td>\n",
       "      <td>20</td>\n",
       "      <td>0</td>\n",
       "      <td>0</td>\n",
       "      <td>0</td>\n",
       "      <td>1</td>\n",
       "      <td>0</td>\n",
       "      <td>...</td>\n",
       "      <td>0</td>\n",
       "      <td>0</td>\n",
       "      <td>0</td>\n",
       "      <td>0</td>\n",
       "      <td>0</td>\n",
       "      <td>1</td>\n",
       "      <td>0</td>\n",
       "      <td>0</td>\n",
       "      <td>0</td>\n",
       "      <td>&lt;=50K</td>\n",
       "    </tr>\n",
       "  </tbody>\n",
       "</table>\n",
       "<p>32561 rows × 86 columns</p>\n",
       "</div>"
      ],
      "text/plain": [
       "       age  capital.loss  education.num  capital.gain  hours.per.week  \\\n",
       "0       90          4356              9             0              40   \n",
       "1       82          4356              9             0              18   \n",
       "2       66          4356             10             0              40   \n",
       "3       54          3900              4             0              40   \n",
       "4       41          3900             10             0              40   \n",
       "...    ...           ...            ...           ...             ...   \n",
       "32556   22             0             10             0              40   \n",
       "32557   27             0             12             0              38   \n",
       "32558   40             0              9             0              40   \n",
       "32559   58             0              9             0              40   \n",
       "32560   22             0              9             0              20   \n",
       "\n",
       "       Federal-gov  Local-gov  Never-worked  Private  Self-emp-inc  ...  \\\n",
       "0                0          0             0        0             0  ...   \n",
       "1                0          0             0        1             0  ...   \n",
       "2                0          0             0        0             0  ...   \n",
       "3                0          0             0        1             0  ...   \n",
       "4                0          0             0        1             0  ...   \n",
       "...            ...        ...           ...      ...           ...  ...   \n",
       "32556            0          0             0        1             0  ...   \n",
       "32557            0          0             0        1             0  ...   \n",
       "32558            0          0             0        1             0  ...   \n",
       "32559            0          0             0        1             0  ...   \n",
       "32560            0          0             0        1             0  ...   \n",
       "\n",
       "       Scotland  South  Taiwan  Thailand  Trinadad&Tobago  United-States  \\\n",
       "0             0      0       0         0                0              1   \n",
       "1             0      0       0         0                0              1   \n",
       "2             0      0       0         0                0              1   \n",
       "3             0      0       0         0                0              1   \n",
       "4             0      0       0         0                0              1   \n",
       "...         ...    ...     ...       ...              ...            ...   \n",
       "32556         0      0       0         0                0              1   \n",
       "32557         0      0       0         0                0              1   \n",
       "32558         0      0       0         0                0              1   \n",
       "32559         0      0       0         0                0              1   \n",
       "32560         0      0       0         0                0              1   \n",
       "\n",
       "       Unknown_country  Vietnam  Yugoslavia  income  \n",
       "0                    0        0           0   <=50K  \n",
       "1                    0        0           0   <=50K  \n",
       "2                    0        0           0   <=50K  \n",
       "3                    0        0           0   <=50K  \n",
       "4                    0        0           0   <=50K  \n",
       "...                ...      ...         ...     ...  \n",
       "32556                0        0           0   <=50K  \n",
       "32557                0        0           0   <=50K  \n",
       "32558                0        0           0    >50K  \n",
       "32559                0        0           0   <=50K  \n",
       "32560                0        0           0   <=50K  \n",
       "\n",
       "[32561 rows x 86 columns]"
      ]
     },
     "execution_count": 87,
     "metadata": {},
     "output_type": "execute_result"
    }
   ],
   "source": [
    "final_df = final_df[columns_order]"
   ]
  },
  {
   "cell_type": "code",
   "execution_count": 84,
   "metadata": {},
   "outputs": [],
   "source": [
    "final_df.to_csv('../data/adult_cleaned.csv', index=False)"
   ]
  },
  {
   "cell_type": "code",
   "execution_count": 85,
   "metadata": {},
   "outputs": [
    {
     "data": {
      "text/plain": [
       "Index(['age', 'education.num', 'capital.gain', 'capital.loss',\n",
       "       'hours.per.week', 'income', 'Federal-gov', 'Local-gov', 'Never-worked',\n",
       "       'Private', 'Self-emp-inc', 'Self-emp-not-inc', 'State-gov',\n",
       "       'Unknown_workclass', 'Without-pay', 'Divorced', 'Married-AF-spouse',\n",
       "       'Married-civ-spouse', 'Married-spouse-absent', 'Never-married',\n",
       "       'Separated', 'Widowed', 'Adm-clerical', 'Armed-Forces', 'Craft-repair',\n",
       "       'Exec-managerial', 'Farming-fishing', 'Handlers-cleaners',\n",
       "       'Machine-op-inspct', 'Other-service', 'Priv-house-serv',\n",
       "       'Prof-specialty', 'Protective-serv', 'Sales', 'Tech-support',\n",
       "       'Transport-moving', 'Unknown_occupation', 'Amer-Indian-Eskimo',\n",
       "       'Asian-Pac-Islander', 'Black', 'Other', 'White', 'Female', 'Male',\n",
       "       'Cambodia', 'Canada', 'China', 'Columbia', 'Cuba', 'Dominican-Republic',\n",
       "       'Ecuador', 'El-Salvador', 'England', 'France', 'Germany', 'Greece',\n",
       "       'Guatemala', 'Haiti', 'Holand-Netherlands', 'Honduras', 'Hong',\n",
       "       'Hungary', 'India', 'Iran', 'Ireland', 'Italy', 'Jamaica', 'Japan',\n",
       "       'Laos', 'Mexico', 'Nicaragua', 'Outlying-US(Guam-USVI-etc)', 'Peru',\n",
       "       'Philippines', 'Poland', 'Portugal', 'Puerto-Rico', 'Scotland', 'South',\n",
       "       'Taiwan', 'Thailand', 'Trinadad&Tobago', 'United-States',\n",
       "       'Unknown_country', 'Vietnam', 'Yugoslavia'],\n",
       "      dtype='object')"
      ]
     },
     "execution_count": 85,
     "metadata": {},
     "output_type": "execute_result"
    }
   ],
   "source": [
    "final_df.columns"
   ]
  },
  {
   "cell_type": "code",
   "execution_count": null,
   "metadata": {},
   "outputs": [],
   "source": []
  }
 ],
 "metadata": {
  "kernelspec": {
   "display_name": "cfec",
   "language": "python",
   "name": "python3"
  },
  "language_info": {
   "codemirror_mode": {
    "name": "ipython",
    "version": 3
   },
   "file_extension": ".py",
   "mimetype": "text/x-python",
   "name": "python",
   "nbconvert_exporter": "python",
   "pygments_lexer": "ipython3",
   "version": "3.7.15"
  },
  "orig_nbformat": 4,
  "vscode": {
   "interpreter": {
    "hash": "b15620a47f84161de3ff2eac7b5580bb2a18e35c2e6a3d277430255ba85aee0d"
   }
  }
 },
 "nbformat": 4,
 "nbformat_minor": 2
}
