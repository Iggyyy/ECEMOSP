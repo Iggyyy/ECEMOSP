{
 "cells": [
  {
   "cell_type": "code",
   "execution_count": 2,
   "metadata": {},
   "outputs": [
    {
     "data": {
      "text/html": [
       "<div>\n",
       "<style scoped>\n",
       "    .dataframe tbody tr th:only-of-type {\n",
       "        vertical-align: middle;\n",
       "    }\n",
       "\n",
       "    .dataframe tbody tr th {\n",
       "        vertical-align: top;\n",
       "    }\n",
       "\n",
       "    .dataframe thead th {\n",
       "        text-align: right;\n",
       "    }\n",
       "</style>\n",
       "<table border=\"1\" class=\"dataframe\">\n",
       "  <thead>\n",
       "    <tr style=\"text-align: right;\">\n",
       "      <th></th>\n",
       "      <th>age</th>\n",
       "      <th>workclass</th>\n",
       "      <th>fnlwgt</th>\n",
       "      <th>education</th>\n",
       "      <th>education.num</th>\n",
       "      <th>marital.status</th>\n",
       "      <th>occupation</th>\n",
       "      <th>relationship</th>\n",
       "      <th>race</th>\n",
       "      <th>sex</th>\n",
       "      <th>capital.gain</th>\n",
       "      <th>capital.loss</th>\n",
       "      <th>hours.per.week</th>\n",
       "      <th>native.country</th>\n",
       "      <th>income</th>\n",
       "    </tr>\n",
       "  </thead>\n",
       "  <tbody>\n",
       "    <tr>\n",
       "      <th>0</th>\n",
       "      <td>90</td>\n",
       "      <td>?</td>\n",
       "      <td>77053</td>\n",
       "      <td>HS-grad</td>\n",
       "      <td>9</td>\n",
       "      <td>Widowed</td>\n",
       "      <td>?</td>\n",
       "      <td>Not-in-family</td>\n",
       "      <td>White</td>\n",
       "      <td>Female</td>\n",
       "      <td>0</td>\n",
       "      <td>4356</td>\n",
       "      <td>40</td>\n",
       "      <td>United-States</td>\n",
       "      <td>&lt;=50K</td>\n",
       "    </tr>\n",
       "    <tr>\n",
       "      <th>1</th>\n",
       "      <td>82</td>\n",
       "      <td>Private</td>\n",
       "      <td>132870</td>\n",
       "      <td>HS-grad</td>\n",
       "      <td>9</td>\n",
       "      <td>Widowed</td>\n",
       "      <td>Exec-managerial</td>\n",
       "      <td>Not-in-family</td>\n",
       "      <td>White</td>\n",
       "      <td>Female</td>\n",
       "      <td>0</td>\n",
       "      <td>4356</td>\n",
       "      <td>18</td>\n",
       "      <td>United-States</td>\n",
       "      <td>&lt;=50K</td>\n",
       "    </tr>\n",
       "    <tr>\n",
       "      <th>2</th>\n",
       "      <td>66</td>\n",
       "      <td>?</td>\n",
       "      <td>186061</td>\n",
       "      <td>Some-college</td>\n",
       "      <td>10</td>\n",
       "      <td>Widowed</td>\n",
       "      <td>?</td>\n",
       "      <td>Unmarried</td>\n",
       "      <td>Black</td>\n",
       "      <td>Female</td>\n",
       "      <td>0</td>\n",
       "      <td>4356</td>\n",
       "      <td>40</td>\n",
       "      <td>United-States</td>\n",
       "      <td>&lt;=50K</td>\n",
       "    </tr>\n",
       "    <tr>\n",
       "      <th>3</th>\n",
       "      <td>54</td>\n",
       "      <td>Private</td>\n",
       "      <td>140359</td>\n",
       "      <td>7th-8th</td>\n",
       "      <td>4</td>\n",
       "      <td>Divorced</td>\n",
       "      <td>Machine-op-inspct</td>\n",
       "      <td>Unmarried</td>\n",
       "      <td>White</td>\n",
       "      <td>Female</td>\n",
       "      <td>0</td>\n",
       "      <td>3900</td>\n",
       "      <td>40</td>\n",
       "      <td>United-States</td>\n",
       "      <td>&lt;=50K</td>\n",
       "    </tr>\n",
       "    <tr>\n",
       "      <th>4</th>\n",
       "      <td>41</td>\n",
       "      <td>Private</td>\n",
       "      <td>264663</td>\n",
       "      <td>Some-college</td>\n",
       "      <td>10</td>\n",
       "      <td>Separated</td>\n",
       "      <td>Prof-specialty</td>\n",
       "      <td>Own-child</td>\n",
       "      <td>White</td>\n",
       "      <td>Female</td>\n",
       "      <td>0</td>\n",
       "      <td>3900</td>\n",
       "      <td>40</td>\n",
       "      <td>United-States</td>\n",
       "      <td>&lt;=50K</td>\n",
       "    </tr>\n",
       "  </tbody>\n",
       "</table>\n",
       "</div>"
      ],
      "text/plain": [
       "   age workclass  fnlwgt     education  education.num marital.status  \\\n",
       "0   90         ?   77053       HS-grad              9        Widowed   \n",
       "1   82   Private  132870       HS-grad              9        Widowed   \n",
       "2   66         ?  186061  Some-college             10        Widowed   \n",
       "3   54   Private  140359       7th-8th              4       Divorced   \n",
       "4   41   Private  264663  Some-college             10      Separated   \n",
       "\n",
       "          occupation   relationship   race     sex  capital.gain  \\\n",
       "0                  ?  Not-in-family  White  Female             0   \n",
       "1    Exec-managerial  Not-in-family  White  Female             0   \n",
       "2                  ?      Unmarried  Black  Female             0   \n",
       "3  Machine-op-inspct      Unmarried  White  Female             0   \n",
       "4     Prof-specialty      Own-child  White  Female             0   \n",
       "\n",
       "   capital.loss  hours.per.week native.country income  \n",
       "0          4356              40  United-States  <=50K  \n",
       "1          4356              18  United-States  <=50K  \n",
       "2          4356              40  United-States  <=50K  \n",
       "3          3900              40  United-States  <=50K  \n",
       "4          3900              40  United-States  <=50K  "
      ]
     },
     "execution_count": 2,
     "metadata": {},
     "output_type": "execute_result"
    }
   ],
   "source": [
    "import numpy as np\n",
    "import pandas as pd\n",
    "from collections import defaultdict\n",
    "\n",
    "raw_df = pd.read_csv('../data/adult.csv')\n",
    "prep_df = pd.DataFrame(columns=raw_df.columns)\n",
    "categorical_columns = []\n",
    "to_concat = []\n",
    "constraints_dict = defaultdict(lambda: list())\n",
    "raw_df.head(5)"
   ]
  },
  {
   "cell_type": "code",
   "execution_count": 3,
   "metadata": {},
   "outputs": [
    {
     "name": "stdout",
     "output_type": "stream",
     "text": [
      "<class 'pandas.core.frame.DataFrame'>\n",
      "RangeIndex: 32561 entries, 0 to 32560\n",
      "Data columns (total 15 columns):\n",
      " #   Column          Non-Null Count  Dtype \n",
      "---  ------          --------------  ----- \n",
      " 0   age             32561 non-null  int64 \n",
      " 1   workclass       32561 non-null  object\n",
      " 2   fnlwgt          32561 non-null  int64 \n",
      " 3   education       32561 non-null  object\n",
      " 4   education.num   32561 non-null  int64 \n",
      " 5   marital.status  32561 non-null  object\n",
      " 6   occupation      32561 non-null  object\n",
      " 7   relationship    32561 non-null  object\n",
      " 8   race            32561 non-null  object\n",
      " 9   sex             32561 non-null  object\n",
      " 10  capital.gain    32561 non-null  int64 \n",
      " 11  capital.loss    32561 non-null  int64 \n",
      " 12  hours.per.week  32561 non-null  int64 \n",
      " 13  native.country  32561 non-null  object\n",
      " 14  income          32561 non-null  object\n",
      "dtypes: int64(6), object(9)\n",
      "memory usage: 3.7+ MB\n"
     ]
    }
   ],
   "source": [
    "raw_df.info()"
   ]
  },
  {
   "attachments": {},
   "cell_type": "markdown",
   "metadata": {},
   "source": [
    "AGE"
   ]
  },
  {
   "cell_type": "code",
   "execution_count": 4,
   "metadata": {},
   "outputs": [
    {
     "data": {
      "text/plain": [
       "count    32561.000000\n",
       "mean        38.581647\n",
       "std         13.640433\n",
       "min         17.000000\n",
       "25%         28.000000\n",
       "50%         37.000000\n",
       "75%         48.000000\n",
       "max         90.000000\n",
       "Name: age, dtype: float64"
      ]
     },
     "execution_count": 4,
     "metadata": {},
     "output_type": "execute_result"
    }
   ],
   "source": [
    "raw_df['age'].describe()"
   ]
  },
  {
   "cell_type": "code",
   "execution_count": 5,
   "metadata": {},
   "outputs": [],
   "source": [
    "to_concat.append(raw_df['age'].to_frame())\n",
    "constraints_dict['age'].append('non-negative')"
   ]
  },
  {
   "attachments": {},
   "cell_type": "markdown",
   "metadata": {},
   "source": [
    "WORKCLASS"
   ]
  },
  {
   "cell_type": "code",
   "execution_count": 6,
   "metadata": {},
   "outputs": [
    {
     "data": {
      "text/plain": [
       "count       32561\n",
       "unique          9\n",
       "top       Private\n",
       "freq        22696\n",
       "Name: workclass, dtype: object"
      ]
     },
     "execution_count": 6,
     "metadata": {},
     "output_type": "execute_result"
    }
   ],
   "source": [
    "raw_df['workclass'].describe()"
   ]
  },
  {
   "cell_type": "code",
   "execution_count": 7,
   "metadata": {},
   "outputs": [
    {
     "data": {
      "text/plain": [
       "array(['?', 'Private', 'State-gov', 'Federal-gov', 'Self-emp-not-inc',\n",
       "       'Self-emp-inc', 'Local-gov', 'Without-pay', 'Never-worked'],\n",
       "      dtype=object)"
      ]
     },
     "execution_count": 7,
     "metadata": {},
     "output_type": "execute_result"
    }
   ],
   "source": [
    "categorical_columns.append('workclass')\n",
    "raw_df['workclass'].unique()"
   ]
  },
  {
   "cell_type": "code",
   "execution_count": 8,
   "metadata": {},
   "outputs": [],
   "source": [
    "# raw_df['workclass'].replace('?', 'Unknown_workclass', inplace=True)"
   ]
  },
  {
   "attachments": {},
   "cell_type": "markdown",
   "metadata": {},
   "source": [
    "FNLWGT (excluded - weighting factor)"
   ]
  },
  {
   "cell_type": "code",
   "execution_count": 9,
   "metadata": {},
   "outputs": [
    {
     "data": {
      "text/plain": [
       "count    3.256100e+04\n",
       "mean     1.897784e+05\n",
       "std      1.055500e+05\n",
       "min      1.228500e+04\n",
       "25%      1.178270e+05\n",
       "50%      1.783560e+05\n",
       "75%      2.370510e+05\n",
       "max      1.484705e+06\n",
       "Name: fnlwgt, dtype: float64"
      ]
     },
     "execution_count": 9,
     "metadata": {},
     "output_type": "execute_result"
    }
   ],
   "source": [
    "raw_df['fnlwgt'].describe()"
   ]
  },
  {
   "attachments": {},
   "cell_type": "markdown",
   "metadata": {},
   "source": [
    "Education (excluded because number of education years are enough)"
   ]
  },
  {
   "cell_type": "code",
   "execution_count": 10,
   "metadata": {},
   "outputs": [
    {
     "name": "stdout",
     "output_type": "stream",
     "text": [
      "['HS-grad' 'Some-college' '7th-8th' '10th' 'Doctorate' 'Prof-school'\n",
      " 'Bachelors' 'Masters' '11th' 'Assoc-acdm' 'Assoc-voc' '1st-4th' '5th-6th'\n",
      " '12th' '9th' 'Preschool']\n"
     ]
    },
    {
     "data": {
      "text/plain": [
       "count       32561\n",
       "unique         16\n",
       "top       HS-grad\n",
       "freq        10501\n",
       "Name: education, dtype: object"
      ]
     },
     "execution_count": 10,
     "metadata": {},
     "output_type": "execute_result"
    }
   ],
   "source": [
    "print(raw_df['education'].unique())\n",
    "raw_df['education'].describe()"
   ]
  },
  {
   "cell_type": "code",
   "execution_count": 11,
   "metadata": {},
   "outputs": [],
   "source": [
    "# education_one_hot = pd.get_dummies(raw_df['education'])\n",
    "# to_concat.append(education_one_hot)\n",
    "\n",
    "# # Add constraints for columns\n",
    "# for column in education_one_hot.columns:\n",
    "#     constraints_dict[column].append('onehot')\n",
    "    \n",
    "# education_one_hot"
   ]
  },
  {
   "attachments": {},
   "cell_type": "markdown",
   "metadata": {},
   "source": [
    "Education num"
   ]
  },
  {
   "cell_type": "code",
   "execution_count": 12,
   "metadata": {},
   "outputs": [],
   "source": [
    "raw_df['education.num'].describe()\n",
    "to_concat.append(raw_df['education.num'].to_frame())\n",
    "constraints_dict['education.num'].append('non-negative')"
   ]
  },
  {
   "attachments": {},
   "cell_type": "markdown",
   "metadata": {},
   "source": [
    "Martial status"
   ]
  },
  {
   "cell_type": "code",
   "execution_count": 13,
   "metadata": {},
   "outputs": [
    {
     "name": "stdout",
     "output_type": "stream",
     "text": [
      "['Widowed' 'Divorced' 'Separated' 'Never-married' 'Married-civ-spouse'\n",
      " 'Married-spouse-absent' 'Married-AF-spouse']\n"
     ]
    },
    {
     "data": {
      "text/plain": [
       "count                  32561\n",
       "unique                     7\n",
       "top       Married-civ-spouse\n",
       "freq                   14976\n",
       "Name: marital.status, dtype: object"
      ]
     },
     "execution_count": 13,
     "metadata": {},
     "output_type": "execute_result"
    }
   ],
   "source": [
    "print(raw_df['marital.status'].unique())\n",
    "raw_df['marital.status'].describe()"
   ]
  },
  {
   "cell_type": "code",
   "execution_count": 14,
   "metadata": {},
   "outputs": [],
   "source": [
    "categorical_columns.append('marital.status')\n",
    "constraints_dict['marital.status'].append('onehot')"
   ]
  },
  {
   "attachments": {},
   "cell_type": "markdown",
   "metadata": {},
   "source": [
    "Occupation"
   ]
  },
  {
   "cell_type": "code",
   "execution_count": 15,
   "metadata": {},
   "outputs": [
    {
     "name": "stdout",
     "output_type": "stream",
     "text": [
      "['?' 'Exec-managerial' 'Machine-op-inspct' 'Prof-specialty'\n",
      " 'Other-service' 'Adm-clerical' 'Craft-repair' 'Transport-moving'\n",
      " 'Handlers-cleaners' 'Sales' 'Farming-fishing' 'Tech-support'\n",
      " 'Protective-serv' 'Armed-Forces' 'Priv-house-serv']\n"
     ]
    },
    {
     "data": {
      "text/plain": [
       "count              32561\n",
       "unique                15\n",
       "top       Prof-specialty\n",
       "freq                4140\n",
       "Name: occupation, dtype: object"
      ]
     },
     "execution_count": 15,
     "metadata": {},
     "output_type": "execute_result"
    }
   ],
   "source": [
    "print(raw_df['occupation'].unique())\n",
    "raw_df['occupation'].describe()"
   ]
  },
  {
   "cell_type": "code",
   "execution_count": 16,
   "metadata": {},
   "outputs": [],
   "source": [
    "# raw_df['occupation'].replace('?', 'Unknown_occupation', inplace=True)"
   ]
  },
  {
   "cell_type": "code",
   "execution_count": 17,
   "metadata": {},
   "outputs": [],
   "source": [
    "categorical_columns.append('occupation')\n",
    "constraints_dict['occupation'].append('onehot')"
   ]
  },
  {
   "attachments": {},
   "cell_type": "markdown",
   "metadata": {},
   "source": [
    "Relationship (excluded can be inferred from gender and martial status)"
   ]
  },
  {
   "cell_type": "code",
   "execution_count": 18,
   "metadata": {},
   "outputs": [
    {
     "name": "stdout",
     "output_type": "stream",
     "text": [
      "['Not-in-family' 'Unmarried' 'Own-child' 'Other-relative' 'Husband' 'Wife']\n"
     ]
    },
    {
     "data": {
      "text/plain": [
       "count       32561\n",
       "unique          6\n",
       "top       Husband\n",
       "freq        13193\n",
       "Name: relationship, dtype: object"
      ]
     },
     "execution_count": 18,
     "metadata": {},
     "output_type": "execute_result"
    }
   ],
   "source": [
    "print(raw_df['relationship'].unique())\n",
    "raw_df['relationship'].describe()"
   ]
  },
  {
   "attachments": {},
   "cell_type": "markdown",
   "metadata": {},
   "source": [
    "Race"
   ]
  },
  {
   "cell_type": "code",
   "execution_count": 19,
   "metadata": {},
   "outputs": [
    {
     "name": "stdout",
     "output_type": "stream",
     "text": [
      "['White' 'Black' 'Asian-Pac-Islander' 'Other' 'Amer-Indian-Eskimo']\n"
     ]
    },
    {
     "data": {
      "text/plain": [
       "count     32561\n",
       "unique        5\n",
       "top       White\n",
       "freq      27816\n",
       "Name: race, dtype: object"
      ]
     },
     "execution_count": 19,
     "metadata": {},
     "output_type": "execute_result"
    }
   ],
   "source": [
    "print(raw_df['race'].unique())\n",
    "raw_df['race'].describe()"
   ]
  },
  {
   "cell_type": "code",
   "execution_count": 20,
   "metadata": {},
   "outputs": [],
   "source": [
    "categorical_columns.append('race')\n",
    "constraints_dict['race'].append('onehot')\n",
    "constraints_dict['race'].append('non-actionable')"
   ]
  },
  {
   "attachments": {},
   "cell_type": "markdown",
   "metadata": {},
   "source": [
    "Sex"
   ]
  },
  {
   "cell_type": "code",
   "execution_count": 21,
   "metadata": {},
   "outputs": [
    {
     "name": "stdout",
     "output_type": "stream",
     "text": [
      "['Female' 'Male']\n"
     ]
    },
    {
     "data": {
      "text/plain": [
       "count     32561\n",
       "unique        2\n",
       "top        Male\n",
       "freq      21790\n",
       "Name: sex, dtype: object"
      ]
     },
     "execution_count": 21,
     "metadata": {},
     "output_type": "execute_result"
    }
   ],
   "source": [
    "print(raw_df['sex'].unique())\n",
    "raw_df['sex'].describe()"
   ]
  },
  {
   "cell_type": "code",
   "execution_count": 22,
   "metadata": {},
   "outputs": [],
   "source": [
    "categorical_columns.append('sex')\n",
    "constraints_dict['sex'].append('onehot')\n",
    "constraints_dict['sex'].append('non-actionable')"
   ]
  },
  {
   "attachments": {},
   "cell_type": "markdown",
   "metadata": {},
   "source": [
    "capital.gain"
   ]
  },
  {
   "cell_type": "code",
   "execution_count": 23,
   "metadata": {},
   "outputs": [
    {
     "data": {
      "text/plain": [
       "count    32561.000000\n",
       "mean      1077.648844\n",
       "std       7385.292085\n",
       "min          0.000000\n",
       "25%          0.000000\n",
       "50%          0.000000\n",
       "75%          0.000000\n",
       "max      99999.000000\n",
       "Name: capital.gain, dtype: float64"
      ]
     },
     "execution_count": 23,
     "metadata": {},
     "output_type": "execute_result"
    }
   ],
   "source": [
    "raw_df['capital.gain'].describe()"
   ]
  },
  {
   "cell_type": "code",
   "execution_count": 24,
   "metadata": {},
   "outputs": [],
   "source": [
    "to_concat.append(raw_df['capital.gain'].to_frame())\n",
    "constraints_dict['capital.gain'].append('non-negative')"
   ]
  },
  {
   "attachments": {},
   "cell_type": "markdown",
   "metadata": {},
   "source": [
    "capital.loss"
   ]
  },
  {
   "cell_type": "code",
   "execution_count": 25,
   "metadata": {},
   "outputs": [
    {
     "data": {
      "text/plain": [
       "count    32561.000000\n",
       "mean        87.303830\n",
       "std        402.960219\n",
       "min          0.000000\n",
       "25%          0.000000\n",
       "50%          0.000000\n",
       "75%          0.000000\n",
       "max       4356.000000\n",
       "Name: capital.loss, dtype: float64"
      ]
     },
     "execution_count": 25,
     "metadata": {},
     "output_type": "execute_result"
    }
   ],
   "source": [
    "raw_df['capital.loss'].describe()"
   ]
  },
  {
   "cell_type": "code",
   "execution_count": 26,
   "metadata": {},
   "outputs": [],
   "source": [
    "to_concat.append(raw_df['capital.loss'].to_frame())\n",
    "constraints_dict['capital.loss'].append('non-negative')"
   ]
  },
  {
   "attachments": {},
   "cell_type": "markdown",
   "metadata": {},
   "source": [
    "hours.per.week"
   ]
  },
  {
   "cell_type": "code",
   "execution_count": 27,
   "metadata": {},
   "outputs": [
    {
     "data": {
      "text/plain": [
       "count    32561.000000\n",
       "mean        40.437456\n",
       "std         12.347429\n",
       "min          1.000000\n",
       "25%         40.000000\n",
       "50%         40.000000\n",
       "75%         45.000000\n",
       "max         99.000000\n",
       "Name: hours.per.week, dtype: float64"
      ]
     },
     "execution_count": 27,
     "metadata": {},
     "output_type": "execute_result"
    }
   ],
   "source": [
    "raw_df['hours.per.week'].describe()"
   ]
  },
  {
   "cell_type": "code",
   "execution_count": 28,
   "metadata": {},
   "outputs": [],
   "source": [
    "to_concat.append(raw_df['hours.per.week'].to_frame())\n",
    "constraints_dict['hours.per.week'].append('non-negative')"
   ]
  },
  {
   "attachments": {},
   "cell_type": "markdown",
   "metadata": {},
   "source": [
    "native.country"
   ]
  },
  {
   "cell_type": "code",
   "execution_count": 29,
   "metadata": {},
   "outputs": [],
   "source": [
    "# raw_df['native.country'].replace('?', 'Unknown_country', inplace=True)"
   ]
  },
  {
   "cell_type": "code",
   "execution_count": 30,
   "metadata": {},
   "outputs": [],
   "source": [
    "raw_df['native.country'].describe()\n",
    "constraints_dict['native.country'].append('non-actionable')\n",
    "categorical_columns.append('native.country')"
   ]
  },
  {
   "attachments": {},
   "cell_type": "markdown",
   "metadata": {},
   "source": [
    "income"
   ]
  },
  {
   "cell_type": "code",
   "execution_count": 31,
   "metadata": {},
   "outputs": [
    {
     "data": {
      "text/plain": [
       "array(['<=50K', '>50K'], dtype=object)"
      ]
     },
     "execution_count": 31,
     "metadata": {},
     "output_type": "execute_result"
    }
   ],
   "source": [
    "raw_df['income'].describe()\n",
    "raw_df['income'].unique()"
   ]
  },
  {
   "cell_type": "code",
   "execution_count": 32,
   "metadata": {},
   "outputs": [],
   "source": [
    "# categorical_columns.append('income')\n",
    "# constraints_dict['income'].append('onehot')\n",
    "to_concat.append(raw_df['income'].to_frame())"
   ]
  },
  {
   "attachments": {},
   "cell_type": "markdown",
   "metadata": {},
   "source": [
    "CONCAT"
   ]
  },
  {
   "cell_type": "code",
   "execution_count": 33,
   "metadata": {},
   "outputs": [],
   "source": [
    "constraints_on_features = defaultdict(lambda: list())\n",
    "categorical_columns_final = []\n",
    "categorical_features_map_to_thier_splits = {}\n",
    "\n",
    "for feature in categorical_columns:\n",
    "    dummies = pd.get_dummies(raw_df[feature], prefix=feature)\n",
    "    categorical_columns_final += dummies.columns.tolist()\n",
    "    to_concat.append(dummies)\n",
    "    categorical_features_map_to_thier_splits[feature] = dummies.columns.tolist()\n",
    "\n",
    "    # Add constraints for columns\n",
    "    for column in dummies.columns:\n",
    "        constraints_on_features[column].append('onehot')\n",
    "\n",
    "        if 'non-actionable' in constraints_dict[feature]:\n",
    "            constraints_on_features[column].append('non-actionable')"
   ]
  },
  {
   "cell_type": "code",
   "execution_count": 34,
   "metadata": {},
   "outputs": [
    {
     "data": {
      "text/plain": [
       "Index(['age', 'education.num', 'capital.gain', 'capital.loss',\n",
       "       'hours.per.week', 'income', 'workclass_?', 'workclass_Federal-gov',\n",
       "       'workclass_Local-gov', 'workclass_Never-worked', 'workclass_Private',\n",
       "       'workclass_Self-emp-inc', 'workclass_Self-emp-not-inc',\n",
       "       'workclass_State-gov', 'workclass_Without-pay',\n",
       "       'marital.status_Divorced', 'marital.status_Married-AF-spouse',\n",
       "       'marital.status_Married-civ-spouse',\n",
       "       'marital.status_Married-spouse-absent', 'marital.status_Never-married',\n",
       "       'marital.status_Separated', 'marital.status_Widowed', 'occupation_?',\n",
       "       'occupation_Adm-clerical', 'occupation_Armed-Forces',\n",
       "       'occupation_Craft-repair', 'occupation_Exec-managerial',\n",
       "       'occupation_Farming-fishing', 'occupation_Handlers-cleaners',\n",
       "       'occupation_Machine-op-inspct', 'occupation_Other-service',\n",
       "       'occupation_Priv-house-serv', 'occupation_Prof-specialty',\n",
       "       'occupation_Protective-serv', 'occupation_Sales',\n",
       "       'occupation_Tech-support', 'occupation_Transport-moving',\n",
       "       'race_Amer-Indian-Eskimo', 'race_Asian-Pac-Islander', 'race_Black',\n",
       "       'race_Other', 'race_White', 'sex_Female', 'sex_Male',\n",
       "       'native.country_?', 'native.country_Cambodia', 'native.country_Canada',\n",
       "       'native.country_China', 'native.country_Columbia',\n",
       "       'native.country_Cuba', 'native.country_Dominican-Republic',\n",
       "       'native.country_Ecuador', 'native.country_El-Salvador',\n",
       "       'native.country_England', 'native.country_France',\n",
       "       'native.country_Germany', 'native.country_Greece',\n",
       "       'native.country_Guatemala', 'native.country_Haiti',\n",
       "       'native.country_Holand-Netherlands', 'native.country_Honduras',\n",
       "       'native.country_Hong', 'native.country_Hungary', 'native.country_India',\n",
       "       'native.country_Iran', 'native.country_Ireland', 'native.country_Italy',\n",
       "       'native.country_Jamaica', 'native.country_Japan', 'native.country_Laos',\n",
       "       'native.country_Mexico', 'native.country_Nicaragua',\n",
       "       'native.country_Outlying-US(Guam-USVI-etc)', 'native.country_Peru',\n",
       "       'native.country_Philippines', 'native.country_Poland',\n",
       "       'native.country_Portugal', 'native.country_Puerto-Rico',\n",
       "       'native.country_Scotland', 'native.country_South',\n",
       "       'native.country_Taiwan', 'native.country_Thailand',\n",
       "       'native.country_Trinadad&Tobago', 'native.country_United-States',\n",
       "       'native.country_Vietnam', 'native.country_Yugoslavia'],\n",
       "      dtype='object')"
      ]
     },
     "execution_count": 34,
     "metadata": {},
     "output_type": "execute_result"
    }
   ],
   "source": [
    "final_df = pd.concat(to_concat, axis=1)\n",
    "final_df.columns"
   ]
  },
  {
   "cell_type": "code",
   "execution_count": 35,
   "metadata": {},
   "outputs": [
    {
     "name": "stdout",
     "output_type": "stream",
     "text": [
      "85\n"
     ]
    }
   ],
   "source": [
    "columns_order = final_df.drop(['income'], axis=1).columns.tolist()\n",
    "print(len(columns_order))"
   ]
  },
  {
   "cell_type": "code",
   "execution_count": 35,
   "metadata": {},
   "outputs": [
    {
     "name": "stdout",
     "output_type": "stream",
     "text": [
      "cont ['age', 'education.num', 'capital.gain', 'capital.loss', 'hours.per.week']\n",
      "cat ['workclass', 'marital.status', 'occupation', 'race', 'sex', 'native.country']\n"
     ]
    }
   ],
   "source": [
    "continuous_columns = ['age', 'education.num', 'capital.gain', 'capital.loss', 'hours.per.week']\n",
    "#categorical_columns = final_df.drop(['income'] + continuous_columns, axis=1).columns.tolist()\n",
    "\n",
    "print('cont', continuous_columns)\n",
    "print('cat', categorical_columns)"
   ]
  },
  {
   "cell_type": "code",
   "execution_count": 36,
   "metadata": {},
   "outputs": [
    {
     "name": "stdout",
     "output_type": "stream",
     "text": [
      "defaultdict(<function <lambda> at 0x000001BDF29F5510>, {'age': 2, 'education.num': 1, 'capital.gain': 1, 'capital.loss': 1, 'hours.per.week': 1, 'workclass': 9, 'marital.status': 7, 'occupation': 15, 'race': 5, 'sex': 2, 'native.country': 42})\n",
      "{'age': 0, 'education.num': 1, 'capital.gain': 2, 'capital.loss': 3, 'hours.per.week': 4, 'workclass': 5, 'marital.status': 14, 'occupation': 21, 'race': 36, 'sex': 41, 'native.country': 43}\n"
     ]
    }
   ],
   "source": [
    "feature_counts = defaultdict(lambda: 0)\n",
    "feature_first_occurrence = {}\n",
    "\n",
    "for idx, column in enumerate(final_df[columns_order].columns.tolist()):\n",
    "    for col in continuous_columns + categorical_columns:\n",
    "        #print(idx, col, column)\n",
    "        if col in column:\n",
    "            feature_counts[col] += 1\n",
    "\n",
    "            #print(idx, col, column)\n",
    "            if col not in feature_first_occurrence.keys():\n",
    "                feature_first_occurrence[col] = idx \n",
    "\n",
    "print(feature_counts)\n",
    "print(feature_first_occurrence)\n"
   ]
  },
  {
   "cell_type": "code",
   "execution_count": 37,
   "metadata": {},
   "outputs": [
    {
     "data": {
      "text/plain": [
       "{'<=50K': 0, '>50K': 1}"
      ]
     },
     "execution_count": 37,
     "metadata": {},
     "output_type": "execute_result"
    }
   ],
   "source": [
    "encoding_target = {col: i for i, col in enumerate(pd.get_dummies(raw_df['income']).columns)}\n",
    "encoding_target"
   ]
  },
  {
   "cell_type": "code",
   "execution_count": null,
   "metadata": {},
   "outputs": [],
   "source": []
  },
  {
   "cell_type": "code",
   "execution_count": 38,
   "metadata": {},
   "outputs": [],
   "source": [
    "import json\n",
    "\n",
    "\n",
    "with open('../data/adult_constraints.json', 'w') as f:\n",
    "    constraints_on_features['dataset_shortname'] = 'adult'\n",
    "    constraints_on_features['features_order_nonsplit'] = continuous_columns  + categorical_columns + ['income']\n",
    "    constraints_on_features['categorical_features_nonsplit'] = categorical_columns \n",
    "    constraints_on_features['continuous_features_nonsplit'] = continuous_columns\n",
    "    constraints_on_features['target_feature'] = 'income' \n",
    "    constraints_on_features['features_count_split_without_target'] = len(columns_order)\n",
    "    constraints_on_features['non_actionable_features'] = ['race', 'sex', 'native.country']\n",
    "    constraints_on_features['actionable_features'] = list(set(categorical_columns + continuous_columns) - set(['race', 'sex', 'native.country']))\n",
    "    constraints_on_features['features_count_nonsplit'] = feature_counts\n",
    "    # Indices of original features but in the order of features after split\n",
    "    constraints_on_features['feature_first_occurrence_after_split'] = feature_first_occurrence \n",
    "    constraints_on_features['categorical_features_map_to_thier_splits'] = categorical_features_map_to_thier_splits\n",
    "    constraints_on_features['features_monotonocity'] = {'age': 'increasing', 'education.num': 'increasing'}\n",
    "    constraints_on_features['feature_ranges'] = {\n",
    "        'age': [17, 99],\n",
    "        'education.num': [1, int(raw_df['education.num'].max())],\n",
    "        'capital.gain': [0, int(raw_df['capital.gain'].max())], #10M\n",
    "        'capital.loss': [0, int(raw_df['capital.loss'].max())], #10M\n",
    "        'hours.per.week': [1, 99]\n",
    "    }\n",
    "    constraints_on_features['map_target_to_encoded'] = encoding_target\n",
    "    constraints_on_features['features_order_after_split'] = columns_order\n",
    "    \n",
    "    json.dump(constraints_on_features, f, indent=1)"
   ]
  },
  {
   "cell_type": "code",
   "execution_count": 39,
   "metadata": {},
   "outputs": [
    {
     "data": {
      "text/html": [
       "<div>\n",
       "<style scoped>\n",
       "    .dataframe tbody tr th:only-of-type {\n",
       "        vertical-align: middle;\n",
       "    }\n",
       "\n",
       "    .dataframe tbody tr th {\n",
       "        vertical-align: top;\n",
       "    }\n",
       "\n",
       "    .dataframe thead th {\n",
       "        text-align: right;\n",
       "    }\n",
       "</style>\n",
       "<table border=\"1\" class=\"dataframe\">\n",
       "  <thead>\n",
       "    <tr style=\"text-align: right;\">\n",
       "      <th></th>\n",
       "      <th>age</th>\n",
       "      <th>education.num</th>\n",
       "      <th>capital.gain</th>\n",
       "      <th>capital.loss</th>\n",
       "      <th>hours.per.week</th>\n",
       "      <th>workclass_?</th>\n",
       "      <th>workclass_Federal-gov</th>\n",
       "      <th>workclass_Local-gov</th>\n",
       "      <th>workclass_Never-worked</th>\n",
       "      <th>workclass_Private</th>\n",
       "      <th>...</th>\n",
       "      <th>native.country_Puerto-Rico</th>\n",
       "      <th>native.country_Scotland</th>\n",
       "      <th>native.country_South</th>\n",
       "      <th>native.country_Taiwan</th>\n",
       "      <th>native.country_Thailand</th>\n",
       "      <th>native.country_Trinadad&amp;Tobago</th>\n",
       "      <th>native.country_United-States</th>\n",
       "      <th>native.country_Vietnam</th>\n",
       "      <th>native.country_Yugoslavia</th>\n",
       "      <th>income</th>\n",
       "    </tr>\n",
       "  </thead>\n",
       "  <tbody>\n",
       "    <tr>\n",
       "      <th>0</th>\n",
       "      <td>90</td>\n",
       "      <td>9</td>\n",
       "      <td>0</td>\n",
       "      <td>4356</td>\n",
       "      <td>40</td>\n",
       "      <td>1</td>\n",
       "      <td>0</td>\n",
       "      <td>0</td>\n",
       "      <td>0</td>\n",
       "      <td>0</td>\n",
       "      <td>...</td>\n",
       "      <td>0</td>\n",
       "      <td>0</td>\n",
       "      <td>0</td>\n",
       "      <td>0</td>\n",
       "      <td>0</td>\n",
       "      <td>0</td>\n",
       "      <td>1</td>\n",
       "      <td>0</td>\n",
       "      <td>0</td>\n",
       "      <td>&lt;=50K</td>\n",
       "    </tr>\n",
       "    <tr>\n",
       "      <th>1</th>\n",
       "      <td>82</td>\n",
       "      <td>9</td>\n",
       "      <td>0</td>\n",
       "      <td>4356</td>\n",
       "      <td>18</td>\n",
       "      <td>0</td>\n",
       "      <td>0</td>\n",
       "      <td>0</td>\n",
       "      <td>0</td>\n",
       "      <td>1</td>\n",
       "      <td>...</td>\n",
       "      <td>0</td>\n",
       "      <td>0</td>\n",
       "      <td>0</td>\n",
       "      <td>0</td>\n",
       "      <td>0</td>\n",
       "      <td>0</td>\n",
       "      <td>1</td>\n",
       "      <td>0</td>\n",
       "      <td>0</td>\n",
       "      <td>&lt;=50K</td>\n",
       "    </tr>\n",
       "    <tr>\n",
       "      <th>2</th>\n",
       "      <td>66</td>\n",
       "      <td>10</td>\n",
       "      <td>0</td>\n",
       "      <td>4356</td>\n",
       "      <td>40</td>\n",
       "      <td>1</td>\n",
       "      <td>0</td>\n",
       "      <td>0</td>\n",
       "      <td>0</td>\n",
       "      <td>0</td>\n",
       "      <td>...</td>\n",
       "      <td>0</td>\n",
       "      <td>0</td>\n",
       "      <td>0</td>\n",
       "      <td>0</td>\n",
       "      <td>0</td>\n",
       "      <td>0</td>\n",
       "      <td>1</td>\n",
       "      <td>0</td>\n",
       "      <td>0</td>\n",
       "      <td>&lt;=50K</td>\n",
       "    </tr>\n",
       "    <tr>\n",
       "      <th>3</th>\n",
       "      <td>54</td>\n",
       "      <td>4</td>\n",
       "      <td>0</td>\n",
       "      <td>3900</td>\n",
       "      <td>40</td>\n",
       "      <td>0</td>\n",
       "      <td>0</td>\n",
       "      <td>0</td>\n",
       "      <td>0</td>\n",
       "      <td>1</td>\n",
       "      <td>...</td>\n",
       "      <td>0</td>\n",
       "      <td>0</td>\n",
       "      <td>0</td>\n",
       "      <td>0</td>\n",
       "      <td>0</td>\n",
       "      <td>0</td>\n",
       "      <td>1</td>\n",
       "      <td>0</td>\n",
       "      <td>0</td>\n",
       "      <td>&lt;=50K</td>\n",
       "    </tr>\n",
       "  </tbody>\n",
       "</table>\n",
       "<p>4 rows × 86 columns</p>\n",
       "</div>"
      ],
      "text/plain": [
       "   age  education.num  capital.gain  capital.loss  hours.per.week  \\\n",
       "0   90              9             0          4356              40   \n",
       "1   82              9             0          4356              18   \n",
       "2   66             10             0          4356              40   \n",
       "3   54              4             0          3900              40   \n",
       "\n",
       "   workclass_?  workclass_Federal-gov  workclass_Local-gov  \\\n",
       "0            1                      0                    0   \n",
       "1            0                      0                    0   \n",
       "2            1                      0                    0   \n",
       "3            0                      0                    0   \n",
       "\n",
       "   workclass_Never-worked  workclass_Private  ...  native.country_Puerto-Rico  \\\n",
       "0                       0                  0  ...                           0   \n",
       "1                       0                  1  ...                           0   \n",
       "2                       0                  0  ...                           0   \n",
       "3                       0                  1  ...                           0   \n",
       "\n",
       "   native.country_Scotland  native.country_South  native.country_Taiwan  \\\n",
       "0                        0                     0                      0   \n",
       "1                        0                     0                      0   \n",
       "2                        0                     0                      0   \n",
       "3                        0                     0                      0   \n",
       "\n",
       "   native.country_Thailand  native.country_Trinadad&Tobago  \\\n",
       "0                        0                               0   \n",
       "1                        0                               0   \n",
       "2                        0                               0   \n",
       "3                        0                               0   \n",
       "\n",
       "   native.country_United-States  native.country_Vietnam  \\\n",
       "0                             1                       0   \n",
       "1                             1                       0   \n",
       "2                             1                       0   \n",
       "3                             1                       0   \n",
       "\n",
       "   native.country_Yugoslavia  income  \n",
       "0                          0   <=50K  \n",
       "1                          0   <=50K  \n",
       "2                          0   <=50K  \n",
       "3                          0   <=50K  \n",
       "\n",
       "[4 rows x 86 columns]"
      ]
     },
     "execution_count": 39,
     "metadata": {},
     "output_type": "execute_result"
    }
   ],
   "source": [
    "final_df = final_df[columns_order + ['income']]\n",
    "final_df.head(4)"
   ]
  },
  {
   "cell_type": "code",
   "execution_count": 40,
   "metadata": {},
   "outputs": [],
   "source": [
    "final_df.to_csv('../data/adult_cleaned.csv', index=False)"
   ]
  },
  {
   "cell_type": "code",
   "execution_count": 41,
   "metadata": {},
   "outputs": [
    {
     "data": {
      "text/plain": [
       "Index(['age', 'education.num', 'capital.gain', 'capital.loss',\n",
       "       'hours.per.week', 'workclass_?', 'workclass_Federal-gov',\n",
       "       'workclass_Local-gov', 'workclass_Never-worked', 'workclass_Private',\n",
       "       'workclass_Self-emp-inc', 'workclass_Self-emp-not-inc',\n",
       "       'workclass_State-gov', 'workclass_Without-pay',\n",
       "       'marital.status_Divorced', 'marital.status_Married-AF-spouse',\n",
       "       'marital.status_Married-civ-spouse',\n",
       "       'marital.status_Married-spouse-absent', 'marital.status_Never-married',\n",
       "       'marital.status_Separated', 'marital.status_Widowed', 'occupation_?',\n",
       "       'occupation_Adm-clerical', 'occupation_Armed-Forces',\n",
       "       'occupation_Craft-repair', 'occupation_Exec-managerial',\n",
       "       'occupation_Farming-fishing', 'occupation_Handlers-cleaners',\n",
       "       'occupation_Machine-op-inspct', 'occupation_Other-service',\n",
       "       'occupation_Priv-house-serv', 'occupation_Prof-specialty',\n",
       "       'occupation_Protective-serv', 'occupation_Sales',\n",
       "       'occupation_Tech-support', 'occupation_Transport-moving',\n",
       "       'race_Amer-Indian-Eskimo', 'race_Asian-Pac-Islander', 'race_Black',\n",
       "       'race_Other', 'race_White', 'sex_Female', 'sex_Male',\n",
       "       'native.country_?', 'native.country_Cambodia', 'native.country_Canada',\n",
       "       'native.country_China', 'native.country_Columbia',\n",
       "       'native.country_Cuba', 'native.country_Dominican-Republic',\n",
       "       'native.country_Ecuador', 'native.country_El-Salvador',\n",
       "       'native.country_England', 'native.country_France',\n",
       "       'native.country_Germany', 'native.country_Greece',\n",
       "       'native.country_Guatemala', 'native.country_Haiti',\n",
       "       'native.country_Holand-Netherlands', 'native.country_Honduras',\n",
       "       'native.country_Hong', 'native.country_Hungary', 'native.country_India',\n",
       "       'native.country_Iran', 'native.country_Ireland', 'native.country_Italy',\n",
       "       'native.country_Jamaica', 'native.country_Japan', 'native.country_Laos',\n",
       "       'native.country_Mexico', 'native.country_Nicaragua',\n",
       "       'native.country_Outlying-US(Guam-USVI-etc)', 'native.country_Peru',\n",
       "       'native.country_Philippines', 'native.country_Poland',\n",
       "       'native.country_Portugal', 'native.country_Puerto-Rico',\n",
       "       'native.country_Scotland', 'native.country_South',\n",
       "       'native.country_Taiwan', 'native.country_Thailand',\n",
       "       'native.country_Trinadad&Tobago', 'native.country_United-States',\n",
       "       'native.country_Vietnam', 'native.country_Yugoslavia', 'income'],\n",
       "      dtype='object')"
      ]
     },
     "execution_count": 41,
     "metadata": {},
     "output_type": "execute_result"
    }
   ],
   "source": [
    "final_df.columns"
   ]
  },
  {
   "cell_type": "code",
   "execution_count": null,
   "metadata": {},
   "outputs": [],
   "source": []
  },
  {
   "cell_type": "code",
   "execution_count": null,
   "metadata": {},
   "outputs": [],
   "source": []
  },
  {
   "cell_type": "code",
   "execution_count": 66,
   "metadata": {},
   "outputs": [],
   "source": [
    "from typing import Tuple\n",
    "from sklearn.utils import shuffle\n",
    "def imbalance_aware_split(df: pd.DataFrame, target_feature_col: str, test_size_per_class: int = 200) -> Tuple[pd.DataFrame, pd.DataFrame]:\n",
    "    shuffled_df = shuffle(df.copy(), random_state=44)\n",
    "\n",
    "    train = pd.DataFrame(columns=shuffled_df.columns)\n",
    "    test = pd.DataFrame(columns=shuffled_df.columns)\n",
    "\n",
    "    classes = np.unique(shuffled_df[target_feature_col])\n",
    "    for cl in classes:\n",
    "        class_only = shuffled_df[shuffled_df[target_feature_col] == cl] # only from class\n",
    "         \n",
    "        test = pd.concat([test, class_only.iloc[0:test_size_per_class]], ignore_index=True)\n",
    "        train = pd.concat([train, class_only.iloc[test_size_per_class:]], ignore_index=True)\n",
    "\n",
    "    test = shuffle(test, random_state=44).reset_index(drop=True)\n",
    "    train = shuffle(train, random_state=44).reset_index(drop=True)\n",
    "\n",
    "    return train, test "
   ]
  },
  {
   "cell_type": "code",
   "execution_count": 75,
   "metadata": {},
   "outputs": [
    {
     "data": {
      "text/html": [
       "<div>\n",
       "<style scoped>\n",
       "    .dataframe tbody tr th:only-of-type {\n",
       "        vertical-align: middle;\n",
       "    }\n",
       "\n",
       "    .dataframe tbody tr th {\n",
       "        vertical-align: top;\n",
       "    }\n",
       "\n",
       "    .dataframe thead th {\n",
       "        text-align: right;\n",
       "    }\n",
       "</style>\n",
       "<table border=\"1\" class=\"dataframe\">\n",
       "  <thead>\n",
       "    <tr style=\"text-align: right;\">\n",
       "      <th></th>\n",
       "      <th>age</th>\n",
       "      <th>education.num</th>\n",
       "      <th>capital.gain</th>\n",
       "      <th>capital.loss</th>\n",
       "      <th>hours.per.week</th>\n",
       "      <th>workclass</th>\n",
       "      <th>marital.status</th>\n",
       "      <th>occupation</th>\n",
       "      <th>race</th>\n",
       "      <th>sex</th>\n",
       "      <th>native.country</th>\n",
       "      <th>income</th>\n",
       "    </tr>\n",
       "  </thead>\n",
       "  <tbody>\n",
       "    <tr>\n",
       "      <th>0</th>\n",
       "      <td>62</td>\n",
       "      <td>13</td>\n",
       "      <td>0</td>\n",
       "      <td>0</td>\n",
       "      <td>40</td>\n",
       "      <td>State-gov</td>\n",
       "      <td>Divorced</td>\n",
       "      <td>Prof-specialty</td>\n",
       "      <td>White</td>\n",
       "      <td>Male</td>\n",
       "      <td>United-States</td>\n",
       "      <td>&lt;=50K</td>\n",
       "    </tr>\n",
       "    <tr>\n",
       "      <th>1</th>\n",
       "      <td>39</td>\n",
       "      <td>14</td>\n",
       "      <td>0</td>\n",
       "      <td>0</td>\n",
       "      <td>55</td>\n",
       "      <td>Self-emp-not-inc</td>\n",
       "      <td>Married-civ-spouse</td>\n",
       "      <td>Craft-repair</td>\n",
       "      <td>White</td>\n",
       "      <td>Male</td>\n",
       "      <td>United-States</td>\n",
       "      <td>&gt;50K</td>\n",
       "    </tr>\n",
       "    <tr>\n",
       "      <th>2</th>\n",
       "      <td>58</td>\n",
       "      <td>13</td>\n",
       "      <td>0</td>\n",
       "      <td>0</td>\n",
       "      <td>40</td>\n",
       "      <td>Private</td>\n",
       "      <td>Married-civ-spouse</td>\n",
       "      <td>Tech-support</td>\n",
       "      <td>White</td>\n",
       "      <td>Male</td>\n",
       "      <td>United-States</td>\n",
       "      <td>&gt;50K</td>\n",
       "    </tr>\n",
       "    <tr>\n",
       "      <th>3</th>\n",
       "      <td>41</td>\n",
       "      <td>9</td>\n",
       "      <td>0</td>\n",
       "      <td>0</td>\n",
       "      <td>40</td>\n",
       "      <td>Private</td>\n",
       "      <td>Married-spouse-absent</td>\n",
       "      <td>Craft-repair</td>\n",
       "      <td>White</td>\n",
       "      <td>Male</td>\n",
       "      <td>Poland</td>\n",
       "      <td>&lt;=50K</td>\n",
       "    </tr>\n",
       "    <tr>\n",
       "      <th>4</th>\n",
       "      <td>26</td>\n",
       "      <td>6</td>\n",
       "      <td>0</td>\n",
       "      <td>0</td>\n",
       "      <td>55</td>\n",
       "      <td>Private</td>\n",
       "      <td>Married-civ-spouse</td>\n",
       "      <td>Craft-repair</td>\n",
       "      <td>White</td>\n",
       "      <td>Male</td>\n",
       "      <td>United-States</td>\n",
       "      <td>&lt;=50K</td>\n",
       "    </tr>\n",
       "    <tr>\n",
       "      <th>...</th>\n",
       "      <td>...</td>\n",
       "      <td>...</td>\n",
       "      <td>...</td>\n",
       "      <td>...</td>\n",
       "      <td>...</td>\n",
       "      <td>...</td>\n",
       "      <td>...</td>\n",
       "      <td>...</td>\n",
       "      <td>...</td>\n",
       "      <td>...</td>\n",
       "      <td>...</td>\n",
       "      <td>...</td>\n",
       "    </tr>\n",
       "    <tr>\n",
       "      <th>32156</th>\n",
       "      <td>42</td>\n",
       "      <td>15</td>\n",
       "      <td>0</td>\n",
       "      <td>0</td>\n",
       "      <td>60</td>\n",
       "      <td>Private</td>\n",
       "      <td>Married-civ-spouse</td>\n",
       "      <td>Prof-specialty</td>\n",
       "      <td>White</td>\n",
       "      <td>Male</td>\n",
       "      <td>United-States</td>\n",
       "      <td>&lt;=50K</td>\n",
       "    </tr>\n",
       "    <tr>\n",
       "      <th>32157</th>\n",
       "      <td>56</td>\n",
       "      <td>13</td>\n",
       "      <td>0</td>\n",
       "      <td>0</td>\n",
       "      <td>40</td>\n",
       "      <td>Federal-gov</td>\n",
       "      <td>Married-civ-spouse</td>\n",
       "      <td>Prof-specialty</td>\n",
       "      <td>White</td>\n",
       "      <td>Male</td>\n",
       "      <td>United-States</td>\n",
       "      <td>&gt;50K</td>\n",
       "    </tr>\n",
       "    <tr>\n",
       "      <th>32158</th>\n",
       "      <td>57</td>\n",
       "      <td>10</td>\n",
       "      <td>0</td>\n",
       "      <td>2258</td>\n",
       "      <td>38</td>\n",
       "      <td>Private</td>\n",
       "      <td>Widowed</td>\n",
       "      <td>Adm-clerical</td>\n",
       "      <td>White</td>\n",
       "      <td>Female</td>\n",
       "      <td>United-States</td>\n",
       "      <td>&gt;50K</td>\n",
       "    </tr>\n",
       "    <tr>\n",
       "      <th>32159</th>\n",
       "      <td>41</td>\n",
       "      <td>11</td>\n",
       "      <td>0</td>\n",
       "      <td>0</td>\n",
       "      <td>80</td>\n",
       "      <td>?</td>\n",
       "      <td>Divorced</td>\n",
       "      <td>?</td>\n",
       "      <td>White</td>\n",
       "      <td>Male</td>\n",
       "      <td>United-States</td>\n",
       "      <td>&lt;=50K</td>\n",
       "    </tr>\n",
       "    <tr>\n",
       "      <th>32160</th>\n",
       "      <td>43</td>\n",
       "      <td>5</td>\n",
       "      <td>0</td>\n",
       "      <td>0</td>\n",
       "      <td>40</td>\n",
       "      <td>Self-emp-not-inc</td>\n",
       "      <td>Married-civ-spouse</td>\n",
       "      <td>Craft-repair</td>\n",
       "      <td>White</td>\n",
       "      <td>Male</td>\n",
       "      <td>United-States</td>\n",
       "      <td>&lt;=50K</td>\n",
       "    </tr>\n",
       "  </tbody>\n",
       "</table>\n",
       "<p>32161 rows × 12 columns</p>\n",
       "</div>"
      ],
      "text/plain": [
       "      age education.num capital.gain capital.loss hours.per.week  \\\n",
       "0      62            13            0            0             40   \n",
       "1      39            14            0            0             55   \n",
       "2      58            13            0            0             40   \n",
       "3      41             9            0            0             40   \n",
       "4      26             6            0            0             55   \n",
       "...    ..           ...          ...          ...            ...   \n",
       "32156  42            15            0            0             60   \n",
       "32157  56            13            0            0             40   \n",
       "32158  57            10            0         2258             38   \n",
       "32159  41            11            0            0             80   \n",
       "32160  43             5            0            0             40   \n",
       "\n",
       "              workclass         marital.status      occupation   race     sex  \\\n",
       "0             State-gov               Divorced  Prof-specialty  White    Male   \n",
       "1      Self-emp-not-inc     Married-civ-spouse    Craft-repair  White    Male   \n",
       "2               Private     Married-civ-spouse    Tech-support  White    Male   \n",
       "3               Private  Married-spouse-absent    Craft-repair  White    Male   \n",
       "4               Private     Married-civ-spouse    Craft-repair  White    Male   \n",
       "...                 ...                    ...             ...    ...     ...   \n",
       "32156           Private     Married-civ-spouse  Prof-specialty  White    Male   \n",
       "32157       Federal-gov     Married-civ-spouse  Prof-specialty  White    Male   \n",
       "32158           Private                Widowed    Adm-clerical  White  Female   \n",
       "32159                 ?               Divorced               ?  White    Male   \n",
       "32160  Self-emp-not-inc     Married-civ-spouse    Craft-repair  White    Male   \n",
       "\n",
       "      native.country income  \n",
       "0      United-States  <=50K  \n",
       "1      United-States   >50K  \n",
       "2      United-States   >50K  \n",
       "3             Poland  <=50K  \n",
       "4      United-States  <=50K  \n",
       "...              ...    ...  \n",
       "32156  United-States  <=50K  \n",
       "32157  United-States   >50K  \n",
       "32158  United-States   >50K  \n",
       "32159  United-States  <=50K  \n",
       "32160  United-States  <=50K  \n",
       "\n",
       "[32161 rows x 12 columns]"
      ]
     },
     "execution_count": 75,
     "metadata": {},
     "output_type": "execute_result"
    }
   ],
   "source": [
    "traindf, testdf = imbalance_aware_split(raw_df[constraints_on_features['features_order_nonsplit']], 'income')\n",
    "traindf_ohe, testdf_ohe = imbalance_aware_split(final_df, 'income')\n",
    "traindf"
   ]
  },
  {
   "cell_type": "code",
   "execution_count": 80,
   "metadata": {},
   "outputs": [
    {
     "data": {
      "text/plain": [
       "0      >50K\n",
       "1      >50K\n",
       "2     <=50K\n",
       "3      >50K\n",
       "4     <=50K\n",
       "5     <=50K\n",
       "6      >50K\n",
       "7      >50K\n",
       "8      >50K\n",
       "9      >50K\n",
       "10     >50K\n",
       "11    <=50K\n",
       "12    <=50K\n",
       "13    <=50K\n",
       "14    <=50K\n",
       "Name: income, dtype: object"
      ]
     },
     "execution_count": 80,
     "metadata": {},
     "output_type": "execute_result"
    }
   ],
   "source": [
    "testdf['income'].head(15)"
   ]
  },
  {
   "cell_type": "code",
   "execution_count": 70,
   "metadata": {},
   "outputs": [
    {
     "data": {
      "text/plain": [
       ">50K     200\n",
       "<=50K    200\n",
       "Name: income, dtype: int64"
      ]
     },
     "execution_count": 70,
     "metadata": {},
     "output_type": "execute_result"
    }
   ],
   "source": [
    "testdf['income'].value_counts()"
   ]
  },
  {
   "cell_type": "code",
   "execution_count": 77,
   "metadata": {},
   "outputs": [],
   "source": [
    "traindf.to_csv('../data/adult_train.csv', index=False)\n",
    "testdf.to_csv('../data/adult_test.csv', index=False)\n",
    "traindf_ohe.to_csv('../data/adult_train_ohe.csv', index=False)\n",
    "testdf_ohe.to_csv('../data/adult_test_ohe.csv', index=False)"
   ]
  },
  {
   "cell_type": "code",
   "execution_count": null,
   "metadata": {},
   "outputs": [],
   "source": []
  }
 ],
 "metadata": {
  "kernelspec": {
   "display_name": "cf",
   "language": "python",
   "name": "python3"
  },
  "language_info": {
   "codemirror_mode": {
    "name": "ipython",
    "version": 3
   },
   "file_extension": ".py",
   "mimetype": "text/x-python",
   "name": "python",
   "nbconvert_exporter": "python",
   "pygments_lexer": "ipython3",
   "version": "3.10.0 | packaged by conda-forge | (default, Nov 10 2021, 13:20:59) [MSC v.1916 64 bit (AMD64)]"
  },
  "orig_nbformat": 4,
  "vscode": {
   "interpreter": {
    "hash": "81d0d6994cbc9a338f9a3d74dedf5823f97cddc544b8ee56d3ad85196f930114"
   }
  }
 },
 "nbformat": 4,
 "nbformat_minor": 2
}
