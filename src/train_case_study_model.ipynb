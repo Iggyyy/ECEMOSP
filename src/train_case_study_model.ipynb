{
 "cells": [
  {
   "cell_type": "code",
   "execution_count": 5,
   "metadata": {},
   "outputs": [
    {
     "name": "stdout",
     "output_type": "stream",
     "text": [
      "[PhysicalDevice(name='/physical_device:CPU:0', device_type='CPU'), PhysicalDevice(name='/physical_device:GPU:0', device_type='GPU')]\n"
     ]
    }
   ],
   "source": [
    "import warnings\n",
    "import tensorflow as tf\n",
    "import numpy as np\n",
    "import pandas as pd\n",
    "import json\n",
    "from tensorflow import keras\n",
    "import sklearn\n",
    "from sklearn.model_selection import train_test_split\n",
    "from sklearn.utils import shuffle\n",
    "from typing import Tuple\n",
    "#from modules.CARLA import carla\n",
    "\n",
    "print(str(tf.config.list_physical_devices()))\n",
    "seed = 44\n",
    "\n",
    "tf.random.set_seed(seed)\n",
    "np.random.seed(seed)\n",
    "tf.config.run_functions_eagerly(True)"
   ]
  },
  {
   "cell_type": "code",
   "execution_count": 21,
   "metadata": {},
   "outputs": [],
   "source": [
    "def imbalance_aware_split(df: pd.DataFrame, target_feature_col: str, test_size_per_class: int = 400, random_state: int = 44) -> Tuple[pd.DataFrame, pd.DataFrame]:\n",
    "    shuffled_df = shuffle(df.copy(), random_state=random_state)\n",
    "\n",
    "    train = pd.DataFrame(columns=shuffled_df.columns)\n",
    "    test = pd.DataFrame(columns=shuffled_df.columns)\n",
    "\n",
    "    classes = np.unique(shuffled_df[target_feature_col])\n",
    "    for cl in classes:\n",
    "        class_only = shuffled_df[shuffled_df[target_feature_col] == cl] # only from class\n",
    "         \n",
    "        test = pd.concat([test, class_only.iloc[0:test_size_per_class]], ignore_index=True)\n",
    "        train = pd.concat([train, class_only.iloc[test_size_per_class:]], ignore_index=True)\n",
    "\n",
    "    test = shuffle(test, random_state=random_state).reset_index(drop=True)\n",
    "    train = shuffle(train, random_state=random_state).reset_index(drop=True)\n",
    "\n",
    "    return train.drop([target_feature_col], axis=1), test.drop([target_feature_col], axis=1), train[target_feature_col], test[target_feature_col] "
   ]
  },
  {
   "cell_type": "code",
   "execution_count": 22,
   "metadata": {},
   "outputs": [
    {
     "data": {
      "text/plain": [
       "Index(['age', 'education.num', 'capital.gain', 'capital.loss',\n",
       "       'hours.per.week', 'workclass_?', 'workclass_Federal-gov',\n",
       "       'workclass_Local-gov', 'workclass_Never-worked', 'workclass_Private',\n",
       "       'workclass_Self-emp-inc', 'workclass_Self-emp-not-inc',\n",
       "       'workclass_State-gov', 'workclass_Without-pay',\n",
       "       'marital.status_Divorced', 'marital.status_Married-AF-spouse',\n",
       "       'marital.status_Married-civ-spouse',\n",
       "       'marital.status_Married-spouse-absent', 'marital.status_Never-married',\n",
       "       'marital.status_Separated', 'marital.status_Widowed', 'occupation_?',\n",
       "       'occupation_Adm-clerical', 'occupation_Armed-Forces',\n",
       "       'occupation_Craft-repair', 'occupation_Exec-managerial',\n",
       "       'occupation_Farming-fishing', 'occupation_Handlers-cleaners',\n",
       "       'occupation_Machine-op-inspct', 'occupation_Other-service',\n",
       "       'occupation_Priv-house-serv', 'occupation_Prof-specialty',\n",
       "       'occupation_Protective-serv', 'occupation_Sales',\n",
       "       'occupation_Tech-support', 'occupation_Transport-moving',\n",
       "       'race_Amer-Indian-Eskimo', 'race_Asian-Pac-Islander', 'race_Black',\n",
       "       'race_Other', 'race_White', 'sex_Female', 'sex_Male',\n",
       "       'native.country_?', 'native.country_Cambodia', 'native.country_Canada',\n",
       "       'native.country_China', 'native.country_Columbia',\n",
       "       'native.country_Cuba', 'native.country_Dominican-Republic',\n",
       "       'native.country_Ecuador', 'native.country_El-Salvador',\n",
       "       'native.country_England', 'native.country_France',\n",
       "       'native.country_Germany', 'native.country_Greece',\n",
       "       'native.country_Guatemala', 'native.country_Haiti',\n",
       "       'native.country_Holand-Netherlands', 'native.country_Honduras',\n",
       "       'native.country_Hong', 'native.country_Hungary', 'native.country_India',\n",
       "       'native.country_Iran', 'native.country_Ireland', 'native.country_Italy',\n",
       "       'native.country_Jamaica', 'native.country_Japan', 'native.country_Laos',\n",
       "       'native.country_Mexico', 'native.country_Nicaragua',\n",
       "       'native.country_Outlying-US(Guam-USVI-etc)', 'native.country_Peru',\n",
       "       'native.country_Philippines', 'native.country_Poland',\n",
       "       'native.country_Portugal', 'native.country_Puerto-Rico',\n",
       "       'native.country_Scotland', 'native.country_South',\n",
       "       'native.country_Taiwan', 'native.country_Thailand',\n",
       "       'native.country_Trinadad&Tobago', 'native.country_United-States',\n",
       "       'native.country_Vietnam', 'native.country_Yugoslavia'],\n",
       "      dtype='object')"
      ]
     },
     "execution_count": 22,
     "metadata": {},
     "output_type": "execute_result"
    }
   ],
   "source": [
    "with open('../data/adult_constraints.json', 'r') as f:\n",
    "    constr = json.load(f)\n",
    "\n",
    "dataset = pd.read_csv(\"../data/adult_train_ohe.csv\")\n",
    "\n",
    "#X_train, X_test, Y_train, Y_test = train_test_split(dataset[constr['features_order_after_split']], dataset['income'], test_size=0.2, random_state=seed)\n",
    "X_train, X_test, Y_train, Y_test = imbalance_aware_split(dataset[constr['features_order_after_split'] + ['income']], target_feature_col='income', random_state=seed)\n",
    "X_train.columns"
   ]
  },
  {
   "cell_type": "code",
   "execution_count": 23,
   "metadata": {},
   "outputs": [
    {
     "data": {
      "text/plain": [
       "0        <=50K\n",
       "1        <=50K\n",
       "2        <=50K\n",
       "3         >50K\n",
       "4        <=50K\n",
       "         ...  \n",
       "31356    <=50K\n",
       "31357     >50K\n",
       "31358     >50K\n",
       "31359    <=50K\n",
       "31360    <=50K\n",
       "Name: income, Length: 31361, dtype: object"
      ]
     },
     "execution_count": 23,
     "metadata": {},
     "output_type": "execute_result"
    }
   ],
   "source": [
    "Y_train"
   ]
  },
  {
   "cell_type": "code",
   "execution_count": 24,
   "metadata": {},
   "outputs": [
    {
     "data": {
      "text/plain": [
       "array([[1, 0],\n",
       "       [1, 0],\n",
       "       [1, 0],\n",
       "       ...,\n",
       "       [0, 1],\n",
       "       [1, 0],\n",
       "       [1, 0]], dtype=uint8)"
      ]
     },
     "execution_count": 24,
     "metadata": {},
     "output_type": "execute_result"
    }
   ],
   "source": [
    "\n",
    "X_train = X_train.to_numpy()\n",
    "Y_train = Y_train\n",
    "Y_train = pd.get_dummies(Y_train).to_numpy()\n",
    "Y_train"
   ]
  },
  {
   "cell_type": "code",
   "execution_count": 25,
   "metadata": {},
   "outputs": [
    {
     "data": {
      "text/plain": [
       "array([[1, 0],\n",
       "       [0, 1],\n",
       "       [0, 1],\n",
       "       ...,\n",
       "       [0, 1],\n",
       "       [0, 1],\n",
       "       [0, 1]], dtype=uint8)"
      ]
     },
     "execution_count": 25,
     "metadata": {},
     "output_type": "execute_result"
    }
   ],
   "source": [
    "X_test = X_test.to_numpy()\n",
    "Y_test = Y_test\n",
    "Y_test = pd.get_dummies(Y_test).to_numpy()\n",
    "Y_test"
   ]
  },
  {
   "cell_type": "code",
   "execution_count": 26,
   "metadata": {},
   "outputs": [
    {
     "data": {
      "text/plain": [
       "(31361, 85)"
      ]
     },
     "execution_count": 26,
     "metadata": {},
     "output_type": "execute_result"
    }
   ],
   "source": [
    "X_train.shape"
   ]
  },
  {
   "cell_type": "code",
   "execution_count": 27,
   "metadata": {},
   "outputs": [
    {
     "data": {
      "text/plain": [
       "(31361, 2)"
      ]
     },
     "execution_count": 27,
     "metadata": {},
     "output_type": "execute_result"
    }
   ],
   "source": [
    "Y_train.shape"
   ]
  },
  {
   "cell_type": "code",
   "execution_count": 28,
   "metadata": {},
   "outputs": [],
   "source": [
    "# sklearn minmaxscaler\n",
    "from sklearn.preprocessing import MinMaxScaler\n",
    "scaler = MinMaxScaler()\n",
    "X_train = scaler.fit_transform(X_train)\n",
    "X_test = scaler.transform(X_test)\n"
   ]
  },
  {
   "cell_type": "code",
   "execution_count": 29,
   "metadata": {},
   "outputs": [
    {
     "data": {
      "text/plain": [
       "85"
      ]
     },
     "execution_count": 29,
     "metadata": {},
     "output_type": "execute_result"
    }
   ],
   "source": [
    "constr['features_count_split_without_target']"
   ]
  },
  {
   "cell_type": "code",
   "execution_count": 37,
   "metadata": {},
   "outputs": [
    {
     "data": {
      "text/plain": [
       "('Percent:', array([0.76910813, 0.23089187]))"
      ]
     },
     "execution_count": 37,
     "metadata": {},
     "output_type": "execute_result"
    }
   ],
   "source": [
    "'Percent:', Y_train.sum(axis=0) / Y_train.sum()"
   ]
  },
  {
   "cell_type": "code",
   "execution_count": 30,
   "metadata": {},
   "outputs": [
    {
     "data": {
      "text/plain": [
       "array([0.6501, 2.1655])"
      ]
     },
     "execution_count": 30,
     "metadata": {},
     "output_type": "execute_result"
    }
   ],
   "source": [
    "class_weights = np.round((1 / Y_train.sum(axis=0)) * (Y_train.sum() / 2), 4) # from TF tutorial on class weights\n",
    "class_weights"
   ]
  },
  {
   "cell_type": "code",
   "execution_count": 31,
   "metadata": {},
   "outputs": [
    {
     "data": {
      "text/plain": [
       "{0: 0.6501, 1: 2.1655}"
      ]
     },
     "execution_count": 31,
     "metadata": {},
     "output_type": "execute_result"
    }
   ],
   "source": [
    "tf_class_weights = {0: class_weights[0], 1: class_weights[1]}\n",
    "tf_class_weights"
   ]
  },
  {
   "cell_type": "code",
   "execution_count": 32,
   "metadata": {},
   "outputs": [],
   "source": [
    "model = tf.keras.Sequential()\n",
    "model.add(tf.keras.layers.Input((constr['features_count_split_without_target'],)))\n",
    "model.add(tf.keras.layers.Dense(128))\n",
    "model.add(tf.keras.layers.ELU())\n",
    "#model.add(tf.keras.layers.Dropout(0.5))\n",
    "model.add(tf.keras.layers.Dense(128))\n",
    "model.add(tf.keras.layers.ELU())\n",
    "model.add(tf.keras.layers.Dense(128))\n",
    "model.add(tf.keras.layers.ELU())\n",
    "#model.add(tf.keras.layers.Dropout(0.3))\n",
    "#model.add(tf.keras.layers.Dropout(0.1))\n",
    "model.add(tf.keras.layers.Dense(2))\n",
    "model.add(tf.keras.layers.Softmax())\n",
    "\n",
    "\n",
    "model.compile(\n",
    "    optimizer=tf.keras.optimizers.Adam(),\n",
    "    #optimizer=tf.keras.optimizers.RMSprop(),\n",
    "    loss=tf.keras.losses.CategoricalCrossentropy(from_logits=False),\n",
    "    metrics=[\n",
    "        tf.keras.metrics.CategoricalAccuracy(),\n",
    "        tf.keras.metrics.Recall(),\n",
    "        ]\n",
    ")"
   ]
  },
  {
   "cell_type": "code",
   "execution_count": 34,
   "metadata": {},
   "outputs": [
    {
     "name": "stdout",
     "output_type": "stream",
     "text": [
      "Epoch 1/100\n",
      "8/8 [==============================] - 1s 73ms/step - loss: 0.5740 - categorical_accuracy: 0.6599 - recall: 0.6599 - val_loss: 0.4586 - val_categorical_accuracy: 0.8025 - val_recall: 0.8025\n",
      "Epoch 2/100\n",
      "8/8 [==============================] - 0s 59ms/step - loss: 0.4737 - categorical_accuracy: 0.7379 - recall: 0.7379 - val_loss: 0.4486 - val_categorical_accuracy: 0.8100 - val_recall: 0.8100\n",
      "Epoch 3/100\n",
      "8/8 [==============================] - 0s 61ms/step - loss: 0.4541 - categorical_accuracy: 0.7676 - recall: 0.7676 - val_loss: 0.4413 - val_categorical_accuracy: 0.7887 - val_recall: 0.7887\n",
      "Epoch 4/100\n",
      "8/8 [==============================] - 0s 62ms/step - loss: 0.4400 - categorical_accuracy: 0.7763 - recall: 0.7763 - val_loss: 0.4252 - val_categorical_accuracy: 0.8037 - val_recall: 0.8037\n",
      "Epoch 5/100\n",
      "8/8 [==============================] - 0s 55ms/step - loss: 0.4284 - categorical_accuracy: 0.7784 - recall: 0.7784 - val_loss: 0.4130 - val_categorical_accuracy: 0.8125 - val_recall: 0.8125\n",
      "Epoch 6/100\n",
      "8/8 [==============================] - 0s 59ms/step - loss: 0.4210 - categorical_accuracy: 0.7839 - recall: 0.7839 - val_loss: 0.4110 - val_categorical_accuracy: 0.7937 - val_recall: 0.7937\n",
      "Epoch 7/100\n",
      "8/8 [==============================] - 0s 60ms/step - loss: 0.4135 - categorical_accuracy: 0.7932 - recall: 0.7932 - val_loss: 0.3981 - val_categorical_accuracy: 0.8163 - val_recall: 0.8163\n",
      "Epoch 8/100\n",
      "8/8 [==============================] - 0s 59ms/step - loss: 0.4070 - categorical_accuracy: 0.7925 - recall: 0.7925 - val_loss: 0.3934 - val_categorical_accuracy: 0.8100 - val_recall: 0.8100\n",
      "Epoch 9/100\n",
      "8/8 [==============================] - 0s 56ms/step - loss: 0.4028 - categorical_accuracy: 0.7996 - recall: 0.7996 - val_loss: 0.3865 - val_categorical_accuracy: 0.8275 - val_recall: 0.8275\n",
      "Epoch 10/100\n",
      "8/8 [==============================] - 0s 57ms/step - loss: 0.4001 - categorical_accuracy: 0.7998 - recall: 0.7998 - val_loss: 0.3896 - val_categorical_accuracy: 0.8112 - val_recall: 0.8112\n",
      "Epoch 11/100\n",
      "8/8 [==============================] - 0s 58ms/step - loss: 0.3994 - categorical_accuracy: 0.7984 - recall: 0.7984 - val_loss: 0.3816 - val_categorical_accuracy: 0.8238 - val_recall: 0.8238\n",
      "Epoch 12/100\n",
      "8/8 [==============================] - 1s 66ms/step - loss: 0.3958 - categorical_accuracy: 0.8042 - recall: 0.8042 - val_loss: 0.3808 - val_categorical_accuracy: 0.8263 - val_recall: 0.8263\n",
      "Epoch 13/100\n",
      "8/8 [==============================] - 0s 54ms/step - loss: 0.3942 - categorical_accuracy: 0.8025 - recall: 0.8025 - val_loss: 0.3779 - val_categorical_accuracy: 0.8238 - val_recall: 0.8238\n",
      "Epoch 14/100\n",
      "8/8 [==============================] - 0s 56ms/step - loss: 0.3923 - categorical_accuracy: 0.8045 - recall: 0.8045 - val_loss: 0.3765 - val_categorical_accuracy: 0.8338 - val_recall: 0.8338\n",
      "Epoch 15/100\n",
      "8/8 [==============================] - 0s 59ms/step - loss: 0.3909 - categorical_accuracy: 0.8033 - recall: 0.8033 - val_loss: 0.3795 - val_categorical_accuracy: 0.8275 - val_recall: 0.8275\n",
      "Epoch 16/100\n",
      "8/8 [==============================] - 0s 58ms/step - loss: 0.3891 - categorical_accuracy: 0.8043 - recall: 0.8043 - val_loss: 0.3732 - val_categorical_accuracy: 0.8300 - val_recall: 0.8300\n",
      "Epoch 17/100\n",
      "8/8 [==============================] - 0s 59ms/step - loss: 0.3881 - categorical_accuracy: 0.8044 - recall: 0.8044 - val_loss: 0.3727 - val_categorical_accuracy: 0.8250 - val_recall: 0.8250\n",
      "Epoch 18/100\n",
      "8/8 [==============================] - 0s 61ms/step - loss: 0.3857 - categorical_accuracy: 0.8081 - recall: 0.8081 - val_loss: 0.3766 - val_categorical_accuracy: 0.8300 - val_recall: 0.8300\n",
      "Epoch 19/100\n",
      "8/8 [==============================] - 0s 55ms/step - loss: 0.3904 - categorical_accuracy: 0.8055 - recall: 0.8055 - val_loss: 0.3766 - val_categorical_accuracy: 0.8313 - val_recall: 0.8313\n",
      "Epoch 20/100\n",
      "8/8 [==============================] - 0s 56ms/step - loss: 0.3873 - categorical_accuracy: 0.8038 - recall: 0.8038 - val_loss: 0.3719 - val_categorical_accuracy: 0.8275 - val_recall: 0.8275\n",
      "Epoch 21/100\n",
      "8/8 [==============================] - 0s 56ms/step - loss: 0.3832 - categorical_accuracy: 0.8066 - recall: 0.8066 - val_loss: 0.3710 - val_categorical_accuracy: 0.8288 - val_recall: 0.8288\n",
      "Epoch 22/100\n",
      "8/8 [==============================] - 0s 54ms/step - loss: 0.3821 - categorical_accuracy: 0.8093 - recall: 0.8093 - val_loss: 0.3705 - val_categorical_accuracy: 0.8350 - val_recall: 0.8350\n",
      "Epoch 23/100\n",
      "8/8 [==============================] - 0s 50ms/step - loss: 0.3832 - categorical_accuracy: 0.8060 - recall: 0.8060 - val_loss: 0.3819 - val_categorical_accuracy: 0.8163 - val_recall: 0.8163\n",
      "Epoch 24/100\n",
      "8/8 [==============================] - 0s 53ms/step - loss: 0.3822 - categorical_accuracy: 0.8098 - recall: 0.8098 - val_loss: 0.3673 - val_categorical_accuracy: 0.8350 - val_recall: 0.8350\n",
      "Epoch 25/100\n",
      "8/8 [==============================] - 0s 56ms/step - loss: 0.3815 - categorical_accuracy: 0.8077 - recall: 0.8077 - val_loss: 0.3726 - val_categorical_accuracy: 0.8188 - val_recall: 0.8188\n",
      "Epoch 26/100\n",
      "8/8 [==============================] - 0s 51ms/step - loss: 0.3828 - categorical_accuracy: 0.8057 - recall: 0.8057 - val_loss: 0.3739 - val_categorical_accuracy: 0.8225 - val_recall: 0.8225\n",
      "Epoch 27/100\n",
      "8/8 [==============================] - 0s 55ms/step - loss: 0.3811 - categorical_accuracy: 0.8120 - recall: 0.8120 - val_loss: 0.3710 - val_categorical_accuracy: 0.8275 - val_recall: 0.8275\n",
      "Epoch 28/100\n",
      "8/8 [==============================] - 0s 54ms/step - loss: 0.3791 - categorical_accuracy: 0.8076 - recall: 0.8076 - val_loss: 0.3693 - val_categorical_accuracy: 0.8275 - val_recall: 0.8275\n",
      "Epoch 29/100\n",
      "8/8 [==============================] - 0s 52ms/step - loss: 0.3775 - categorical_accuracy: 0.8081 - recall: 0.8081 - val_loss: 0.3715 - val_categorical_accuracy: 0.8288 - val_recall: 0.8288\n",
      "Epoch 30/100\n",
      "8/8 [==============================] - 0s 55ms/step - loss: 0.3783 - categorical_accuracy: 0.8065 - recall: 0.8065 - val_loss: 0.3768 - val_categorical_accuracy: 0.8163 - val_recall: 0.8163\n",
      "Epoch 31/100\n",
      "8/8 [==============================] - 0s 56ms/step - loss: 0.3801 - categorical_accuracy: 0.8114 - recall: 0.8114 - val_loss: 0.3758 - val_categorical_accuracy: 0.8275 - val_recall: 0.8275\n",
      "Epoch 32/100\n",
      "8/8 [==============================] - 0s 52ms/step - loss: 0.3873 - categorical_accuracy: 0.8075 - recall: 0.8075 - val_loss: 0.3710 - val_categorical_accuracy: 0.8325 - val_recall: 0.8325\n",
      "Epoch 33/100\n",
      "8/8 [==============================] - 0s 53ms/step - loss: 0.3870 - categorical_accuracy: 0.7960 - recall: 0.7960 - val_loss: 0.3701 - val_categorical_accuracy: 0.8275 - val_recall: 0.8275\n",
      "Epoch 34/100\n",
      "8/8 [==============================] - 0s 54ms/step - loss: 0.3787 - categorical_accuracy: 0.8137 - recall: 0.8137 - val_loss: 0.3722 - val_categorical_accuracy: 0.8238 - val_recall: 0.8238\n",
      "Epoch 35/100\n",
      "8/8 [==============================] - 0s 55ms/step - loss: 0.3773 - categorical_accuracy: 0.8094 - recall: 0.8094 - val_loss: 0.3702 - val_categorical_accuracy: 0.8275 - val_recall: 0.8275\n",
      "Epoch 36/100\n",
      "8/8 [==============================] - 0s 56ms/step - loss: 0.3777 - categorical_accuracy: 0.8056 - recall: 0.8056 - val_loss: 0.3730 - val_categorical_accuracy: 0.8288 - val_recall: 0.8288\n",
      "Epoch 37/100\n",
      "8/8 [==============================] - 0s 52ms/step - loss: 0.3760 - categorical_accuracy: 0.8130 - recall: 0.8130 - val_loss: 0.3680 - val_categorical_accuracy: 0.8313 - val_recall: 0.8313\n",
      "Epoch 38/100\n",
      "8/8 [==============================] - 0s 54ms/step - loss: 0.3760 - categorical_accuracy: 0.8099 - recall: 0.8099 - val_loss: 0.3673 - val_categorical_accuracy: 0.8338 - val_recall: 0.8338\n",
      "Epoch 39/100\n",
      "8/8 [==============================] - 0s 51ms/step - loss: 0.3760 - categorical_accuracy: 0.8090 - recall: 0.8090 - val_loss: 0.3718 - val_categorical_accuracy: 0.8288 - val_recall: 0.8288\n",
      "Epoch 40/100\n",
      "8/8 [==============================] - 0s 54ms/step - loss: 0.3760 - categorical_accuracy: 0.8121 - recall: 0.8121 - val_loss: 0.3688 - val_categorical_accuracy: 0.8325 - val_recall: 0.8325\n",
      "Epoch 41/100\n",
      "8/8 [==============================] - 0s 52ms/step - loss: 0.3783 - categorical_accuracy: 0.8050 - recall: 0.8050 - val_loss: 0.3713 - val_categorical_accuracy: 0.8275 - val_recall: 0.8275\n",
      "Epoch 42/100\n",
      "8/8 [==============================] - 0s 52ms/step - loss: 0.3748 - categorical_accuracy: 0.8136 - recall: 0.8136 - val_loss: 0.3678 - val_categorical_accuracy: 0.8350 - val_recall: 0.8350\n",
      "Epoch 43/100\n",
      "8/8 [==============================] - 0s 54ms/step - loss: 0.3757 - categorical_accuracy: 0.8073 - recall: 0.8073 - val_loss: 0.3714 - val_categorical_accuracy: 0.8238 - val_recall: 0.8238\n",
      "Epoch 44/100\n",
      "8/8 [==============================] - 0s 53ms/step - loss: 0.3751 - categorical_accuracy: 0.8115 - recall: 0.8115 - val_loss: 0.3680 - val_categorical_accuracy: 0.8300 - val_recall: 0.8300\n",
      "Epoch 45/100\n",
      "8/8 [==============================] - 0s 51ms/step - loss: 0.3748 - categorical_accuracy: 0.8067 - recall: 0.8067 - val_loss: 0.3760 - val_categorical_accuracy: 0.8188 - val_recall: 0.8188\n",
      "Epoch 46/100\n",
      "8/8 [==============================] - 0s 53ms/step - loss: 0.3746 - categorical_accuracy: 0.8130 - recall: 0.8130 - val_loss: 0.3685 - val_categorical_accuracy: 0.8263 - val_recall: 0.8263\n",
      "Epoch 47/100\n",
      "8/8 [==============================] - 0s 54ms/step - loss: 0.3748 - categorical_accuracy: 0.8084 - recall: 0.8084 - val_loss: 0.3687 - val_categorical_accuracy: 0.8213 - val_recall: 0.8213\n",
      "Epoch 48/100\n",
      "8/8 [==============================] - 0s 55ms/step - loss: 0.3750 - categorical_accuracy: 0.8114 - recall: 0.8114 - val_loss: 0.3725 - val_categorical_accuracy: 0.8300 - val_recall: 0.8300\n",
      "Epoch 49/100\n",
      "8/8 [==============================] - 0s 54ms/step - loss: 0.3759 - categorical_accuracy: 0.8089 - recall: 0.8089 - val_loss: 0.3677 - val_categorical_accuracy: 0.8388 - val_recall: 0.8388\n",
      "Epoch 50/100\n",
      "8/8 [==============================] - 0s 62ms/step - loss: 0.3738 - categorical_accuracy: 0.8114 - recall: 0.8114 - val_loss: 0.3699 - val_categorical_accuracy: 0.8263 - val_recall: 0.8263\n",
      "Epoch 51/100\n",
      "8/8 [==============================] - 0s 52ms/step - loss: 0.3741 - categorical_accuracy: 0.8103 - recall: 0.8103 - val_loss: 0.3683 - val_categorical_accuracy: 0.8350 - val_recall: 0.8350\n",
      "Epoch 52/100\n",
      "8/8 [==============================] - 0s 53ms/step - loss: 0.3742 - categorical_accuracy: 0.8103 - recall: 0.8103 - val_loss: 0.3720 - val_categorical_accuracy: 0.8238 - val_recall: 0.8238\n",
      "Epoch 53/100\n",
      "8/8 [==============================] - 0s 51ms/step - loss: 0.3741 - categorical_accuracy: 0.8112 - recall: 0.8112 - val_loss: 0.3702 - val_categorical_accuracy: 0.8238 - val_recall: 0.8238\n",
      "Epoch 54/100\n",
      "8/8 [==============================] - 0s 60ms/step - loss: 0.3727 - categorical_accuracy: 0.8108 - recall: 0.8108 - val_loss: 0.3727 - val_categorical_accuracy: 0.8213 - val_recall: 0.8213\n",
      "Epoch 55/100\n",
      "8/8 [==============================] - 0s 51ms/step - loss: 0.3727 - categorical_accuracy: 0.8118 - recall: 0.8118 - val_loss: 0.3671 - val_categorical_accuracy: 0.8313 - val_recall: 0.8313\n",
      "Epoch 56/100\n",
      "8/8 [==============================] - 0s 54ms/step - loss: 0.3723 - categorical_accuracy: 0.8095 - recall: 0.8095 - val_loss: 0.3678 - val_categorical_accuracy: 0.8313 - val_recall: 0.8313\n",
      "Epoch 57/100\n",
      "8/8 [==============================] - 0s 53ms/step - loss: 0.3720 - categorical_accuracy: 0.8113 - recall: 0.8113 - val_loss: 0.3672 - val_categorical_accuracy: 0.8350 - val_recall: 0.8350\n",
      "Epoch 58/100\n",
      "8/8 [==============================] - 0s 53ms/step - loss: 0.3730 - categorical_accuracy: 0.8087 - recall: 0.8087 - val_loss: 0.3726 - val_categorical_accuracy: 0.8238 - val_recall: 0.8238\n",
      "Epoch 59/100\n",
      "8/8 [==============================] - 0s 57ms/step - loss: 0.3745 - categorical_accuracy: 0.8122 - recall: 0.8122 - val_loss: 0.3708 - val_categorical_accuracy: 0.8300 - val_recall: 0.8300\n",
      "Epoch 60/100\n",
      "8/8 [==============================] - 0s 60ms/step - loss: 0.3731 - categorical_accuracy: 0.8072 - recall: 0.8072 - val_loss: 0.3723 - val_categorical_accuracy: 0.8225 - val_recall: 0.8225\n",
      "Epoch 61/100\n",
      "8/8 [==============================] - 0s 61ms/step - loss: 0.3721 - categorical_accuracy: 0.8151 - recall: 0.8151 - val_loss: 0.3679 - val_categorical_accuracy: 0.8275 - val_recall: 0.8275\n",
      "Epoch 62/100\n",
      "8/8 [==============================] - 1s 69ms/step - loss: 0.3741 - categorical_accuracy: 0.8071 - recall: 0.8071 - val_loss: 0.3651 - val_categorical_accuracy: 0.8338 - val_recall: 0.8338\n",
      "Epoch 63/100\n",
      "8/8 [==============================] - 0s 53ms/step - loss: 0.3710 - categorical_accuracy: 0.8116 - recall: 0.8116 - val_loss: 0.3745 - val_categorical_accuracy: 0.8200 - val_recall: 0.8200\n",
      "Epoch 64/100\n",
      "8/8 [==============================] - 0s 61ms/step - loss: 0.3715 - categorical_accuracy: 0.8114 - recall: 0.8114 - val_loss: 0.3676 - val_categorical_accuracy: 0.8238 - val_recall: 0.8238\n",
      "Epoch 65/100\n",
      "8/8 [==============================] - 0s 53ms/step - loss: 0.3701 - categorical_accuracy: 0.8116 - recall: 0.8116 - val_loss: 0.3663 - val_categorical_accuracy: 0.8388 - val_recall: 0.8388\n",
      "Epoch 66/100\n",
      "8/8 [==============================] - 1s 68ms/step - loss: 0.3702 - categorical_accuracy: 0.8108 - recall: 0.8108 - val_loss: 0.3675 - val_categorical_accuracy: 0.8325 - val_recall: 0.8325\n",
      "Epoch 67/100\n",
      "8/8 [==============================] - 0s 55ms/step - loss: 0.3705 - categorical_accuracy: 0.8104 - recall: 0.8104 - val_loss: 0.3666 - val_categorical_accuracy: 0.8288 - val_recall: 0.8288\n",
      "Epoch 68/100\n",
      "8/8 [==============================] - 0s 56ms/step - loss: 0.3698 - categorical_accuracy: 0.8114 - recall: 0.8114 - val_loss: 0.3670 - val_categorical_accuracy: 0.8313 - val_recall: 0.8313\n",
      "Epoch 69/100\n",
      "8/8 [==============================] - 0s 51ms/step - loss: 0.3702 - categorical_accuracy: 0.8120 - recall: 0.8120 - val_loss: 0.3667 - val_categorical_accuracy: 0.8338 - val_recall: 0.8338\n",
      "Epoch 70/100\n",
      "8/8 [==============================] - 1s 65ms/step - loss: 0.3700 - categorical_accuracy: 0.8111 - recall: 0.8111 - val_loss: 0.3705 - val_categorical_accuracy: 0.8250 - val_recall: 0.8250\n",
      "Epoch 71/100\n",
      "8/8 [==============================] - 0s 50ms/step - loss: 0.3700 - categorical_accuracy: 0.8140 - recall: 0.8140 - val_loss: 0.3664 - val_categorical_accuracy: 0.8300 - val_recall: 0.8300\n",
      "Epoch 72/100\n",
      "8/8 [==============================] - 0s 50ms/step - loss: 0.3695 - categorical_accuracy: 0.8074 - recall: 0.8074 - val_loss: 0.3669 - val_categorical_accuracy: 0.8313 - val_recall: 0.8313\n",
      "Epoch 73/100\n",
      "8/8 [==============================] - 0s 51ms/step - loss: 0.3693 - categorical_accuracy: 0.8145 - recall: 0.8145 - val_loss: 0.3652 - val_categorical_accuracy: 0.8350 - val_recall: 0.8350\n",
      "Epoch 74/100\n",
      "8/8 [==============================] - 0s 52ms/step - loss: 0.3688 - categorical_accuracy: 0.8098 - recall: 0.8098 - val_loss: 0.3674 - val_categorical_accuracy: 0.8363 - val_recall: 0.8363\n",
      "Epoch 75/100\n",
      "8/8 [==============================] - 0s 59ms/step - loss: 0.3694 - categorical_accuracy: 0.8105 - recall: 0.8105 - val_loss: 0.3686 - val_categorical_accuracy: 0.8188 - val_recall: 0.8188\n",
      "Epoch 76/100\n",
      "8/8 [==============================] - 0s 58ms/step - loss: 0.3681 - categorical_accuracy: 0.8145 - recall: 0.8145 - val_loss: 0.3644 - val_categorical_accuracy: 0.8375 - val_recall: 0.8375\n",
      "Epoch 77/100\n",
      "8/8 [==============================] - 0s 54ms/step - loss: 0.3691 - categorical_accuracy: 0.8098 - recall: 0.8098 - val_loss: 0.3664 - val_categorical_accuracy: 0.8288 - val_recall: 0.8288\n",
      "Epoch 78/100\n",
      "8/8 [==============================] - 0s 51ms/step - loss: 0.3697 - categorical_accuracy: 0.8135 - recall: 0.8135 - val_loss: 0.3666 - val_categorical_accuracy: 0.8350 - val_recall: 0.8350\n",
      "Epoch 79/100\n",
      "8/8 [==============================] - 1s 68ms/step - loss: 0.3689 - categorical_accuracy: 0.8102 - recall: 0.8102 - val_loss: 0.3778 - val_categorical_accuracy: 0.8175 - val_recall: 0.8175\n",
      "Epoch 80/100\n",
      "8/8 [==============================] - 1s 76ms/step - loss: 0.3715 - categorical_accuracy: 0.8123 - recall: 0.8123 - val_loss: 0.3645 - val_categorical_accuracy: 0.8338 - val_recall: 0.8338\n",
      "Epoch 81/100\n",
      "8/8 [==============================] - 1s 78ms/step - loss: 0.3678 - categorical_accuracy: 0.8127 - recall: 0.8127 - val_loss: 0.3656 - val_categorical_accuracy: 0.8300 - val_recall: 0.8300\n",
      "Epoch 82/100\n",
      "8/8 [==============================] - 0s 53ms/step - loss: 0.3692 - categorical_accuracy: 0.8098 - recall: 0.8098 - val_loss: 0.3658 - val_categorical_accuracy: 0.8350 - val_recall: 0.8350\n",
      "Epoch 83/100\n",
      "8/8 [==============================] - 0s 50ms/step - loss: 0.3680 - categorical_accuracy: 0.8127 - recall: 0.8127 - val_loss: 0.3663 - val_categorical_accuracy: 0.8338 - val_recall: 0.8338\n",
      "Epoch 84/100\n",
      "8/8 [==============================] - 0s 48ms/step - loss: 0.3669 - categorical_accuracy: 0.8106 - recall: 0.8106 - val_loss: 0.3659 - val_categorical_accuracy: 0.8300 - val_recall: 0.8300\n",
      "Epoch 85/100\n",
      "8/8 [==============================] - 0s 48ms/step - loss: 0.3668 - categorical_accuracy: 0.8142 - recall: 0.8142 - val_loss: 0.3649 - val_categorical_accuracy: 0.8288 - val_recall: 0.8288\n",
      "Epoch 86/100\n",
      "8/8 [==============================] - 0s 48ms/step - loss: 0.3660 - categorical_accuracy: 0.8138 - recall: 0.8138 - val_loss: 0.3638 - val_categorical_accuracy: 0.8388 - val_recall: 0.8388\n",
      "Epoch 87/100\n",
      "8/8 [==============================] - 0s 63ms/step - loss: 0.3657 - categorical_accuracy: 0.8119 - recall: 0.8119 - val_loss: 0.3650 - val_categorical_accuracy: 0.8325 - val_recall: 0.8325\n",
      "Epoch 88/100\n",
      "8/8 [==============================] - 0s 60ms/step - loss: 0.3652 - categorical_accuracy: 0.8141 - recall: 0.8141 - val_loss: 0.3655 - val_categorical_accuracy: 0.8338 - val_recall: 0.8338\n",
      "Epoch 89/100\n",
      "8/8 [==============================] - 0s 56ms/step - loss: 0.3652 - categorical_accuracy: 0.8121 - recall: 0.8121 - val_loss: 0.3644 - val_categorical_accuracy: 0.8338 - val_recall: 0.8338\n",
      "Epoch 90/100\n",
      "8/8 [==============================] - 1s 65ms/step - loss: 0.3647 - categorical_accuracy: 0.8153 - recall: 0.8153 - val_loss: 0.3641 - val_categorical_accuracy: 0.8363 - val_recall: 0.8363\n",
      "Epoch 91/100\n",
      "8/8 [==============================] - 0s 53ms/step - loss: 0.3667 - categorical_accuracy: 0.8116 - recall: 0.8116 - val_loss: 0.3731 - val_categorical_accuracy: 0.8213 - val_recall: 0.8213\n",
      "Epoch 92/100\n",
      "8/8 [==============================] - 1s 189ms/step - loss: 0.3647 - categorical_accuracy: 0.8159 - recall: 0.8159 - val_loss: 0.3642 - val_categorical_accuracy: 0.8350 - val_recall: 0.8350\n",
      "Epoch 93/100\n",
      "8/8 [==============================] - 1s 81ms/step - loss: 0.3647 - categorical_accuracy: 0.8099 - recall: 0.8099 - val_loss: 0.3709 - val_categorical_accuracy: 0.8263 - val_recall: 0.8263\n",
      "Epoch 94/100\n",
      "8/8 [==============================] - 1s 80ms/step - loss: 0.3637 - categorical_accuracy: 0.8168 - recall: 0.8168 - val_loss: 0.3636 - val_categorical_accuracy: 0.8413 - val_recall: 0.8413\n",
      "Epoch 95/100\n",
      "8/8 [==============================] - 1s 70ms/step - loss: 0.3628 - categorical_accuracy: 0.8148 - recall: 0.8148 - val_loss: 0.3632 - val_categorical_accuracy: 0.8363 - val_recall: 0.8363\n",
      "Epoch 96/100\n",
      "8/8 [==============================] - 1s 93ms/step - loss: 0.3627 - categorical_accuracy: 0.8143 - recall: 0.8143 - val_loss: 0.3673 - val_categorical_accuracy: 0.8325 - val_recall: 0.8325\n",
      "Epoch 97/100\n",
      "8/8 [==============================] - 1s 144ms/step - loss: 0.3630 - categorical_accuracy: 0.8171 - recall: 0.8171 - val_loss: 0.3659 - val_categorical_accuracy: 0.8363 - val_recall: 0.8363\n",
      "Epoch 98/100\n",
      "8/8 [==============================] - 1s 74ms/step - loss: 0.3637 - categorical_accuracy: 0.8132 - recall: 0.8132 - val_loss: 0.3672 - val_categorical_accuracy: 0.8275 - val_recall: 0.8275\n",
      "Epoch 99/100\n",
      "8/8 [==============================] - 1s 109ms/step - loss: 0.3614 - categorical_accuracy: 0.8132 - recall: 0.8132 - val_loss: 0.3656 - val_categorical_accuracy: 0.8375 - val_recall: 0.8375\n",
      "Epoch 100/100\n",
      "8/8 [==============================] - 0s 55ms/step - loss: 0.3610 - categorical_accuracy: 0.8157 - recall: 0.8157 - val_loss: 0.3649 - val_categorical_accuracy: 0.8350 - val_recall: 0.8350\n"
     ]
    }
   ],
   "source": [
    "with tf.device(\"/GPU:0\"):\n",
    "    model.fit(\n",
    "        X_train, \n",
    "        Y_train,\n",
    "        epochs=100,\n",
    "        batch_size=4096,\n",
    "        validation_data=(X_test, Y_test),\n",
    "        shuffle=True,\n",
    "        callbacks=[\n",
    "            tf.keras.callbacks.EarlyStopping(patience=20)\n",
    "        ],\n",
    "        verbose=1,\n",
    "        class_weight=tf_class_weights\n",
    "    )"
   ]
  },
  {
   "cell_type": "code",
   "execution_count": 38,
   "metadata": {},
   "outputs": [
    {
     "name": "stdout",
     "output_type": "stream",
     "text": [
      "17/25 [===================>..........] - ETA: 0s"
     ]
    },
    {
     "name": "stderr",
     "output_type": "stream",
     "text": [
      "c:\\ProgramData\\Anaconda3\\envs\\tf-gpy-py-10\\lib\\site-packages\\tensorflow\\python\\data\\ops\\structured_function.py:264: UserWarning: Even though the `tf.config.experimental_run_functions_eagerly` option is set, this option does not apply to tf.data functions. To force eager execution of tf.data functions, please use `tf.data.experimental.enable_debug_mode()`.\n",
      "  warnings.warn(\n"
     ]
    },
    {
     "name": "stdout",
     "output_type": "stream",
     "text": [
      "25/25 [==============================] - 0s 7ms/step\n"
     ]
    },
    {
     "data": {
      "text/plain": [
       "<AxesSubplot: >"
      ]
     },
     "execution_count": 38,
     "metadata": {},
     "output_type": "execute_result"
    },
    {
     "data": {
      "image/png": "[encoded data removed]",
      "text/plain": [
       "<Figure size 640x480 with 2 Axes>"
      ]
     },
     "metadata": {},
     "output_type": "display_data"
    }
   ],
   "source": [
    "import matplotlib.pyplot as plt\n",
    "import seaborn as sns\n",
    "from sklearn.metrics import confusion_matrix\n",
    "\n",
    "preds = np.argmax(model.predict(X_test), axis=1)\n",
    "preds_true = np.argmax(Y_test, axis=1)\n",
    "\n",
    "cm  = confusion_matrix(preds_true, preds)\n",
    "\n",
    "df_cm = pd.DataFrame(cm)\n",
    "\n",
    "sns.heatmap(df_cm, annot=True)"
   ]
  },
  {
   "cell_type": "code",
   "execution_count": 39,
   "metadata": {},
   "outputs": [
    {
     "data": {
      "text/plain": [
       "array([[1, 0],\n",
       "       [0, 1],\n",
       "       [0, 1],\n",
       "       ...,\n",
       "       [0, 1],\n",
       "       [0, 1],\n",
       "       [0, 1]], dtype=uint8)"
      ]
     },
     "execution_count": 39,
     "metadata": {},
     "output_type": "execute_result"
    }
   ],
   "source": [
    "Y_test"
   ]
  },
  {
   "cell_type": "code",
   "execution_count": null,
   "metadata": {},
   "outputs": [],
   "source": []
  },
  {
   "cell_type": "code",
   "execution_count": null,
   "metadata": {},
   "outputs": [],
   "source": []
  },
  {
   "cell_type": "code",
   "execution_count": 40,
   "metadata": {},
   "outputs": [],
   "source": [
    "model.save('../models/adult_NN.h5', overwrite=True, save_format='h5')"
   ]
  },
  {
   "cell_type": "code",
   "execution_count": 41,
   "metadata": {},
   "outputs": [
    {
     "name": "stdout",
     "output_type": "stream",
     "text": [
      "INFO:tensorflow:Assets written to: ../models/adult_NN\\assets\n"
     ]
    }
   ],
   "source": [
    "model.save('../models/adult_NN', overwrite=True)"
   ]
  },
  {
   "cell_type": "code",
   "execution_count": 42,
   "metadata": {},
   "outputs": [],
   "source": [
    "tf.data.experimental.enable_debug_mode()\n",
    "model_test = tf.keras.models.load_model('../models/adult_NN.h5')"
   ]
  },
  {
   "cell_type": "code",
   "execution_count": 43,
   "metadata": {},
   "outputs": [],
   "source": [
    "model.load_weights('../models/adult_NN.h5')"
   ]
  },
  {
   "cell_type": "code",
   "execution_count": 44,
   "metadata": {},
   "outputs": [
    {
     "data": {
      "text/plain": [
       "(85,)"
      ]
     },
     "execution_count": 44,
     "metadata": {},
     "output_type": "execute_result"
    }
   ],
   "source": [
    "X_test[0].shape"
   ]
  },
  {
   "cell_type": "code",
   "execution_count": 45,
   "metadata": {},
   "outputs": [
    {
     "name": "stdout",
     "output_type": "stream",
     "text": [
      "1/1 [==============================] - 0s 40ms/step\n"
     ]
    },
    {
     "data": {
      "text/plain": [
       "array([[0.8785488 , 0.12145115],\n",
       "       [0.12944728, 0.8705528 ]], dtype=float32)"
      ]
     },
     "execution_count": 45,
     "metadata": {},
     "output_type": "execute_result"
    }
   ],
   "source": [
    "model.predict(X_test[0:2], verbose=1)\n"
   ]
  },
  {
   "attachments": {},
   "cell_type": "markdown",
   "metadata": {},
   "source": [
    "RandomForest"
   ]
  },
  {
   "cell_type": "code",
   "execution_count": 46,
   "metadata": {},
   "outputs": [],
   "source": [
    "from sklearn.ensemble import RandomForestClassifier\n",
    "from sklearn.model_selection import train_test_split\n",
    "from joblib import dump, load"
   ]
  },
  {
   "cell_type": "code",
   "execution_count": null,
   "metadata": {},
   "outputs": [],
   "source": []
  },
  {
   "cell_type": "code",
   "execution_count": null,
   "metadata": {},
   "outputs": [],
   "source": [
    "# best_score = 0\n",
    "\n",
    "\n",
    "# for crit in ['gini', 'entropy']:\n",
    "#     for max_depth in [10, 30, None]: \n",
    "#         for estimators in [150, 200]:\n",
    "#             for max_features in ['sqrt', 'log2']:\n",
    "#                 for min_samples_leaf in [1,2,3]:\n",
    "#                     for min_samples_split in [2,3,4]:\n",
    "#                         for min_impurity_decrease in [0, 0.001, 0.01, 0.1]:\n",
    "#                             classifier = RandomForestClassifier(\n",
    "#                                 random_state=seed, \n",
    "#                                 criterion=crit, \n",
    "#                                 n_estimators=estimators,\n",
    "#                                 verbose=0,\n",
    "#                                 class_weight='balanced',\n",
    "#                                 min_impurity_decrease=min_impurity_decrease,\n",
    "#                                 min_samples_leaf=min_samples_leaf,\n",
    "#                                 min_samples_split=min_samples_split,\n",
    "#                                 max_depth=max_depth,\n",
    "#                                 n_jobs=3,\n",
    "#                                 max_features=max_features\n",
    "#                                 )\n",
    "#                             classifier.fit(X_train, Y_train)\n",
    "#                             score = classifier.score(X_test, Y_test)\n",
    "#                             if score > best_score:\n",
    "#                                 best_score = score\n",
    "#                                 print(f'New Best! Crit: {crit}, Max_depth: {max_depth}, Max_feat: {max_features}, Min_sampl_leaf: {min_samples_split} \\\n",
    "# MIn_samples_split {min_samples_split}, Min_impurity_dec: {min_impurity_decrease}, Estimators: {estimators} Score: {score}')"
   ]
  },
  {
   "cell_type": "code",
   "execution_count": 57,
   "metadata": {},
   "outputs": [
    {
     "data": {
      "text/plain": [
       "0.85875"
      ]
     },
     "execution_count": 57,
     "metadata": {},
     "output_type": "execute_result"
    }
   ],
   "source": [
    "classifier = RandomForestClassifier(\n",
    "                random_state=seed, \n",
    "                criterion='gini', \n",
    "                n_estimators=200,\n",
    "                verbose=0,\n",
    "                class_weight='balanced',\n",
    "                min_impurity_decrease=0,\n",
    "                max_depth=25,\n",
    "                n_jobs=3,\n",
    "                max_features='sqrt'\n",
    "            )\n",
    "classifier.fit(X_train, Y_train)\n",
    "classifier.score(X_test, Y_test)"
   ]
  },
  {
   "cell_type": "code",
   "execution_count": 58,
   "metadata": {},
   "outputs": [
    {
     "data": {
      "text/plain": [
       "['../models/adult_RF.joblib']"
      ]
     },
     "execution_count": 58,
     "metadata": {},
     "output_type": "execute_result"
    }
   ],
   "source": [
    "dump(classifier, '../models/adult_RF.joblib')"
   ]
  },
  {
   "cell_type": "code",
   "execution_count": 59,
   "metadata": {},
   "outputs": [],
   "source": [
    "clf = load('../models/adult_RF.joblib')"
   ]
  },
  {
   "cell_type": "code",
   "execution_count": 60,
   "metadata": {},
   "outputs": [
    {
     "name": "stdout",
     "output_type": "stream",
     "text": [
      "[[1 0]\n",
      " [0 1]\n",
      " [0 1]\n",
      " [0 1]\n",
      " [1 0]]\n"
     ]
    },
    {
     "data": {
      "text/plain": [
       "array([[1, 0],\n",
       "       [0, 1],\n",
       "       [0, 1],\n",
       "       [0, 1],\n",
       "       [1, 0]], dtype=uint8)"
      ]
     },
     "execution_count": 60,
     "metadata": {},
     "output_type": "execute_result"
    }
   ],
   "source": [
    "print(Y_test[0:5])\n",
    "clf.predict(X_test[0:5])"
   ]
  },
  {
   "cell_type": "code",
   "execution_count": 61,
   "metadata": {},
   "outputs": [
    {
     "data": {
      "text/plain": [
       "numpy.ndarray"
      ]
     },
     "execution_count": 61,
     "metadata": {},
     "output_type": "execute_result"
    }
   ],
   "source": [
    "import pickle\n",
    "\n",
    "with open('../models/adult_RF.pkl', 'wb') as f:\n",
    "    pickle.dump(classifier, f)\n",
    "\n",
    "with open('../models/adult_RF.pkl', 'rb') as f:\n",
    "    clf_pickl = pickle.load(f)\n",
    "\n",
    "pred = clf_pickl.predict(X_test[0:5])\n",
    "type(pred)"
   ]
  },
  {
   "cell_type": "code",
   "execution_count": 62,
   "metadata": {},
   "outputs": [
    {
     "data": {
      "text/plain": [
       "array([[0.16451484, 0.83548516],\n",
       "       [0.96742363, 0.03257637],\n",
       "       [0.56207324, 0.43792676],\n",
       "       [0.99826945, 0.00173055],\n",
       "       [0.        , 1.        ],\n",
       "       [0.53680899, 0.46319101],\n",
       "       [0.77897016, 0.22102984],\n",
       "       [0.05047456, 0.94952544],\n",
       "       [0.5840329 , 0.4159671 ],\n",
       "       [0.        , 1.        ]])"
      ]
     },
     "execution_count": 62,
     "metadata": {},
     "output_type": "execute_result"
    }
   ],
   "source": [
    "clf_pickl.predict_proba(X_test[0:10])[0]"
   ]
  },
  {
   "cell_type": "code",
   "execution_count": null,
   "metadata": {},
   "outputs": [],
   "source": []
  }
 ],
 "metadata": {
  "kernelspec": {
   "display_name": "tf-gpy-py-10",
   "language": "python",
   "name": "python3"
  },
  "language_info": {
   "codemirror_mode": {
    "name": "ipython",
    "version": 3
   },
   "file_extension": ".py",
   "mimetype": "text/x-python",
   "name": "python",
   "nbconvert_exporter": "python",
   "pygments_lexer": "ipython3",
   "version": "3.10.8"
  },
  "orig_nbformat": 4,
  "vscode": {
   "interpreter": {
    "hash": "c7ba8b75eeb34a5d7f45fdb8d03ca4acd454e7514870a45521a69aaeabf898bb"
   }
  }
 },
 "nbformat": 4,
 "nbformat_minor": 2
}
