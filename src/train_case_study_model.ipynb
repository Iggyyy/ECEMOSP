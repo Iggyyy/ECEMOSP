{
 "cells": [
  {
   "cell_type": "code",
   "execution_count": 2,
   "metadata": {},
   "outputs": [
    {
     "name": "stdout",
     "output_type": "stream",
     "text": [
      "Appending path to carla module D:\\Research\\ecemosp\\src\\modules\\CARLA\n",
      "Appending path to carla module D:\\Research\\ecemosp\\src\\modules\\CARLA\n"
     ]
    },
    {
     "name": "stderr",
     "output_type": "stream",
     "text": [
      "C:\\Users\\ignacy\\AppData\\Roaming\\Python\\Python37\\site-packages\\tqdm\\auto.py:22: TqdmWarning: IProgress not found. Please update jupyter and ipywidgets. See https://ipywidgets.readthedocs.io/en/stable/user_install.html\n",
      "  from .autonotebook import tqdm as notebook_tqdm\n"
     ]
    },
    {
     "name": "stdout",
     "output_type": "stream",
     "text": [
      "[INFO] Using Python-MIP package version 1.12.0 [model.py <module>]\n"
     ]
    }
   ],
   "source": [
    "import warnings\n",
    "import tensorflow as tf\n",
    "import numpy as np\n",
    "import pandas as pd\n",
    "import json\n",
    "from modules.CARLA import carla\n",
    "\n",
    "seed = 44\n",
    "\n",
    "tf.random.set_seed(seed)\n",
    "np.random.seed(seed)"
   ]
  },
  {
   "cell_type": "code",
   "execution_count": 3,
   "metadata": {},
   "outputs": [
    {
     "data": {
      "text/html": [
       "<div>\n",
       "<style scoped>\n",
       "    .dataframe tbody tr th:only-of-type {\n",
       "        vertical-align: middle;\n",
       "    }\n",
       "\n",
       "    .dataframe tbody tr th {\n",
       "        vertical-align: top;\n",
       "    }\n",
       "\n",
       "    .dataframe thead th {\n",
       "        text-align: right;\n",
       "    }\n",
       "</style>\n",
       "<table border=\"1\" class=\"dataframe\">\n",
       "  <thead>\n",
       "    <tr style=\"text-align: right;\">\n",
       "      <th></th>\n",
       "      <th>age</th>\n",
       "      <th>education.num</th>\n",
       "      <th>capital.gain</th>\n",
       "      <th>capital.loss</th>\n",
       "      <th>hours.per.week</th>\n",
       "      <th>...</th>\n",
       "      <th>workclass_Private</th>\n",
       "      <th>workclass_Self-emp-inc</th>\n",
       "      <th>workclass_Self-emp-not-inc</th>\n",
       "      <th>workclass_State-gov</th>\n",
       "      <th>workclass_Without-pay</th>\n",
       "    </tr>\n",
       "  </thead>\n",
       "  <tbody>\n",
       "    <tr>\n",
       "      <th>9739</th>\n",
       "      <td>0.397260</td>\n",
       "      <td>0.533333</td>\n",
       "      <td>0.000000</td>\n",
       "      <td>0.0</td>\n",
       "      <td>0.397959</td>\n",
       "      <td>...</td>\n",
       "      <td>1.0</td>\n",
       "      <td>0.0</td>\n",
       "      <td>0.0</td>\n",
       "      <td>0.0</td>\n",
       "      <td>0.0</td>\n",
       "    </tr>\n",
       "    <tr>\n",
       "      <th>23394</th>\n",
       "      <td>0.342466</td>\n",
       "      <td>0.800000</td>\n",
       "      <td>0.000000</td>\n",
       "      <td>0.0</td>\n",
       "      <td>0.500000</td>\n",
       "      <td>...</td>\n",
       "      <td>1.0</td>\n",
       "      <td>0.0</td>\n",
       "      <td>0.0</td>\n",
       "      <td>0.0</td>\n",
       "      <td>0.0</td>\n",
       "    </tr>\n",
       "    <tr>\n",
       "      <th>25744</th>\n",
       "      <td>0.287671</td>\n",
       "      <td>0.666667</td>\n",
       "      <td>0.000000</td>\n",
       "      <td>0.0</td>\n",
       "      <td>0.397959</td>\n",
       "      <td>...</td>\n",
       "      <td>1.0</td>\n",
       "      <td>0.0</td>\n",
       "      <td>0.0</td>\n",
       "      <td>0.0</td>\n",
       "      <td>0.0</td>\n",
       "    </tr>\n",
       "    <tr>\n",
       "      <th>2631</th>\n",
       "      <td>0.397260</td>\n",
       "      <td>0.800000</td>\n",
       "      <td>0.076881</td>\n",
       "      <td>0.0</td>\n",
       "      <td>0.448980</td>\n",
       "      <td>...</td>\n",
       "      <td>1.0</td>\n",
       "      <td>0.0</td>\n",
       "      <td>0.0</td>\n",
       "      <td>0.0</td>\n",
       "      <td>0.0</td>\n",
       "    </tr>\n",
       "    <tr>\n",
       "      <th>15550</th>\n",
       "      <td>0.246575</td>\n",
       "      <td>0.600000</td>\n",
       "      <td>0.000000</td>\n",
       "      <td>0.0</td>\n",
       "      <td>0.459184</td>\n",
       "      <td>...</td>\n",
       "      <td>1.0</td>\n",
       "      <td>0.0</td>\n",
       "      <td>0.0</td>\n",
       "      <td>0.0</td>\n",
       "      <td>0.0</td>\n",
       "    </tr>\n",
       "    <tr>\n",
       "      <th>...</th>\n",
       "      <td>...</td>\n",
       "      <td>...</td>\n",
       "      <td>...</td>\n",
       "      <td>...</td>\n",
       "      <td>...</td>\n",
       "      <td>...</td>\n",
       "      <td>...</td>\n",
       "      <td>...</td>\n",
       "      <td>...</td>\n",
       "      <td>...</td>\n",
       "      <td>...</td>\n",
       "    </tr>\n",
       "    <tr>\n",
       "      <th>16955</th>\n",
       "      <td>0.452055</td>\n",
       "      <td>0.533333</td>\n",
       "      <td>0.000000</td>\n",
       "      <td>0.0</td>\n",
       "      <td>0.397959</td>\n",
       "      <td>...</td>\n",
       "      <td>1.0</td>\n",
       "      <td>0.0</td>\n",
       "      <td>0.0</td>\n",
       "      <td>0.0</td>\n",
       "      <td>0.0</td>\n",
       "    </tr>\n",
       "    <tr>\n",
       "      <th>25773</th>\n",
       "      <td>0.547945</td>\n",
       "      <td>0.866667</td>\n",
       "      <td>0.000000</td>\n",
       "      <td>0.0</td>\n",
       "      <td>0.551020</td>\n",
       "      <td>...</td>\n",
       "      <td>1.0</td>\n",
       "      <td>0.0</td>\n",
       "      <td>0.0</td>\n",
       "      <td>0.0</td>\n",
       "      <td>0.0</td>\n",
       "    </tr>\n",
       "    <tr>\n",
       "      <th>27377</th>\n",
       "      <td>0.000000</td>\n",
       "      <td>0.400000</td>\n",
       "      <td>0.000000</td>\n",
       "      <td>0.0</td>\n",
       "      <td>0.112245</td>\n",
       "      <td>...</td>\n",
       "      <td>1.0</td>\n",
       "      <td>0.0</td>\n",
       "      <td>0.0</td>\n",
       "      <td>0.0</td>\n",
       "      <td>0.0</td>\n",
       "    </tr>\n",
       "    <tr>\n",
       "      <th>3491</th>\n",
       "      <td>0.643836</td>\n",
       "      <td>0.400000</td>\n",
       "      <td>0.036740</td>\n",
       "      <td>0.0</td>\n",
       "      <td>0.346939</td>\n",
       "      <td>...</td>\n",
       "      <td>0.0</td>\n",
       "      <td>0.0</td>\n",
       "      <td>0.0</td>\n",
       "      <td>0.0</td>\n",
       "      <td>0.0</td>\n",
       "    </tr>\n",
       "    <tr>\n",
       "      <th>14100</th>\n",
       "      <td>0.328767</td>\n",
       "      <td>0.533333</td>\n",
       "      <td>0.000000</td>\n",
       "      <td>0.0</td>\n",
       "      <td>0.397959</td>\n",
       "      <td>...</td>\n",
       "      <td>1.0</td>\n",
       "      <td>0.0</td>\n",
       "      <td>0.0</td>\n",
       "      <td>0.0</td>\n",
       "      <td>0.0</td>\n",
       "    </tr>\n",
       "  </tbody>\n",
       "</table>\n",
       "<p>24420 rows × 91 columns</p>\n",
       "</div>"
      ],
      "text/plain": [
       "            age  education.num  capital.gain  capital.loss  hours.per.week  \\\n",
       "9739   0.397260       0.533333      0.000000           0.0        0.397959   \n",
       "23394  0.342466       0.800000      0.000000           0.0        0.500000   \n",
       "25744  0.287671       0.666667      0.000000           0.0        0.397959   \n",
       "2631   0.397260       0.800000      0.076881           0.0        0.448980   \n",
       "15550  0.246575       0.600000      0.000000           0.0        0.459184   \n",
       "...         ...            ...           ...           ...             ...   \n",
       "16955  0.452055       0.533333      0.000000           0.0        0.397959   \n",
       "25773  0.547945       0.866667      0.000000           0.0        0.551020   \n",
       "27377  0.000000       0.400000      0.000000           0.0        0.112245   \n",
       "3491   0.643836       0.400000      0.036740           0.0        0.346939   \n",
       "14100  0.328767       0.533333      0.000000           0.0        0.397959   \n",
       "\n",
       "       ... workclass_Private  workclass_Self-emp-inc  \\\n",
       "9739   ...               1.0                     0.0   \n",
       "23394  ...               1.0                     0.0   \n",
       "25744  ...               1.0                     0.0   \n",
       "2631   ...               1.0                     0.0   \n",
       "15550  ...               1.0                     0.0   \n",
       "...    ...               ...                     ...   \n",
       "16955  ...               1.0                     0.0   \n",
       "25773  ...               1.0                     0.0   \n",
       "27377  ...               1.0                     0.0   \n",
       "3491   ...               0.0                     0.0   \n",
       "14100  ...               1.0                     0.0   \n",
       "\n",
       "       workclass_Self-emp-not-inc  workclass_State-gov  workclass_Without-pay  \n",
       "9739                          0.0                  0.0                    0.0  \n",
       "23394                         0.0                  0.0                    0.0  \n",
       "25744                         0.0                  0.0                    0.0  \n",
       "2631                          0.0                  0.0                    0.0  \n",
       "15550                         0.0                  0.0                    0.0  \n",
       "...                           ...                  ...                    ...  \n",
       "16955                         0.0                  0.0                    0.0  \n",
       "25773                         0.0                  0.0                    0.0  \n",
       "27377                         0.0                  0.0                    0.0  \n",
       "3491                          0.0                  0.0                    0.0  \n",
       "14100                         0.0                  0.0                    0.0  \n",
       "\n",
       "[24420 rows x 91 columns]"
      ]
     },
     "execution_count": 3,
     "metadata": {},
     "output_type": "execute_result"
    }
   ],
   "source": [
    "from carla.data.catalog import CsvCatalog\n",
    "import json\n",
    "\n",
    "with open('../data/adult_constraints.json', 'r') as f:\n",
    "    constraints = json.load(f)\n",
    "\n",
    "continuous = constraints['continuous']\n",
    "categorical = constraints['categorical']\n",
    "immutable = constraints['immutable']\n",
    "columns_order = constraints['features_order']\n",
    "\n",
    "dataset = CsvCatalog(file_path=\"../data/adult_prep.csv\",\n",
    "                    continuous=continuous,\n",
    "                    categorical=categorical,\n",
    "                    immutables=immutable,\n",
    "                    target='income')\n",
    "dataset.df.to_csv(\"../data/adult_prep_test.csv\",index=False)\n",
    "\n",
    "X_train = dataset.df_train\n",
    "Y_train = dataset.df_train\n",
    "X_test = dataset.df_test\n",
    "Y_test = dataset.df_test\n",
    "X_train"
   ]
  },
  {
   "cell_type": "code",
   "execution_count": 7,
   "metadata": {},
   "outputs": [
    {
     "data": {
      "text/plain": [
       "array([[1, 0],\n",
       "       [0, 1],\n",
       "       [1, 0],\n",
       "       ...,\n",
       "       [1, 0],\n",
       "       [1, 0],\n",
       "       [1, 0]], dtype=uint8)"
      ]
     },
     "execution_count": 7,
     "metadata": {},
     "output_type": "execute_result"
    }
   ],
   "source": [
    "\n",
    "X_train = X_train[columns_order].to_numpy()\n",
    "Y_train = Y_train['income']\n",
    "Y_train = pd.get_dummies(Y_train).to_numpy()\n",
    "Y_train"
   ]
  },
  {
   "cell_type": "code",
   "execution_count": 8,
   "metadata": {},
   "outputs": [
    {
     "data": {
      "text/plain": [
       "array([[1, 0],\n",
       "       [1, 0],\n",
       "       [1, 0],\n",
       "       ...,\n",
       "       [1, 0],\n",
       "       [1, 0],\n",
       "       [0, 1]], dtype=uint8)"
      ]
     },
     "execution_count": 8,
     "metadata": {},
     "output_type": "execute_result"
    }
   ],
   "source": [
    "X_test = X_test[columns_order].to_numpy()\n",
    "Y_test = Y_test['income']\n",
    "Y_test = pd.get_dummies(Y_test).to_numpy()\n",
    "Y_test"
   ]
  },
  {
   "cell_type": "code",
   "execution_count": 5,
   "metadata": {},
   "outputs": [
    {
     "data": {
      "text/plain": [
       "90"
      ]
     },
     "execution_count": 5,
     "metadata": {},
     "output_type": "execute_result"
    }
   ],
   "source": [
    "constraints['features_count']"
   ]
  },
  {
   "cell_type": "code",
   "execution_count": 6,
   "metadata": {},
   "outputs": [],
   "source": [
    "from tensorflow import keras\n",
    "\n",
    "\n",
    "model = tf.keras.Sequential()\n",
    "model.add(tf.keras.layers.Input((constraints['features_count'],)))\n",
    "model.add(tf.keras.layers.Dense(64, activation='relu'))\n",
    "model.add(tf.keras.layers.Dropout(0.2))\n",
    "model.add(tf.keras.layers.Dense(32, activation='relu'))\n",
    "model.add(tf.keras.layers.Dropout(0.2))\n",
    "model.add(tf.keras.layers.Dense(16, activation='relu'))\n",
    "model.add(tf.keras.layers.Dropout(0.2))\n",
    "model.add(tf.keras.layers.Dense(2, activation='softmax'))\n",
    "\n",
    "\n",
    "model.compile(\n",
    "    optimizer='adam',\n",
    "    loss=tf.keras.losses.CategoricalCrossentropy(from_logits=False),\n",
    "    metrics=['accuracy']\n",
    ")"
   ]
  },
  {
   "cell_type": "code",
   "execution_count": 7,
   "metadata": {},
   "outputs": [
    {
     "name": "stdout",
     "output_type": "stream",
     "text": [
      "Train on 24420 samples, validate on 8141 samples\n",
      "Epoch 1/50\n",
      "24420/24420 [==============================] - 1s 23us/sample - loss: 0.4389 - accuracy: 0.7885 - val_loss: 0.3711 - val_accuracy: 0.8288\n",
      "Epoch 2/50\n",
      " 4352/24420 [====>.........................] - ETA: 0s - loss: 0.3958 - accuracy: 0.8116"
     ]
    },
    {
     "name": "stderr",
     "output_type": "stream",
     "text": [
      "c:\\Users\\ignacy\\.conda\\envs\\carla_test\\lib\\site-packages\\keras\\engine\\training_v1.py:2057: UserWarning: `Model.state_updates` will be removed in a future version. This property should not be used in TensorFlow 2.0, as `updates` are applied automatically.\n",
      "  updates = self.state_updates\n"
     ]
    },
    {
     "name": "stdout",
     "output_type": "stream",
     "text": [
      "24420/24420 [==============================] - 0s 14us/sample - loss: 0.3773 - accuracy: 0.8238 - val_loss: 0.3524 - val_accuracy: 0.8397\n",
      "Epoch 3/50\n",
      "24420/24420 [==============================] - 0s 16us/sample - loss: 0.3614 - accuracy: 0.8326 - val_loss: 0.3418 - val_accuracy: 0.8409\n",
      "Epoch 4/50\n",
      "24420/24420 [==============================] - 0s 13us/sample - loss: 0.3524 - accuracy: 0.8359 - val_loss: 0.3348 - val_accuracy: 0.8454\n",
      "Epoch 5/50\n",
      "24420/24420 [==============================] - 0s 16us/sample - loss: 0.3420 - accuracy: 0.8414 - val_loss: 0.3335 - val_accuracy: 0.8461\n",
      "Epoch 6/50\n",
      "24420/24420 [==============================] - 0s 16us/sample - loss: 0.3367 - accuracy: 0.8415 - val_loss: 0.3276 - val_accuracy: 0.8449\n",
      "Epoch 7/50\n",
      "24420/24420 [==============================] - 0s 15us/sample - loss: 0.3310 - accuracy: 0.8474 - val_loss: 0.3250 - val_accuracy: 0.8468\n",
      "Epoch 8/50\n",
      "24420/24420 [==============================] - 0s 17us/sample - loss: 0.3262 - accuracy: 0.8473 - val_loss: 0.3206 - val_accuracy: 0.8511\n",
      "Epoch 9/50\n",
      "24420/24420 [==============================] - 0s 15us/sample - loss: 0.3231 - accuracy: 0.8507 - val_loss: 0.3217 - val_accuracy: 0.8472\n",
      "Epoch 10/50\n",
      "24420/24420 [==============================] - 0s 14us/sample - loss: 0.3205 - accuracy: 0.8507 - val_loss: 0.3202 - val_accuracy: 0.8516\n",
      "Epoch 11/50\n",
      "24420/24420 [==============================] - 0s 14us/sample - loss: 0.3152 - accuracy: 0.8541 - val_loss: 0.3209 - val_accuracy: 0.8544\n",
      "Epoch 12/50\n",
      "24420/24420 [==============================] - 0s 14us/sample - loss: 0.3158 - accuracy: 0.8532 - val_loss: 0.3172 - val_accuracy: 0.8546\n",
      "Epoch 13/50\n",
      "24420/24420 [==============================] - 0s 16us/sample - loss: 0.3130 - accuracy: 0.8555 - val_loss: 0.3183 - val_accuracy: 0.8533\n",
      "Epoch 14/50\n",
      "24420/24420 [==============================] - 0s 15us/sample - loss: 0.3111 - accuracy: 0.8574 - val_loss: 0.3193 - val_accuracy: 0.8541\n",
      "Epoch 15/50\n",
      "24420/24420 [==============================] - 0s 17us/sample - loss: 0.3090 - accuracy: 0.8578 - val_loss: 0.3171 - val_accuracy: 0.8539\n",
      "Epoch 16/50\n",
      "24420/24420 [==============================] - 0s 16us/sample - loss: 0.3071 - accuracy: 0.8573 - val_loss: 0.3180 - val_accuracy: 0.8537\n",
      "Epoch 17/50\n",
      "24420/24420 [==============================] - 0s 16us/sample - loss: 0.3078 - accuracy: 0.8576 - val_loss: 0.3197 - val_accuracy: 0.8546\n",
      "Epoch 18/50\n",
      "24420/24420 [==============================] - 0s 15us/sample - loss: 0.3068 - accuracy: 0.8587 - val_loss: 0.3202 - val_accuracy: 0.8548\n",
      "Epoch 19/50\n",
      "24420/24420 [==============================] - 0s 15us/sample - loss: 0.3041 - accuracy: 0.8592 - val_loss: 0.3184 - val_accuracy: 0.8538\n",
      "Epoch 20/50\n",
      "24420/24420 [==============================] - 0s 14us/sample - loss: 0.3049 - accuracy: 0.8597 - val_loss: 0.3180 - val_accuracy: 0.8544\n",
      "Epoch 21/50\n",
      "24420/24420 [==============================] - 0s 14us/sample - loss: 0.3031 - accuracy: 0.8610 - val_loss: 0.3207 - val_accuracy: 0.8560\n",
      "Epoch 22/50\n",
      "24420/24420 [==============================] - 0s 14us/sample - loss: 0.3017 - accuracy: 0.8622 - val_loss: 0.3194 - val_accuracy: 0.8553\n",
      "Epoch 23/50\n",
      "24420/24420 [==============================] - 0s 14us/sample - loss: 0.3015 - accuracy: 0.8624 - val_loss: 0.3205 - val_accuracy: 0.8551\n",
      "Epoch 24/50\n",
      "24420/24420 [==============================] - 0s 16us/sample - loss: 0.2992 - accuracy: 0.8613 - val_loss: 0.3188 - val_accuracy: 0.8554\n",
      "Epoch 25/50\n",
      "24420/24420 [==============================] - 0s 15us/sample - loss: 0.3016 - accuracy: 0.8596 - val_loss: 0.3190 - val_accuracy: 0.8547\n"
     ]
    },
    {
     "data": {
      "text/plain": [
       "<keras.callbacks.History at 0x2701a233ac8>"
      ]
     },
     "execution_count": 7,
     "metadata": {},
     "output_type": "execute_result"
    }
   ],
   "source": [
    "model.fit(\n",
    "    X_train, \n",
    "    Y_train,\n",
    "    epochs=50,\n",
    "    batch_size=128,\n",
    "    validation_data=(X_test, Y_test),\n",
    "    shuffle=True,\n",
    "    callbacks=[\n",
    "        tf.keras.callbacks.EarlyStopping(patience=10)\n",
    "    ]\n",
    ")"
   ]
  },
  {
   "cell_type": "code",
   "execution_count": 8,
   "metadata": {},
   "outputs": [],
   "source": [
    "model.save('../models/adult_NN.h5', overwrite=True, save_format='h5')"
   ]
  },
  {
   "cell_type": "code",
   "execution_count": 11,
   "metadata": {},
   "outputs": [
    {
     "name": "stderr",
     "output_type": "stream",
     "text": [
      "c:\\Users\\ignacy\\.conda\\envs\\carla_test\\lib\\site-packages\\keras\\engine\\training_v1.py:2079: UserWarning: `Model.state_updates` will be removed in a future version. This property should not be used in TensorFlow 2.0, as `updates` are applied automatically.\n",
      "  updates=self.state_updates,\n"
     ]
    },
    {
     "data": {
      "text/plain": [
       "array([[8.3331722e-01, 1.6668279e-01],\n",
       "       [9.9963045e-01, 3.6948692e-04]], dtype=float32)"
      ]
     },
     "execution_count": 11,
     "metadata": {},
     "output_type": "execute_result"
    }
   ],
   "source": [
    "model.save('../models/adult_NN', overwrite=True)\n",
    "model_test = tf.keras.models.load_model('../models/adult_NN.h5')\n",
    "model_test.predict(X_test[0:2], verbose=1)"
   ]
  },
  {
   "cell_type": "code",
   "execution_count": 12,
   "metadata": {},
   "outputs": [],
   "source": [
    "model.load_weights('../models/adult_NN.h5')"
   ]
  },
  {
   "cell_type": "code",
   "execution_count": 13,
   "metadata": {},
   "outputs": [
    {
     "data": {
      "text/plain": [
       "(90,)"
      ]
     },
     "execution_count": 13,
     "metadata": {},
     "output_type": "execute_result"
    }
   ],
   "source": [
    "X_test[0].shape"
   ]
  },
  {
   "cell_type": "code",
   "execution_count": 14,
   "metadata": {},
   "outputs": [
    {
     "name": "stderr",
     "output_type": "stream",
     "text": [
      "c:\\Users\\ignacy\\.conda\\envs\\carla_test\\lib\\site-packages\\keras\\engine\\training_v1.py:2079: UserWarning: `Model.state_updates` will be removed in a future version. This property should not be used in TensorFlow 2.0, as `updates` are applied automatically.\n",
      "  updates=self.state_updates,\n"
     ]
    },
    {
     "data": {
      "text/plain": [
       "array([[8.3331722e-01, 1.6668279e-01],\n",
       "       [9.9963045e-01, 3.6948692e-04]], dtype=float32)"
      ]
     },
     "execution_count": 14,
     "metadata": {},
     "output_type": "execute_result"
    }
   ],
   "source": [
    "model.predict(X_test[0:2], verbose=1)\n"
   ]
  },
  {
   "attachments": {},
   "cell_type": "markdown",
   "metadata": {},
   "source": [
    "RandomForest"
   ]
  },
  {
   "cell_type": "code",
   "execution_count": 5,
   "metadata": {},
   "outputs": [],
   "source": [
    "from sklearn.ensemble import RandomForestClassifier\n",
    "from sklearn.model_selection import train_test_split\n",
    "from joblib import dump, load"
   ]
  },
  {
   "cell_type": "code",
   "execution_count": 9,
   "metadata": {},
   "outputs": [
    {
     "data": {
      "text/plain": [
       "RandomForestClassifier(criterion='entropy', random_state=44)"
      ]
     },
     "execution_count": 9,
     "metadata": {},
     "output_type": "execute_result"
    }
   ],
   "source": [
    "classifier = RandomForestClassifier(random_state=seed, criterion='entropy')\n",
    "classifier.fit(X_train, Y_train)"
   ]
  },
  {
   "cell_type": "code",
   "execution_count": 10,
   "metadata": {},
   "outputs": [
    {
     "data": {
      "text/plain": [
       "0.8502640953199853"
      ]
     },
     "execution_count": 10,
     "metadata": {},
     "output_type": "execute_result"
    }
   ],
   "source": [
    "classifier.score(X_test, Y_test)"
   ]
  },
  {
   "cell_type": "code",
   "execution_count": 11,
   "metadata": {},
   "outputs": [
    {
     "data": {
      "text/plain": [
       "['../models/adult_RF.joblib']"
      ]
     },
     "execution_count": 11,
     "metadata": {},
     "output_type": "execute_result"
    }
   ],
   "source": [
    "dump(classifier, '../models/adult_RF.joblib')"
   ]
  },
  {
   "cell_type": "code",
   "execution_count": null,
   "metadata": {},
   "outputs": [],
   "source": [
    "clf = load('../models/adult_RF.joblib')"
   ]
  },
  {
   "cell_type": "code",
   "execution_count": null,
   "metadata": {},
   "outputs": [],
   "source": [
    "print(y_test[0:5])\n",
    "clf.predict(X_test[0:5])"
   ]
  },
  {
   "cell_type": "code",
   "execution_count": null,
   "metadata": {},
   "outputs": [],
   "source": []
  }
 ],
 "metadata": {
  "kernelspec": {
   "display_name": "carla_test",
   "language": "python",
   "name": "python3"
  },
  "language_info": {
   "codemirror_mode": {
    "name": "ipython",
    "version": 3
   },
   "file_extension": ".py",
   "mimetype": "text/x-python",
   "name": "python",
   "nbconvert_exporter": "python",
   "pygments_lexer": "ipython3",
   "version": "3.7.15"
  },
  "orig_nbformat": 4,
  "vscode": {
   "interpreter": {
    "hash": "c8cd568f01311158469e8ad635de8416950bf32caa8f3b3e51767f8211837427"
   }
  }
 },
 "nbformat": 4,
 "nbformat_minor": 2
}
