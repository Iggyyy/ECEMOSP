{
 "cells": [
  {
   "cell_type": "code",
   "execution_count": 1,
   "metadata": {},
   "outputs": [],
   "source": [
    "import warnings\n",
    "import tensorflow as tf\n",
    "import numpy as np\n",
    "import pandas as pd\n",
    "import json\n",
    "#from modules.CARLA import carla\n",
    "\n",
    "seed = 44\n",
    "\n",
    "tf.random.set_seed(seed)\n",
    "np.random.seed(seed)"
   ]
  },
  {
   "cell_type": "code",
   "execution_count": 2,
   "metadata": {},
   "outputs": [],
   "source": [
    "# from carla.data.catalog import CsvCatalog\n",
    "# import json\n",
    "\n",
    "# with open('../data/adult_constraints.json', 'r') as f:\n",
    "#     constraints = json.load(f)\n",
    "\n",
    "# continuous = constraints['continuous']\n",
    "# categorical = constraints['categorical']\n",
    "# immutable = constraints['immutable']\n",
    "# columns_order = constraints['features_order']\n",
    "\n",
    "# dataset = CsvCatalog(file_path=\"../data/adult_prep.csv\",\n",
    "#                     continuous=continuous,\n",
    "#                     categorical=categorical,\n",
    "#                     immutables=immutable,\n",
    "#                     target='income')\n",
    "# dataset.df.to_csv(\"../data/adult_prep_test.csv\",index=False)\n",
    "\n",
    "\n",
    "\n",
    "# X_train = dataset.df_train\n",
    "# Y_train = dataset.df_train\n",
    "# X_test = dataset.df_test\n",
    "# Y_test = dataset.df_test\n",
    "# X_train"
   ]
  },
  {
   "cell_type": "code",
   "execution_count": 4,
   "metadata": {},
   "outputs": [
    {
     "data": {
      "text/plain": [
       "Index(['capital.gain', 'education.num', 'capital.loss', 'hours.per.week',\n",
       "       'age', 'workclass_?', 'workclass_Federal-gov', 'workclass_Local-gov',\n",
       "       'workclass_Never-worked', 'workclass_Private', 'workclass_Self-emp-inc',\n",
       "       'workclass_Self-emp-not-inc', 'workclass_State-gov',\n",
       "       'workclass_Without-pay', 'marital.status_Divorced',\n",
       "       'marital.status_Married-AF-spouse', 'marital.status_Married-civ-spouse',\n",
       "       'marital.status_Married-spouse-absent', 'marital.status_Never-married',\n",
       "       'marital.status_Separated', 'marital.status_Widowed', 'occupation_?',\n",
       "       'occupation_Adm-clerical', 'occupation_Armed-Forces',\n",
       "       'occupation_Craft-repair', 'occupation_Exec-managerial',\n",
       "       'occupation_Farming-fishing', 'occupation_Handlers-cleaners',\n",
       "       'occupation_Machine-op-inspct', 'occupation_Other-service',\n",
       "       'occupation_Priv-house-serv', 'occupation_Prof-specialty',\n",
       "       'occupation_Protective-serv', 'occupation_Sales',\n",
       "       'occupation_Tech-support', 'occupation_Transport-moving',\n",
       "       'race_Amer-Indian-Eskimo', 'race_Asian-Pac-Islander', 'race_Black',\n",
       "       'race_Other', 'race_White', 'sex_Female', 'sex_Male',\n",
       "       'native.country_?', 'native.country_Cambodia', 'native.country_Canada',\n",
       "       'native.country_China', 'native.country_Columbia',\n",
       "       'native.country_Cuba', 'native.country_Dominican-Republic',\n",
       "       'native.country_Ecuador', 'native.country_El-Salvador',\n",
       "       'native.country_England', 'native.country_France',\n",
       "       'native.country_Germany', 'native.country_Greece',\n",
       "       'native.country_Guatemala', 'native.country_Haiti',\n",
       "       'native.country_Holand-Netherlands', 'native.country_Honduras',\n",
       "       'native.country_Hong', 'native.country_Hungary', 'native.country_India',\n",
       "       'native.country_Iran', 'native.country_Ireland', 'native.country_Italy',\n",
       "       'native.country_Jamaica', 'native.country_Japan', 'native.country_Laos',\n",
       "       'native.country_Mexico', 'native.country_Nicaragua',\n",
       "       'native.country_Outlying-US(Guam-USVI-etc)', 'native.country_Peru',\n",
       "       'native.country_Philippines', 'native.country_Poland',\n",
       "       'native.country_Portugal', 'native.country_Puerto-Rico',\n",
       "       'native.country_Scotland', 'native.country_South',\n",
       "       'native.country_Taiwan', 'native.country_Thailand',\n",
       "       'native.country_Trinadad&Tobago', 'native.country_United-States',\n",
       "       'native.country_Vietnam', 'native.country_Yugoslavia'],\n",
       "      dtype='object')"
      ]
     },
     "execution_count": 4,
     "metadata": {},
     "output_type": "execute_result"
    }
   ],
   "source": [
    "import json\n",
    "import sklearn\n",
    "from sklearn.model_selection import train_test_split\n",
    "\n",
    "with open('../data/adult_constraints.json', 'r') as f:\n",
    "    constr = json.load(f)\n",
    "\n",
    "dataset = pd.read_csv(\"../data/adult_cleaned.csv\")\n",
    "\n",
    "X_train, X_test, Y_train, Y_test = train_test_split(dataset[constr['features_order_after_split']], dataset['income'], test_size=0.2, random_state=seed)\n",
    "X_train.columns"
   ]
  },
  {
   "cell_type": "code",
   "execution_count": 5,
   "metadata": {},
   "outputs": [
    {
     "data": {
      "text/plain": [
       "20789     >50K\n",
       "7665     <=50K\n",
       "7003     <=50K\n",
       "3368     <=50K\n",
       "15072    <=50K\n",
       "         ...  \n",
       "16955    <=50K\n",
       "25773     >50K\n",
       "27377    <=50K\n",
       "3491     <=50K\n",
       "14100    <=50K\n",
       "Name: income, Length: 26048, dtype: object"
      ]
     },
     "execution_count": 5,
     "metadata": {},
     "output_type": "execute_result"
    }
   ],
   "source": [
    "Y_train"
   ]
  },
  {
   "cell_type": "code",
   "execution_count": 6,
   "metadata": {},
   "outputs": [
    {
     "data": {
      "text/plain": [
       "array([[0, 1],\n",
       "       [1, 0],\n",
       "       [1, 0],\n",
       "       ...,\n",
       "       [1, 0],\n",
       "       [1, 0],\n",
       "       [1, 0]], dtype=uint8)"
      ]
     },
     "execution_count": 6,
     "metadata": {},
     "output_type": "execute_result"
    }
   ],
   "source": [
    "\n",
    "X_train = X_train.to_numpy()\n",
    "Y_train = Y_train\n",
    "Y_train = pd.get_dummies(Y_train).to_numpy()\n",
    "Y_train"
   ]
  },
  {
   "cell_type": "code",
   "execution_count": 7,
   "metadata": {},
   "outputs": [
    {
     "data": {
      "text/plain": [
       "array([[1, 0],\n",
       "       [1, 0],\n",
       "       [1, 0],\n",
       "       ...,\n",
       "       [1, 0],\n",
       "       [1, 0],\n",
       "       [0, 1]], dtype=uint8)"
      ]
     },
     "execution_count": 7,
     "metadata": {},
     "output_type": "execute_result"
    }
   ],
   "source": [
    "X_test = X_test.to_numpy()\n",
    "Y_test = Y_test\n",
    "Y_test = pd.get_dummies(Y_test).to_numpy()\n",
    "Y_test"
   ]
  },
  {
   "cell_type": "code",
   "execution_count": 8,
   "metadata": {},
   "outputs": [
    {
     "data": {
      "text/plain": [
       "(26048, 85)"
      ]
     },
     "execution_count": 8,
     "metadata": {},
     "output_type": "execute_result"
    }
   ],
   "source": [
    "X_train.shape"
   ]
  },
  {
   "cell_type": "code",
   "execution_count": 9,
   "metadata": {},
   "outputs": [
    {
     "data": {
      "text/plain": [
       "(26048, 2)"
      ]
     },
     "execution_count": 9,
     "metadata": {},
     "output_type": "execute_result"
    }
   ],
   "source": [
    "Y_train.shape"
   ]
  },
  {
   "cell_type": "code",
   "execution_count": 10,
   "metadata": {},
   "outputs": [],
   "source": [
    "# sklearn minmaxscaler\n",
    "from sklearn.preprocessing import MinMaxScaler\n",
    "scaler = MinMaxScaler()\n",
    "X_train = scaler.fit_transform(X_train)\n",
    "X_test = scaler.transform(X_test)\n"
   ]
  },
  {
   "cell_type": "code",
   "execution_count": 11,
   "metadata": {},
   "outputs": [
    {
     "data": {
      "text/plain": [
       "85"
      ]
     },
     "execution_count": 11,
     "metadata": {},
     "output_type": "execute_result"
    }
   ],
   "source": [
    "constr['features_count_split_without_target']"
   ]
  },
  {
   "cell_type": "code",
   "execution_count": 12,
   "metadata": {},
   "outputs": [],
   "source": [
    "from tensorflow import keras\n",
    "\n",
    "\n",
    "model = tf.keras.Sequential()\n",
    "model.add(tf.keras.layers.Input((constr['features_count_split_without_target'],)))\n",
    "model.add(tf.keras.layers.Dense(64, activation='relu'))\n",
    "model.add(tf.keras.layers.Dropout(0.2))\n",
    "model.add(tf.keras.layers.Dense(32, activation='relu'))\n",
    "model.add(tf.keras.layers.Dropout(0.2))\n",
    "model.add(tf.keras.layers.Dense(16, activation='relu'))\n",
    "model.add(tf.keras.layers.Dropout(0.2))\n",
    "model.add(tf.keras.layers.Dense(2))\n",
    "model.add(tf.keras.layers.Softmax())\n",
    "\n",
    "\n",
    "model.compile(\n",
    "    optimizer='rmsprop',\n",
    "    loss=tf.keras.losses.CategoricalCrossentropy(from_logits=False),\n",
    "    metrics=['accuracy']\n",
    ")"
   ]
  },
  {
   "cell_type": "code",
   "execution_count": 13,
   "metadata": {},
   "outputs": [
    {
     "name": "stdout",
     "output_type": "stream",
     "text": [
      "Epoch 1/50\n",
      "102/102 [==============================] - 1s 5ms/step - loss: 0.4861 - accuracy: 0.7621 - val_loss: 0.3893 - val_accuracy: 0.8251\n",
      "Epoch 2/50\n",
      "102/102 [==============================] - 0s 3ms/step - loss: 0.3963 - accuracy: 0.8185 - val_loss: 0.3726 - val_accuracy: 0.8316\n",
      "Epoch 3/50\n",
      "102/102 [==============================] - 0s 3ms/step - loss: 0.3780 - accuracy: 0.8262 - val_loss: 0.3616 - val_accuracy: 0.8303\n",
      "Epoch 4/50\n",
      "102/102 [==============================] - 0s 3ms/step - loss: 0.3686 - accuracy: 0.8290 - val_loss: 0.3563 - val_accuracy: 0.8340\n",
      "Epoch 5/50\n",
      "102/102 [==============================] - 0s 3ms/step - loss: 0.3596 - accuracy: 0.8359 - val_loss: 0.3479 - val_accuracy: 0.8385\n",
      "Epoch 6/50\n",
      "102/102 [==============================] - 0s 3ms/step - loss: 0.3510 - accuracy: 0.8394 - val_loss: 0.3451 - val_accuracy: 0.8400\n",
      "Epoch 7/50\n",
      "102/102 [==============================] - 0s 3ms/step - loss: 0.3454 - accuracy: 0.8413 - val_loss: 0.3413 - val_accuracy: 0.8417\n",
      "Epoch 8/50\n",
      "102/102 [==============================] - 0s 3ms/step - loss: 0.3402 - accuracy: 0.8446 - val_loss: 0.3335 - val_accuracy: 0.8429\n",
      "Epoch 9/50\n",
      "102/102 [==============================] - 0s 3ms/step - loss: 0.3356 - accuracy: 0.8451 - val_loss: 0.3311 - val_accuracy: 0.8460\n",
      "Epoch 10/50\n",
      "102/102 [==============================] - 0s 3ms/step - loss: 0.3320 - accuracy: 0.8471 - val_loss: 0.3300 - val_accuracy: 0.8452\n",
      "Epoch 11/50\n",
      "102/102 [==============================] - 0s 3ms/step - loss: 0.3306 - accuracy: 0.8489 - val_loss: 0.3297 - val_accuracy: 0.8468\n",
      "Epoch 12/50\n",
      "102/102 [==============================] - 0s 3ms/step - loss: 0.3261 - accuracy: 0.8490 - val_loss: 0.3318 - val_accuracy: 0.8451\n",
      "Epoch 13/50\n",
      "102/102 [==============================] - 0s 4ms/step - loss: 0.3251 - accuracy: 0.8512 - val_loss: 0.3264 - val_accuracy: 0.8474\n",
      "Epoch 14/50\n",
      "102/102 [==============================] - 0s 3ms/step - loss: 0.3221 - accuracy: 0.8515 - val_loss: 0.3262 - val_accuracy: 0.8454\n",
      "Epoch 15/50\n",
      "102/102 [==============================] - 0s 3ms/step - loss: 0.3185 - accuracy: 0.8538 - val_loss: 0.3241 - val_accuracy: 0.8500\n",
      "Epoch 16/50\n",
      "102/102 [==============================] - 0s 3ms/step - loss: 0.3182 - accuracy: 0.8522 - val_loss: 0.3238 - val_accuracy: 0.8498\n",
      "Epoch 17/50\n",
      "102/102 [==============================] - 0s 3ms/step - loss: 0.3162 - accuracy: 0.8535 - val_loss: 0.3249 - val_accuracy: 0.8466\n",
      "Epoch 18/50\n",
      "102/102 [==============================] - 0s 3ms/step - loss: 0.3163 - accuracy: 0.8545 - val_loss: 0.3261 - val_accuracy: 0.8486\n",
      "Epoch 19/50\n",
      "102/102 [==============================] - 0s 3ms/step - loss: 0.3141 - accuracy: 0.8566 - val_loss: 0.3233 - val_accuracy: 0.8494\n",
      "Epoch 20/50\n",
      "102/102 [==============================] - 0s 3ms/step - loss: 0.3123 - accuracy: 0.8571 - val_loss: 0.3231 - val_accuracy: 0.8501\n",
      "Epoch 21/50\n",
      "102/102 [==============================] - 0s 3ms/step - loss: 0.3123 - accuracy: 0.8566 - val_loss: 0.3225 - val_accuracy: 0.8514\n",
      "Epoch 22/50\n",
      "102/102 [==============================] - 0s 3ms/step - loss: 0.3109 - accuracy: 0.8577 - val_loss: 0.3232 - val_accuracy: 0.8495\n",
      "Epoch 23/50\n",
      "102/102 [==============================] - 0s 3ms/step - loss: 0.3116 - accuracy: 0.8579 - val_loss: 0.3270 - val_accuracy: 0.8463\n",
      "Epoch 24/50\n",
      "102/102 [==============================] - 0s 3ms/step - loss: 0.3101 - accuracy: 0.8601 - val_loss: 0.3272 - val_accuracy: 0.8483\n",
      "Epoch 25/50\n",
      "102/102 [==============================] - 0s 3ms/step - loss: 0.3102 - accuracy: 0.8594 - val_loss: 0.3238 - val_accuracy: 0.8498\n",
      "Epoch 26/50\n",
      "102/102 [==============================] - 0s 3ms/step - loss: 0.3082 - accuracy: 0.8604 - val_loss: 0.3275 - val_accuracy: 0.8517\n",
      "Epoch 27/50\n",
      "102/102 [==============================] - 0s 3ms/step - loss: 0.3073 - accuracy: 0.8593 - val_loss: 0.3268 - val_accuracy: 0.8511\n",
      "Epoch 28/50\n",
      "102/102 [==============================] - 0s 3ms/step - loss: 0.3073 - accuracy: 0.8596 - val_loss: 0.3221 - val_accuracy: 0.8515\n",
      "Epoch 29/50\n",
      "102/102 [==============================] - 0s 3ms/step - loss: 0.3066 - accuracy: 0.8585 - val_loss: 0.3242 - val_accuracy: 0.8508\n",
      "Epoch 30/50\n",
      "102/102 [==============================] - 0s 3ms/step - loss: 0.3067 - accuracy: 0.8598 - val_loss: 0.3234 - val_accuracy: 0.8485\n",
      "Epoch 31/50\n",
      "102/102 [==============================] - 0s 3ms/step - loss: 0.3062 - accuracy: 0.8606 - val_loss: 0.3224 - val_accuracy: 0.8521\n",
      "Epoch 32/50\n",
      "102/102 [==============================] - 0s 4ms/step - loss: 0.3053 - accuracy: 0.8604 - val_loss: 0.3231 - val_accuracy: 0.8511\n",
      "Epoch 33/50\n",
      "102/102 [==============================] - 0s 3ms/step - loss: 0.3054 - accuracy: 0.8609 - val_loss: 0.3227 - val_accuracy: 0.8514\n",
      "Epoch 34/50\n",
      "102/102 [==============================] - 0s 3ms/step - loss: 0.3059 - accuracy: 0.8618 - val_loss: 0.3237 - val_accuracy: 0.8520\n",
      "Epoch 35/50\n",
      "102/102 [==============================] - 0s 3ms/step - loss: 0.3032 - accuracy: 0.8614 - val_loss: 0.3222 - val_accuracy: 0.8524\n",
      "Epoch 36/50\n",
      "102/102 [==============================] - 0s 3ms/step - loss: 0.3030 - accuracy: 0.8616 - val_loss: 0.3230 - val_accuracy: 0.8523\n",
      "Epoch 37/50\n",
      "102/102 [==============================] - 0s 3ms/step - loss: 0.3029 - accuracy: 0.8607 - val_loss: 0.3234 - val_accuracy: 0.8531\n",
      "Epoch 38/50\n",
      "102/102 [==============================] - 0s 3ms/step - loss: 0.3020 - accuracy: 0.8625 - val_loss: 0.3250 - val_accuracy: 0.8501\n"
     ]
    },
    {
     "data": {
      "text/plain": [
       "<keras.callbacks.History at 0x210984a9d80>"
      ]
     },
     "execution_count": 13,
     "metadata": {},
     "output_type": "execute_result"
    }
   ],
   "source": [
    "model.fit(\n",
    "    X_train, \n",
    "    Y_train,\n",
    "    epochs=50,\n",
    "    batch_size=256,\n",
    "    validation_data=(X_test, Y_test),\n",
    "    shuffle=True,\n",
    "    callbacks=[\n",
    "        tf.keras.callbacks.EarlyStopping(patience=10)\n",
    "    ]\n",
    ")"
   ]
  },
  {
   "cell_type": "code",
   "execution_count": 14,
   "metadata": {},
   "outputs": [],
   "source": [
    "model.save('../models/adult_NN.h5', overwrite=True, save_format='h5')"
   ]
  },
  {
   "cell_type": "code",
   "execution_count": 15,
   "metadata": {},
   "outputs": [
    {
     "name": "stderr",
     "output_type": "stream",
     "text": [
      "WARNING:absl:Found untraced functions such as _update_step_xla while saving (showing 1 of 1). These functions will not be directly callable after loading.\n"
     ]
    },
    {
     "name": "stdout",
     "output_type": "stream",
     "text": [
      "INFO:tensorflow:Assets written to: ../models/adult_NN\\assets\n"
     ]
    },
    {
     "name": "stderr",
     "output_type": "stream",
     "text": [
      "INFO:tensorflow:Assets written to: ../models/adult_NN\\assets\n"
     ]
    },
    {
     "name": "stdout",
     "output_type": "stream",
     "text": [
      "1/1 [==============================] - 0s 87ms/step\n"
     ]
    },
    {
     "data": {
      "text/plain": [
       "array([[9.321678e-01, 6.783224e-02],\n",
       "       [9.990681e-01, 9.319379e-04]], dtype=float32)"
      ]
     },
     "execution_count": 15,
     "metadata": {},
     "output_type": "execute_result"
    }
   ],
   "source": [
    "model.save('../models/adult_NN', overwrite=True)\n",
    "model_test = tf.keras.models.load_model('../models/adult_NN.h5')\n",
    "model_test.predict(X_test[0:2], verbose=1)"
   ]
  },
  {
   "cell_type": "code",
   "execution_count": 16,
   "metadata": {},
   "outputs": [],
   "source": [
    "model.load_weights('../models/adult_NN.h5')"
   ]
  },
  {
   "cell_type": "code",
   "execution_count": 17,
   "metadata": {},
   "outputs": [
    {
     "data": {
      "text/plain": [
       "(85,)"
      ]
     },
     "execution_count": 17,
     "metadata": {},
     "output_type": "execute_result"
    }
   ],
   "source": [
    "X_test[0].shape"
   ]
  },
  {
   "cell_type": "code",
   "execution_count": 18,
   "metadata": {},
   "outputs": [
    {
     "name": "stdout",
     "output_type": "stream",
     "text": [
      "1/1 [==============================] - 0s 61ms/step\n"
     ]
    },
    {
     "data": {
      "text/plain": [
       "array([[9.321678e-01, 6.783224e-02],\n",
       "       [9.990681e-01, 9.319379e-04]], dtype=float32)"
      ]
     },
     "execution_count": 18,
     "metadata": {},
     "output_type": "execute_result"
    }
   ],
   "source": [
    "model.predict(X_test[0:2], verbose=1)\n"
   ]
  },
  {
   "attachments": {},
   "cell_type": "markdown",
   "metadata": {},
   "source": [
    "RandomForest"
   ]
  },
  {
   "cell_type": "code",
   "execution_count": 19,
   "metadata": {},
   "outputs": [],
   "source": [
    "from sklearn.ensemble import RandomForestClassifier\n",
    "from sklearn.model_selection import train_test_split\n",
    "from joblib import dump, load"
   ]
  },
  {
   "cell_type": "code",
   "execution_count": 20,
   "metadata": {},
   "outputs": [
    {
     "data": {
      "text/html": [
       "<style>#sk-container-id-1 {color: black;background-color: white;}#sk-container-id-1 pre{padding: 0;}#sk-container-id-1 div.sk-toggleable {background-color: white;}#sk-container-id-1 label.sk-toggleable__label {cursor: pointer;display: block;width: 100%;margin-bottom: 0;padding: 0.3em;box-sizing: border-box;text-align: center;}#sk-container-id-1 label.sk-toggleable__label-arrow:before {content: \"▸\";float: left;margin-right: 0.25em;color: #696969;}#sk-container-id-1 label.sk-toggleable__label-arrow:hover:before {color: black;}#sk-container-id-1 div.sk-estimator:hover label.sk-toggleable__label-arrow:before {color: black;}#sk-container-id-1 div.sk-toggleable__content {max-height: 0;max-width: 0;overflow: hidden;text-align: left;background-color: #f0f8ff;}#sk-container-id-1 div.sk-toggleable__content pre {margin: 0.2em;color: black;border-radius: 0.25em;background-color: #f0f8ff;}#sk-container-id-1 input.sk-toggleable__control:checked~div.sk-toggleable__content {max-height: 200px;max-width: 100%;overflow: auto;}#sk-container-id-1 input.sk-toggleable__control:checked~label.sk-toggleable__label-arrow:before {content: \"▾\";}#sk-container-id-1 div.sk-estimator input.sk-toggleable__control:checked~label.sk-toggleable__label {background-color: #d4ebff;}#sk-container-id-1 div.sk-label input.sk-toggleable__control:checked~label.sk-toggleable__label {background-color: #d4ebff;}#sk-container-id-1 input.sk-hidden--visually {border: 0;clip: rect(1px 1px 1px 1px);clip: rect(1px, 1px, 1px, 1px);height: 1px;margin: -1px;overflow: hidden;padding: 0;position: absolute;width: 1px;}#sk-container-id-1 div.sk-estimator {font-family: monospace;background-color: #f0f8ff;border: 1px dotted black;border-radius: 0.25em;box-sizing: border-box;margin-bottom: 0.5em;}#sk-container-id-1 div.sk-estimator:hover {background-color: #d4ebff;}#sk-container-id-1 div.sk-parallel-item::after {content: \"\";width: 100%;border-bottom: 1px solid gray;flex-grow: 1;}#sk-container-id-1 div.sk-label:hover label.sk-toggleable__label {background-color: #d4ebff;}#sk-container-id-1 div.sk-serial::before {content: \"\";position: absolute;border-left: 1px solid gray;box-sizing: border-box;top: 0;bottom: 0;left: 50%;z-index: 0;}#sk-container-id-1 div.sk-serial {display: flex;flex-direction: column;align-items: center;background-color: white;padding-right: 0.2em;padding-left: 0.2em;position: relative;}#sk-container-id-1 div.sk-item {position: relative;z-index: 1;}#sk-container-id-1 div.sk-parallel {display: flex;align-items: stretch;justify-content: center;background-color: white;position: relative;}#sk-container-id-1 div.sk-item::before, #sk-container-id-1 div.sk-parallel-item::before {content: \"\";position: absolute;border-left: 1px solid gray;box-sizing: border-box;top: 0;bottom: 0;left: 50%;z-index: -1;}#sk-container-id-1 div.sk-parallel-item {display: flex;flex-direction: column;z-index: 1;position: relative;background-color: white;}#sk-container-id-1 div.sk-parallel-item:first-child::after {align-self: flex-end;width: 50%;}#sk-container-id-1 div.sk-parallel-item:last-child::after {align-self: flex-start;width: 50%;}#sk-container-id-1 div.sk-parallel-item:only-child::after {width: 0;}#sk-container-id-1 div.sk-dashed-wrapped {border: 1px dashed gray;margin: 0 0.4em 0.5em 0.4em;box-sizing: border-box;padding-bottom: 0.4em;background-color: white;}#sk-container-id-1 div.sk-label label {font-family: monospace;font-weight: bold;display: inline-block;line-height: 1.2em;}#sk-container-id-1 div.sk-label-container {text-align: center;}#sk-container-id-1 div.sk-container {/* jupyter's `normalize.less` sets `[hidden] { display: none; }` but bootstrap.min.css set `[hidden] { display: none !important; }` so we also need the `!important` here to be able to override the default hidden behavior on the sphinx rendered scikit-learn.org. See: https://github.com/scikit-learn/scikit-learn/issues/21755 */display: inline-block !important;position: relative;}#sk-container-id-1 div.sk-text-repr-fallback {display: none;}</style><div id=\"sk-container-id-1\" class=\"sk-top-container\"><div class=\"sk-text-repr-fallback\"><pre>RandomForestClassifier(max_depth=15, min_samples_leaf=2, min_samples_split=3,\n",
       "                       random_state=44)</pre><b>In a Jupyter environment, please rerun this cell to show the HTML representation or trust the notebook. <br />On GitHub, the HTML representation is unable to render, please try loading this page with nbviewer.org.</b></div><div class=\"sk-container\" hidden><div class=\"sk-item\"><div class=\"sk-estimator sk-toggleable\"><input class=\"sk-toggleable__control sk-hidden--visually\" id=\"sk-estimator-id-1\" type=\"checkbox\" checked><label for=\"sk-estimator-id-1\" class=\"sk-toggleable__label sk-toggleable__label-arrow\">RandomForestClassifier</label><div class=\"sk-toggleable__content\"><pre>RandomForestClassifier(max_depth=15, min_samples_leaf=2, min_samples_split=3,\n",
       "                       random_state=44)</pre></div></div></div></div></div>"
      ],
      "text/plain": [
       "RandomForestClassifier(max_depth=15, min_samples_leaf=2, min_samples_split=3,\n",
       "                       random_state=44)"
      ]
     },
     "execution_count": 20,
     "metadata": {},
     "output_type": "execute_result"
    }
   ],
   "source": [
    "classifier = RandomForestClassifier(\n",
    "    random_state=seed, \n",
    "    criterion='gini', \n",
    "    n_estimators=100, \n",
    "    max_depth=15, \n",
    "    min_samples_split=3, \n",
    "    min_samples_leaf=2, \n",
    "    min_weight_fraction_leaf=0.0, \n",
    "    max_leaf_nodes=None, \n",
    "    min_impurity_decrease=0.0, \n",
    "    )\n",
    "classifier.fit(X_train, Y_train)"
   ]
  },
  {
   "cell_type": "code",
   "execution_count": 21,
   "metadata": {},
   "outputs": [
    {
     "data": {
      "text/plain": [
       "0.8596652848149854"
      ]
     },
     "execution_count": 21,
     "metadata": {},
     "output_type": "execute_result"
    }
   ],
   "source": [
    "classifier.score(X_test, Y_test)"
   ]
  },
  {
   "cell_type": "code",
   "execution_count": 22,
   "metadata": {},
   "outputs": [
    {
     "data": {
      "text/plain": [
       "['../models/adult_RF.joblib']"
      ]
     },
     "execution_count": 22,
     "metadata": {},
     "output_type": "execute_result"
    }
   ],
   "source": [
    "dump(classifier, '../models/adult_RF.joblib')"
   ]
  },
  {
   "cell_type": "code",
   "execution_count": 23,
   "metadata": {},
   "outputs": [],
   "source": [
    "clf = load('../models/adult_RF.joblib')"
   ]
  },
  {
   "cell_type": "code",
   "execution_count": 24,
   "metadata": {},
   "outputs": [
    {
     "name": "stdout",
     "output_type": "stream",
     "text": [
      "[[1 0]\n",
      " [1 0]\n",
      " [1 0]\n",
      " [0 1]\n",
      " [0 1]]\n"
     ]
    },
    {
     "data": {
      "text/plain": [
       "array([[1, 0],\n",
       "       [1, 0],\n",
       "       [1, 0],\n",
       "       [0, 1],\n",
       "       [0, 1]], dtype=uint8)"
      ]
     },
     "execution_count": 24,
     "metadata": {},
     "output_type": "execute_result"
    }
   ],
   "source": [
    "print(Y_test[0:5])\n",
    "clf.predict(X_test[0:5])"
   ]
  },
  {
   "cell_type": "code",
   "execution_count": 25,
   "metadata": {},
   "outputs": [
    {
     "ename": "TypeError",
     "evalue": "file must have a 'write' attribute",
     "output_type": "error",
     "traceback": [
      "\u001b[1;31m---------------------------------------------------------------------------\u001b[0m",
      "\u001b[1;31mTypeError\u001b[0m                                 Traceback (most recent call last)",
      "Cell \u001b[1;32mIn[25], line 3\u001b[0m\n\u001b[0;32m      1\u001b[0m \u001b[39mimport\u001b[39;00m \u001b[39mpickle\u001b[39;00m\n\u001b[1;32m----> 3\u001b[0m pickle\u001b[39m.\u001b[39;49mdump(classifier, \u001b[39m'\u001b[39;49m\u001b[39m../models/adult_RF.pickle\u001b[39;49m\u001b[39m'\u001b[39;49m)\n\u001b[0;32m      5\u001b[0m clf_pickl \u001b[39m=\u001b[39m pickle\u001b[39m.\u001b[39mload(\u001b[39m'\u001b[39m\u001b[39m../models/adult_RF.pickle\u001b[39m\u001b[39m'\u001b[39m)\n\u001b[0;32m      7\u001b[0m clf\u001b[39m.\u001b[39mpredict(X_test[\u001b[39m0\u001b[39m:\u001b[39m5\u001b[39m])\n",
      "\u001b[1;31mTypeError\u001b[0m: file must have a 'write' attribute"
     ]
    }
   ],
   "source": [
    "import pickle\n",
    "\n",
    "with open('../models/adult_RF.pkl', 'w') as f:\n",
    "    pickle.dump(classifier, f)\n",
    "\n",
    "with open('../models/adult_RF.pkl', 'r') as f:\n",
    "    clf_pickl = pickle.load(f)\n",
    "\n",
    "clf.predict(X_test[0:5])"
   ]
  },
  {
   "cell_type": "code",
   "execution_count": null,
   "metadata": {},
   "outputs": [],
   "source": []
  }
 ],
 "metadata": {
  "kernelspec": {
   "display_name": "cf",
   "language": "python",
   "name": "python3"
  },
  "language_info": {
   "codemirror_mode": {
    "name": "ipython",
    "version": 3
   },
   "file_extension": ".py",
   "mimetype": "text/x-python",
   "name": "python",
   "nbconvert_exporter": "python",
   "pygments_lexer": "ipython3",
   "version": "3.10.0"
  },
  "orig_nbformat": 4,
  "vscode": {
   "interpreter": {
    "hash": "81d0d6994cbc9a338f9a3d74dedf5823f97cddc544b8ee56d3ad85196f930114"
   }
  }
 },
 "nbformat": 4,
 "nbformat_minor": 2
}
