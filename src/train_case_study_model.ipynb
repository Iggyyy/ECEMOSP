{
 "cells": [
  {
   "cell_type": "code",
   "execution_count": 2,
   "metadata": {},
   "outputs": [],
   "source": [
    "import warnings\n",
    "import tensorflow as tf\n",
    "import numpy as np\n",
    "import pandas as pd\n",
    "import json\n",
    "#from modules.CARLA import carla\n",
    "\n",
    "seed = 44\n",
    "\n",
    "tf.random.set_seed(seed)\n",
    "np.random.seed(seed)"
   ]
  },
  {
   "cell_type": "code",
   "execution_count": 3,
   "metadata": {},
   "outputs": [],
   "source": [
    "# from carla.data.catalog import CsvCatalog\n",
    "# import json\n",
    "\n",
    "# with open('../data/adult_constraints.json', 'r') as f:\n",
    "#     constraints = json.load(f)\n",
    "\n",
    "# continuous = constraints['continuous']\n",
    "# categorical = constraints['categorical']\n",
    "# immutable = constraints['immutable']\n",
    "# columns_order = constraints['features_order']\n",
    "\n",
    "# dataset = CsvCatalog(file_path=\"../data/adult_prep.csv\",\n",
    "#                     continuous=continuous,\n",
    "#                     categorical=categorical,\n",
    "#                     immutables=immutable,\n",
    "#                     target='income')\n",
    "# dataset.df.to_csv(\"../data/adult_prep_test.csv\",index=False)\n",
    "\n",
    "\n",
    "\n",
    "# X_train = dataset.df_train\n",
    "# Y_train = dataset.df_train\n",
    "# X_test = dataset.df_test\n",
    "# Y_test = dataset.df_test\n",
    "# X_train"
   ]
  },
  {
   "cell_type": "code",
   "execution_count": 8,
   "metadata": {},
   "outputs": [
    {
     "data": {
      "text/plain": [
       "Index(['capital.gain', 'education.num', 'capital.loss', 'hours.per.week',\n",
       "       'age', 'Federal-gov', 'Local-gov', 'Never-worked', 'Private',\n",
       "       'Self-emp-inc', 'Self-emp-not-inc', 'State-gov', 'Unknown_workclass',\n",
       "       'Without-pay', 'Divorced', 'Married-AF-spouse', 'Married-civ-spouse',\n",
       "       'Married-spouse-absent', 'Never-married', 'Separated', 'Widowed',\n",
       "       'Adm-clerical', 'Armed-Forces', 'Craft-repair', 'Exec-managerial',\n",
       "       'Farming-fishing', 'Handlers-cleaners', 'Machine-op-inspct',\n",
       "       'Other-service', 'Priv-house-serv', 'Prof-specialty', 'Protective-serv',\n",
       "       'Sales', 'Tech-support', 'Transport-moving', 'Unknown_occupation',\n",
       "       'Amer-Indian-Eskimo', 'Asian-Pac-Islander', 'Black', 'Other', 'White',\n",
       "       'Female', 'Male', 'Cambodia', 'Canada', 'China', 'Columbia', 'Cuba',\n",
       "       'Dominican-Republic', 'Ecuador', 'El-Salvador', 'England', 'France',\n",
       "       'Germany', 'Greece', 'Guatemala', 'Haiti', 'Holand-Netherlands',\n",
       "       'Honduras', 'Hong', 'Hungary', 'India', 'Iran', 'Ireland', 'Italy',\n",
       "       'Jamaica', 'Japan', 'Laos', 'Mexico', 'Nicaragua',\n",
       "       'Outlying-US(Guam-USVI-etc)', 'Peru', 'Philippines', 'Poland',\n",
       "       'Portugal', 'Puerto-Rico', 'Scotland', 'South', 'Taiwan', 'Thailand',\n",
       "       'Trinadad&Tobago', 'United-States', 'Unknown_country', 'Vietnam',\n",
       "       'Yugoslavia'],\n",
       "      dtype='object')"
      ]
     },
     "execution_count": 8,
     "metadata": {},
     "output_type": "execute_result"
    }
   ],
   "source": [
    "import json\n",
    "import sklearn\n",
    "\n",
    "with open('../data/adult_constraints.json', 'r') as f:\n",
    "    constr = json.load(f)\n",
    "\n",
    "dataset = pd.read_csv(\"../data/adult_cleaned.csv\")\n",
    "\n",
    "X_train, X_test, Y_train, Y_test = sklearn.model_selection.train_test_split(dataset[constr['features_order_after_split']], dataset['income'], test_size=0.2, random_state=seed)\n",
    "X_train.columns"
   ]
  },
  {
   "cell_type": "code",
   "execution_count": 9,
   "metadata": {},
   "outputs": [
    {
     "data": {
      "text/plain": [
       "20789     >50K\n",
       "7665     <=50K\n",
       "7003     <=50K\n",
       "3368     <=50K\n",
       "15072    <=50K\n",
       "         ...  \n",
       "16955    <=50K\n",
       "25773     >50K\n",
       "27377    <=50K\n",
       "3491     <=50K\n",
       "14100    <=50K\n",
       "Name: income, Length: 26048, dtype: object"
      ]
     },
     "execution_count": 9,
     "metadata": {},
     "output_type": "execute_result"
    }
   ],
   "source": [
    "Y_train"
   ]
  },
  {
   "cell_type": "code",
   "execution_count": 10,
   "metadata": {},
   "outputs": [
    {
     "data": {
      "text/plain": [
       "array([[0, 1],\n",
       "       [1, 0],\n",
       "       [1, 0],\n",
       "       ...,\n",
       "       [1, 0],\n",
       "       [1, 0],\n",
       "       [1, 0]], dtype=uint8)"
      ]
     },
     "execution_count": 10,
     "metadata": {},
     "output_type": "execute_result"
    }
   ],
   "source": [
    "\n",
    "X_train = X_train.to_numpy()\n",
    "Y_train = Y_train\n",
    "Y_train = pd.get_dummies(Y_train).to_numpy()\n",
    "Y_train"
   ]
  },
  {
   "cell_type": "code",
   "execution_count": 11,
   "metadata": {},
   "outputs": [
    {
     "data": {
      "text/plain": [
       "array([[1, 0],\n",
       "       [1, 0],\n",
       "       [1, 0],\n",
       "       ...,\n",
       "       [1, 0],\n",
       "       [1, 0],\n",
       "       [0, 1]], dtype=uint8)"
      ]
     },
     "execution_count": 11,
     "metadata": {},
     "output_type": "execute_result"
    }
   ],
   "source": [
    "X_test = X_test.to_numpy()\n",
    "Y_test = Y_test\n",
    "Y_test = pd.get_dummies(Y_test).to_numpy()\n",
    "Y_test"
   ]
  },
  {
   "cell_type": "code",
   "execution_count": 12,
   "metadata": {},
   "outputs": [
    {
     "data": {
      "text/plain": [
       "(26048, 85)"
      ]
     },
     "execution_count": 12,
     "metadata": {},
     "output_type": "execute_result"
    }
   ],
   "source": [
    "X_train.shape"
   ]
  },
  {
   "cell_type": "code",
   "execution_count": 13,
   "metadata": {},
   "outputs": [
    {
     "data": {
      "text/plain": [
       "(26048, 2)"
      ]
     },
     "execution_count": 13,
     "metadata": {},
     "output_type": "execute_result"
    }
   ],
   "source": [
    "Y_train.shape"
   ]
  },
  {
   "cell_type": "code",
   "execution_count": 14,
   "metadata": {},
   "outputs": [],
   "source": [
    "# sklearn minmaxscaler\n",
    "from sklearn.preprocessing import MinMaxScaler\n",
    "scaler = MinMaxScaler()\n",
    "X_train = scaler.fit_transform(X_train)\n",
    "X_test = scaler.transform(X_test)\n"
   ]
  },
  {
   "cell_type": "code",
   "execution_count": 15,
   "metadata": {},
   "outputs": [
    {
     "data": {
      "text/plain": [
       "85"
      ]
     },
     "execution_count": 15,
     "metadata": {},
     "output_type": "execute_result"
    }
   ],
   "source": [
    "constr['features_count_split_without_target']"
   ]
  },
  {
   "cell_type": "code",
   "execution_count": 16,
   "metadata": {},
   "outputs": [],
   "source": [
    "from tensorflow import keras\n",
    "\n",
    "\n",
    "model = tf.keras.Sequential()\n",
    "model.add(tf.keras.layers.Input((constr['features_count_split_without_target'],)))\n",
    "model.add(tf.keras.layers.Dense(64, activation='relu'))\n",
    "model.add(tf.keras.layers.Dropout(0.2))\n",
    "model.add(tf.keras.layers.Dense(32, activation='relu'))\n",
    "model.add(tf.keras.layers.Dropout(0.2))\n",
    "model.add(tf.keras.layers.Dense(16, activation='relu'))\n",
    "model.add(tf.keras.layers.Dropout(0.2))\n",
    "model.add(tf.keras.layers.Dense(2))\n",
    "model.add(tf.keras.layers.Softmax())\n",
    "\n",
    "\n",
    "model.compile(\n",
    "    optimizer='rmsprop',\n",
    "    loss=tf.keras.losses.CategoricalCrossentropy(from_logits=False),\n",
    "    metrics=['accuracy']\n",
    ")"
   ]
  },
  {
   "cell_type": "code",
   "execution_count": 17,
   "metadata": {},
   "outputs": [
    {
     "name": "stdout",
     "output_type": "stream",
     "text": [
      "Epoch 1/50\n",
      "102/102 [==============================] - 1s 5ms/step - loss: 0.4451 - accuracy: 0.7906 - val_loss: 0.3852 - val_accuracy: 0.8267\n",
      "Epoch 2/50\n",
      "102/102 [==============================] - 0s 3ms/step - loss: 0.3876 - accuracy: 0.8209 - val_loss: 0.3690 - val_accuracy: 0.8320\n",
      "Epoch 3/50\n",
      "102/102 [==============================] - 0s 3ms/step - loss: 0.3715 - accuracy: 0.8312 - val_loss: 0.3579 - val_accuracy: 0.8342\n",
      "Epoch 4/50\n",
      "102/102 [==============================] - 0s 3ms/step - loss: 0.3609 - accuracy: 0.8352 - val_loss: 0.3529 - val_accuracy: 0.8379\n",
      "Epoch 5/50\n",
      "102/102 [==============================] - 0s 3ms/step - loss: 0.3535 - accuracy: 0.8387 - val_loss: 0.3470 - val_accuracy: 0.8399\n",
      "Epoch 6/50\n",
      "102/102 [==============================] - 0s 3ms/step - loss: 0.3488 - accuracy: 0.8389 - val_loss: 0.3451 - val_accuracy: 0.8409\n",
      "Epoch 7/50\n",
      "102/102 [==============================] - 0s 3ms/step - loss: 0.3403 - accuracy: 0.8420 - val_loss: 0.3415 - val_accuracy: 0.8435\n",
      "Epoch 8/50\n",
      "102/102 [==============================] - 0s 3ms/step - loss: 0.3368 - accuracy: 0.8461 - val_loss: 0.3312 - val_accuracy: 0.8451\n",
      "Epoch 9/50\n",
      "102/102 [==============================] - 0s 3ms/step - loss: 0.3326 - accuracy: 0.8476 - val_loss: 0.3300 - val_accuracy: 0.8455\n",
      "Epoch 10/50\n",
      "102/102 [==============================] - 0s 3ms/step - loss: 0.3303 - accuracy: 0.8483 - val_loss: 0.3290 - val_accuracy: 0.8465\n",
      "Epoch 11/50\n",
      "102/102 [==============================] - 0s 3ms/step - loss: 0.3257 - accuracy: 0.8492 - val_loss: 0.3289 - val_accuracy: 0.8465\n",
      "Epoch 12/50\n",
      "102/102 [==============================] - 0s 5ms/step - loss: 0.3238 - accuracy: 0.8529 - val_loss: 0.3317 - val_accuracy: 0.8463\n",
      "Epoch 13/50\n",
      "102/102 [==============================] - 0s 3ms/step - loss: 0.3249 - accuracy: 0.8501 - val_loss: 0.3247 - val_accuracy: 0.8488\n",
      "Epoch 14/50\n",
      "102/102 [==============================] - 0s 3ms/step - loss: 0.3214 - accuracy: 0.8539 - val_loss: 0.3258 - val_accuracy: 0.8475\n",
      "Epoch 15/50\n",
      "102/102 [==============================] - 0s 3ms/step - loss: 0.3182 - accuracy: 0.8529 - val_loss: 0.3229 - val_accuracy: 0.8503\n",
      "Epoch 16/50\n",
      "102/102 [==============================] - 0s 3ms/step - loss: 0.3192 - accuracy: 0.8547 - val_loss: 0.3233 - val_accuracy: 0.8514\n",
      "Epoch 17/50\n",
      "102/102 [==============================] - 0s 3ms/step - loss: 0.3159 - accuracy: 0.8549 - val_loss: 0.3253 - val_accuracy: 0.8475\n",
      "Epoch 18/50\n",
      "102/102 [==============================] - 0s 3ms/step - loss: 0.3145 - accuracy: 0.8539 - val_loss: 0.3255 - val_accuracy: 0.8486\n",
      "Epoch 19/50\n",
      "102/102 [==============================] - 0s 3ms/step - loss: 0.3137 - accuracy: 0.8568 - val_loss: 0.3220 - val_accuracy: 0.8512\n",
      "Epoch 20/50\n",
      "102/102 [==============================] - 0s 3ms/step - loss: 0.3133 - accuracy: 0.8568 - val_loss: 0.3229 - val_accuracy: 0.8503\n",
      "Epoch 21/50\n",
      "102/102 [==============================] - 0s 3ms/step - loss: 0.3121 - accuracy: 0.8569 - val_loss: 0.3214 - val_accuracy: 0.8520\n",
      "Epoch 22/50\n",
      "102/102 [==============================] - 0s 3ms/step - loss: 0.3110 - accuracy: 0.8567 - val_loss: 0.3234 - val_accuracy: 0.8505\n",
      "Epoch 23/50\n",
      "102/102 [==============================] - 0s 3ms/step - loss: 0.3100 - accuracy: 0.8595 - val_loss: 0.3255 - val_accuracy: 0.8503\n",
      "Epoch 24/50\n",
      "102/102 [==============================] - 0s 3ms/step - loss: 0.3094 - accuracy: 0.8591 - val_loss: 0.3261 - val_accuracy: 0.8489\n",
      "Epoch 25/50\n",
      "102/102 [==============================] - 0s 3ms/step - loss: 0.3077 - accuracy: 0.8588 - val_loss: 0.3226 - val_accuracy: 0.8521\n",
      "Epoch 26/50\n",
      "102/102 [==============================] - 0s 3ms/step - loss: 0.3095 - accuracy: 0.8591 - val_loss: 0.3253 - val_accuracy: 0.8520\n",
      "Epoch 27/50\n",
      "102/102 [==============================] - 0s 3ms/step - loss: 0.3078 - accuracy: 0.8604 - val_loss: 0.3279 - val_accuracy: 0.8492\n",
      "Epoch 28/50\n",
      "102/102 [==============================] - 0s 3ms/step - loss: 0.3081 - accuracy: 0.8575 - val_loss: 0.3216 - val_accuracy: 0.8543\n",
      "Epoch 29/50\n",
      "102/102 [==============================] - 0s 3ms/step - loss: 0.3063 - accuracy: 0.8600 - val_loss: 0.3234 - val_accuracy: 0.8509\n",
      "Epoch 30/50\n",
      "102/102 [==============================] - 0s 3ms/step - loss: 0.3061 - accuracy: 0.8601 - val_loss: 0.3225 - val_accuracy: 0.8529\n",
      "Epoch 31/50\n",
      "102/102 [==============================] - 0s 3ms/step - loss: 0.3072 - accuracy: 0.8603 - val_loss: 0.3227 - val_accuracy: 0.8543\n"
     ]
    },
    {
     "data": {
      "text/plain": [
       "<keras.callbacks.History at 0x2a618bdca30>"
      ]
     },
     "execution_count": 17,
     "metadata": {},
     "output_type": "execute_result"
    }
   ],
   "source": [
    "model.fit(\n",
    "    X_train, \n",
    "    Y_train,\n",
    "    epochs=50,\n",
    "    batch_size=256,\n",
    "    validation_data=(X_test, Y_test),\n",
    "    shuffle=True,\n",
    "    callbacks=[\n",
    "        tf.keras.callbacks.EarlyStopping(patience=10)\n",
    "    ]\n",
    ")"
   ]
  },
  {
   "cell_type": "code",
   "execution_count": 18,
   "metadata": {},
   "outputs": [],
   "source": [
    "model.save('../models/adult_NN.h5', overwrite=True, save_format='h5')"
   ]
  },
  {
   "cell_type": "code",
   "execution_count": 19,
   "metadata": {},
   "outputs": [
    {
     "name": "stdout",
     "output_type": "stream",
     "text": [
      "1/1 [==============================] - 0s 91ms/step\n"
     ]
    },
    {
     "data": {
      "text/plain": [
       "array([[0.9115964 , 0.08840352],\n",
       "       [0.9989188 , 0.0010813 ]], dtype=float32)"
      ]
     },
     "execution_count": 19,
     "metadata": {},
     "output_type": "execute_result"
    }
   ],
   "source": [
    "model.save('../models/adult_NN', overwrite=True)\n",
    "model_test = tf.keras.models.load_model('../models/adult_NN.h5')\n",
    "model_test.predict(X_test[0:2], verbose=1)"
   ]
  },
  {
   "cell_type": "code",
   "execution_count": 20,
   "metadata": {},
   "outputs": [],
   "source": [
    "model.load_weights('../models/adult_NN.h5')"
   ]
  },
  {
   "cell_type": "code",
   "execution_count": 21,
   "metadata": {},
   "outputs": [
    {
     "data": {
      "text/plain": [
       "(85,)"
      ]
     },
     "execution_count": 21,
     "metadata": {},
     "output_type": "execute_result"
    }
   ],
   "source": [
    "X_test[0].shape"
   ]
  },
  {
   "cell_type": "code",
   "execution_count": 22,
   "metadata": {},
   "outputs": [
    {
     "name": "stdout",
     "output_type": "stream",
     "text": [
      "1/1 [==============================] - 0s 62ms/step\n"
     ]
    },
    {
     "data": {
      "text/plain": [
       "array([[0.9115964 , 0.08840352],\n",
       "       [0.9989188 , 0.0010813 ]], dtype=float32)"
      ]
     },
     "execution_count": 22,
     "metadata": {},
     "output_type": "execute_result"
    }
   ],
   "source": [
    "model.predict(X_test[0:2], verbose=1)\n"
   ]
  },
  {
   "attachments": {},
   "cell_type": "markdown",
   "metadata": {},
   "source": [
    "RandomForest"
   ]
  },
  {
   "cell_type": "code",
   "execution_count": 23,
   "metadata": {},
   "outputs": [],
   "source": [
    "from sklearn.ensemble import RandomForestClassifier\n",
    "from sklearn.model_selection import train_test_split\n",
    "from joblib import dump, load"
   ]
  },
  {
   "cell_type": "code",
   "execution_count": 26,
   "metadata": {},
   "outputs": [
    {
     "data": {
      "text/html": [
       "<style>#sk-container-id-2 {color: black;background-color: white;}#sk-container-id-2 pre{padding: 0;}#sk-container-id-2 div.sk-toggleable {background-color: white;}#sk-container-id-2 label.sk-toggleable__label {cursor: pointer;display: block;width: 100%;margin-bottom: 0;padding: 0.3em;box-sizing: border-box;text-align: center;}#sk-container-id-2 label.sk-toggleable__label-arrow:before {content: \"▸\";float: left;margin-right: 0.25em;color: #696969;}#sk-container-id-2 label.sk-toggleable__label-arrow:hover:before {color: black;}#sk-container-id-2 div.sk-estimator:hover label.sk-toggleable__label-arrow:before {color: black;}#sk-container-id-2 div.sk-toggleable__content {max-height: 0;max-width: 0;overflow: hidden;text-align: left;background-color: #f0f8ff;}#sk-container-id-2 div.sk-toggleable__content pre {margin: 0.2em;color: black;border-radius: 0.25em;background-color: #f0f8ff;}#sk-container-id-2 input.sk-toggleable__control:checked~div.sk-toggleable__content {max-height: 200px;max-width: 100%;overflow: auto;}#sk-container-id-2 input.sk-toggleable__control:checked~label.sk-toggleable__label-arrow:before {content: \"▾\";}#sk-container-id-2 div.sk-estimator input.sk-toggleable__control:checked~label.sk-toggleable__label {background-color: #d4ebff;}#sk-container-id-2 div.sk-label input.sk-toggleable__control:checked~label.sk-toggleable__label {background-color: #d4ebff;}#sk-container-id-2 input.sk-hidden--visually {border: 0;clip: rect(1px 1px 1px 1px);clip: rect(1px, 1px, 1px, 1px);height: 1px;margin: -1px;overflow: hidden;padding: 0;position: absolute;width: 1px;}#sk-container-id-2 div.sk-estimator {font-family: monospace;background-color: #f0f8ff;border: 1px dotted black;border-radius: 0.25em;box-sizing: border-box;margin-bottom: 0.5em;}#sk-container-id-2 div.sk-estimator:hover {background-color: #d4ebff;}#sk-container-id-2 div.sk-parallel-item::after {content: \"\";width: 100%;border-bottom: 1px solid gray;flex-grow: 1;}#sk-container-id-2 div.sk-label:hover label.sk-toggleable__label {background-color: #d4ebff;}#sk-container-id-2 div.sk-serial::before {content: \"\";position: absolute;border-left: 1px solid gray;box-sizing: border-box;top: 0;bottom: 0;left: 50%;z-index: 0;}#sk-container-id-2 div.sk-serial {display: flex;flex-direction: column;align-items: center;background-color: white;padding-right: 0.2em;padding-left: 0.2em;position: relative;}#sk-container-id-2 div.sk-item {position: relative;z-index: 1;}#sk-container-id-2 div.sk-parallel {display: flex;align-items: stretch;justify-content: center;background-color: white;position: relative;}#sk-container-id-2 div.sk-item::before, #sk-container-id-2 div.sk-parallel-item::before {content: \"\";position: absolute;border-left: 1px solid gray;box-sizing: border-box;top: 0;bottom: 0;left: 50%;z-index: -1;}#sk-container-id-2 div.sk-parallel-item {display: flex;flex-direction: column;z-index: 1;position: relative;background-color: white;}#sk-container-id-2 div.sk-parallel-item:first-child::after {align-self: flex-end;width: 50%;}#sk-container-id-2 div.sk-parallel-item:last-child::after {align-self: flex-start;width: 50%;}#sk-container-id-2 div.sk-parallel-item:only-child::after {width: 0;}#sk-container-id-2 div.sk-dashed-wrapped {border: 1px dashed gray;margin: 0 0.4em 0.5em 0.4em;box-sizing: border-box;padding-bottom: 0.4em;background-color: white;}#sk-container-id-2 div.sk-label label {font-family: monospace;font-weight: bold;display: inline-block;line-height: 1.2em;}#sk-container-id-2 div.sk-label-container {text-align: center;}#sk-container-id-2 div.sk-container {/* jupyter's `normalize.less` sets `[hidden] { display: none; }` but bootstrap.min.css set `[hidden] { display: none !important; }` so we also need the `!important` here to be able to override the default hidden behavior on the sphinx rendered scikit-learn.org. See: https://github.com/scikit-learn/scikit-learn/issues/21755 */display: inline-block !important;position: relative;}#sk-container-id-2 div.sk-text-repr-fallback {display: none;}</style><div id=\"sk-container-id-2\" class=\"sk-top-container\"><div class=\"sk-text-repr-fallback\"><pre>RandomForestClassifier(max_depth=15, min_samples_leaf=2, min_samples_split=3,\n",
       "                       random_state=44)</pre><b>In a Jupyter environment, please rerun this cell to show the HTML representation or trust the notebook. <br />On GitHub, the HTML representation is unable to render, please try loading this page with nbviewer.org.</b></div><div class=\"sk-container\" hidden><div class=\"sk-item\"><div class=\"sk-estimator sk-toggleable\"><input class=\"sk-toggleable__control sk-hidden--visually\" id=\"sk-estimator-id-2\" type=\"checkbox\" checked><label for=\"sk-estimator-id-2\" class=\"sk-toggleable__label sk-toggleable__label-arrow\">RandomForestClassifier</label><div class=\"sk-toggleable__content\"><pre>RandomForestClassifier(max_depth=15, min_samples_leaf=2, min_samples_split=3,\n",
       "                       random_state=44)</pre></div></div></div></div></div>"
      ],
      "text/plain": [
       "RandomForestClassifier(max_depth=15, min_samples_leaf=2, min_samples_split=3,\n",
       "                       random_state=44)"
      ]
     },
     "execution_count": 26,
     "metadata": {},
     "output_type": "execute_result"
    }
   ],
   "source": [
    "classifier = RandomForestClassifier(\n",
    "    random_state=seed, \n",
    "    criterion='gini', \n",
    "    n_estimators=100, \n",
    "    max_depth=15, \n",
    "    min_samples_split=3, \n",
    "    min_samples_leaf=2, \n",
    "    min_weight_fraction_leaf=0.0, \n",
    "    max_leaf_nodes=None, \n",
    "    min_impurity_decrease=0.0, \n",
    "    )\n",
    "classifier.fit(X_train, Y_train)"
   ]
  },
  {
   "cell_type": "code",
   "execution_count": 27,
   "metadata": {},
   "outputs": [
    {
     "data": {
      "text/plain": [
       "0.8593582066635959"
      ]
     },
     "execution_count": 27,
     "metadata": {},
     "output_type": "execute_result"
    }
   ],
   "source": [
    "classifier.score(X_test, Y_test)"
   ]
  },
  {
   "cell_type": "code",
   "execution_count": 28,
   "metadata": {},
   "outputs": [
    {
     "data": {
      "text/plain": [
       "['../models/adult_RF.joblib']"
      ]
     },
     "execution_count": 28,
     "metadata": {},
     "output_type": "execute_result"
    }
   ],
   "source": [
    "dump(classifier, '../models/adult_RF.joblib')"
   ]
  },
  {
   "cell_type": "code",
   "execution_count": 29,
   "metadata": {},
   "outputs": [],
   "source": [
    "clf = load('../models/adult_RF.joblib')"
   ]
  },
  {
   "cell_type": "code",
   "execution_count": 30,
   "metadata": {},
   "outputs": [
    {
     "name": "stdout",
     "output_type": "stream",
     "text": [
      "[[1 0]\n",
      " [1 0]\n",
      " [1 0]\n",
      " [0 1]\n",
      " [0 1]]\n"
     ]
    },
    {
     "data": {
      "text/plain": [
       "array([[1, 0],\n",
       "       [1, 0],\n",
       "       [1, 0],\n",
       "       [0, 1],\n",
       "       [0, 1]], dtype=uint8)"
      ]
     },
     "execution_count": 30,
     "metadata": {},
     "output_type": "execute_result"
    }
   ],
   "source": [
    "print(Y_test[0:5])\n",
    "clf.predict(X_test[0:5])"
   ]
  },
  {
   "cell_type": "code",
   "execution_count": null,
   "metadata": {},
   "outputs": [],
   "source": []
  }
 ],
 "metadata": {
  "kernelspec": {
   "display_name": "cf",
   "language": "python",
   "name": "python3"
  },
  "language_info": {
   "codemirror_mode": {
    "name": "ipython",
    "version": 3
   },
   "file_extension": ".py",
   "mimetype": "text/x-python",
   "name": "python",
   "nbconvert_exporter": "python",
   "pygments_lexer": "ipython3",
   "version": "3.10.0"
  },
  "orig_nbformat": 4,
  "vscode": {
   "interpreter": {
    "hash": "81d0d6994cbc9a338f9a3d74dedf5823f97cddc544b8ee56d3ad85196f930114"
   }
  }
 },
 "nbformat": 4,
 "nbformat_minor": 2
}
