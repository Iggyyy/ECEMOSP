{
 "cells": [
  {
   "cell_type": "code",
   "execution_count": 1,
   "metadata": {},
   "outputs": [
    {
     "name": "stdout",
     "output_type": "stream",
     "text": [
      "[PhysicalDevice(name='/physical_device:CPU:0', device_type='CPU'), PhysicalDevice(name='/physical_device:GPU:0', device_type='GPU')]\n"
     ]
    }
   ],
   "source": [
    "import warnings\n",
    "import tensorflow as tf\n",
    "import numpy as np\n",
    "import pandas as pd\n",
    "import json\n",
    "from tensorflow import keras\n",
    "import sklearn\n",
    "from sklearn.model_selection import train_test_split\n",
    "#from modules.CARLA import carla\n",
    "\n",
    "print(str(tf.config.list_physical_devices()))\n",
    "seed = 44\n",
    "\n",
    "tf.random.set_seed(seed)\n",
    "np.random.seed(seed)\n",
    "tf.config.run_functions_eagerly(True)"
   ]
  },
  {
   "cell_type": "code",
   "execution_count": 2,
   "metadata": {},
   "outputs": [
    {
     "data": {
      "text/plain": [
       "Index(['age', 'education.num', 'capital.gain', 'capital.loss',\n",
       "       'hours.per.week', 'workclass_?', 'workclass_Federal-gov',\n",
       "       'workclass_Local-gov', 'workclass_Never-worked', 'workclass_Private',\n",
       "       'workclass_Self-emp-inc', 'workclass_Self-emp-not-inc',\n",
       "       'workclass_State-gov', 'workclass_Without-pay',\n",
       "       'marital.status_Divorced', 'marital.status_Married-AF-spouse',\n",
       "       'marital.status_Married-civ-spouse',\n",
       "       'marital.status_Married-spouse-absent', 'marital.status_Never-married',\n",
       "       'marital.status_Separated', 'marital.status_Widowed', 'occupation_?',\n",
       "       'occupation_Adm-clerical', 'occupation_Armed-Forces',\n",
       "       'occupation_Craft-repair', 'occupation_Exec-managerial',\n",
       "       'occupation_Farming-fishing', 'occupation_Handlers-cleaners',\n",
       "       'occupation_Machine-op-inspct', 'occupation_Other-service',\n",
       "       'occupation_Priv-house-serv', 'occupation_Prof-specialty',\n",
       "       'occupation_Protective-serv', 'occupation_Sales',\n",
       "       'occupation_Tech-support', 'occupation_Transport-moving',\n",
       "       'race_Amer-Indian-Eskimo', 'race_Asian-Pac-Islander', 'race_Black',\n",
       "       'race_Other', 'race_White', 'sex_Female', 'sex_Male',\n",
       "       'native.country_?', 'native.country_Cambodia', 'native.country_Canada',\n",
       "       'native.country_China', 'native.country_Columbia',\n",
       "       'native.country_Cuba', 'native.country_Dominican-Republic',\n",
       "       'native.country_Ecuador', 'native.country_El-Salvador',\n",
       "       'native.country_England', 'native.country_France',\n",
       "       'native.country_Germany', 'native.country_Greece',\n",
       "       'native.country_Guatemala', 'native.country_Haiti',\n",
       "       'native.country_Holand-Netherlands', 'native.country_Honduras',\n",
       "       'native.country_Hong', 'native.country_Hungary', 'native.country_India',\n",
       "       'native.country_Iran', 'native.country_Ireland', 'native.country_Italy',\n",
       "       'native.country_Jamaica', 'native.country_Japan', 'native.country_Laos',\n",
       "       'native.country_Mexico', 'native.country_Nicaragua',\n",
       "       'native.country_Outlying-US(Guam-USVI-etc)', 'native.country_Peru',\n",
       "       'native.country_Philippines', 'native.country_Poland',\n",
       "       'native.country_Portugal', 'native.country_Puerto-Rico',\n",
       "       'native.country_Scotland', 'native.country_South',\n",
       "       'native.country_Taiwan', 'native.country_Thailand',\n",
       "       'native.country_Trinadad&Tobago', 'native.country_United-States',\n",
       "       'native.country_Vietnam', 'native.country_Yugoslavia'],\n",
       "      dtype='object')"
      ]
     },
     "execution_count": 2,
     "metadata": {},
     "output_type": "execute_result"
    }
   ],
   "source": [
    "with open('../data/adult_constraints.json', 'r') as f:\n",
    "    constr = json.load(f)\n",
    "\n",
    "dataset = pd.read_csv(\"../data/adult_cleaned.csv\")\n",
    "\n",
    "X_train, X_test, Y_train, Y_test = train_test_split(dataset[constr['features_order_after_split']], dataset['income'], test_size=0.2, random_state=seed)\n",
    "X_train.columns"
   ]
  },
  {
   "cell_type": "code",
   "execution_count": 3,
   "metadata": {},
   "outputs": [
    {
     "data": {
      "text/plain": [
       "20789     >50K\n",
       "7665     <=50K\n",
       "7003     <=50K\n",
       "3368     <=50K\n",
       "15072    <=50K\n",
       "         ...  \n",
       "16955    <=50K\n",
       "25773     >50K\n",
       "27377    <=50K\n",
       "3491     <=50K\n",
       "14100    <=50K\n",
       "Name: income, Length: 26048, dtype: object"
      ]
     },
     "execution_count": 3,
     "metadata": {},
     "output_type": "execute_result"
    }
   ],
   "source": [
    "Y_train"
   ]
  },
  {
   "cell_type": "code",
   "execution_count": 4,
   "metadata": {},
   "outputs": [
    {
     "data": {
      "text/plain": [
       "array([[0, 1],\n",
       "       [1, 0],\n",
       "       [1, 0],\n",
       "       ...,\n",
       "       [1, 0],\n",
       "       [1, 0],\n",
       "       [1, 0]], dtype=uint8)"
      ]
     },
     "execution_count": 4,
     "metadata": {},
     "output_type": "execute_result"
    }
   ],
   "source": [
    "\n",
    "X_train = X_train.to_numpy()\n",
    "Y_train = Y_train\n",
    "Y_train = pd.get_dummies(Y_train).to_numpy()\n",
    "Y_train"
   ]
  },
  {
   "cell_type": "code",
   "execution_count": 5,
   "metadata": {},
   "outputs": [
    {
     "data": {
      "text/plain": [
       "array([[1, 0],\n",
       "       [1, 0],\n",
       "       [1, 0],\n",
       "       ...,\n",
       "       [1, 0],\n",
       "       [1, 0],\n",
       "       [0, 1]], dtype=uint8)"
      ]
     },
     "execution_count": 5,
     "metadata": {},
     "output_type": "execute_result"
    }
   ],
   "source": [
    "X_test = X_test.to_numpy()\n",
    "Y_test = Y_test\n",
    "Y_test = pd.get_dummies(Y_test).to_numpy()\n",
    "Y_test"
   ]
  },
  {
   "cell_type": "code",
   "execution_count": 6,
   "metadata": {},
   "outputs": [
    {
     "data": {
      "text/plain": [
       "(26048, 85)"
      ]
     },
     "execution_count": 6,
     "metadata": {},
     "output_type": "execute_result"
    }
   ],
   "source": [
    "X_train.shape"
   ]
  },
  {
   "cell_type": "code",
   "execution_count": 7,
   "metadata": {},
   "outputs": [
    {
     "data": {
      "text/plain": [
       "(26048, 2)"
      ]
     },
     "execution_count": 7,
     "metadata": {},
     "output_type": "execute_result"
    }
   ],
   "source": [
    "Y_train.shape"
   ]
  },
  {
   "cell_type": "code",
   "execution_count": 8,
   "metadata": {},
   "outputs": [],
   "source": [
    "# sklearn minmaxscaler\n",
    "from sklearn.preprocessing import MinMaxScaler\n",
    "scaler = MinMaxScaler()\n",
    "X_train = scaler.fit_transform(X_train)\n",
    "X_test = scaler.transform(X_test)\n"
   ]
  },
  {
   "cell_type": "code",
   "execution_count": 9,
   "metadata": {},
   "outputs": [
    {
     "data": {
      "text/plain": [
       "85"
      ]
     },
     "execution_count": 9,
     "metadata": {},
     "output_type": "execute_result"
    }
   ],
   "source": [
    "constr['features_count_split_without_target']"
   ]
  },
  {
   "cell_type": "code",
   "execution_count": 10,
   "metadata": {},
   "outputs": [
    {
     "data": {
      "text/plain": [
       "array([0.6576, 2.0858])"
      ]
     },
     "execution_count": 10,
     "metadata": {},
     "output_type": "execute_result"
    }
   ],
   "source": [
    "class_weights = np.round((1 / Y_train.sum(axis=0)) * (Y_train.sum() / 2), 4) # from TF tutorial on class weights\n",
    "class_weights"
   ]
  },
  {
   "cell_type": "code",
   "execution_count": 11,
   "metadata": {},
   "outputs": [
    {
     "data": {
      "text/plain": [
       "{0: 0.6576, 1: 2.0858}"
      ]
     },
     "execution_count": 11,
     "metadata": {},
     "output_type": "execute_result"
    }
   ],
   "source": [
    "tf_class_weights = {0: class_weights[0], 1: class_weights[1]}\n",
    "tf_class_weights"
   ]
  },
  {
   "cell_type": "code",
   "execution_count": 12,
   "metadata": {},
   "outputs": [],
   "source": [
    "model = tf.keras.Sequential()\n",
    "model.add(tf.keras.layers.Input((constr['features_count_split_without_target'],)))\n",
    "model.add(tf.keras.layers.Dense(128))\n",
    "model.add(tf.keras.layers.ELU())\n",
    "#model.add(tf.keras.layers.Dropout(0.5))\n",
    "model.add(tf.keras.layers.Dense(128))\n",
    "model.add(tf.keras.layers.ELU())\n",
    "model.add(tf.keras.layers.Dense(128))\n",
    "model.add(tf.keras.layers.ELU())\n",
    "#model.add(tf.keras.layers.Dropout(0.3))\n",
    "#model.add(tf.keras.layers.Dropout(0.1))\n",
    "model.add(tf.keras.layers.Dense(2))\n",
    "model.add(tf.keras.layers.Softmax())\n",
    "\n",
    "\n",
    "model.compile(\n",
    "    optimizer=tf.keras.optimizers.Adam(),\n",
    "    #optimizer=tf.keras.optimizers.RMSprop(),\n",
    "    loss=tf.keras.losses.CategoricalCrossentropy(from_logits=False),\n",
    "    metrics=[\n",
    "        tf.keras.metrics.CategoricalAccuracy(),\n",
    "        tf.keras.metrics.Recall(),\n",
    "        ]\n",
    ")"
   ]
  },
  {
   "cell_type": "code",
   "execution_count": 13,
   "metadata": {},
   "outputs": [
    {
     "name": "stderr",
     "output_type": "stream",
     "text": [
      "c:\\ProgramData\\Anaconda3\\envs\\tf-gpy-py-10\\lib\\site-packages\\tensorflow\\python\\data\\ops\\structured_function.py:264: UserWarning: Even though the `tf.config.experimental_run_functions_eagerly` option is set, this option does not apply to tf.data functions. To force eager execution of tf.data functions, please use `tf.data.experimental.enable_debug_mode()`.\n",
      "  warnings.warn(\n"
     ]
    },
    {
     "name": "stdout",
     "output_type": "stream",
     "text": [
      "204/204 [==============================] - 2s 6ms/step\n"
     ]
    },
    {
     "data": {
      "text/plain": [
       "array([1, 0, 0, ..., 1, 0, 1], dtype=int64)"
      ]
     },
     "execution_count": 13,
     "metadata": {},
     "output_type": "execute_result"
    }
   ],
   "source": [
    "np.argmax(model.predict(X_test), axis=1)"
   ]
  },
  {
   "cell_type": "code",
   "execution_count": null,
   "metadata": {},
   "outputs": [],
   "source": []
  },
  {
   "cell_type": "code",
   "execution_count": 14,
   "metadata": {},
   "outputs": [
    {
     "name": "stdout",
     "output_type": "stream",
     "text": [
      "Epoch 1/100\n",
      "7/7 [==============================] - 1s 65ms/step - loss: 0.6071 - categorical_accuracy: 0.6079 - recall: 0.6079 - val_loss: 0.5596 - val_categorical_accuracy: 0.7084 - val_recall: 0.7084\n",
      "Epoch 2/100\n",
      "7/7 [==============================] - 0s 55ms/step - loss: 0.4997 - categorical_accuracy: 0.7199 - recall: 0.7199 - val_loss: 0.4959 - val_categorical_accuracy: 0.7255 - val_recall: 0.7255\n",
      "Epoch 3/100\n",
      "7/7 [==============================] - 1s 80ms/step - loss: 0.4639 - categorical_accuracy: 0.7536 - recall: 0.7536 - val_loss: 0.4778 - val_categorical_accuracy: 0.7580 - val_recall: 0.7580\n",
      "Epoch 4/100\n",
      "7/7 [==============================] - 1s 74ms/step - loss: 0.4463 - categorical_accuracy: 0.7769 - recall: 0.7769 - val_loss: 0.4565 - val_categorical_accuracy: 0.7692 - val_recall: 0.7692\n",
      "Epoch 5/100\n",
      "7/7 [==============================] - 0s 58ms/step - loss: 0.4327 - categorical_accuracy: 0.7812 - recall: 0.7812 - val_loss: 0.4454 - val_categorical_accuracy: 0.7689 - val_recall: 0.7689\n",
      "Epoch 6/100\n",
      "7/7 [==============================] - 0s 58ms/step - loss: 0.4217 - categorical_accuracy: 0.7835 - recall: 0.7835 - val_loss: 0.4421 - val_categorical_accuracy: 0.7728 - val_recall: 0.7728\n",
      "Epoch 7/100\n",
      "7/7 [==============================] - 0s 57ms/step - loss: 0.4144 - categorical_accuracy: 0.7889 - recall: 0.7889 - val_loss: 0.3958 - val_categorical_accuracy: 0.8082 - val_recall: 0.8082\n",
      "Epoch 8/100\n",
      "7/7 [==============================] - 0s 57ms/step - loss: 0.4085 - categorical_accuracy: 0.7969 - recall: 0.7969 - val_loss: 0.4009 - val_categorical_accuracy: 0.8055 - val_recall: 0.8055\n",
      "Epoch 9/100\n",
      "7/7 [==============================] - 0s 57ms/step - loss: 0.4028 - categorical_accuracy: 0.7996 - recall: 0.7996 - val_loss: 0.4238 - val_categorical_accuracy: 0.7936 - val_recall: 0.7936\n",
      "Epoch 10/100\n",
      "7/7 [==============================] - 0s 57ms/step - loss: 0.4003 - categorical_accuracy: 0.8004 - recall: 0.8004 - val_loss: 0.4038 - val_categorical_accuracy: 0.8045 - val_recall: 0.8045\n",
      "Epoch 11/100\n",
      "7/7 [==============================] - 1s 77ms/step - loss: 0.4005 - categorical_accuracy: 0.8024 - recall: 0.8024 - val_loss: 0.4158 - val_categorical_accuracy: 0.8016 - val_recall: 0.8016\n",
      "Epoch 12/100\n",
      "7/7 [==============================] - 0s 59ms/step - loss: 0.3973 - categorical_accuracy: 0.8028 - recall: 0.8028 - val_loss: 0.4222 - val_categorical_accuracy: 0.7944 - val_recall: 0.7944\n",
      "Epoch 13/100\n",
      "7/7 [==============================] - 0s 57ms/step - loss: 0.3961 - categorical_accuracy: 0.8009 - recall: 0.8009 - val_loss: 0.3869 - val_categorical_accuracy: 0.8131 - val_recall: 0.8131\n",
      "Epoch 14/100\n",
      "7/7 [==============================] - 0s 65ms/step - loss: 0.3932 - categorical_accuracy: 0.8044 - recall: 0.8044 - val_loss: 0.4063 - val_categorical_accuracy: 0.8029 - val_recall: 0.8029\n",
      "Epoch 15/100\n",
      "7/7 [==============================] - 0s 58ms/step - loss: 0.3913 - categorical_accuracy: 0.8036 - recall: 0.8036 - val_loss: 0.4065 - val_categorical_accuracy: 0.8035 - val_recall: 0.8035\n",
      "Epoch 16/100\n",
      "7/7 [==============================] - 0s 56ms/step - loss: 0.3907 - categorical_accuracy: 0.8047 - recall: 0.8047 - val_loss: 0.3908 - val_categorical_accuracy: 0.8110 - val_recall: 0.8110\n",
      "Epoch 17/100\n",
      "7/7 [==============================] - 0s 57ms/step - loss: 0.3896 - categorical_accuracy: 0.8063 - recall: 0.8063 - val_loss: 0.3696 - val_categorical_accuracy: 0.8228 - val_recall: 0.8228\n",
      "Epoch 18/100\n",
      "7/7 [==============================] - 0s 57ms/step - loss: 0.3908 - categorical_accuracy: 0.8075 - recall: 0.8075 - val_loss: 0.3880 - val_categorical_accuracy: 0.8125 - val_recall: 0.8125\n",
      "Epoch 19/100\n",
      "7/7 [==============================] - 0s 61ms/step - loss: 0.3868 - categorical_accuracy: 0.8058 - recall: 0.8058 - val_loss: 0.3907 - val_categorical_accuracy: 0.8088 - val_recall: 0.8088\n",
      "Epoch 20/100\n",
      "7/7 [==============================] - 0s 57ms/step - loss: 0.3859 - categorical_accuracy: 0.8101 - recall: 0.8101 - val_loss: 0.4421 - val_categorical_accuracy: 0.7847 - val_recall: 0.7847\n",
      "Epoch 21/100\n",
      "7/7 [==============================] - 0s 56ms/step - loss: 0.3872 - categorical_accuracy: 0.8039 - recall: 0.8039 - val_loss: 0.3737 - val_categorical_accuracy: 0.8194 - val_recall: 0.8194\n",
      "Epoch 22/100\n",
      "7/7 [==============================] - 0s 59ms/step - loss: 0.3844 - categorical_accuracy: 0.8091 - recall: 0.8091 - val_loss: 0.4351 - val_categorical_accuracy: 0.7878 - val_recall: 0.7878\n",
      "Epoch 23/100\n",
      "7/7 [==============================] - 0s 56ms/step - loss: 0.3853 - categorical_accuracy: 0.8041 - recall: 0.8041 - val_loss: 0.3769 - val_categorical_accuracy: 0.8176 - val_recall: 0.8176\n",
      "Epoch 24/100\n",
      "7/7 [==============================] - 0s 60ms/step - loss: 0.3841 - categorical_accuracy: 0.8112 - recall: 0.8112 - val_loss: 0.3947 - val_categorical_accuracy: 0.8096 - val_recall: 0.8096\n",
      "Epoch 25/100\n",
      "7/7 [==============================] - 0s 56ms/step - loss: 0.3812 - categorical_accuracy: 0.8079 - recall: 0.8079 - val_loss: 0.4040 - val_categorical_accuracy: 0.8015 - val_recall: 0.8015\n",
      "Epoch 26/100\n",
      "7/7 [==============================] - 0s 56ms/step - loss: 0.3800 - categorical_accuracy: 0.8080 - recall: 0.8080 - val_loss: 0.3777 - val_categorical_accuracy: 0.8174 - val_recall: 0.8174\n",
      "Epoch 27/100\n",
      "7/7 [==============================] - 0s 56ms/step - loss: 0.3806 - categorical_accuracy: 0.8099 - recall: 0.8099 - val_loss: 0.3592 - val_categorical_accuracy: 0.8288 - val_recall: 0.8288\n",
      "Epoch 28/100\n",
      "7/7 [==============================] - 0s 59ms/step - loss: 0.3817 - categorical_accuracy: 0.8136 - recall: 0.8136 - val_loss: 0.4285 - val_categorical_accuracy: 0.7920 - val_recall: 0.7920\n",
      "Epoch 29/100\n",
      "7/7 [==============================] - 0s 59ms/step - loss: 0.3796 - categorical_accuracy: 0.8101 - recall: 0.8101 - val_loss: 0.4050 - val_categorical_accuracy: 0.8027 - val_recall: 0.8027\n",
      "Epoch 30/100\n",
      "7/7 [==============================] - 0s 56ms/step - loss: 0.3786 - categorical_accuracy: 0.8074 - recall: 0.8074 - val_loss: 0.3693 - val_categorical_accuracy: 0.8222 - val_recall: 0.8222\n",
      "Epoch 31/100\n",
      "7/7 [==============================] - 0s 59ms/step - loss: 0.3777 - categorical_accuracy: 0.8139 - recall: 0.8139 - val_loss: 0.3833 - val_categorical_accuracy: 0.8118 - val_recall: 0.8118\n",
      "Epoch 32/100\n",
      "7/7 [==============================] - 0s 57ms/step - loss: 0.3775 - categorical_accuracy: 0.8123 - recall: 0.8123 - val_loss: 0.4339 - val_categorical_accuracy: 0.7824 - val_recall: 0.7824\n",
      "Epoch 33/100\n",
      "7/7 [==============================] - 0s 58ms/step - loss: 0.3793 - categorical_accuracy: 0.8065 - recall: 0.8065 - val_loss: 0.3874 - val_categorical_accuracy: 0.8133 - val_recall: 0.8133\n",
      "Epoch 34/100\n",
      "7/7 [==============================] - 0s 61ms/step - loss: 0.3760 - categorical_accuracy: 0.8145 - recall: 0.8145 - val_loss: 0.3906 - val_categorical_accuracy: 0.8082 - val_recall: 0.8082\n",
      "Epoch 35/100\n",
      "7/7 [==============================] - 0s 56ms/step - loss: 0.3751 - categorical_accuracy: 0.8130 - recall: 0.8130 - val_loss: 0.4092 - val_categorical_accuracy: 0.8016 - val_recall: 0.8016\n",
      "Epoch 36/100\n",
      "7/7 [==============================] - 0s 58ms/step - loss: 0.3758 - categorical_accuracy: 0.8108 - recall: 0.8108 - val_loss: 0.4029 - val_categorical_accuracy: 0.8016 - val_recall: 0.8016\n",
      "Epoch 37/100\n",
      "7/7 [==============================] - 0s 58ms/step - loss: 0.3753 - categorical_accuracy: 0.8097 - recall: 0.8097 - val_loss: 0.4132 - val_categorical_accuracy: 0.7995 - val_recall: 0.7995\n",
      "Epoch 38/100\n",
      "7/7 [==============================] - 0s 58ms/step - loss: 0.3764 - categorical_accuracy: 0.8105 - recall: 0.8105 - val_loss: 0.3740 - val_categorical_accuracy: 0.8170 - val_recall: 0.8170\n",
      "Epoch 39/100\n",
      "7/7 [==============================] - 0s 58ms/step - loss: 0.3747 - categorical_accuracy: 0.8126 - recall: 0.8126 - val_loss: 0.3832 - val_categorical_accuracy: 0.8148 - val_recall: 0.8148\n",
      "Epoch 40/100\n",
      "7/7 [==============================] - 0s 59ms/step - loss: 0.3745 - categorical_accuracy: 0.8139 - recall: 0.8139 - val_loss: 0.3931 - val_categorical_accuracy: 0.8068 - val_recall: 0.8068\n",
      "Epoch 41/100\n",
      "7/7 [==============================] - 0s 54ms/step - loss: 0.3738 - categorical_accuracy: 0.8148 - recall: 0.8148 - val_loss: 0.4115 - val_categorical_accuracy: 0.7992 - val_recall: 0.7992\n",
      "Epoch 42/100\n",
      "7/7 [==============================] - 0s 61ms/step - loss: 0.3750 - categorical_accuracy: 0.8099 - recall: 0.8099 - val_loss: 0.3771 - val_categorical_accuracy: 0.8161 - val_recall: 0.8161\n",
      "Epoch 43/100\n",
      "7/7 [==============================] - 0s 56ms/step - loss: 0.3733 - categorical_accuracy: 0.8134 - recall: 0.8134 - val_loss: 0.4139 - val_categorical_accuracy: 0.7938 - val_recall: 0.7938\n",
      "Epoch 44/100\n",
      "7/7 [==============================] - 0s 59ms/step - loss: 0.3743 - categorical_accuracy: 0.8104 - recall: 0.8104 - val_loss: 0.3732 - val_categorical_accuracy: 0.8174 - val_recall: 0.8174\n",
      "Epoch 45/100\n",
      "7/7 [==============================] - 0s 57ms/step - loss: 0.3736 - categorical_accuracy: 0.8150 - recall: 0.8150 - val_loss: 0.4051 - val_categorical_accuracy: 0.8022 - val_recall: 0.8022\n",
      "Epoch 46/100\n",
      "7/7 [==============================] - 0s 55ms/step - loss: 0.3738 - categorical_accuracy: 0.8133 - recall: 0.8133 - val_loss: 0.3731 - val_categorical_accuracy: 0.8193 - val_recall: 0.8193\n",
      "Epoch 47/100\n",
      "7/7 [==============================] - 0s 56ms/step - loss: 0.3747 - categorical_accuracy: 0.8162 - recall: 0.8162 - val_loss: 0.3786 - val_categorical_accuracy: 0.8159 - val_recall: 0.8159\n"
     ]
    }
   ],
   "source": [
    "with tf.device(\"/GPU:0\"):\n",
    "    model.fit(\n",
    "        X_train, \n",
    "        Y_train,\n",
    "        epochs=100,\n",
    "        batch_size=4096,\n",
    "        validation_data=(X_test, Y_test),\n",
    "        shuffle=True,\n",
    "        callbacks=[\n",
    "            tf.keras.callbacks.EarlyStopping(patience=20)\n",
    "        ],\n",
    "        verbose=1,\n",
    "        class_weight=tf_class_weights\n",
    "    )"
   ]
  },
  {
   "cell_type": "code",
   "execution_count": 18,
   "metadata": {},
   "outputs": [
    {
     "name": "stdout",
     "output_type": "stream",
     "text": [
      " 16/204 [=>............................] - ETA: 1s"
     ]
    },
    {
     "name": "stderr",
     "output_type": "stream",
     "text": [
      "c:\\ProgramData\\Anaconda3\\envs\\tf-gpy-py-10\\lib\\site-packages\\tensorflow\\python\\data\\ops\\structured_function.py:264: UserWarning: Even though the `tf.config.experimental_run_functions_eagerly` option is set, this option does not apply to tf.data functions. To force eager execution of tf.data functions, please use `tf.data.experimental.enable_debug_mode()`.\n",
      "  warnings.warn(\n"
     ]
    },
    {
     "name": "stdout",
     "output_type": "stream",
     "text": [
      "204/204 [==============================] - 1s 7ms/step\n"
     ]
    },
    {
     "data": {
      "text/plain": [
       "<AxesSubplot: >"
      ]
     },
     "execution_count": 18,
     "metadata": {},
     "output_type": "execute_result"
    },
    {
     "data": {
      "image/png": "[encoded data removed]",
      "text/plain": [
       "<Figure size 640x480 with 2 Axes>"
      ]
     },
     "metadata": {},
     "output_type": "display_data"
    }
   ],
   "source": [
    "import matplotlib.pyplot as plt\n",
    "import seaborn as sns\n",
    "from sklearn.metrics import confusion_matrix\n",
    "\n",
    "preds = np.argmax(model.predict(X_test), axis=1)\n",
    "preds_true = np.argmax(Y_test, axis=1)\n",
    "\n",
    "cm  = confusion_matrix(preds_true, preds)\n",
    "\n",
    "df_cm = pd.DataFrame(cm)\n",
    "\n",
    "sns.heatmap(df_cm, annot=True)"
   ]
  },
  {
   "cell_type": "code",
   "execution_count": 16,
   "metadata": {},
   "outputs": [
    {
     "data": {
      "text/plain": [
       "array([[1, 0],\n",
       "       [1, 0],\n",
       "       [1, 0],\n",
       "       ...,\n",
       "       [1, 0],\n",
       "       [1, 0],\n",
       "       [0, 1]], dtype=uint8)"
      ]
     },
     "execution_count": 16,
     "metadata": {},
     "output_type": "execute_result"
    }
   ],
   "source": [
    "Y_test"
   ]
  },
  {
   "cell_type": "code",
   "execution_count": null,
   "metadata": {},
   "outputs": [],
   "source": []
  },
  {
   "cell_type": "code",
   "execution_count": null,
   "metadata": {},
   "outputs": [],
   "source": []
  },
  {
   "cell_type": "code",
   "execution_count": 69,
   "metadata": {},
   "outputs": [],
   "source": [
    "model.save('../models/adult_NN.h5', overwrite=True, save_format='h5')"
   ]
  },
  {
   "cell_type": "code",
   "execution_count": 70,
   "metadata": {},
   "outputs": [
    {
     "name": "stdout",
     "output_type": "stream",
     "text": [
      "INFO:tensorflow:Assets written to: ../models/adult_NN\\assets\n"
     ]
    }
   ],
   "source": [
    "model.save('../models/adult_NN', overwrite=True)"
   ]
  },
  {
   "cell_type": "code",
   "execution_count": 71,
   "metadata": {},
   "outputs": [
    {
     "data": {
      "text/plain": [
       "array([], shape=(0, 2), dtype=float32)"
      ]
     },
     "execution_count": 71,
     "metadata": {},
     "output_type": "execute_result"
    }
   ],
   "source": [
    "tf.data.experimental.enable_debug_mode()\n",
    "model_test = tf.keras.models.load_model('../models/adult_NN.h5')"
   ]
  },
  {
   "cell_type": "code",
   "execution_count": 72,
   "metadata": {},
   "outputs": [],
   "source": [
    "model.load_weights('../models/adult_NN.h5')"
   ]
  },
  {
   "cell_type": "code",
   "execution_count": 73,
   "metadata": {},
   "outputs": [
    {
     "data": {
      "text/plain": [
       "(85,)"
      ]
     },
     "execution_count": 73,
     "metadata": {},
     "output_type": "execute_result"
    }
   ],
   "source": [
    "X_test[0].shape"
   ]
  },
  {
   "cell_type": "code",
   "execution_count": 74,
   "metadata": {},
   "outputs": [
    {
     "name": "stdout",
     "output_type": "stream",
     "text": [
      "1/1 [==============================] - 0s 68ms/step\n"
     ]
    },
    {
     "data": {
      "text/plain": [
       "array([[0.8824439 , 0.11755612],\n",
       "       [0.98558944, 0.01441056]], dtype=float32)"
      ]
     },
     "execution_count": 74,
     "metadata": {},
     "output_type": "execute_result"
    }
   ],
   "source": [
    "model.predict(X_test[0:2], verbose=1)\n"
   ]
  },
  {
   "attachments": {},
   "cell_type": "markdown",
   "metadata": {},
   "source": [
    "RandomForest"
   ]
  },
  {
   "cell_type": "code",
   "execution_count": 75,
   "metadata": {},
   "outputs": [],
   "source": [
    "from sklearn.ensemble import RandomForestClassifier\n",
    "from sklearn.model_selection import train_test_split\n",
    "from joblib import dump, load"
   ]
  },
  {
   "cell_type": "code",
   "execution_count": null,
   "metadata": {},
   "outputs": [],
   "source": []
  },
  {
   "cell_type": "code",
   "execution_count": null,
   "metadata": {},
   "outputs": [],
   "source": [
    "# best_score = 0\n",
    "\n",
    "\n",
    "# for crit in ['gini', 'entropy']:\n",
    "#     for max_depth in [10, 30, None]: \n",
    "#         for estimators in [150, 200]:\n",
    "#             for max_features in ['sqrt', 'log2']:\n",
    "#                 for min_samples_leaf in [1,2,3]:\n",
    "#                     for min_samples_split in [2,3,4]:\n",
    "#                         for min_impurity_decrease in [0, 0.001, 0.01, 0.1]:\n",
    "#                             classifier = RandomForestClassifier(\n",
    "#                                 random_state=seed, \n",
    "#                                 criterion=crit, \n",
    "#                                 n_estimators=estimators,\n",
    "#                                 verbose=0,\n",
    "#                                 class_weight='balanced',\n",
    "#                                 min_impurity_decrease=min_impurity_decrease,\n",
    "#                                 min_samples_leaf=min_samples_leaf,\n",
    "#                                 min_samples_split=min_samples_split,\n",
    "#                                 max_depth=max_depth,\n",
    "#                                 n_jobs=3,\n",
    "#                                 max_features=max_features\n",
    "#                                 )\n",
    "#                             classifier.fit(X_train, Y_train)\n",
    "#                             score = classifier.score(X_test, Y_test)\n",
    "#                             if score > best_score:\n",
    "#                                 best_score = score\n",
    "#                                 print(f'New Best! Crit: {crit}, Max_depth: {max_depth}, Max_feat: {max_features}, Min_sampl_leaf: {min_samples_split} \\\n",
    "# MIn_samples_split {min_samples_split}, Min_impurity_dec: {min_impurity_decrease}, Estimators: {estimators} Score: {score}')"
   ]
  },
  {
   "cell_type": "code",
   "execution_count": 90,
   "metadata": {},
   "outputs": [
    {
     "data": {
      "text/plain": [
       "0.839705204974666"
      ]
     },
     "execution_count": 90,
     "metadata": {},
     "output_type": "execute_result"
    }
   ],
   "source": [
    "classifier = RandomForestClassifier(\n",
    "                random_state=seed, \n",
    "                criterion='gini', \n",
    "                n_estimators=110,\n",
    "                verbose=0,\n",
    "                class_weight='balanced',\n",
    "                min_impurity_decrease=0,\n",
    "                max_depth=None,\n",
    "                n_jobs=3,\n",
    "                max_features='sqrt'\n",
    "            )\n",
    "classifier.fit(X_train, Y_train)\n",
    "classifier.score(X_test, Y_test)"
   ]
  },
  {
   "cell_type": "code",
   "execution_count": 91,
   "metadata": {},
   "outputs": [
    {
     "data": {
      "text/plain": [
       "['../models/adult_RF.joblib']"
      ]
     },
     "execution_count": 91,
     "metadata": {},
     "output_type": "execute_result"
    }
   ],
   "source": [
    "dump(classifier, '../models/adult_RF.joblib')"
   ]
  },
  {
   "cell_type": "code",
   "execution_count": 92,
   "metadata": {},
   "outputs": [],
   "source": [
    "clf = load('../models/adult_RF.joblib')"
   ]
  },
  {
   "cell_type": "code",
   "execution_count": 93,
   "metadata": {},
   "outputs": [
    {
     "name": "stdout",
     "output_type": "stream",
     "text": [
      "[[1 0]\n",
      " [1 0]\n",
      " [1 0]\n",
      " [0 1]\n",
      " [0 1]]\n"
     ]
    },
    {
     "data": {
      "text/plain": [
       "array([[1, 0],\n",
       "       [1, 0],\n",
       "       [1, 0],\n",
       "       [1, 0],\n",
       "       [0, 1]], dtype=uint8)"
      ]
     },
     "execution_count": 93,
     "metadata": {},
     "output_type": "execute_result"
    }
   ],
   "source": [
    "print(Y_test[0:5])\n",
    "clf.predict(X_test[0:5])"
   ]
  },
  {
   "cell_type": "code",
   "execution_count": 94,
   "metadata": {},
   "outputs": [
    {
     "data": {
      "text/plain": [
       "numpy.ndarray"
      ]
     },
     "execution_count": 94,
     "metadata": {},
     "output_type": "execute_result"
    }
   ],
   "source": [
    "import pickle\n",
    "\n",
    "with open('../models/adult_RF.pkl', 'wb') as f:\n",
    "    pickle.dump(classifier, f)\n",
    "\n",
    "with open('../models/adult_RF.pkl', 'rb') as f:\n",
    "    clf_pickl = pickle.load(f)\n",
    "\n",
    "pred = clf_pickl.predict(X_test[0:5])\n",
    "type(pred)"
   ]
  },
  {
   "cell_type": "code",
   "execution_count": 95,
   "metadata": {},
   "outputs": [
    {
     "data": {
      "text/plain": [
       "array([[0.04545455, 0.95454545],\n",
       "       [0.02727273, 0.97272727],\n",
       "       [0.        , 1.        ],\n",
       "       [0.02727273, 0.97272727],\n",
       "       [0.92727273, 0.07272727],\n",
       "       [0.35585926, 0.64414074],\n",
       "       [0.        , 1.        ],\n",
       "       [0.27272727, 0.72727273],\n",
       "       [0.78181818, 0.21818182],\n",
       "       [0.21818885, 0.78181115]])"
      ]
     },
     "execution_count": 95,
     "metadata": {},
     "output_type": "execute_result"
    }
   ],
   "source": [
    "clf_pickl.predict_proba(X_test[0:10])[0]"
   ]
  },
  {
   "cell_type": "code",
   "execution_count": null,
   "metadata": {},
   "outputs": [],
   "source": []
  }
 ],
 "metadata": {
  "kernelspec": {
   "display_name": "tf-gpy-py-10",
   "language": "python",
   "name": "python3"
  },
  "language_info": {
   "codemirror_mode": {
    "name": "ipython",
    "version": 3
   },
   "file_extension": ".py",
   "mimetype": "text/x-python",
   "name": "python",
   "nbconvert_exporter": "python",
   "pygments_lexer": "ipython3",
   "version": "3.10.8"
  },
  "orig_nbformat": 4,
  "vscode": {
   "interpreter": {
    "hash": "c7ba8b75eeb34a5d7f45fdb8d03ca4acd454e7514870a45521a69aaeabf898bb"
   }
  }
 },
 "nbformat": 4,
 "nbformat_minor": 2
}
