{
 "cells": [
  {
   "cell_type": "code",
   "execution_count": 1,
   "metadata": {},
   "outputs": [
    {
     "name": "stdout",
     "output_type": "stream",
     "text": [
      "[PhysicalDevice(name='/physical_device:CPU:0', device_type='CPU'), PhysicalDevice(name='/physical_device:GPU:0', device_type='GPU')]\n"
     ]
    }
   ],
   "source": [
    "import warnings\n",
    "import tensorflow as tf\n",
    "import numpy as np\n",
    "import pandas as pd\n",
    "import json\n",
    "from tensorflow import keras\n",
    "import sklearn\n",
    "from sklearn.model_selection import train_test_split\n",
    "#from modules.CARLA import carla\n",
    "\n",
    "print(str(tf.config.list_physical_devices()))\n",
    "seed = 44\n",
    "\n",
    "tf.random.set_seed(seed)\n",
    "np.random.seed(seed)\n",
    "tf.config.run_functions_eagerly(True)"
   ]
  },
  {
   "cell_type": "code",
   "execution_count": 2,
   "metadata": {},
   "outputs": [
    {
     "data": {
      "text/plain": [
       "Index(['age', 'education.num', 'capital.gain', 'capital.loss',\n",
       "       'hours.per.week', 'workclass_?', 'workclass_Federal-gov',\n",
       "       'workclass_Local-gov', 'workclass_Never-worked', 'workclass_Private',\n",
       "       'workclass_Self-emp-inc', 'workclass_Self-emp-not-inc',\n",
       "       'workclass_State-gov', 'workclass_Without-pay',\n",
       "       'marital.status_Divorced', 'marital.status_Married-AF-spouse',\n",
       "       'marital.status_Married-civ-spouse',\n",
       "       'marital.status_Married-spouse-absent', 'marital.status_Never-married',\n",
       "       'marital.status_Separated', 'marital.status_Widowed', 'occupation_?',\n",
       "       'occupation_Adm-clerical', 'occupation_Armed-Forces',\n",
       "       'occupation_Craft-repair', 'occupation_Exec-managerial',\n",
       "       'occupation_Farming-fishing', 'occupation_Handlers-cleaners',\n",
       "       'occupation_Machine-op-inspct', 'occupation_Other-service',\n",
       "       'occupation_Priv-house-serv', 'occupation_Prof-specialty',\n",
       "       'occupation_Protective-serv', 'occupation_Sales',\n",
       "       'occupation_Tech-support', 'occupation_Transport-moving',\n",
       "       'race_Amer-Indian-Eskimo', 'race_Asian-Pac-Islander', 'race_Black',\n",
       "       'race_Other', 'race_White', 'sex_Female', 'sex_Male',\n",
       "       'native.country_?', 'native.country_Cambodia', 'native.country_Canada',\n",
       "       'native.country_China', 'native.country_Columbia',\n",
       "       'native.country_Cuba', 'native.country_Dominican-Republic',\n",
       "       'native.country_Ecuador', 'native.country_El-Salvador',\n",
       "       'native.country_England', 'native.country_France',\n",
       "       'native.country_Germany', 'native.country_Greece',\n",
       "       'native.country_Guatemala', 'native.country_Haiti',\n",
       "       'native.country_Holand-Netherlands', 'native.country_Honduras',\n",
       "       'native.country_Hong', 'native.country_Hungary', 'native.country_India',\n",
       "       'native.country_Iran', 'native.country_Ireland', 'native.country_Italy',\n",
       "       'native.country_Jamaica', 'native.country_Japan', 'native.country_Laos',\n",
       "       'native.country_Mexico', 'native.country_Nicaragua',\n",
       "       'native.country_Outlying-US(Guam-USVI-etc)', 'native.country_Peru',\n",
       "       'native.country_Philippines', 'native.country_Poland',\n",
       "       'native.country_Portugal', 'native.country_Puerto-Rico',\n",
       "       'native.country_Scotland', 'native.country_South',\n",
       "       'native.country_Taiwan', 'native.country_Thailand',\n",
       "       'native.country_Trinadad&Tobago', 'native.country_United-States',\n",
       "       'native.country_Vietnam', 'native.country_Yugoslavia'],\n",
       "      dtype='object')"
      ]
     },
     "execution_count": 2,
     "metadata": {},
     "output_type": "execute_result"
    }
   ],
   "source": [
    "with open('../data/adult_constraints.json', 'r') as f:\n",
    "    constr = json.load(f)\n",
    "\n",
    "dataset = pd.read_csv(\"../data/adult_cleaned.csv\")\n",
    "\n",
    "X_train, X_test, Y_train, Y_test = train_test_split(dataset[constr['features_order_after_split']], dataset['income'], test_size=0.2, random_state=seed)\n",
    "X_train.columns"
   ]
  },
  {
   "cell_type": "code",
   "execution_count": 3,
   "metadata": {},
   "outputs": [
    {
     "data": {
      "text/plain": [
       "20789     >50K\n",
       "7665     <=50K\n",
       "7003     <=50K\n",
       "3368     <=50K\n",
       "15072    <=50K\n",
       "         ...  \n",
       "16955    <=50K\n",
       "25773     >50K\n",
       "27377    <=50K\n",
       "3491     <=50K\n",
       "14100    <=50K\n",
       "Name: income, Length: 26048, dtype: object"
      ]
     },
     "execution_count": 3,
     "metadata": {},
     "output_type": "execute_result"
    }
   ],
   "source": [
    "Y_train"
   ]
  },
  {
   "cell_type": "code",
   "execution_count": 4,
   "metadata": {},
   "outputs": [
    {
     "data": {
      "text/plain": [
       "array([[0, 1],\n",
       "       [1, 0],\n",
       "       [1, 0],\n",
       "       ...,\n",
       "       [1, 0],\n",
       "       [1, 0],\n",
       "       [1, 0]], dtype=uint8)"
      ]
     },
     "execution_count": 4,
     "metadata": {},
     "output_type": "execute_result"
    }
   ],
   "source": [
    "\n",
    "X_train = X_train.to_numpy()\n",
    "Y_train = Y_train\n",
    "Y_train = pd.get_dummies(Y_train).to_numpy()\n",
    "Y_train"
   ]
  },
  {
   "cell_type": "code",
   "execution_count": 5,
   "metadata": {},
   "outputs": [
    {
     "data": {
      "text/plain": [
       "array([[1, 0],\n",
       "       [1, 0],\n",
       "       [1, 0],\n",
       "       ...,\n",
       "       [1, 0],\n",
       "       [1, 0],\n",
       "       [0, 1]], dtype=uint8)"
      ]
     },
     "execution_count": 5,
     "metadata": {},
     "output_type": "execute_result"
    }
   ],
   "source": [
    "X_test = X_test.to_numpy()\n",
    "Y_test = Y_test\n",
    "Y_test = pd.get_dummies(Y_test).to_numpy()\n",
    "Y_test"
   ]
  },
  {
   "cell_type": "code",
   "execution_count": 6,
   "metadata": {},
   "outputs": [
    {
     "data": {
      "text/plain": [
       "(26048, 85)"
      ]
     },
     "execution_count": 6,
     "metadata": {},
     "output_type": "execute_result"
    }
   ],
   "source": [
    "X_train.shape"
   ]
  },
  {
   "cell_type": "code",
   "execution_count": 7,
   "metadata": {},
   "outputs": [
    {
     "data": {
      "text/plain": [
       "(26048, 2)"
      ]
     },
     "execution_count": 7,
     "metadata": {},
     "output_type": "execute_result"
    }
   ],
   "source": [
    "Y_train.shape"
   ]
  },
  {
   "cell_type": "code",
   "execution_count": 8,
   "metadata": {},
   "outputs": [],
   "source": [
    "# sklearn minmaxscaler\n",
    "from sklearn.preprocessing import MinMaxScaler\n",
    "scaler = MinMaxScaler()\n",
    "X_train = scaler.fit_transform(X_train)\n",
    "X_test = scaler.transform(X_test)\n"
   ]
  },
  {
   "cell_type": "code",
   "execution_count": 9,
   "metadata": {},
   "outputs": [
    {
     "data": {
      "text/plain": [
       "85"
      ]
     },
     "execution_count": 9,
     "metadata": {},
     "output_type": "execute_result"
    }
   ],
   "source": [
    "constr['features_count_split_without_target']"
   ]
  },
  {
   "cell_type": "code",
   "execution_count": 10,
   "metadata": {},
   "outputs": [
    {
     "data": {
      "text/plain": [
       "array([0.2397, 0.7603])"
      ]
     },
     "execution_count": 10,
     "metadata": {},
     "output_type": "execute_result"
    }
   ],
   "source": [
    "class_weights = np.round(1 - Y_train.sum(axis=0) / Y_train.sum(), 4)\n",
    "class_weights"
   ]
  },
  {
   "cell_type": "code",
   "execution_count": 11,
   "metadata": {},
   "outputs": [
    {
     "data": {
      "text/plain": [
       "{0: 0.2397, 1: 0.7603}"
      ]
     },
     "execution_count": 11,
     "metadata": {},
     "output_type": "execute_result"
    }
   ],
   "source": [
    "tf_class_weights = {0: class_weights[0], 1: class_weights[1]}\n",
    "tf_class_weights"
   ]
  },
  {
   "cell_type": "code",
   "execution_count": 86,
   "metadata": {},
   "outputs": [],
   "source": [
    "model = tf.keras.Sequential()\n",
    "model.add(tf.keras.layers.Input((constr['features_count_split_without_target'],)))\n",
    "model.add(tf.keras.layers.Dense(128))\n",
    "model.add(tf.keras.layers.ELU())\n",
    "#model.add(tf.keras.layers.Dropout(0.5))\n",
    "model.add(tf.keras.layers.Dense(128))\n",
    "model.add(tf.keras.layers.ELU())\n",
    "model.add(tf.keras.layers.Dense(128))\n",
    "model.add(tf.keras.layers.ELU())\n",
    "#model.add(tf.keras.layers.Dropout(0.3))\n",
    "#model.add(tf.keras.layers.Dropout(0.1))\n",
    "model.add(tf.keras.layers.Dense(2))\n",
    "model.add(tf.keras.layers.Softmax())\n",
    "\n",
    "\n",
    "model.compile(\n",
    "    optimizer=tf.keras.optimizers.Adam(),\n",
    "    #optimizer=tf.keras.optimizers.RMSprop(),\n",
    "    loss=tf.keras.losses.CategoricalCrossentropy(from_logits=False),\n",
    "    metrics=['accuracy']\n",
    ")"
   ]
  },
  {
   "cell_type": "code",
   "execution_count": 87,
   "metadata": {},
   "outputs": [
    {
     "name": "stdout",
     "output_type": "stream",
     "text": [
      "Epoch 1/100\n",
      "7/7 [==============================] - 1s 96ms/step - loss: 0.2419 - accuracy: 0.5139 - val_loss: 0.6044 - val_accuracy: 0.7179\n",
      "Epoch 2/100\n",
      "7/7 [==============================] - 1s 113ms/step - loss: 0.2056 - accuracy: 0.7057 - val_loss: 0.5116 - val_accuracy: 0.7249\n",
      "Epoch 3/100\n",
      "7/7 [==============================] - 1s 135ms/step - loss: 0.1831 - accuracy: 0.7322 - val_loss: 0.4763 - val_accuracy: 0.7391\n",
      "Epoch 4/100\n",
      "7/7 [==============================] - 1s 124ms/step - loss: 0.1707 - accuracy: 0.7584 - val_loss: 0.4574 - val_accuracy: 0.7702\n",
      "Epoch 5/100\n",
      "7/7 [==============================] - 1s 114ms/step - loss: 0.1658 - accuracy: 0.7744 - val_loss: 0.4594 - val_accuracy: 0.7645\n",
      "Epoch 6/100\n",
      "7/7 [==============================] - 1s 105ms/step - loss: 0.1609 - accuracy: 0.7786 - val_loss: 0.4447 - val_accuracy: 0.7711\n",
      "Epoch 7/100\n",
      "7/7 [==============================] - 1s 101ms/step - loss: 0.1577 - accuracy: 0.7767 - val_loss: 0.4226 - val_accuracy: 0.7800\n",
      "Epoch 8/100\n",
      "7/7 [==============================] - 1s 107ms/step - loss: 0.1557 - accuracy: 0.7768 - val_loss: 0.4159 - val_accuracy: 0.7866\n",
      "Epoch 9/100\n",
      "7/7 [==============================] - 1s 127ms/step - loss: 0.1527 - accuracy: 0.7839 - val_loss: 0.4167 - val_accuracy: 0.7878\n",
      "Epoch 10/100\n",
      "7/7 [==============================] - 1s 108ms/step - loss: 0.1511 - accuracy: 0.7873 - val_loss: 0.4362 - val_accuracy: 0.7720\n",
      "Epoch 11/100\n",
      "7/7 [==============================] - 0s 66ms/step - loss: 0.1492 - accuracy: 0.7925 - val_loss: 0.4365 - val_accuracy: 0.7698\n",
      "Epoch 12/100\n",
      "7/7 [==============================] - 1s 109ms/step - loss: 0.1473 - accuracy: 0.7875 - val_loss: 0.4100 - val_accuracy: 0.7883\n",
      "Epoch 13/100\n",
      "7/7 [==============================] - 1s 89ms/step - loss: 0.1472 - accuracy: 0.7887 - val_loss: 0.3959 - val_accuracy: 0.8001\n",
      "Epoch 14/100\n",
      "7/7 [==============================] - 1s 102ms/step - loss: 0.1457 - accuracy: 0.7951 - val_loss: 0.4155 - val_accuracy: 0.7869\n",
      "Epoch 15/100\n",
      "7/7 [==============================] - 1s 86ms/step - loss: 0.1450 - accuracy: 0.7946 - val_loss: 0.4143 - val_accuracy: 0.7854\n",
      "Epoch 16/100\n",
      "7/7 [==============================] - 1s 93ms/step - loss: 0.1446 - accuracy: 0.7938 - val_loss: 0.3977 - val_accuracy: 0.7978\n",
      "Epoch 17/100\n",
      "7/7 [==============================] - 1s 96ms/step - loss: 0.1430 - accuracy: 0.7927 - val_loss: 0.3956 - val_accuracy: 0.8013\n",
      "Epoch 18/100\n",
      "7/7 [==============================] - 1s 97ms/step - loss: 0.1414 - accuracy: 0.8012 - val_loss: 0.4008 - val_accuracy: 0.7956\n",
      "Epoch 19/100\n",
      "7/7 [==============================] - 1s 94ms/step - loss: 0.1407 - accuracy: 0.8008 - val_loss: 0.3994 - val_accuracy: 0.7952\n",
      "Epoch 20/100\n",
      "7/7 [==============================] - 1s 93ms/step - loss: 0.1399 - accuracy: 0.8022 - val_loss: 0.3907 - val_accuracy: 0.8022\n",
      "Epoch 21/100\n",
      "7/7 [==============================] - 1s 92ms/step - loss: 0.1397 - accuracy: 0.8008 - val_loss: 0.3847 - val_accuracy: 0.8055\n",
      "Epoch 22/100\n",
      "7/7 [==============================] - 1s 105ms/step - loss: 0.1392 - accuracy: 0.7998 - val_loss: 0.3771 - val_accuracy: 0.8122\n",
      "Epoch 23/100\n",
      "7/7 [==============================] - 1s 93ms/step - loss: 0.1390 - accuracy: 0.8044 - val_loss: 0.3994 - val_accuracy: 0.7947\n",
      "Epoch 24/100\n",
      "7/7 [==============================] - 1s 104ms/step - loss: 0.1382 - accuracy: 0.8036 - val_loss: 0.4065 - val_accuracy: 0.7921\n",
      "Epoch 25/100\n",
      "7/7 [==============================] - 1s 86ms/step - loss: 0.1374 - accuracy: 0.8049 - val_loss: 0.3974 - val_accuracy: 0.7966\n",
      "Epoch 26/100\n",
      "7/7 [==============================] - 1s 105ms/step - loss: 0.1360 - accuracy: 0.8066 - val_loss: 0.4012 - val_accuracy: 0.7926\n",
      "Epoch 27/100\n",
      "7/7 [==============================] - 1s 103ms/step - loss: 0.1365 - accuracy: 0.8082 - val_loss: 0.4164 - val_accuracy: 0.7884\n",
      "Epoch 28/100\n",
      "7/7 [==============================] - 1s 84ms/step - loss: 0.1349 - accuracy: 0.8082 - val_loss: 0.4107 - val_accuracy: 0.7890\n",
      "Epoch 29/100\n",
      "7/7 [==============================] - 1s 98ms/step - loss: 0.1354 - accuracy: 0.8040 - val_loss: 0.4120 - val_accuracy: 0.7880\n",
      "Epoch 30/100\n",
      "7/7 [==============================] - 1s 83ms/step - loss: 0.1348 - accuracy: 0.8067 - val_loss: 0.4106 - val_accuracy: 0.7884\n",
      "Epoch 31/100\n",
      "7/7 [==============================] - 1s 98ms/step - loss: 0.1345 - accuracy: 0.8068 - val_loss: 0.4069 - val_accuracy: 0.7920\n",
      "Epoch 32/100\n",
      "7/7 [==============================] - 1s 100ms/step - loss: 0.1342 - accuracy: 0.8114 - val_loss: 0.4106 - val_accuracy: 0.7900\n",
      "Epoch 33/100\n",
      "7/7 [==============================] - 1s 89ms/step - loss: 0.1335 - accuracy: 0.8085 - val_loss: 0.3853 - val_accuracy: 0.8049\n",
      "Epoch 34/100\n",
      "7/7 [==============================] - 1s 103ms/step - loss: 0.1321 - accuracy: 0.8113 - val_loss: 0.4002 - val_accuracy: 0.7946\n",
      "Epoch 35/100\n",
      "7/7 [==============================] - 1s 95ms/step - loss: 0.1328 - accuracy: 0.8114 - val_loss: 0.4123 - val_accuracy: 0.7883\n",
      "Epoch 36/100\n",
      "7/7 [==============================] - 1s 104ms/step - loss: 0.1305 - accuracy: 0.8112 - val_loss: 0.4012 - val_accuracy: 0.7947\n",
      "Epoch 37/100\n",
      "7/7 [==============================] - 1s 131ms/step - loss: 0.1322 - accuracy: 0.8128 - val_loss: 0.3986 - val_accuracy: 0.7973\n",
      "Epoch 38/100\n",
      "7/7 [==============================] - 1s 112ms/step - loss: 0.1312 - accuracy: 0.8105 - val_loss: 0.3879 - val_accuracy: 0.8039\n",
      "Epoch 39/100\n",
      "7/7 [==============================] - 1s 213ms/step - loss: 0.1304 - accuracy: 0.8145 - val_loss: 0.3927 - val_accuracy: 0.8016\n",
      "Epoch 40/100\n",
      "7/7 [==============================] - 1s 131ms/step - loss: 0.1292 - accuracy: 0.8181 - val_loss: 0.4067 - val_accuracy: 0.7935\n",
      "Epoch 41/100\n",
      "7/7 [==============================] - 1s 131ms/step - loss: 0.1302 - accuracy: 0.8140 - val_loss: 0.3981 - val_accuracy: 0.7996\n",
      "Epoch 42/100\n",
      "7/7 [==============================] - 1s 154ms/step - loss: 0.1288 - accuracy: 0.8168 - val_loss: 0.4050 - val_accuracy: 0.7958\n"
     ]
    }
   ],
   "source": [
    "with tf.device(\"/GPU:0\"):\n",
    "    model.fit(\n",
    "        X_train, \n",
    "        Y_train,\n",
    "        epochs=100,\n",
    "        batch_size=4096,\n",
    "        validation_data=(X_test, Y_test),\n",
    "        shuffle=True,\n",
    "        callbacks=[\n",
    "            tf.keras.callbacks.EarlyStopping(patience=20)\n",
    "        ],\n",
    "        verbose=1,\n",
    "        class_weight=tf_class_weights\n",
    "    )"
   ]
  },
  {
   "cell_type": "code",
   "execution_count": 69,
   "metadata": {},
   "outputs": [],
   "source": [
    "model.save('../models/adult_NN.h5', overwrite=True, save_format='h5')"
   ]
  },
  {
   "cell_type": "code",
   "execution_count": 70,
   "metadata": {},
   "outputs": [
    {
     "name": "stdout",
     "output_type": "stream",
     "text": [
      "INFO:tensorflow:Assets written to: ../models/adult_NN\\assets\n"
     ]
    }
   ],
   "source": [
    "model.save('../models/adult_NN', overwrite=True)"
   ]
  },
  {
   "cell_type": "code",
   "execution_count": 71,
   "metadata": {},
   "outputs": [
    {
     "data": {
      "text/plain": [
       "array([], shape=(0, 2), dtype=float32)"
      ]
     },
     "execution_count": 71,
     "metadata": {},
     "output_type": "execute_result"
    }
   ],
   "source": [
    "tf.data.experimental.enable_debug_mode()\n",
    "model_test = tf.keras.models.load_model('../models/adult_NN.h5')"
   ]
  },
  {
   "cell_type": "code",
   "execution_count": 72,
   "metadata": {},
   "outputs": [],
   "source": [
    "model.load_weights('../models/adult_NN.h5')"
   ]
  },
  {
   "cell_type": "code",
   "execution_count": 73,
   "metadata": {},
   "outputs": [
    {
     "data": {
      "text/plain": [
       "(85,)"
      ]
     },
     "execution_count": 73,
     "metadata": {},
     "output_type": "execute_result"
    }
   ],
   "source": [
    "X_test[0].shape"
   ]
  },
  {
   "cell_type": "code",
   "execution_count": 74,
   "metadata": {},
   "outputs": [
    {
     "name": "stdout",
     "output_type": "stream",
     "text": [
      "1/1 [==============================] - 0s 68ms/step\n"
     ]
    },
    {
     "data": {
      "text/plain": [
       "array([[0.8824439 , 0.11755612],\n",
       "       [0.98558944, 0.01441056]], dtype=float32)"
      ]
     },
     "execution_count": 74,
     "metadata": {},
     "output_type": "execute_result"
    }
   ],
   "source": [
    "model.predict(X_test[0:2], verbose=1)\n"
   ]
  },
  {
   "attachments": {},
   "cell_type": "markdown",
   "metadata": {},
   "source": [
    "RandomForest"
   ]
  },
  {
   "cell_type": "code",
   "execution_count": 75,
   "metadata": {},
   "outputs": [],
   "source": [
    "from sklearn.ensemble import RandomForestClassifier\n",
    "from sklearn.model_selection import train_test_split\n",
    "from joblib import dump, load"
   ]
  },
  {
   "cell_type": "code",
   "execution_count": null,
   "metadata": {},
   "outputs": [],
   "source": []
  },
  {
   "cell_type": "code",
   "execution_count": null,
   "metadata": {},
   "outputs": [],
   "source": [
    "# best_score = 0\n",
    "\n",
    "\n",
    "# for crit in ['gini', 'entropy']:\n",
    "#     for max_depth in [10, 30, None]: \n",
    "#         for estimators in [150, 200]:\n",
    "#             for max_features in ['sqrt', 'log2']:\n",
    "#                 for min_samples_leaf in [1,2,3]:\n",
    "#                     for min_samples_split in [2,3,4]:\n",
    "#                         for min_impurity_decrease in [0, 0.001, 0.01, 0.1]:\n",
    "#                             classifier = RandomForestClassifier(\n",
    "#                                 random_state=seed, \n",
    "#                                 criterion=crit, \n",
    "#                                 n_estimators=estimators,\n",
    "#                                 verbose=0,\n",
    "#                                 class_weight='balanced',\n",
    "#                                 min_impurity_decrease=min_impurity_decrease,\n",
    "#                                 min_samples_leaf=min_samples_leaf,\n",
    "#                                 min_samples_split=min_samples_split,\n",
    "#                                 max_depth=max_depth,\n",
    "#                                 n_jobs=3,\n",
    "#                                 max_features=max_features\n",
    "#                                 )\n",
    "#                             classifier.fit(X_train, Y_train)\n",
    "#                             score = classifier.score(X_test, Y_test)\n",
    "#                             if score > best_score:\n",
    "#                                 best_score = score\n",
    "#                                 print(f'New Best! Crit: {crit}, Max_depth: {max_depth}, Max_feat: {max_features}, Min_sampl_leaf: {min_samples_split} \\\n",
    "# MIn_samples_split {min_samples_split}, Min_impurity_dec: {min_impurity_decrease}, Estimators: {estimators} Score: {score}')"
   ]
  },
  {
   "cell_type": "code",
   "execution_count": 90,
   "metadata": {},
   "outputs": [
    {
     "data": {
      "text/plain": [
       "0.839705204974666"
      ]
     },
     "execution_count": 90,
     "metadata": {},
     "output_type": "execute_result"
    }
   ],
   "source": [
    "classifier = RandomForestClassifier(\n",
    "                random_state=seed, \n",
    "                criterion='gini', \n",
    "                n_estimators=110,\n",
    "                verbose=0,\n",
    "                class_weight='balanced',\n",
    "                min_impurity_decrease=0,\n",
    "                max_depth=None,\n",
    "                n_jobs=3,\n",
    "                max_features='sqrt'\n",
    "            )\n",
    "classifier.fit(X_train, Y_train)\n",
    "classifier.score(X_test, Y_test)"
   ]
  },
  {
   "cell_type": "code",
   "execution_count": 91,
   "metadata": {},
   "outputs": [
    {
     "data": {
      "text/plain": [
       "['../models/adult_RF.joblib']"
      ]
     },
     "execution_count": 91,
     "metadata": {},
     "output_type": "execute_result"
    }
   ],
   "source": [
    "dump(classifier, '../models/adult_RF.joblib')"
   ]
  },
  {
   "cell_type": "code",
   "execution_count": 92,
   "metadata": {},
   "outputs": [],
   "source": [
    "clf = load('../models/adult_RF.joblib')"
   ]
  },
  {
   "cell_type": "code",
   "execution_count": 93,
   "metadata": {},
   "outputs": [
    {
     "name": "stdout",
     "output_type": "stream",
     "text": [
      "[[1 0]\n",
      " [1 0]\n",
      " [1 0]\n",
      " [0 1]\n",
      " [0 1]]\n"
     ]
    },
    {
     "data": {
      "text/plain": [
       "array([[1, 0],\n",
       "       [1, 0],\n",
       "       [1, 0],\n",
       "       [1, 0],\n",
       "       [0, 1]], dtype=uint8)"
      ]
     },
     "execution_count": 93,
     "metadata": {},
     "output_type": "execute_result"
    }
   ],
   "source": [
    "print(Y_test[0:5])\n",
    "clf.predict(X_test[0:5])"
   ]
  },
  {
   "cell_type": "code",
   "execution_count": 94,
   "metadata": {},
   "outputs": [
    {
     "data": {
      "text/plain": [
       "numpy.ndarray"
      ]
     },
     "execution_count": 94,
     "metadata": {},
     "output_type": "execute_result"
    }
   ],
   "source": [
    "import pickle\n",
    "\n",
    "with open('../models/adult_RF.pkl', 'wb') as f:\n",
    "    pickle.dump(classifier, f)\n",
    "\n",
    "with open('../models/adult_RF.pkl', 'rb') as f:\n",
    "    clf_pickl = pickle.load(f)\n",
    "\n",
    "pred = clf_pickl.predict(X_test[0:5])\n",
    "type(pred)"
   ]
  },
  {
   "cell_type": "code",
   "execution_count": 95,
   "metadata": {},
   "outputs": [
    {
     "data": {
      "text/plain": [
       "array([[0.04545455, 0.95454545],\n",
       "       [0.02727273, 0.97272727],\n",
       "       [0.        , 1.        ],\n",
       "       [0.02727273, 0.97272727],\n",
       "       [0.92727273, 0.07272727],\n",
       "       [0.35585926, 0.64414074],\n",
       "       [0.        , 1.        ],\n",
       "       [0.27272727, 0.72727273],\n",
       "       [0.78181818, 0.21818182],\n",
       "       [0.21818885, 0.78181115]])"
      ]
     },
     "execution_count": 95,
     "metadata": {},
     "output_type": "execute_result"
    }
   ],
   "source": [
    "clf_pickl.predict_proba(X_test[0:10])[0]"
   ]
  },
  {
   "cell_type": "code",
   "execution_count": null,
   "metadata": {},
   "outputs": [],
   "source": []
  }
 ],
 "metadata": {
  "kernelspec": {
   "display_name": "tf-gpy-py-10",
   "language": "python",
   "name": "python3"
  },
  "language_info": {
   "codemirror_mode": {
    "name": "ipython",
    "version": 3
   },
   "file_extension": ".py",
   "mimetype": "text/x-python",
   "name": "python",
   "nbconvert_exporter": "python",
   "pygments_lexer": "ipython3",
   "version": "3.10.8"
  },
  "orig_nbformat": 4,
  "vscode": {
   "interpreter": {
    "hash": "c7ba8b75eeb34a5d7f45fdb8d03ca4acd454e7514870a45521a69aaeabf898bb"
   }
  }
 },
 "nbformat": 4,
 "nbformat_minor": 2
}
